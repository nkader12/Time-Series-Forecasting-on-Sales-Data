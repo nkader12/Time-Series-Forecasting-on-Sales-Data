{
 "cells": [
  {
   "cell_type": "markdown",
   "metadata": {},
   "source": [
    "Python version: 3.8.5<br>\n",
    "Pandas version: 1.5.0<br>\n",
    "Sklearn version: 1.0.2<br>\n",
    "xgboost version: 1.7.4<br>\n",
    "Matplotlib version: 3.6.2<br>\n",
    "Prophet version: 1.1.5<br>\n",
    "Statsmodels version: 0.13.5"
   ]
  },
  {
   "cell_type": "code",
   "execution_count": 69,
   "metadata": {},
   "outputs": [],
   "source": [
    "import pandas as pd\n",
    "import numpy as np\n",
    "from datetime import datetime, timedelta\n",
    "from pandas import to_datetime\n",
    "from dateutil.relativedelta import relativedelta\n"
   ]
  },
  {
   "cell_type": "code",
   "execution_count": 70,
   "metadata": {},
   "outputs": [
    {
     "data": {
      "text/html": [
       "        <script type=\"text/javascript\">\n",
       "        window.PlotlyConfig = {MathJaxConfig: 'local'};\n",
       "        if (window.MathJax && window.MathJax.Hub && window.MathJax.Hub.Config) {window.MathJax.Hub.Config({SVG: {font: \"STIX-Web\"}});}\n",
       "        if (typeof require !== 'undefined') {\n",
       "        require.undef(\"plotly\");\n",
       "        requirejs.config({\n",
       "            paths: {\n",
       "                'plotly': ['https://cdn.plot.ly/plotly-2.14.0.min']\n",
       "            }\n",
       "        });\n",
       "        require(['plotly'], function(Plotly) {\n",
       "            window._Plotly = Plotly;\n",
       "        });\n",
       "        }\n",
       "        </script>\n",
       "        "
      ]
     },
     "metadata": {},
     "output_type": "display_data"
    }
   ],
   "source": [
    "import chart_studio.plotly as py\n",
    "import plotly.offline as pyoff\n",
    "import plotly.graph_objs as go\n",
    "import matplotlib.pyplot as plt\n",
    "import plotly.graph_objs as go\n",
    "from plotly.offline import init_notebook_mode, iplot\n",
    "from matplotlib import pyplot\n",
    "from IPython.display import display\n",
    "init_notebook_mode(connected=True)  # Only needed if using Jupyter Notebook\n",
    "import seaborn as sns\n"
   ]
  },
  {
   "cell_type": "code",
   "execution_count": 71,
   "metadata": {},
   "outputs": [],
   "source": [
    "from statsmodels.graphics.tsaplots import plot_acf, plot_pacf\n",
    "from statsmodels.tsa.stattools import adfuller\n",
    "from sklearn.metrics import mean_squared_error, mean_absolute_error\n",
    "import statsmodels.formula.api as smf\n",
    "from statsmodels.tsa.seasonal import seasonal_decompose\n",
    "\n",
    "from sklearn.preprocessing import MinMaxScaler\n",
    "from sklearn.metrics import mean_absolute_error\n",
    "from sklearn.metrics import mean_squared_error\n",
    "from sklearn.linear_model import LinearRegression\n",
    "from sklearn.preprocessing import StandardScaler\n",
    "from sklearn.metrics import mean_absolute_error, mean_squared_error, r2_score\n",
    "from sklearn.ensemble import RandomForestRegressor\n",
    "from sklearn.ensemble import GradientBoostingRegressor\n",
    "\n",
    "import xgboost as xgb\n",
    "\n",
    "from prophet import Prophet\n"
   ]
  },
  {
   "cell_type": "code",
   "execution_count": 72,
   "metadata": {},
   "outputs": [],
   "source": [
    "#If missing imports above uncomment code below and fill in name of imnport\n",
    "\n",
    "# pip install NAME_GOES HERE"
   ]
  },
  {
   "cell_type": "code",
   "execution_count": 73,
   "metadata": {},
   "outputs": [],
   "source": [
    "import warnings\n",
    "warnings.filterwarnings(\"ignore\")"
   ]
  },
  {
   "cell_type": "code",
   "execution_count": 74,
   "metadata": {},
   "outputs": [
    {
     "data": {
      "text/html": [
       "<div>\n",
       "<style scoped>\n",
       "    .dataframe tbody tr th:only-of-type {\n",
       "        vertical-align: middle;\n",
       "    }\n",
       "\n",
       "    .dataframe tbody tr th {\n",
       "        vertical-align: top;\n",
       "    }\n",
       "\n",
       "    .dataframe thead th {\n",
       "        text-align: right;\n",
       "    }\n",
       "</style>\n",
       "<table border=\"1\" class=\"dataframe\">\n",
       "  <thead>\n",
       "    <tr style=\"text-align: right;\">\n",
       "      <th></th>\n",
       "      <th>PRODUCT</th>\n",
       "      <th>STORE</th>\n",
       "      <th>WEEK_START_DATE</th>\n",
       "      <th>QUANTITY</th>\n",
       "    </tr>\n",
       "  </thead>\n",
       "  <tbody>\n",
       "    <tr>\n",
       "      <th>0</th>\n",
       "      <td>Model-1</td>\n",
       "      <td>Store-1</td>\n",
       "      <td>1/20/2019</td>\n",
       "      <td>11</td>\n",
       "    </tr>\n",
       "    <tr>\n",
       "      <th>1</th>\n",
       "      <td>Model-1</td>\n",
       "      <td>Store-1</td>\n",
       "      <td>1/27/2019</td>\n",
       "      <td>43</td>\n",
       "    </tr>\n",
       "    <tr>\n",
       "      <th>2</th>\n",
       "      <td>Model-1</td>\n",
       "      <td>Store-1</td>\n",
       "      <td>2/10/2019</td>\n",
       "      <td>4</td>\n",
       "    </tr>\n",
       "    <tr>\n",
       "      <th>3</th>\n",
       "      <td>Model-1</td>\n",
       "      <td>Store-1</td>\n",
       "      <td>2/17/2019</td>\n",
       "      <td>46</td>\n",
       "    </tr>\n",
       "    <tr>\n",
       "      <th>4</th>\n",
       "      <td>Model-1</td>\n",
       "      <td>Store-1</td>\n",
       "      <td>2/24/2019</td>\n",
       "      <td>22</td>\n",
       "    </tr>\n",
       "    <tr>\n",
       "      <th>...</th>\n",
       "      <td>...</td>\n",
       "      <td>...</td>\n",
       "      <td>...</td>\n",
       "      <td>...</td>\n",
       "    </tr>\n",
       "    <tr>\n",
       "      <th>1271</th>\n",
       "      <td>Model-9</td>\n",
       "      <td>Store-4</td>\n",
       "      <td>8/27/2023</td>\n",
       "      <td>36</td>\n",
       "    </tr>\n",
       "    <tr>\n",
       "      <th>1272</th>\n",
       "      <td>Model-9</td>\n",
       "      <td>Store-4</td>\n",
       "      <td>9/17/2023</td>\n",
       "      <td>185</td>\n",
       "    </tr>\n",
       "    <tr>\n",
       "      <th>1273</th>\n",
       "      <td>Model-9</td>\n",
       "      <td>Store-4</td>\n",
       "      <td>10/1/2023</td>\n",
       "      <td>1</td>\n",
       "    </tr>\n",
       "    <tr>\n",
       "      <th>1274</th>\n",
       "      <td>Model-9</td>\n",
       "      <td>Store-4</td>\n",
       "      <td>1/28/2024</td>\n",
       "      <td>79</td>\n",
       "    </tr>\n",
       "    <tr>\n",
       "      <th>1275</th>\n",
       "      <td>Model-9</td>\n",
       "      <td>Store-4</td>\n",
       "      <td>2/11/2024</td>\n",
       "      <td>29</td>\n",
       "    </tr>\n",
       "  </tbody>\n",
       "</table>\n",
       "<p>1276 rows × 4 columns</p>\n",
       "</div>"
      ],
      "text/plain": [
       "      PRODUCT    STORE WEEK_START_DATE  QUANTITY\n",
       "0     Model-1  Store-1       1/20/2019        11\n",
       "1     Model-1  Store-1       1/27/2019        43\n",
       "2     Model-1  Store-1       2/10/2019         4\n",
       "3     Model-1  Store-1       2/17/2019        46\n",
       "4     Model-1  Store-1       2/24/2019        22\n",
       "...       ...      ...             ...       ...\n",
       "1271  Model-9  Store-4       8/27/2023        36\n",
       "1272  Model-9  Store-4       9/17/2023       185\n",
       "1273  Model-9  Store-4       10/1/2023         1\n",
       "1274  Model-9  Store-4       1/28/2024        79\n",
       "1275  Model-9  Store-4       2/11/2024        29\n",
       "\n",
       "[1276 rows x 4 columns]"
      ]
     },
     "execution_count": 74,
     "metadata": {},
     "output_type": "execute_result"
    }
   ],
   "source": [
    "data= pd.read_csv('sample_data.csv')\n",
    "data"
   ]
  },
  {
   "cell_type": "code",
   "execution_count": 75,
   "metadata": {},
   "outputs": [
    {
     "data": {
      "text/plain": [
       "str"
      ]
     },
     "execution_count": 75,
     "metadata": {},
     "output_type": "execute_result"
    }
   ],
   "source": [
    "type(data['WEEK_START_DATE'][0])"
   ]
  },
  {
   "cell_type": "code",
   "execution_count": 76,
   "metadata": {},
   "outputs": [
    {
     "data": {
      "text/plain": [
       "pandas._libs.tslibs.timestamps.Timestamp"
      ]
     },
     "execution_count": 76,
     "metadata": {},
     "output_type": "execute_result"
    }
   ],
   "source": [
    "#Convert date from str-> datetime\n",
    "data['WEEK_START_DATE'] = pd.to_datetime(data['WEEK_START_DATE'], format='%m/%d/%Y')\n",
    "type(data['WEEK_START_DATE'][0])"
   ]
  },
  {
   "cell_type": "code",
   "execution_count": 77,
   "metadata": {},
   "outputs": [
    {
     "data": {
      "text/plain": [
       "count                    1276\n",
       "unique                    294\n",
       "top       2021-10-03 00:00:00\n",
       "freq                       11\n",
       "first     2019-01-06 00:00:00\n",
       "last      2024-02-11 00:00:00\n",
       "Name: WEEK_START_DATE, dtype: object"
      ]
     },
     "execution_count": 77,
     "metadata": {},
     "output_type": "execute_result"
    }
   ],
   "source": [
    "data['WEEK_START_DATE'].describe()"
   ]
  },
  {
   "cell_type": "code",
   "execution_count": 78,
   "metadata": {},
   "outputs": [
    {
     "data": {
      "text/html": [
       "<div>\n",
       "<style scoped>\n",
       "    .dataframe tbody tr th:only-of-type {\n",
       "        vertical-align: middle;\n",
       "    }\n",
       "\n",
       "    .dataframe tbody tr th {\n",
       "        vertical-align: top;\n",
       "    }\n",
       "\n",
       "    .dataframe thead th {\n",
       "        text-align: right;\n",
       "    }\n",
       "</style>\n",
       "<table border=\"1\" class=\"dataframe\">\n",
       "  <thead>\n",
       "    <tr style=\"text-align: right;\">\n",
       "      <th></th>\n",
       "      <th>PRODUCT</th>\n",
       "      <th>STORE</th>\n",
       "      <th>WEEK_START_DATE</th>\n",
       "      <th>QUANTITY</th>\n",
       "    </tr>\n",
       "  </thead>\n",
       "  <tbody>\n",
       "    <tr>\n",
       "      <th>1180</th>\n",
       "      <td>Model-4</td>\n",
       "      <td>Store-4</td>\n",
       "      <td>2024-01-28</td>\n",
       "      <td>11</td>\n",
       "    </tr>\n",
       "    <tr>\n",
       "      <th>1181</th>\n",
       "      <td>Model-4</td>\n",
       "      <td>Store-4</td>\n",
       "      <td>2024-02-11</td>\n",
       "      <td>29</td>\n",
       "    </tr>\n",
       "    <tr>\n",
       "      <th>1274</th>\n",
       "      <td>Model-9</td>\n",
       "      <td>Store-4</td>\n",
       "      <td>2024-01-28</td>\n",
       "      <td>79</td>\n",
       "    </tr>\n",
       "    <tr>\n",
       "      <th>1275</th>\n",
       "      <td>Model-9</td>\n",
       "      <td>Store-4</td>\n",
       "      <td>2024-02-11</td>\n",
       "      <td>29</td>\n",
       "    </tr>\n",
       "  </tbody>\n",
       "</table>\n",
       "</div>"
      ],
      "text/plain": [
       "      PRODUCT    STORE WEEK_START_DATE  QUANTITY\n",
       "1180  Model-4  Store-4      2024-01-28        11\n",
       "1181  Model-4  Store-4      2024-02-11        29\n",
       "1274  Model-9  Store-4      2024-01-28        79\n",
       "1275  Model-9  Store-4      2024-02-11        29"
      ]
     },
     "execution_count": 78,
     "metadata": {},
     "output_type": "execute_result"
    }
   ],
   "source": [
    "data[data['WEEK_START_DATE'].dt.year == 2024]"
   ]
  },
  {
   "cell_type": "code",
   "execution_count": 79,
   "metadata": {},
   "outputs": [
    {
     "data": {
      "text/html": [
       "<div>\n",
       "<style scoped>\n",
       "    .dataframe tbody tr th:only-of-type {\n",
       "        vertical-align: middle;\n",
       "    }\n",
       "\n",
       "    .dataframe tbody tr th {\n",
       "        vertical-align: top;\n",
       "    }\n",
       "\n",
       "    .dataframe thead th {\n",
       "        text-align: right;\n",
       "    }\n",
       "</style>\n",
       "<table border=\"1\" class=\"dataframe\">\n",
       "  <thead>\n",
       "    <tr style=\"text-align: right;\">\n",
       "      <th></th>\n",
       "      <th>PRODUCT</th>\n",
       "      <th>STORE</th>\n",
       "      <th>WEEK_START_DATE</th>\n",
       "      <th>QUANTITY</th>\n",
       "    </tr>\n",
       "  </thead>\n",
       "  <tbody>\n",
       "  </tbody>\n",
       "</table>\n",
       "</div>"
      ],
      "text/plain": [
       "Empty DataFrame\n",
       "Columns: [PRODUCT, STORE, WEEK_START_DATE, QUANTITY]\n",
       "Index: []"
      ]
     },
     "execution_count": 79,
     "metadata": {},
     "output_type": "execute_result"
    }
   ],
   "source": [
    "#Remove row out of desired date range\n",
    "data = data[data['WEEK_START_DATE'].dt.year != 2024]\n",
    "data[data['WEEK_START_DATE'].dt.year == 2024]"
   ]
  },
  {
   "cell_type": "code",
   "execution_count": 80,
   "metadata": {},
   "outputs": [
    {
     "data": {
      "text/html": [
       "<div>\n",
       "<style scoped>\n",
       "    .dataframe tbody tr th:only-of-type {\n",
       "        vertical-align: middle;\n",
       "    }\n",
       "\n",
       "    .dataframe tbody tr th {\n",
       "        vertical-align: top;\n",
       "    }\n",
       "\n",
       "    .dataframe thead th {\n",
       "        text-align: right;\n",
       "    }\n",
       "</style>\n",
       "<table border=\"1\" class=\"dataframe\">\n",
       "  <thead>\n",
       "    <tr style=\"text-align: right;\">\n",
       "      <th></th>\n",
       "      <th>PRODUCT</th>\n",
       "      <th>STORE</th>\n",
       "      <th>WEEK_START_DATE</th>\n",
       "      <th>QUANTITY</th>\n",
       "      <th>MONTH_YEAR</th>\n",
       "    </tr>\n",
       "  </thead>\n",
       "  <tbody>\n",
       "    <tr>\n",
       "      <th>0</th>\n",
       "      <td>Model-1</td>\n",
       "      <td>Store-1</td>\n",
       "      <td>2019-01-20</td>\n",
       "      <td>11</td>\n",
       "      <td>2019-01</td>\n",
       "    </tr>\n",
       "    <tr>\n",
       "      <th>1</th>\n",
       "      <td>Model-1</td>\n",
       "      <td>Store-1</td>\n",
       "      <td>2019-01-27</td>\n",
       "      <td>43</td>\n",
       "      <td>2019-01</td>\n",
       "    </tr>\n",
       "    <tr>\n",
       "      <th>2</th>\n",
       "      <td>Model-1</td>\n",
       "      <td>Store-1</td>\n",
       "      <td>2019-02-10</td>\n",
       "      <td>4</td>\n",
       "      <td>2019-02</td>\n",
       "    </tr>\n",
       "    <tr>\n",
       "      <th>3</th>\n",
       "      <td>Model-1</td>\n",
       "      <td>Store-1</td>\n",
       "      <td>2019-02-17</td>\n",
       "      <td>46</td>\n",
       "      <td>2019-02</td>\n",
       "    </tr>\n",
       "    <tr>\n",
       "      <th>4</th>\n",
       "      <td>Model-1</td>\n",
       "      <td>Store-1</td>\n",
       "      <td>2019-02-24</td>\n",
       "      <td>22</td>\n",
       "      <td>2019-02</td>\n",
       "    </tr>\n",
       "    <tr>\n",
       "      <th>...</th>\n",
       "      <td>...</td>\n",
       "      <td>...</td>\n",
       "      <td>...</td>\n",
       "      <td>...</td>\n",
       "      <td>...</td>\n",
       "    </tr>\n",
       "    <tr>\n",
       "      <th>1269</th>\n",
       "      <td>Model-9</td>\n",
       "      <td>Store-4</td>\n",
       "      <td>2023-07-23</td>\n",
       "      <td>53</td>\n",
       "      <td>2023-07</td>\n",
       "    </tr>\n",
       "    <tr>\n",
       "      <th>1270</th>\n",
       "      <td>Model-9</td>\n",
       "      <td>Store-4</td>\n",
       "      <td>2023-07-30</td>\n",
       "      <td>1</td>\n",
       "      <td>2023-07</td>\n",
       "    </tr>\n",
       "    <tr>\n",
       "      <th>1271</th>\n",
       "      <td>Model-9</td>\n",
       "      <td>Store-4</td>\n",
       "      <td>2023-08-27</td>\n",
       "      <td>36</td>\n",
       "      <td>2023-08</td>\n",
       "    </tr>\n",
       "    <tr>\n",
       "      <th>1272</th>\n",
       "      <td>Model-9</td>\n",
       "      <td>Store-4</td>\n",
       "      <td>2023-09-17</td>\n",
       "      <td>185</td>\n",
       "      <td>2023-09</td>\n",
       "    </tr>\n",
       "    <tr>\n",
       "      <th>1273</th>\n",
       "      <td>Model-9</td>\n",
       "      <td>Store-4</td>\n",
       "      <td>2023-10-01</td>\n",
       "      <td>1</td>\n",
       "      <td>2023-10</td>\n",
       "    </tr>\n",
       "  </tbody>\n",
       "</table>\n",
       "<p>1272 rows × 5 columns</p>\n",
       "</div>"
      ],
      "text/plain": [
       "      PRODUCT    STORE WEEK_START_DATE  QUANTITY MONTH_YEAR\n",
       "0     Model-1  Store-1      2019-01-20        11    2019-01\n",
       "1     Model-1  Store-1      2019-01-27        43    2019-01\n",
       "2     Model-1  Store-1      2019-02-10         4    2019-02\n",
       "3     Model-1  Store-1      2019-02-17        46    2019-02\n",
       "4     Model-1  Store-1      2019-02-24        22    2019-02\n",
       "...       ...      ...             ...       ...        ...\n",
       "1269  Model-9  Store-4      2023-07-23        53    2023-07\n",
       "1270  Model-9  Store-4      2023-07-30         1    2023-07\n",
       "1271  Model-9  Store-4      2023-08-27        36    2023-08\n",
       "1272  Model-9  Store-4      2023-09-17       185    2023-09\n",
       "1273  Model-9  Store-4      2023-10-01         1    2023-10\n",
       "\n",
       "[1272 rows x 5 columns]"
      ]
     },
     "execution_count": 80,
     "metadata": {},
     "output_type": "execute_result"
    }
   ],
   "source": [
    "if 'MONTH_YEAR' not in data:\n",
    "    data['MONTH_YEAR'] = data['WEEK_START_DATE'].dt.strftime('%Y-%m')\n",
    "else:\n",
    "    print('Column Exists')\n",
    "data"
   ]
  },
  {
   "cell_type": "code",
   "execution_count": 81,
   "metadata": {},
   "outputs": [
    {
     "data": {
      "text/html": [
       "<div>\n",
       "<style scoped>\n",
       "    .dataframe tbody tr th:only-of-type {\n",
       "        vertical-align: middle;\n",
       "    }\n",
       "\n",
       "    .dataframe tbody tr th {\n",
       "        vertical-align: top;\n",
       "    }\n",
       "\n",
       "    .dataframe thead th {\n",
       "        text-align: right;\n",
       "    }\n",
       "</style>\n",
       "<table border=\"1\" class=\"dataframe\">\n",
       "  <thead>\n",
       "    <tr style=\"text-align: right;\">\n",
       "      <th></th>\n",
       "      <th>PRODUCT</th>\n",
       "      <th>STORE</th>\n",
       "      <th>WEEK_START_DATE</th>\n",
       "      <th>QUANTITY</th>\n",
       "      <th>MONTH_YEAR</th>\n",
       "      <th>Model_Store_Pair</th>\n",
       "    </tr>\n",
       "  </thead>\n",
       "  <tbody>\n",
       "    <tr>\n",
       "      <th>0</th>\n",
       "      <td>Model-1</td>\n",
       "      <td>Store-1</td>\n",
       "      <td>2019-01-20</td>\n",
       "      <td>11</td>\n",
       "      <td>2019-01</td>\n",
       "      <td>Model-1_Store-1</td>\n",
       "    </tr>\n",
       "    <tr>\n",
       "      <th>1</th>\n",
       "      <td>Model-1</td>\n",
       "      <td>Store-1</td>\n",
       "      <td>2019-01-27</td>\n",
       "      <td>43</td>\n",
       "      <td>2019-01</td>\n",
       "      <td>Model-1_Store-1</td>\n",
       "    </tr>\n",
       "    <tr>\n",
       "      <th>2</th>\n",
       "      <td>Model-1</td>\n",
       "      <td>Store-1</td>\n",
       "      <td>2019-02-10</td>\n",
       "      <td>4</td>\n",
       "      <td>2019-02</td>\n",
       "      <td>Model-1_Store-1</td>\n",
       "    </tr>\n",
       "    <tr>\n",
       "      <th>3</th>\n",
       "      <td>Model-1</td>\n",
       "      <td>Store-1</td>\n",
       "      <td>2019-02-17</td>\n",
       "      <td>46</td>\n",
       "      <td>2019-02</td>\n",
       "      <td>Model-1_Store-1</td>\n",
       "    </tr>\n",
       "    <tr>\n",
       "      <th>4</th>\n",
       "      <td>Model-1</td>\n",
       "      <td>Store-1</td>\n",
       "      <td>2019-02-24</td>\n",
       "      <td>22</td>\n",
       "      <td>2019-02</td>\n",
       "      <td>Model-1_Store-1</td>\n",
       "    </tr>\n",
       "    <tr>\n",
       "      <th>...</th>\n",
       "      <td>...</td>\n",
       "      <td>...</td>\n",
       "      <td>...</td>\n",
       "      <td>...</td>\n",
       "      <td>...</td>\n",
       "      <td>...</td>\n",
       "    </tr>\n",
       "    <tr>\n",
       "      <th>1269</th>\n",
       "      <td>Model-9</td>\n",
       "      <td>Store-4</td>\n",
       "      <td>2023-07-23</td>\n",
       "      <td>53</td>\n",
       "      <td>2023-07</td>\n",
       "      <td>Model-9_Store-4</td>\n",
       "    </tr>\n",
       "    <tr>\n",
       "      <th>1270</th>\n",
       "      <td>Model-9</td>\n",
       "      <td>Store-4</td>\n",
       "      <td>2023-07-30</td>\n",
       "      <td>1</td>\n",
       "      <td>2023-07</td>\n",
       "      <td>Model-9_Store-4</td>\n",
       "    </tr>\n",
       "    <tr>\n",
       "      <th>1271</th>\n",
       "      <td>Model-9</td>\n",
       "      <td>Store-4</td>\n",
       "      <td>2023-08-27</td>\n",
       "      <td>36</td>\n",
       "      <td>2023-08</td>\n",
       "      <td>Model-9_Store-4</td>\n",
       "    </tr>\n",
       "    <tr>\n",
       "      <th>1272</th>\n",
       "      <td>Model-9</td>\n",
       "      <td>Store-4</td>\n",
       "      <td>2023-09-17</td>\n",
       "      <td>185</td>\n",
       "      <td>2023-09</td>\n",
       "      <td>Model-9_Store-4</td>\n",
       "    </tr>\n",
       "    <tr>\n",
       "      <th>1273</th>\n",
       "      <td>Model-9</td>\n",
       "      <td>Store-4</td>\n",
       "      <td>2023-10-01</td>\n",
       "      <td>1</td>\n",
       "      <td>2023-10</td>\n",
       "      <td>Model-9_Store-4</td>\n",
       "    </tr>\n",
       "  </tbody>\n",
       "</table>\n",
       "<p>1272 rows × 6 columns</p>\n",
       "</div>"
      ],
      "text/plain": [
       "      PRODUCT    STORE WEEK_START_DATE  QUANTITY MONTH_YEAR Model_Store_Pair\n",
       "0     Model-1  Store-1      2019-01-20        11    2019-01  Model-1_Store-1\n",
       "1     Model-1  Store-1      2019-01-27        43    2019-01  Model-1_Store-1\n",
       "2     Model-1  Store-1      2019-02-10         4    2019-02  Model-1_Store-1\n",
       "3     Model-1  Store-1      2019-02-17        46    2019-02  Model-1_Store-1\n",
       "4     Model-1  Store-1      2019-02-24        22    2019-02  Model-1_Store-1\n",
       "...       ...      ...             ...       ...        ...              ...\n",
       "1269  Model-9  Store-4      2023-07-23        53    2023-07  Model-9_Store-4\n",
       "1270  Model-9  Store-4      2023-07-30         1    2023-07  Model-9_Store-4\n",
       "1271  Model-9  Store-4      2023-08-27        36    2023-08  Model-9_Store-4\n",
       "1272  Model-9  Store-4      2023-09-17       185    2023-09  Model-9_Store-4\n",
       "1273  Model-9  Store-4      2023-10-01         1    2023-10  Model-9_Store-4\n",
       "\n",
       "[1272 rows x 6 columns]"
      ]
     },
     "execution_count": 81,
     "metadata": {},
     "output_type": "execute_result"
    }
   ],
   "source": [
    "# Combine Product Store columns\n",
    "data['Model_Store_Pair'] = data['PRODUCT'] +'_'+ data['STORE']\n",
    "data"
   ]
  },
  {
   "cell_type": "code",
   "execution_count": 82,
   "metadata": {},
   "outputs": [],
   "source": [
    "def add_seasons(df):\n",
    "    # Convert 'MONTH_YEAR' to datetime\n",
    "    df['MONTH_YEAR'] = pd.to_datetime(df['MONTH_YEAR'], format='%Y-%m')\n",
    "\n",
    "    # Define a mapping of months to four seasons\n",
    "    seasons_mapping = {\n",
    "        3: 'Spring',\n",
    "        4: 'Spring',\n",
    "        5: 'Spring',\n",
    "        6: 'Summer',\n",
    "        7: 'Summer',\n",
    "        8: 'Summer',\n",
    "        9: 'Fall',\n",
    "        10: 'Fall',\n",
    "        11: 'Fall',\n",
    "        12: 'Winter',\n",
    "        1: 'Winter',\n",
    "        2: 'Winter',\n",
    "    }\n",
    "\n",
    "    # Create the 'seasons' column based on the 'MONTH_YEAR' column using assign\n",
    "    df = df.assign(Seasons=df['MONTH_YEAR'].dt.month.map(seasons_mapping))\n",
    "\n",
    "    return df\n"
   ]
  },
  {
   "cell_type": "code",
   "execution_count": 83,
   "metadata": {},
   "outputs": [
    {
     "data": {
      "text/html": [
       "<div>\n",
       "<style scoped>\n",
       "    .dataframe tbody tr th:only-of-type {\n",
       "        vertical-align: middle;\n",
       "    }\n",
       "\n",
       "    .dataframe tbody tr th {\n",
       "        vertical-align: top;\n",
       "    }\n",
       "\n",
       "    .dataframe thead th {\n",
       "        text-align: right;\n",
       "    }\n",
       "</style>\n",
       "<table border=\"1\" class=\"dataframe\">\n",
       "  <thead>\n",
       "    <tr style=\"text-align: right;\">\n",
       "      <th></th>\n",
       "      <th>PRODUCT</th>\n",
       "      <th>STORE</th>\n",
       "      <th>WEEK_START_DATE</th>\n",
       "      <th>QUANTITY</th>\n",
       "      <th>MONTH_YEAR</th>\n",
       "      <th>Model_Store_Pair</th>\n",
       "      <th>Seasons</th>\n",
       "    </tr>\n",
       "  </thead>\n",
       "  <tbody>\n",
       "    <tr>\n",
       "      <th>0</th>\n",
       "      <td>Model-1</td>\n",
       "      <td>Store-1</td>\n",
       "      <td>2019-01-20</td>\n",
       "      <td>11</td>\n",
       "      <td>2019-01-01</td>\n",
       "      <td>Model-1_Store-1</td>\n",
       "      <td>Winter</td>\n",
       "    </tr>\n",
       "    <tr>\n",
       "      <th>1</th>\n",
       "      <td>Model-1</td>\n",
       "      <td>Store-1</td>\n",
       "      <td>2019-01-27</td>\n",
       "      <td>43</td>\n",
       "      <td>2019-01-01</td>\n",
       "      <td>Model-1_Store-1</td>\n",
       "      <td>Winter</td>\n",
       "    </tr>\n",
       "    <tr>\n",
       "      <th>2</th>\n",
       "      <td>Model-1</td>\n",
       "      <td>Store-1</td>\n",
       "      <td>2019-02-10</td>\n",
       "      <td>4</td>\n",
       "      <td>2019-02-01</td>\n",
       "      <td>Model-1_Store-1</td>\n",
       "      <td>Winter</td>\n",
       "    </tr>\n",
       "    <tr>\n",
       "      <th>3</th>\n",
       "      <td>Model-1</td>\n",
       "      <td>Store-1</td>\n",
       "      <td>2019-02-17</td>\n",
       "      <td>46</td>\n",
       "      <td>2019-02-01</td>\n",
       "      <td>Model-1_Store-1</td>\n",
       "      <td>Winter</td>\n",
       "    </tr>\n",
       "    <tr>\n",
       "      <th>4</th>\n",
       "      <td>Model-1</td>\n",
       "      <td>Store-1</td>\n",
       "      <td>2019-02-24</td>\n",
       "      <td>22</td>\n",
       "      <td>2019-02-01</td>\n",
       "      <td>Model-1_Store-1</td>\n",
       "      <td>Winter</td>\n",
       "    </tr>\n",
       "    <tr>\n",
       "      <th>...</th>\n",
       "      <td>...</td>\n",
       "      <td>...</td>\n",
       "      <td>...</td>\n",
       "      <td>...</td>\n",
       "      <td>...</td>\n",
       "      <td>...</td>\n",
       "      <td>...</td>\n",
       "    </tr>\n",
       "    <tr>\n",
       "      <th>1269</th>\n",
       "      <td>Model-9</td>\n",
       "      <td>Store-4</td>\n",
       "      <td>2023-07-23</td>\n",
       "      <td>53</td>\n",
       "      <td>2023-07-01</td>\n",
       "      <td>Model-9_Store-4</td>\n",
       "      <td>Summer</td>\n",
       "    </tr>\n",
       "    <tr>\n",
       "      <th>1270</th>\n",
       "      <td>Model-9</td>\n",
       "      <td>Store-4</td>\n",
       "      <td>2023-07-30</td>\n",
       "      <td>1</td>\n",
       "      <td>2023-07-01</td>\n",
       "      <td>Model-9_Store-4</td>\n",
       "      <td>Summer</td>\n",
       "    </tr>\n",
       "    <tr>\n",
       "      <th>1271</th>\n",
       "      <td>Model-9</td>\n",
       "      <td>Store-4</td>\n",
       "      <td>2023-08-27</td>\n",
       "      <td>36</td>\n",
       "      <td>2023-08-01</td>\n",
       "      <td>Model-9_Store-4</td>\n",
       "      <td>Summer</td>\n",
       "    </tr>\n",
       "    <tr>\n",
       "      <th>1272</th>\n",
       "      <td>Model-9</td>\n",
       "      <td>Store-4</td>\n",
       "      <td>2023-09-17</td>\n",
       "      <td>185</td>\n",
       "      <td>2023-09-01</td>\n",
       "      <td>Model-9_Store-4</td>\n",
       "      <td>Fall</td>\n",
       "    </tr>\n",
       "    <tr>\n",
       "      <th>1273</th>\n",
       "      <td>Model-9</td>\n",
       "      <td>Store-4</td>\n",
       "      <td>2023-10-01</td>\n",
       "      <td>1</td>\n",
       "      <td>2023-10-01</td>\n",
       "      <td>Model-9_Store-4</td>\n",
       "      <td>Fall</td>\n",
       "    </tr>\n",
       "  </tbody>\n",
       "</table>\n",
       "<p>1272 rows × 7 columns</p>\n",
       "</div>"
      ],
      "text/plain": [
       "      PRODUCT    STORE WEEK_START_DATE  QUANTITY MONTH_YEAR Model_Store_Pair  \\\n",
       "0     Model-1  Store-1      2019-01-20        11 2019-01-01  Model-1_Store-1   \n",
       "1     Model-1  Store-1      2019-01-27        43 2019-01-01  Model-1_Store-1   \n",
       "2     Model-1  Store-1      2019-02-10         4 2019-02-01  Model-1_Store-1   \n",
       "3     Model-1  Store-1      2019-02-17        46 2019-02-01  Model-1_Store-1   \n",
       "4     Model-1  Store-1      2019-02-24        22 2019-02-01  Model-1_Store-1   \n",
       "...       ...      ...             ...       ...        ...              ...   \n",
       "1269  Model-9  Store-4      2023-07-23        53 2023-07-01  Model-9_Store-4   \n",
       "1270  Model-9  Store-4      2023-07-30         1 2023-07-01  Model-9_Store-4   \n",
       "1271  Model-9  Store-4      2023-08-27        36 2023-08-01  Model-9_Store-4   \n",
       "1272  Model-9  Store-4      2023-09-17       185 2023-09-01  Model-9_Store-4   \n",
       "1273  Model-9  Store-4      2023-10-01         1 2023-10-01  Model-9_Store-4   \n",
       "\n",
       "     Seasons  \n",
       "0     Winter  \n",
       "1     Winter  \n",
       "2     Winter  \n",
       "3     Winter  \n",
       "4     Winter  \n",
       "...      ...  \n",
       "1269  Summer  \n",
       "1270  Summer  \n",
       "1271  Summer  \n",
       "1272    Fall  \n",
       "1273    Fall  \n",
       "\n",
       "[1272 rows x 7 columns]"
      ]
     },
     "execution_count": 83,
     "metadata": {},
     "output_type": "execute_result"
    }
   ],
   "source": [
    "#Staging Table to export for dashboard\n",
    "staging_table = add_seasons(data)\n",
    "staging_table"
   ]
  },
  {
   "cell_type": "markdown",
   "metadata": {},
   "source": [
    "### Statistical Analysis"
   ]
  },
  {
   "cell_type": "code",
   "execution_count": 84,
   "metadata": {},
   "outputs": [
    {
     "data": {
      "text/html": [
       "<div>\n",
       "<style scoped>\n",
       "    .dataframe tbody tr th:only-of-type {\n",
       "        vertical-align: middle;\n",
       "    }\n",
       "\n",
       "    .dataframe tbody tr th {\n",
       "        vertical-align: top;\n",
       "    }\n",
       "\n",
       "    .dataframe thead th {\n",
       "        text-align: right;\n",
       "    }\n",
       "</style>\n",
       "<table border=\"1\" class=\"dataframe\">\n",
       "  <thead>\n",
       "    <tr style=\"text-align: right;\">\n",
       "      <th></th>\n",
       "      <th>count</th>\n",
       "      <th>mean</th>\n",
       "      <th>std</th>\n",
       "      <th>min</th>\n",
       "      <th>25%</th>\n",
       "      <th>50%</th>\n",
       "      <th>75%</th>\n",
       "      <th>max</th>\n",
       "    </tr>\n",
       "    <tr>\n",
       "      <th>Model_Store_Pair</th>\n",
       "      <th></th>\n",
       "      <th></th>\n",
       "      <th></th>\n",
       "      <th></th>\n",
       "      <th></th>\n",
       "      <th></th>\n",
       "      <th></th>\n",
       "      <th></th>\n",
       "    </tr>\n",
       "  </thead>\n",
       "  <tbody>\n",
       "    <tr>\n",
       "      <th>Model-10_Store-9</th>\n",
       "      <td>221.0</td>\n",
       "      <td>34.171946</td>\n",
       "      <td>100.006169</td>\n",
       "      <td>1.0</td>\n",
       "      <td>4.00</td>\n",
       "      <td>11.0</td>\n",
       "      <td>22.00</td>\n",
       "      <td>906.0</td>\n",
       "    </tr>\n",
       "    <tr>\n",
       "      <th>Model-11_Store-10</th>\n",
       "      <td>10.0</td>\n",
       "      <td>1.000000</td>\n",
       "      <td>0.000000</td>\n",
       "      <td>1.0</td>\n",
       "      <td>1.00</td>\n",
       "      <td>1.0</td>\n",
       "      <td>1.00</td>\n",
       "      <td>1.0</td>\n",
       "    </tr>\n",
       "    <tr>\n",
       "      <th>Model-12_Store-11</th>\n",
       "      <td>167.0</td>\n",
       "      <td>2.574850</td>\n",
       "      <td>2.013231</td>\n",
       "      <td>1.0</td>\n",
       "      <td>1.00</td>\n",
       "      <td>2.0</td>\n",
       "      <td>3.00</td>\n",
       "      <td>13.0</td>\n",
       "    </tr>\n",
       "    <tr>\n",
       "      <th>Model-13_Store-12</th>\n",
       "      <td>53.0</td>\n",
       "      <td>2.264151</td>\n",
       "      <td>1.820302</td>\n",
       "      <td>1.0</td>\n",
       "      <td>1.00</td>\n",
       "      <td>2.0</td>\n",
       "      <td>3.00</td>\n",
       "      <td>9.0</td>\n",
       "    </tr>\n",
       "    <tr>\n",
       "      <th>Model-14_Store-13</th>\n",
       "      <td>6.0</td>\n",
       "      <td>1.333333</td>\n",
       "      <td>0.816497</td>\n",
       "      <td>1.0</td>\n",
       "      <td>1.00</td>\n",
       "      <td>1.0</td>\n",
       "      <td>1.00</td>\n",
       "      <td>3.0</td>\n",
       "    </tr>\n",
       "    <tr>\n",
       "      <th>Model-15_Store-14</th>\n",
       "      <td>8.0</td>\n",
       "      <td>6.750000</td>\n",
       "      <td>8.860023</td>\n",
       "      <td>1.0</td>\n",
       "      <td>1.75</td>\n",
       "      <td>5.0</td>\n",
       "      <td>5.50</td>\n",
       "      <td>28.0</td>\n",
       "    </tr>\n",
       "    <tr>\n",
       "      <th>Model-16_Store-15</th>\n",
       "      <td>36.0</td>\n",
       "      <td>13.861111</td>\n",
       "      <td>13.751162</td>\n",
       "      <td>1.0</td>\n",
       "      <td>3.75</td>\n",
       "      <td>10.0</td>\n",
       "      <td>19.00</td>\n",
       "      <td>58.0</td>\n",
       "    </tr>\n",
       "    <tr>\n",
       "      <th>Model-17_Store-16</th>\n",
       "      <td>9.0</td>\n",
       "      <td>25.222222</td>\n",
       "      <td>19.331178</td>\n",
       "      <td>1.0</td>\n",
       "      <td>18.00</td>\n",
       "      <td>21.0</td>\n",
       "      <td>30.00</td>\n",
       "      <td>70.0</td>\n",
       "    </tr>\n",
       "    <tr>\n",
       "      <th>Model-18_Store-17</th>\n",
       "      <td>162.0</td>\n",
       "      <td>4.790123</td>\n",
       "      <td>8.084516</td>\n",
       "      <td>1.0</td>\n",
       "      <td>2.00</td>\n",
       "      <td>3.0</td>\n",
       "      <td>5.00</td>\n",
       "      <td>65.0</td>\n",
       "    </tr>\n",
       "    <tr>\n",
       "      <th>Model-1_Store-1</th>\n",
       "      <td>53.0</td>\n",
       "      <td>96.905660</td>\n",
       "      <td>116.328161</td>\n",
       "      <td>1.0</td>\n",
       "      <td>4.00</td>\n",
       "      <td>50.0</td>\n",
       "      <td>161.00</td>\n",
       "      <td>438.0</td>\n",
       "    </tr>\n",
       "    <tr>\n",
       "      <th>Model-20_Store-19</th>\n",
       "      <td>9.0</td>\n",
       "      <td>6.111111</td>\n",
       "      <td>7.114149</td>\n",
       "      <td>1.0</td>\n",
       "      <td>1.00</td>\n",
       "      <td>2.0</td>\n",
       "      <td>10.00</td>\n",
       "      <td>19.0</td>\n",
       "    </tr>\n",
       "    <tr>\n",
       "      <th>Model-21_Store-20</th>\n",
       "      <td>29.0</td>\n",
       "      <td>1.689655</td>\n",
       "      <td>0.806379</td>\n",
       "      <td>1.0</td>\n",
       "      <td>1.00</td>\n",
       "      <td>1.0</td>\n",
       "      <td>2.00</td>\n",
       "      <td>3.0</td>\n",
       "    </tr>\n",
       "    <tr>\n",
       "      <th>Model-22_Store-21</th>\n",
       "      <td>3.0</td>\n",
       "      <td>2.000000</td>\n",
       "      <td>1.000000</td>\n",
       "      <td>1.0</td>\n",
       "      <td>1.50</td>\n",
       "      <td>2.0</td>\n",
       "      <td>2.50</td>\n",
       "      <td>3.0</td>\n",
       "    </tr>\n",
       "    <tr>\n",
       "      <th>Model-23_Store-22</th>\n",
       "      <td>1.0</td>\n",
       "      <td>91.000000</td>\n",
       "      <td>NaN</td>\n",
       "      <td>91.0</td>\n",
       "      <td>91.00</td>\n",
       "      <td>91.0</td>\n",
       "      <td>91.00</td>\n",
       "      <td>91.0</td>\n",
       "    </tr>\n",
       "    <tr>\n",
       "      <th>Model-24_Store-23</th>\n",
       "      <td>2.0</td>\n",
       "      <td>225.000000</td>\n",
       "      <td>35.355339</td>\n",
       "      <td>200.0</td>\n",
       "      <td>212.50</td>\n",
       "      <td>225.0</td>\n",
       "      <td>237.50</td>\n",
       "      <td>250.0</td>\n",
       "    </tr>\n",
       "    <tr>\n",
       "      <th>Model-25_Store-11</th>\n",
       "      <td>1.0</td>\n",
       "      <td>1.000000</td>\n",
       "      <td>NaN</td>\n",
       "      <td>1.0</td>\n",
       "      <td>1.00</td>\n",
       "      <td>1.0</td>\n",
       "      <td>1.00</td>\n",
       "      <td>1.0</td>\n",
       "    </tr>\n",
       "    <tr>\n",
       "      <th>Model-2_Store-2</th>\n",
       "      <td>220.0</td>\n",
       "      <td>23.940909</td>\n",
       "      <td>36.652897</td>\n",
       "      <td>1.0</td>\n",
       "      <td>7.00</td>\n",
       "      <td>15.0</td>\n",
       "      <td>24.25</td>\n",
       "      <td>313.0</td>\n",
       "    </tr>\n",
       "    <tr>\n",
       "      <th>Model-3_Store-3</th>\n",
       "      <td>127.0</td>\n",
       "      <td>5.283465</td>\n",
       "      <td>4.489667</td>\n",
       "      <td>1.0</td>\n",
       "      <td>2.00</td>\n",
       "      <td>4.0</td>\n",
       "      <td>7.50</td>\n",
       "      <td>29.0</td>\n",
       "    </tr>\n",
       "    <tr>\n",
       "      <th>Model-4_Store-4</th>\n",
       "      <td>63.0</td>\n",
       "      <td>103.730159</td>\n",
       "      <td>147.197717</td>\n",
       "      <td>1.0</td>\n",
       "      <td>1.00</td>\n",
       "      <td>43.0</td>\n",
       "      <td>167.50</td>\n",
       "      <td>723.0</td>\n",
       "    </tr>\n",
       "    <tr>\n",
       "      <th>Model-5_Store-5</th>\n",
       "      <td>22.0</td>\n",
       "      <td>31.954545</td>\n",
       "      <td>19.727856</td>\n",
       "      <td>2.0</td>\n",
       "      <td>18.75</td>\n",
       "      <td>32.5</td>\n",
       "      <td>42.25</td>\n",
       "      <td>80.0</td>\n",
       "    </tr>\n",
       "    <tr>\n",
       "      <th>Model-6_Store-6</th>\n",
       "      <td>8.0</td>\n",
       "      <td>91.250000</td>\n",
       "      <td>78.465188</td>\n",
       "      <td>21.0</td>\n",
       "      <td>43.00</td>\n",
       "      <td>79.0</td>\n",
       "      <td>103.75</td>\n",
       "      <td>264.0</td>\n",
       "    </tr>\n",
       "    <tr>\n",
       "      <th>Model-8_Store-8</th>\n",
       "      <td>36.0</td>\n",
       "      <td>111.138889</td>\n",
       "      <td>125.628967</td>\n",
       "      <td>1.0</td>\n",
       "      <td>27.75</td>\n",
       "      <td>68.0</td>\n",
       "      <td>150.50</td>\n",
       "      <td>519.0</td>\n",
       "    </tr>\n",
       "    <tr>\n",
       "      <th>Model-9_Store-4</th>\n",
       "      <td>26.0</td>\n",
       "      <td>39.115385</td>\n",
       "      <td>53.781281</td>\n",
       "      <td>1.0</td>\n",
       "      <td>2.00</td>\n",
       "      <td>16.5</td>\n",
       "      <td>50.25</td>\n",
       "      <td>187.0</td>\n",
       "    </tr>\n",
       "  </tbody>\n",
       "</table>\n",
       "</div>"
      ],
      "text/plain": [
       "                   count        mean         std    min     25%    50%  \\\n",
       "Model_Store_Pair                                                         \n",
       "Model-10_Store-9   221.0   34.171946  100.006169    1.0    4.00   11.0   \n",
       "Model-11_Store-10   10.0    1.000000    0.000000    1.0    1.00    1.0   \n",
       "Model-12_Store-11  167.0    2.574850    2.013231    1.0    1.00    2.0   \n",
       "Model-13_Store-12   53.0    2.264151    1.820302    1.0    1.00    2.0   \n",
       "Model-14_Store-13    6.0    1.333333    0.816497    1.0    1.00    1.0   \n",
       "Model-15_Store-14    8.0    6.750000    8.860023    1.0    1.75    5.0   \n",
       "Model-16_Store-15   36.0   13.861111   13.751162    1.0    3.75   10.0   \n",
       "Model-17_Store-16    9.0   25.222222   19.331178    1.0   18.00   21.0   \n",
       "Model-18_Store-17  162.0    4.790123    8.084516    1.0    2.00    3.0   \n",
       "Model-1_Store-1     53.0   96.905660  116.328161    1.0    4.00   50.0   \n",
       "Model-20_Store-19    9.0    6.111111    7.114149    1.0    1.00    2.0   \n",
       "Model-21_Store-20   29.0    1.689655    0.806379    1.0    1.00    1.0   \n",
       "Model-22_Store-21    3.0    2.000000    1.000000    1.0    1.50    2.0   \n",
       "Model-23_Store-22    1.0   91.000000         NaN   91.0   91.00   91.0   \n",
       "Model-24_Store-23    2.0  225.000000   35.355339  200.0  212.50  225.0   \n",
       "Model-25_Store-11    1.0    1.000000         NaN    1.0    1.00    1.0   \n",
       "Model-2_Store-2    220.0   23.940909   36.652897    1.0    7.00   15.0   \n",
       "Model-3_Store-3    127.0    5.283465    4.489667    1.0    2.00    4.0   \n",
       "Model-4_Store-4     63.0  103.730159  147.197717    1.0    1.00   43.0   \n",
       "Model-5_Store-5     22.0   31.954545   19.727856    2.0   18.75   32.5   \n",
       "Model-6_Store-6      8.0   91.250000   78.465188   21.0   43.00   79.0   \n",
       "Model-8_Store-8     36.0  111.138889  125.628967    1.0   27.75   68.0   \n",
       "Model-9_Store-4     26.0   39.115385   53.781281    1.0    2.00   16.5   \n",
       "\n",
       "                      75%    max  \n",
       "Model_Store_Pair                  \n",
       "Model-10_Store-9    22.00  906.0  \n",
       "Model-11_Store-10    1.00    1.0  \n",
       "Model-12_Store-11    3.00   13.0  \n",
       "Model-13_Store-12    3.00    9.0  \n",
       "Model-14_Store-13    1.00    3.0  \n",
       "Model-15_Store-14    5.50   28.0  \n",
       "Model-16_Store-15   19.00   58.0  \n",
       "Model-17_Store-16   30.00   70.0  \n",
       "Model-18_Store-17    5.00   65.0  \n",
       "Model-1_Store-1    161.00  438.0  \n",
       "Model-20_Store-19   10.00   19.0  \n",
       "Model-21_Store-20    2.00    3.0  \n",
       "Model-22_Store-21    2.50    3.0  \n",
       "Model-23_Store-22   91.00   91.0  \n",
       "Model-24_Store-23  237.50  250.0  \n",
       "Model-25_Store-11    1.00    1.0  \n",
       "Model-2_Store-2     24.25  313.0  \n",
       "Model-3_Store-3      7.50   29.0  \n",
       "Model-4_Store-4    167.50  723.0  \n",
       "Model-5_Store-5     42.25   80.0  \n",
       "Model-6_Store-6    103.75  264.0  \n",
       "Model-8_Store-8    150.50  519.0  \n",
       "Model-9_Store-4     50.25  187.0  "
      ]
     },
     "execution_count": 84,
     "metadata": {},
     "output_type": "execute_result"
    }
   ],
   "source": [
    "# Group data by Model/Store\n",
    "group = staging_table.groupby('Model_Store_Pair')\n",
    "\n",
    "# Calculate statistical information\n",
    "product_stats = group['QUANTITY'].describe()\n",
    "\n",
    "product_stats\n"
   ]
  },
  {
   "cell_type": "code",
   "execution_count": 85,
   "metadata": {},
   "outputs": [],
   "source": [
    "group = staging_table.groupby('Model_Store_Pair')\n",
    "\n",
    "def seasonal_analysis(model_store):\n",
    "    store_data = group.get_group(model_store)\n",
    "    if len(store_data) < 24:\n",
    "        print(f\"Model-Store {model_store} has less than 24 data points, unable to perform seasonal analysis.\")\n",
    "    else:\n",
    "        decomposition = seasonal_decompose(store_data['QUANTITY'], model='additive', period=12)\n",
    "        decomposition.plot()\n",
    "        fig = plt.gcf()\n",
    "        fig.set_size_inches(12, 8)\n",
    "        plt.title(f'Decomposition for {model_store}')\n",
    "        plt.xlabel('Date')\n",
    "        plt.show()\n"
   ]
  },
  {
   "cell_type": "code",
   "execution_count": 86,
   "metadata": {},
   "outputs": [
    {
     "data": {
      "image/png": "[encoded data removed]",
      "text/plain": [
       "<Figure size 864x576 with 4 Axes>"
      ]
     },
     "metadata": {
      "needs_background": "light"
     },
     "output_type": "display_data"
    }
   ],
   "source": [
    "model_store= 'Model-10_Store-9' #put in any model store to view plots\n",
    "seasonal_analysis(model_store)"
   ]
  },
  {
   "cell_type": "code",
   "execution_count": 87,
   "metadata": {},
   "outputs": [
    {
     "data": {
      "text/html": [
       "<div>\n",
       "<style scoped>\n",
       "    .dataframe tbody tr th:only-of-type {\n",
       "        vertical-align: middle;\n",
       "    }\n",
       "\n",
       "    .dataframe tbody tr th {\n",
       "        vertical-align: top;\n",
       "    }\n",
       "\n",
       "    .dataframe thead th {\n",
       "        text-align: right;\n",
       "    }\n",
       "</style>\n",
       "<table border=\"1\" class=\"dataframe\">\n",
       "  <thead>\n",
       "    <tr style=\"text-align: right;\">\n",
       "      <th></th>\n",
       "      <th>Model_Store_Pair</th>\n",
       "      <th>MONTH_YEAR</th>\n",
       "      <th>QUANTITY</th>\n",
       "    </tr>\n",
       "  </thead>\n",
       "  <tbody>\n",
       "    <tr>\n",
       "      <th>0</th>\n",
       "      <td>Model-10_Store-9</td>\n",
       "      <td>2019-01-01</td>\n",
       "      <td>311</td>\n",
       "    </tr>\n",
       "    <tr>\n",
       "      <th>1</th>\n",
       "      <td>Model-10_Store-9</td>\n",
       "      <td>2019-02-01</td>\n",
       "      <td>38</td>\n",
       "    </tr>\n",
       "    <tr>\n",
       "      <th>2</th>\n",
       "      <td>Model-10_Store-9</td>\n",
       "      <td>2019-03-01</td>\n",
       "      <td>9</td>\n",
       "    </tr>\n",
       "    <tr>\n",
       "      <th>3</th>\n",
       "      <td>Model-10_Store-9</td>\n",
       "      <td>2019-04-01</td>\n",
       "      <td>40</td>\n",
       "    </tr>\n",
       "    <tr>\n",
       "      <th>4</th>\n",
       "      <td>Model-10_Store-9</td>\n",
       "      <td>2019-05-01</td>\n",
       "      <td>75</td>\n",
       "    </tr>\n",
       "    <tr>\n",
       "      <th>...</th>\n",
       "      <td>...</td>\n",
       "      <td>...</td>\n",
       "      <td>...</td>\n",
       "    </tr>\n",
       "    <tr>\n",
       "      <th>470</th>\n",
       "      <td>Model-9_Store-4</td>\n",
       "      <td>2023-06-01</td>\n",
       "      <td>11</td>\n",
       "    </tr>\n",
       "    <tr>\n",
       "      <th>471</th>\n",
       "      <td>Model-9_Store-4</td>\n",
       "      <td>2023-07-01</td>\n",
       "      <td>57</td>\n",
       "    </tr>\n",
       "    <tr>\n",
       "      <th>472</th>\n",
       "      <td>Model-9_Store-4</td>\n",
       "      <td>2023-08-01</td>\n",
       "      <td>36</td>\n",
       "    </tr>\n",
       "    <tr>\n",
       "      <th>473</th>\n",
       "      <td>Model-9_Store-4</td>\n",
       "      <td>2023-09-01</td>\n",
       "      <td>185</td>\n",
       "    </tr>\n",
       "    <tr>\n",
       "      <th>474</th>\n",
       "      <td>Model-9_Store-4</td>\n",
       "      <td>2023-10-01</td>\n",
       "      <td>1</td>\n",
       "    </tr>\n",
       "  </tbody>\n",
       "</table>\n",
       "<p>475 rows × 3 columns</p>\n",
       "</div>"
      ],
      "text/plain": [
       "     Model_Store_Pair MONTH_YEAR  QUANTITY\n",
       "0    Model-10_Store-9 2019-01-01       311\n",
       "1    Model-10_Store-9 2019-02-01        38\n",
       "2    Model-10_Store-9 2019-03-01         9\n",
       "3    Model-10_Store-9 2019-04-01        40\n",
       "4    Model-10_Store-9 2019-05-01        75\n",
       "..                ...        ...       ...\n",
       "470   Model-9_Store-4 2023-06-01        11\n",
       "471   Model-9_Store-4 2023-07-01        57\n",
       "472   Model-9_Store-4 2023-08-01        36\n",
       "473   Model-9_Store-4 2023-09-01       185\n",
       "474   Model-9_Store-4 2023-10-01         1\n",
       "\n",
       "[475 rows x 3 columns]"
      ]
     },
     "execution_count": 87,
     "metadata": {},
     "output_type": "execute_result"
    }
   ],
   "source": [
    "sales_data = data.groupby(['Model_Store_Pair','MONTH_YEAR']).sum().reset_index()\n",
    "sales_data"
   ]
  },
  {
   "cell_type": "code",
   "execution_count": 88,
   "metadata": {},
   "outputs": [
    {
     "data": {
      "text/html": [
       "<div>\n",
       "<style scoped>\n",
       "    .dataframe tbody tr th:only-of-type {\n",
       "        vertical-align: middle;\n",
       "    }\n",
       "\n",
       "    .dataframe tbody tr th {\n",
       "        vertical-align: top;\n",
       "    }\n",
       "\n",
       "    .dataframe thead th {\n",
       "        text-align: right;\n",
       "    }\n",
       "</style>\n",
       "<table border=\"1\" class=\"dataframe\">\n",
       "  <thead>\n",
       "    <tr style=\"text-align: right;\">\n",
       "      <th></th>\n",
       "      <th>Model_Store_Pair</th>\n",
       "      <th>Count</th>\n",
       "    </tr>\n",
       "  </thead>\n",
       "  <tbody>\n",
       "    <tr>\n",
       "      <th>0</th>\n",
       "      <td>Model-10_Store-9</td>\n",
       "      <td>57</td>\n",
       "    </tr>\n",
       "    <tr>\n",
       "      <th>1</th>\n",
       "      <td>Model-11_Store-10</td>\n",
       "      <td>8</td>\n",
       "    </tr>\n",
       "    <tr>\n",
       "      <th>2</th>\n",
       "      <td>Model-12_Store-11</td>\n",
       "      <td>47</td>\n",
       "    </tr>\n",
       "    <tr>\n",
       "      <th>3</th>\n",
       "      <td>Model-13_Store-12</td>\n",
       "      <td>26</td>\n",
       "    </tr>\n",
       "    <tr>\n",
       "      <th>4</th>\n",
       "      <td>Model-14_Store-13</td>\n",
       "      <td>4</td>\n",
       "    </tr>\n",
       "    <tr>\n",
       "      <th>5</th>\n",
       "      <td>Model-15_Store-14</td>\n",
       "      <td>7</td>\n",
       "    </tr>\n",
       "    <tr>\n",
       "      <th>6</th>\n",
       "      <td>Model-16_Store-15</td>\n",
       "      <td>27</td>\n",
       "    </tr>\n",
       "    <tr>\n",
       "      <th>7</th>\n",
       "      <td>Model-17_Store-16</td>\n",
       "      <td>9</td>\n",
       "    </tr>\n",
       "    <tr>\n",
       "      <th>8</th>\n",
       "      <td>Model-18_Store-17</td>\n",
       "      <td>47</td>\n",
       "    </tr>\n",
       "    <tr>\n",
       "      <th>9</th>\n",
       "      <td>Model-1_Store-1</td>\n",
       "      <td>25</td>\n",
       "    </tr>\n",
       "    <tr>\n",
       "      <th>10</th>\n",
       "      <td>Model-20_Store-19</td>\n",
       "      <td>8</td>\n",
       "    </tr>\n",
       "    <tr>\n",
       "      <th>11</th>\n",
       "      <td>Model-21_Store-20</td>\n",
       "      <td>12</td>\n",
       "    </tr>\n",
       "    <tr>\n",
       "      <th>12</th>\n",
       "      <td>Model-22_Store-21</td>\n",
       "      <td>2</td>\n",
       "    </tr>\n",
       "    <tr>\n",
       "      <th>13</th>\n",
       "      <td>Model-23_Store-22</td>\n",
       "      <td>1</td>\n",
       "    </tr>\n",
       "    <tr>\n",
       "      <th>14</th>\n",
       "      <td>Model-24_Store-23</td>\n",
       "      <td>2</td>\n",
       "    </tr>\n",
       "    <tr>\n",
       "      <th>15</th>\n",
       "      <td>Model-25_Store-11</td>\n",
       "      <td>1</td>\n",
       "    </tr>\n",
       "    <tr>\n",
       "      <th>16</th>\n",
       "      <td>Model-2_Store-2</td>\n",
       "      <td>53</td>\n",
       "    </tr>\n",
       "    <tr>\n",
       "      <th>17</th>\n",
       "      <td>Model-3_Store-3</td>\n",
       "      <td>30</td>\n",
       "    </tr>\n",
       "    <tr>\n",
       "      <th>18</th>\n",
       "      <td>Model-4_Store-4</td>\n",
       "      <td>41</td>\n",
       "    </tr>\n",
       "    <tr>\n",
       "      <th>19</th>\n",
       "      <td>Model-5_Store-5</td>\n",
       "      <td>17</td>\n",
       "    </tr>\n",
       "    <tr>\n",
       "      <th>20</th>\n",
       "      <td>Model-6_Store-6</td>\n",
       "      <td>8</td>\n",
       "    </tr>\n",
       "    <tr>\n",
       "      <th>21</th>\n",
       "      <td>Model-8_Store-8</td>\n",
       "      <td>25</td>\n",
       "    </tr>\n",
       "    <tr>\n",
       "      <th>22</th>\n",
       "      <td>Model-9_Store-4</td>\n",
       "      <td>18</td>\n",
       "    </tr>\n",
       "  </tbody>\n",
       "</table>\n",
       "</div>"
      ],
      "text/plain": [
       "     Model_Store_Pair  Count\n",
       "0    Model-10_Store-9     57\n",
       "1   Model-11_Store-10      8\n",
       "2   Model-12_Store-11     47\n",
       "3   Model-13_Store-12     26\n",
       "4   Model-14_Store-13      4\n",
       "5   Model-15_Store-14      7\n",
       "6   Model-16_Store-15     27\n",
       "7   Model-17_Store-16      9\n",
       "8   Model-18_Store-17     47\n",
       "9     Model-1_Store-1     25\n",
       "10  Model-20_Store-19      8\n",
       "11  Model-21_Store-20     12\n",
       "12  Model-22_Store-21      2\n",
       "13  Model-23_Store-22      1\n",
       "14  Model-24_Store-23      2\n",
       "15  Model-25_Store-11      1\n",
       "16    Model-2_Store-2     53\n",
       "17    Model-3_Store-3     30\n",
       "18    Model-4_Store-4     41\n",
       "19    Model-5_Store-5     17\n",
       "20    Model-6_Store-6      8\n",
       "21    Model-8_Store-8     25\n",
       "22    Model-9_Store-4     18"
      ]
     },
     "execution_count": 88,
     "metadata": {},
     "output_type": "execute_result"
    }
   ],
   "source": [
    "model_store_pairs = ['Model-1/Store-1', 'Model-2/Store-2', 'Model-8/Store-8',\n",
    "        'Model-10/Store-9', 'Model-14/Store-13', 'Model-12/Store-11',\n",
    "        'Model-17/Store-16', 'Model-16/Store-15'] #These are the requested model_store_pairs to make predictions on\n",
    "\n",
    "# Replace slash (\"/\") with underscore (\"_\") in model/store pairs\n",
    "model_store_pairs = [pair.replace('/', '_') for pair in model_store_pairs]\n",
    "\n",
    "# Group the data by 'Model_Store_Pair' and count the rows\n",
    "grouped_counts = sales_data.groupby(['Model_Store_Pair']).size().reset_index(name='Count')\n",
    "\n",
    "grouped_counts"
   ]
  },
  {
   "cell_type": "code",
   "execution_count": 89,
   "metadata": {},
   "outputs": [
    {
     "data": {
      "text/html": [
       "<div>\n",
       "<style scoped>\n",
       "    .dataframe tbody tr th:only-of-type {\n",
       "        vertical-align: middle;\n",
       "    }\n",
       "\n",
       "    .dataframe tbody tr th {\n",
       "        vertical-align: top;\n",
       "    }\n",
       "\n",
       "    .dataframe thead th {\n",
       "        text-align: right;\n",
       "    }\n",
       "</style>\n",
       "<table border=\"1\" class=\"dataframe\">\n",
       "  <thead>\n",
       "    <tr style=\"text-align: right;\">\n",
       "      <th></th>\n",
       "      <th>Model_Store_Pair</th>\n",
       "      <th>MONTH_YEAR</th>\n",
       "      <th>QUANTITY</th>\n",
       "    </tr>\n",
       "  </thead>\n",
       "  <tbody>\n",
       "    <tr>\n",
       "      <th>0</th>\n",
       "      <td>Model-10_Store-9</td>\n",
       "      <td>2019-01-01</td>\n",
       "      <td>311</td>\n",
       "    </tr>\n",
       "    <tr>\n",
       "      <th>1</th>\n",
       "      <td>Model-10_Store-9</td>\n",
       "      <td>2019-02-01</td>\n",
       "      <td>38</td>\n",
       "    </tr>\n",
       "    <tr>\n",
       "      <th>2</th>\n",
       "      <td>Model-10_Store-9</td>\n",
       "      <td>2019-03-01</td>\n",
       "      <td>9</td>\n",
       "    </tr>\n",
       "    <tr>\n",
       "      <th>3</th>\n",
       "      <td>Model-10_Store-9</td>\n",
       "      <td>2019-04-01</td>\n",
       "      <td>40</td>\n",
       "    </tr>\n",
       "    <tr>\n",
       "      <th>4</th>\n",
       "      <td>Model-10_Store-9</td>\n",
       "      <td>2019-05-01</td>\n",
       "      <td>75</td>\n",
       "    </tr>\n",
       "    <tr>\n",
       "      <th>...</th>\n",
       "      <td>...</td>\n",
       "      <td>...</td>\n",
       "      <td>...</td>\n",
       "    </tr>\n",
       "    <tr>\n",
       "      <th>470</th>\n",
       "      <td>Model-9_Store-4</td>\n",
       "      <td>2023-06-01</td>\n",
       "      <td>11</td>\n",
       "    </tr>\n",
       "    <tr>\n",
       "      <th>471</th>\n",
       "      <td>Model-9_Store-4</td>\n",
       "      <td>2023-07-01</td>\n",
       "      <td>57</td>\n",
       "    </tr>\n",
       "    <tr>\n",
       "      <th>472</th>\n",
       "      <td>Model-9_Store-4</td>\n",
       "      <td>2023-08-01</td>\n",
       "      <td>36</td>\n",
       "    </tr>\n",
       "    <tr>\n",
       "      <th>473</th>\n",
       "      <td>Model-9_Store-4</td>\n",
       "      <td>2023-09-01</td>\n",
       "      <td>185</td>\n",
       "    </tr>\n",
       "    <tr>\n",
       "      <th>474</th>\n",
       "      <td>Model-9_Store-4</td>\n",
       "      <td>2023-10-01</td>\n",
       "      <td>1</td>\n",
       "    </tr>\n",
       "  </tbody>\n",
       "</table>\n",
       "<p>438 rows × 3 columns</p>\n",
       "</div>"
      ],
      "text/plain": [
       "     Model_Store_Pair MONTH_YEAR  QUANTITY\n",
       "0    Model-10_Store-9 2019-01-01       311\n",
       "1    Model-10_Store-9 2019-02-01        38\n",
       "2    Model-10_Store-9 2019-03-01         9\n",
       "3    Model-10_Store-9 2019-04-01        40\n",
       "4    Model-10_Store-9 2019-05-01        75\n",
       "..                ...        ...       ...\n",
       "470   Model-9_Store-4 2023-06-01        11\n",
       "471   Model-9_Store-4 2023-07-01        57\n",
       "472   Model-9_Store-4 2023-08-01        36\n",
       "473   Model-9_Store-4 2023-09-01       185\n",
       "474   Model-9_Store-4 2023-10-01         1\n",
       "\n",
       "[438 rows x 3 columns]"
      ]
     },
     "execution_count": 89,
     "metadata": {},
     "output_type": "execute_result"
    }
   ],
   "source": [
    "# Removing mode/stores with less than 10 entries unless it's in the requested set above (model_store_pair)\n",
    "\n",
    "# Define the threshold for the minimum number of rows\n",
    "threshold = 10\n",
    "\n",
    "# Group the data by 'Model_Store_Pair' and count the rows\n",
    "grouped_counts = sales_data['Model_Store_Pair'].value_counts()\n",
    "\n",
    "# Get the Model/Store pairs that have at least 10 rows\n",
    "valid_pairs = grouped_counts[grouped_counts >= threshold].index.tolist()\n",
    "\n",
    "# Filter the DataFrame to keep rows with valid Model/Store pairs or specified pairs\n",
    "sales_data = sales_data[\n",
    "    (sales_data['Model_Store_Pair'].isin(valid_pairs)) |\n",
    "    (sales_data['Model_Store_Pair'].isin(model_store_pairs))\n",
    "]\n",
    "\n",
    "sales_data\n"
   ]
  },
  {
   "cell_type": "code",
   "execution_count": 90,
   "metadata": {},
   "outputs": [
    {
     "data": {
      "text/html": [
       "<div>\n",
       "<style scoped>\n",
       "    .dataframe tbody tr th:only-of-type {\n",
       "        vertical-align: middle;\n",
       "    }\n",
       "\n",
       "    .dataframe tbody tr th {\n",
       "        vertical-align: top;\n",
       "    }\n",
       "\n",
       "    .dataframe thead th {\n",
       "        text-align: right;\n",
       "    }\n",
       "</style>\n",
       "<table border=\"1\" class=\"dataframe\">\n",
       "  <thead>\n",
       "    <tr style=\"text-align: right;\">\n",
       "      <th></th>\n",
       "      <th>Model_Store_Pair</th>\n",
       "      <th>Count</th>\n",
       "    </tr>\n",
       "  </thead>\n",
       "  <tbody>\n",
       "    <tr>\n",
       "      <th>0</th>\n",
       "      <td>Model-10_Store-9</td>\n",
       "      <td>57</td>\n",
       "    </tr>\n",
       "    <tr>\n",
       "      <th>1</th>\n",
       "      <td>Model-12_Store-11</td>\n",
       "      <td>47</td>\n",
       "    </tr>\n",
       "    <tr>\n",
       "      <th>2</th>\n",
       "      <td>Model-13_Store-12</td>\n",
       "      <td>26</td>\n",
       "    </tr>\n",
       "    <tr>\n",
       "      <th>3</th>\n",
       "      <td>Model-14_Store-13</td>\n",
       "      <td>4</td>\n",
       "    </tr>\n",
       "    <tr>\n",
       "      <th>4</th>\n",
       "      <td>Model-16_Store-15</td>\n",
       "      <td>27</td>\n",
       "    </tr>\n",
       "    <tr>\n",
       "      <th>5</th>\n",
       "      <td>Model-17_Store-16</td>\n",
       "      <td>9</td>\n",
       "    </tr>\n",
       "    <tr>\n",
       "      <th>6</th>\n",
       "      <td>Model-18_Store-17</td>\n",
       "      <td>47</td>\n",
       "    </tr>\n",
       "    <tr>\n",
       "      <th>7</th>\n",
       "      <td>Model-1_Store-1</td>\n",
       "      <td>25</td>\n",
       "    </tr>\n",
       "    <tr>\n",
       "      <th>8</th>\n",
       "      <td>Model-21_Store-20</td>\n",
       "      <td>12</td>\n",
       "    </tr>\n",
       "    <tr>\n",
       "      <th>9</th>\n",
       "      <td>Model-2_Store-2</td>\n",
       "      <td>53</td>\n",
       "    </tr>\n",
       "    <tr>\n",
       "      <th>10</th>\n",
       "      <td>Model-3_Store-3</td>\n",
       "      <td>30</td>\n",
       "    </tr>\n",
       "    <tr>\n",
       "      <th>11</th>\n",
       "      <td>Model-4_Store-4</td>\n",
       "      <td>41</td>\n",
       "    </tr>\n",
       "    <tr>\n",
       "      <th>12</th>\n",
       "      <td>Model-5_Store-5</td>\n",
       "      <td>17</td>\n",
       "    </tr>\n",
       "    <tr>\n",
       "      <th>13</th>\n",
       "      <td>Model-8_Store-8</td>\n",
       "      <td>25</td>\n",
       "    </tr>\n",
       "    <tr>\n",
       "      <th>14</th>\n",
       "      <td>Model-9_Store-4</td>\n",
       "      <td>18</td>\n",
       "    </tr>\n",
       "  </tbody>\n",
       "</table>\n",
       "</div>"
      ],
      "text/plain": [
       "     Model_Store_Pair  Count\n",
       "0    Model-10_Store-9     57\n",
       "1   Model-12_Store-11     47\n",
       "2   Model-13_Store-12     26\n",
       "3   Model-14_Store-13      4\n",
       "4   Model-16_Store-15     27\n",
       "5   Model-17_Store-16      9\n",
       "6   Model-18_Store-17     47\n",
       "7     Model-1_Store-1     25\n",
       "8   Model-21_Store-20     12\n",
       "9     Model-2_Store-2     53\n",
       "10    Model-3_Store-3     30\n",
       "11    Model-4_Store-4     41\n",
       "12    Model-5_Store-5     17\n",
       "13    Model-8_Store-8     25\n",
       "14    Model-9_Store-4     18"
      ]
     },
     "execution_count": 90,
     "metadata": {},
     "output_type": "execute_result"
    }
   ],
   "source": [
    "# Group the data by 'Model_Store_Pair' and count the rows\n",
    "grouped_counts = sales_data.groupby(['Model_Store_Pair']).size().reset_index(name='Count')\n",
    "\n",
    "grouped_counts"
   ]
  },
  {
   "cell_type": "code",
   "execution_count": 91,
   "metadata": {},
   "outputs": [
    {
     "data": {
      "application/vnd.plotly.v1+json": {
       "config": {
        "linkText": "Export to plot.ly",
        "plotlyServerURL": "https://plot.ly",
        "showLink": false
       },
       "data": [
        {
         "mode": "lines+markers",
         "name": "Model-10_Store-9",
         "type": "scatter",
         "x": [
          "2019-01-01T00:00:00",
          "2019-02-01T00:00:00",
          "2019-03-01T00:00:00",
          "2019-04-01T00:00:00",
          "2019-05-01T00:00:00",
          "2019-06-01T00:00:00",
          "2019-07-01T00:00:00",
          "2019-08-01T00:00:00",
          "2019-09-01T00:00:00",
          "2019-10-01T00:00:00",
          "2019-11-01T00:00:00",
          "2019-12-01T00:00:00",
          "2020-01-01T00:00:00",
          "2020-02-01T00:00:00",
          "2020-03-01T00:00:00",
          "2020-04-01T00:00:00",
          "2020-05-01T00:00:00",
          "2020-06-01T00:00:00",
          "2020-07-01T00:00:00",
          "2020-08-01T00:00:00",
          "2020-09-01T00:00:00",
          "2020-10-01T00:00:00",
          "2020-11-01T00:00:00",
          "2020-12-01T00:00:00",
          "2021-01-01T00:00:00",
          "2021-02-01T00:00:00",
          "2021-03-01T00:00:00",
          "2021-04-01T00:00:00",
          "2021-05-01T00:00:00",
          "2021-06-01T00:00:00",
          "2021-07-01T00:00:00",
          "2021-08-01T00:00:00",
          "2021-09-01T00:00:00",
          "2021-10-01T00:00:00",
          "2021-11-01T00:00:00",
          "2022-02-01T00:00:00",
          "2022-03-01T00:00:00",
          "2022-04-01T00:00:00",
          "2022-05-01T00:00:00",
          "2022-06-01T00:00:00",
          "2022-07-01T00:00:00",
          "2022-08-01T00:00:00",
          "2022-09-01T00:00:00",
          "2022-10-01T00:00:00",
          "2022-11-01T00:00:00",
          "2022-12-01T00:00:00",
          "2023-01-01T00:00:00",
          "2023-02-01T00:00:00",
          "2023-03-01T00:00:00",
          "2023-04-01T00:00:00",
          "2023-05-01T00:00:00",
          "2023-06-01T00:00:00",
          "2023-07-01T00:00:00",
          "2023-08-01T00:00:00",
          "2023-09-01T00:00:00",
          "2023-10-01T00:00:00",
          "2023-11-01T00:00:00"
         ],
         "y": [
          311,
          38,
          9,
          40,
          75,
          358,
          68,
          84,
          23,
          106,
          30,
          86,
          81,
          119,
          15,
          46,
          33,
          58,
          61,
          65,
          74,
          112,
          930,
          116,
          91,
          36,
          116,
          54,
          165,
          144,
          287,
          168,
          263,
          73,
          51,
          21,
          19,
          401,
          5,
          307,
          209,
          21,
          93,
          624,
          219,
          39,
          36,
          28,
          75,
          800,
          72,
          16,
          37,
          55,
          51,
          24,
          14
         ]
        },
        {
         "mode": "lines+markers",
         "name": "Model-12_Store-11",
         "type": "scatter",
         "x": [
          "2019-06-01T00:00:00",
          "2019-07-01T00:00:00",
          "2019-09-01T00:00:00",
          "2019-11-01T00:00:00",
          "2019-12-01T00:00:00",
          "2020-01-01T00:00:00",
          "2020-02-01T00:00:00",
          "2020-03-01T00:00:00",
          "2020-05-01T00:00:00",
          "2020-06-01T00:00:00",
          "2020-08-01T00:00:00",
          "2020-09-01T00:00:00",
          "2020-10-01T00:00:00",
          "2020-11-01T00:00:00",
          "2020-12-01T00:00:00",
          "2021-01-01T00:00:00",
          "2021-02-01T00:00:00",
          "2021-03-01T00:00:00",
          "2021-06-01T00:00:00",
          "2021-07-01T00:00:00",
          "2021-08-01T00:00:00",
          "2021-09-01T00:00:00",
          "2021-10-01T00:00:00",
          "2021-11-01T00:00:00",
          "2021-12-01T00:00:00",
          "2022-01-01T00:00:00",
          "2022-02-01T00:00:00",
          "2022-03-01T00:00:00",
          "2022-04-01T00:00:00",
          "2022-05-01T00:00:00",
          "2022-06-01T00:00:00",
          "2022-07-01T00:00:00",
          "2022-08-01T00:00:00",
          "2022-09-01T00:00:00",
          "2022-10-01T00:00:00",
          "2022-11-01T00:00:00",
          "2022-12-01T00:00:00",
          "2023-01-01T00:00:00",
          "2023-02-01T00:00:00",
          "2023-03-01T00:00:00",
          "2023-04-01T00:00:00",
          "2023-05-01T00:00:00",
          "2023-06-01T00:00:00",
          "2023-07-01T00:00:00",
          "2023-08-01T00:00:00",
          "2023-09-01T00:00:00",
          "2023-10-01T00:00:00"
         ],
         "y": [
          3,
          2,
          3,
          3,
          3,
          1,
          6,
          1,
          2,
          3,
          1,
          3,
          4,
          8,
          11,
          5,
          2,
          2,
          13,
          11,
          4,
          2,
          6,
          17,
          17,
          7,
          7,
          15,
          5,
          11,
          16,
          21,
          15,
          13,
          10,
          28,
          24,
          13,
          7,
          10,
          11,
          20,
          13,
          12,
          14,
          15,
          10
         ]
        },
        {
         "mode": "lines+markers",
         "name": "Model-13_Store-12",
         "type": "scatter",
         "x": [
          "2020-07-01T00:00:00",
          "2020-10-01T00:00:00",
          "2020-11-01T00:00:00",
          "2020-12-01T00:00:00",
          "2021-03-01T00:00:00",
          "2021-04-01T00:00:00",
          "2021-05-01T00:00:00",
          "2021-06-01T00:00:00",
          "2021-07-01T00:00:00",
          "2021-09-01T00:00:00",
          "2021-10-01T00:00:00",
          "2021-11-01T00:00:00",
          "2021-12-01T00:00:00",
          "2022-01-01T00:00:00",
          "2022-04-01T00:00:00",
          "2022-10-01T00:00:00",
          "2022-11-01T00:00:00",
          "2022-12-01T00:00:00",
          "2023-02-01T00:00:00",
          "2023-03-01T00:00:00",
          "2023-04-01T00:00:00",
          "2023-05-01T00:00:00",
          "2023-06-01T00:00:00",
          "2023-07-01T00:00:00",
          "2023-10-01T00:00:00",
          "2023-12-01T00:00:00"
         ],
         "y": [
          1,
          1,
          9,
          3,
          4,
          4,
          3,
          3,
          4,
          7,
          5,
          4,
          3,
          1,
          1,
          9,
          6,
          5,
          8,
          4,
          4,
          10,
          9,
          4,
          6,
          2
         ]
        },
        {
         "mode": "lines+markers",
         "name": "Model-14_Store-13",
         "type": "scatter",
         "x": [
          "2021-10-01T00:00:00",
          "2021-11-01T00:00:00",
          "2022-07-01T00:00:00",
          "2022-11-01T00:00:00"
         ],
         "y": [
          2,
          3,
          1,
          2
         ]
        },
        {
         "mode": "lines+markers",
         "name": "Model-16_Store-15",
         "type": "scatter",
         "x": [
          "2019-07-01T00:00:00",
          "2019-08-01T00:00:00",
          "2019-09-01T00:00:00",
          "2019-10-01T00:00:00",
          "2019-11-01T00:00:00",
          "2019-12-01T00:00:00",
          "2020-01-01T00:00:00",
          "2020-02-01T00:00:00",
          "2020-08-01T00:00:00",
          "2020-11-01T00:00:00",
          "2021-01-01T00:00:00",
          "2021-03-01T00:00:00",
          "2021-06-01T00:00:00",
          "2021-07-01T00:00:00",
          "2021-08-01T00:00:00",
          "2021-11-01T00:00:00",
          "2021-12-01T00:00:00",
          "2022-02-01T00:00:00",
          "2022-04-01T00:00:00",
          "2022-07-01T00:00:00",
          "2022-09-01T00:00:00",
          "2022-11-01T00:00:00",
          "2023-04-01T00:00:00",
          "2023-05-01T00:00:00",
          "2023-07-01T00:00:00",
          "2023-08-01T00:00:00",
          "2023-10-01T00:00:00"
         ],
         "y": [
          58,
          3,
          10,
          13,
          2,
          5,
          13,
          7,
          59,
          34,
          1,
          25,
          3,
          10,
          45,
          3,
          46,
          19,
          34,
          5,
          10,
          44,
          10,
          10,
          10,
          15,
          5
         ]
        },
        {
         "mode": "lines+markers",
         "name": "Model-17_Store-16",
         "type": "scatter",
         "x": [
          "2021-04-01T00:00:00",
          "2021-05-01T00:00:00",
          "2022-06-01T00:00:00",
          "2022-11-01T00:00:00",
          "2023-01-01T00:00:00",
          "2023-02-01T00:00:00",
          "2023-04-01T00:00:00",
          "2023-06-01T00:00:00",
          "2023-09-01T00:00:00"
         ],
         "y": [
          25,
          1,
          30,
          70,
          20,
          10,
          18,
          32,
          21
         ]
        },
        {
         "mode": "lines+markers",
         "name": "Model-18_Store-17",
         "type": "scatter",
         "x": [
          "2019-01-01T00:00:00",
          "2019-02-01T00:00:00",
          "2019-03-01T00:00:00",
          "2019-04-01T00:00:00",
          "2019-05-01T00:00:00",
          "2019-06-01T00:00:00",
          "2019-07-01T00:00:00",
          "2019-08-01T00:00:00",
          "2019-09-01T00:00:00",
          "2019-10-01T00:00:00",
          "2019-11-01T00:00:00",
          "2019-12-01T00:00:00",
          "2020-01-01T00:00:00",
          "2020-02-01T00:00:00",
          "2020-03-01T00:00:00",
          "2020-06-01T00:00:00",
          "2020-08-01T00:00:00",
          "2020-10-01T00:00:00",
          "2020-11-01T00:00:00",
          "2020-12-01T00:00:00",
          "2021-01-01T00:00:00",
          "2021-02-01T00:00:00",
          "2021-03-01T00:00:00",
          "2021-04-01T00:00:00",
          "2021-07-01T00:00:00",
          "2021-08-01T00:00:00",
          "2021-09-01T00:00:00",
          "2021-10-01T00:00:00",
          "2021-11-01T00:00:00",
          "2021-12-01T00:00:00",
          "2022-01-01T00:00:00",
          "2022-02-01T00:00:00",
          "2022-03-01T00:00:00",
          "2022-04-01T00:00:00",
          "2022-05-01T00:00:00",
          "2022-06-01T00:00:00",
          "2022-07-01T00:00:00",
          "2022-08-01T00:00:00",
          "2022-09-01T00:00:00",
          "2022-10-01T00:00:00",
          "2022-11-01T00:00:00",
          "2022-12-01T00:00:00",
          "2023-01-01T00:00:00",
          "2023-02-01T00:00:00",
          "2023-05-01T00:00:00",
          "2023-07-01T00:00:00",
          "2023-08-01T00:00:00"
         ],
         "y": [
          15,
          19,
          6,
          14,
          16,
          24,
          25,
          8,
          5,
          13,
          18,
          10,
          18,
          13,
          4,
          1,
          1,
          110,
          9,
          38,
          22,
          12,
          20,
          22,
          69,
          19,
          10,
          22,
          14,
          36,
          16,
          15,
          10,
          15,
          9,
          15,
          17,
          5,
          8,
          3,
          7,
          23,
          7,
          7,
          1,
          4,
          1
         ]
        },
        {
         "mode": "lines+markers",
         "name": "Model-1_Store-1",
         "type": "scatter",
         "x": [
          "2019-01-01T00:00:00",
          "2019-02-01T00:00:00",
          "2019-03-01T00:00:00",
          "2019-04-01T00:00:00",
          "2019-05-01T00:00:00",
          "2019-06-01T00:00:00",
          "2019-07-01T00:00:00",
          "2019-11-01T00:00:00",
          "2019-12-01T00:00:00",
          "2020-05-01T00:00:00",
          "2020-06-01T00:00:00",
          "2020-08-01T00:00:00",
          "2020-09-01T00:00:00",
          "2020-12-01T00:00:00",
          "2021-02-01T00:00:00",
          "2021-05-01T00:00:00",
          "2021-06-01T00:00:00",
          "2021-07-01T00:00:00",
          "2021-08-01T00:00:00",
          "2021-09-01T00:00:00",
          "2021-10-01T00:00:00",
          "2021-11-01T00:00:00",
          "2022-03-01T00:00:00",
          "2022-09-01T00:00:00",
          "2023-06-01T00:00:00"
         ],
         "y": [
          54,
          72,
          19,
          31,
          371,
          359,
          442,
          306,
          5,
          154,
          269,
          261,
          158,
          2,
          271,
          6,
          25,
          87,
          3,
          756,
          93,
          94,
          167,
          591,
          540
         ]
        },
        {
         "mode": "lines+markers",
         "name": "Model-21_Store-20",
         "type": "scatter",
         "x": [
          "2021-11-01T00:00:00",
          "2022-02-01T00:00:00",
          "2022-03-01T00:00:00",
          "2022-04-01T00:00:00",
          "2022-09-01T00:00:00",
          "2022-11-01T00:00:00",
          "2022-12-01T00:00:00",
          "2023-01-01T00:00:00",
          "2023-02-01T00:00:00",
          "2023-08-01T00:00:00",
          "2023-09-01T00:00:00",
          "2023-10-01T00:00:00"
         ],
         "y": [
          1,
          1,
          6,
          2,
          1,
          7,
          8,
          10,
          2,
          4,
          4,
          3
         ]
        },
        {
         "mode": "lines+markers",
         "name": "Model-2_Store-2",
         "type": "scatter",
         "x": [
          "2019-01-01T00:00:00",
          "2019-02-01T00:00:00",
          "2019-03-01T00:00:00",
          "2019-04-01T00:00:00",
          "2019-05-01T00:00:00",
          "2019-06-01T00:00:00",
          "2019-07-01T00:00:00",
          "2019-08-01T00:00:00",
          "2019-09-01T00:00:00",
          "2019-10-01T00:00:00",
          "2019-11-01T00:00:00",
          "2019-12-01T00:00:00",
          "2020-01-01T00:00:00",
          "2020-02-01T00:00:00",
          "2020-03-01T00:00:00",
          "2020-06-01T00:00:00",
          "2020-07-01T00:00:00",
          "2020-08-01T00:00:00",
          "2020-09-01T00:00:00",
          "2020-10-01T00:00:00",
          "2020-11-01T00:00:00",
          "2020-12-01T00:00:00",
          "2021-01-01T00:00:00",
          "2021-02-01T00:00:00",
          "2021-03-01T00:00:00",
          "2021-04-01T00:00:00",
          "2021-06-01T00:00:00",
          "2021-07-01T00:00:00",
          "2021-08-01T00:00:00",
          "2021-09-01T00:00:00",
          "2021-10-01T00:00:00",
          "2021-12-01T00:00:00",
          "2022-01-01T00:00:00",
          "2022-02-01T00:00:00",
          "2022-03-01T00:00:00",
          "2022-04-01T00:00:00",
          "2022-05-01T00:00:00",
          "2022-06-01T00:00:00",
          "2022-07-01T00:00:00",
          "2022-08-01T00:00:00",
          "2022-09-01T00:00:00",
          "2022-11-01T00:00:00",
          "2022-12-01T00:00:00",
          "2023-01-01T00:00:00",
          "2023-02-01T00:00:00",
          "2023-03-01T00:00:00",
          "2023-04-01T00:00:00",
          "2023-05-01T00:00:00",
          "2023-06-01T00:00:00",
          "2023-07-01T00:00:00",
          "2023-08-01T00:00:00",
          "2023-09-01T00:00:00",
          "2023-10-01T00:00:00"
         ],
         "y": [
          60,
          98,
          84,
          55,
          106,
          129,
          72,
          109,
          157,
          494,
          84,
          47,
          59,
          63,
          12,
          14,
          82,
          45,
          53,
          121,
          276,
          64,
          70,
          54,
          48,
          71,
          104,
          215,
          56,
          44,
          1,
          136,
          109,
          164,
          101,
          68,
          120,
          43,
          27,
          299,
          252,
          66,
          96,
          100,
          62,
          66,
          95,
          97,
          3,
          155,
          58,
          105,
          98
         ]
        },
        {
         "mode": "lines+markers",
         "name": "Model-3_Store-3",
         "type": "scatter",
         "x": [
          "2021-06-01T00:00:00",
          "2021-07-01T00:00:00",
          "2021-08-01T00:00:00",
          "2021-09-01T00:00:00",
          "2021-10-01T00:00:00",
          "2021-11-01T00:00:00",
          "2021-12-01T00:00:00",
          "2022-01-01T00:00:00",
          "2022-02-01T00:00:00",
          "2022-03-01T00:00:00",
          "2022-04-01T00:00:00",
          "2022-05-01T00:00:00",
          "2022-06-01T00:00:00",
          "2022-07-01T00:00:00",
          "2022-08-01T00:00:00",
          "2022-09-01T00:00:00",
          "2022-10-01T00:00:00",
          "2022-11-01T00:00:00",
          "2022-12-01T00:00:00",
          "2023-01-01T00:00:00",
          "2023-02-01T00:00:00",
          "2023-03-01T00:00:00",
          "2023-04-01T00:00:00",
          "2023-05-01T00:00:00",
          "2023-06-01T00:00:00",
          "2023-07-01T00:00:00",
          "2023-08-01T00:00:00",
          "2023-09-01T00:00:00",
          "2023-10-01T00:00:00",
          "2023-11-01T00:00:00"
         ],
         "y": [
          42,
          64,
          19,
          31,
          56,
          25,
          4,
          14,
          4,
          23,
          19,
          34,
          8,
          13,
          27,
          18,
          35,
          39,
          7,
          30,
          18,
          15,
          18,
          12,
          9,
          24,
          25,
          12,
          24,
          2
         ]
        },
        {
         "mode": "lines+markers",
         "name": "Model-4_Store-4",
         "type": "scatter",
         "x": [
          "2019-01-01T00:00:00",
          "2019-02-01T00:00:00",
          "2019-03-01T00:00:00",
          "2019-04-01T00:00:00",
          "2019-05-01T00:00:00",
          "2019-07-01T00:00:00",
          "2019-08-01T00:00:00",
          "2019-09-01T00:00:00",
          "2019-10-01T00:00:00",
          "2019-11-01T00:00:00",
          "2019-12-01T00:00:00",
          "2020-02-01T00:00:00",
          "2020-06-01T00:00:00",
          "2020-07-01T00:00:00",
          "2020-09-01T00:00:00",
          "2020-10-01T00:00:00",
          "2020-11-01T00:00:00",
          "2020-12-01T00:00:00",
          "2021-01-01T00:00:00",
          "2021-03-01T00:00:00",
          "2021-04-01T00:00:00",
          "2021-05-01T00:00:00",
          "2021-06-01T00:00:00",
          "2021-07-01T00:00:00",
          "2021-09-01T00:00:00",
          "2021-10-01T00:00:00",
          "2022-01-01T00:00:00",
          "2022-03-01T00:00:00",
          "2022-04-01T00:00:00",
          "2022-07-01T00:00:00",
          "2022-08-01T00:00:00",
          "2022-10-01T00:00:00",
          "2023-01-01T00:00:00",
          "2023-02-01T00:00:00",
          "2023-03-01T00:00:00",
          "2023-04-01T00:00:00",
          "2023-06-01T00:00:00",
          "2023-07-01T00:00:00",
          "2023-08-01T00:00:00",
          "2023-09-01T00:00:00",
          "2023-10-01T00:00:00"
         ],
         "y": [
          2,
          723,
          418,
          143,
          2,
          1,
          1,
          3,
          494,
          175,
          17,
          113,
          1,
          280,
          2,
          136,
          45,
          26,
          1,
          1,
          1,
          286,
          253,
          183,
          233,
          521,
          150,
          44,
          404,
          195,
          159,
          247,
          313,
          56,
          94,
          73,
          123,
          188,
          129,
          211,
          88
         ]
        },
        {
         "mode": "lines+markers",
         "name": "Model-5_Store-5",
         "type": "scatter",
         "x": [
          "2021-09-01T00:00:00",
          "2021-10-01T00:00:00",
          "2021-11-01T00:00:00",
          "2022-02-01T00:00:00",
          "2022-04-01T00:00:00",
          "2022-05-01T00:00:00",
          "2022-07-01T00:00:00",
          "2022-08-01T00:00:00",
          "2022-10-01T00:00:00",
          "2022-12-01T00:00:00",
          "2023-01-01T00:00:00",
          "2023-02-01T00:00:00",
          "2023-03-01T00:00:00",
          "2023-04-01T00:00:00",
          "2023-07-01T00:00:00",
          "2023-08-01T00:00:00",
          "2023-10-01T00:00:00"
         ],
         "y": [
          4,
          80,
          25,
          25,
          15,
          50,
          80,
          37,
          45,
          58,
          50,
          50,
          28,
          62,
          43,
          30,
          21
         ]
        },
        {
         "mode": "lines+markers",
         "name": "Model-8_Store-8",
         "type": "scatter",
         "x": [
          "2021-08-01T00:00:00",
          "2021-09-01T00:00:00",
          "2021-10-01T00:00:00",
          "2021-11-01T00:00:00",
          "2022-01-01T00:00:00",
          "2022-02-01T00:00:00",
          "2022-03-01T00:00:00",
          "2022-04-01T00:00:00",
          "2022-05-01T00:00:00",
          "2022-07-01T00:00:00",
          "2022-08-01T00:00:00",
          "2022-10-01T00:00:00",
          "2022-11-01T00:00:00",
          "2022-12-01T00:00:00",
          "2023-01-01T00:00:00",
          "2023-02-01T00:00:00",
          "2023-03-01T00:00:00",
          "2023-04-01T00:00:00",
          "2023-05-01T00:00:00",
          "2023-06-01T00:00:00",
          "2023-07-01T00:00:00",
          "2023-08-01T00:00:00",
          "2023-09-01T00:00:00",
          "2023-10-01T00:00:00",
          "2023-11-01T00:00:00"
         ],
         "y": [
          432,
          4,
          519,
          152,
          158,
          42,
          2,
          521,
          147,
          95,
          362,
          193,
          47,
          333,
          68,
          150,
          12,
          68,
          21,
          66,
          33,
          111,
          225,
          160,
          80
         ]
        },
        {
         "mode": "lines+markers",
         "name": "Model-9_Store-4",
         "type": "scatter",
         "x": [
          "2021-07-01T00:00:00",
          "2021-09-01T00:00:00",
          "2021-10-01T00:00:00",
          "2022-01-01T00:00:00",
          "2022-02-01T00:00:00",
          "2022-04-01T00:00:00",
          "2022-06-01T00:00:00",
          "2022-07-01T00:00:00",
          "2022-10-01T00:00:00",
          "2022-12-01T00:00:00",
          "2023-01-01T00:00:00",
          "2023-04-01T00:00:00",
          "2023-05-01T00:00:00",
          "2023-06-01T00:00:00",
          "2023-07-01T00:00:00",
          "2023-08-01T00:00:00",
          "2023-09-01T00:00:00",
          "2023-10-01T00:00:00"
         ],
         "y": [
          129,
          54,
          14,
          26,
          19,
          85,
          12,
          15,
          45,
          3,
          10,
          273,
          42,
          11,
          57,
          36,
          185,
          1
         ]
        }
       ],
       "layout": {
        "template": {
         "data": {
          "bar": [
           {
            "error_x": {
             "color": "#2a3f5f"
            },
            "error_y": {
             "color": "#2a3f5f"
            },
            "marker": {
             "line": {
              "color": "#E5ECF6",
              "width": 0.5
             },
             "pattern": {
              "fillmode": "overlay",
              "size": 10,
              "solidity": 0.2
             }
            },
            "type": "bar"
           }
          ],
          "barpolar": [
           {
            "marker": {
             "line": {
              "color": "#E5ECF6",
              "width": 0.5
             },
             "pattern": {
              "fillmode": "overlay",
              "size": 10,
              "solidity": 0.2
             }
            },
            "type": "barpolar"
           }
          ],
          "carpet": [
           {
            "aaxis": {
             "endlinecolor": "#2a3f5f",
             "gridcolor": "white",
             "linecolor": "white",
             "minorgridcolor": "white",
             "startlinecolor": "#2a3f5f"
            },
            "baxis": {
             "endlinecolor": "#2a3f5f",
             "gridcolor": "white",
             "linecolor": "white",
             "minorgridcolor": "white",
             "startlinecolor": "#2a3f5f"
            },
            "type": "carpet"
           }
          ],
          "choropleth": [
           {
            "colorbar": {
             "outlinewidth": 0,
             "ticks": ""
            },
            "type": "choropleth"
           }
          ],
          "contour": [
           {
            "colorbar": {
             "outlinewidth": 0,
             "ticks": ""
            },
            "colorscale": [
             [
              0,
              "#0d0887"
             ],
             [
              0.1111111111111111,
              "#46039f"
             ],
             [
              0.2222222222222222,
              "#7201a8"
             ],
             [
              0.3333333333333333,
              "#9c179e"
             ],
             [
              0.4444444444444444,
              "#bd3786"
             ],
             [
              0.5555555555555556,
              "#d8576b"
             ],
             [
              0.6666666666666666,
              "#ed7953"
             ],
             [
              0.7777777777777778,
              "#fb9f3a"
             ],
             [
              0.8888888888888888,
              "#fdca26"
             ],
             [
              1,
              "#f0f921"
             ]
            ],
            "type": "contour"
           }
          ],
          "contourcarpet": [
           {
            "colorbar": {
             "outlinewidth": 0,
             "ticks": ""
            },
            "type": "contourcarpet"
           }
          ],
          "heatmap": [
           {
            "colorbar": {
             "outlinewidth": 0,
             "ticks": ""
            },
            "colorscale": [
             [
              0,
              "#0d0887"
             ],
             [
              0.1111111111111111,
              "#46039f"
             ],
             [
              0.2222222222222222,
              "#7201a8"
             ],
             [
              0.3333333333333333,
              "#9c179e"
             ],
             [
              0.4444444444444444,
              "#bd3786"
             ],
             [
              0.5555555555555556,
              "#d8576b"
             ],
             [
              0.6666666666666666,
              "#ed7953"
             ],
             [
              0.7777777777777778,
              "#fb9f3a"
             ],
             [
              0.8888888888888888,
              "#fdca26"
             ],
             [
              1,
              "#f0f921"
             ]
            ],
            "type": "heatmap"
           }
          ],
          "heatmapgl": [
           {
            "colorbar": {
             "outlinewidth": 0,
             "ticks": ""
            },
            "colorscale": [
             [
              0,
              "#0d0887"
             ],
             [
              0.1111111111111111,
              "#46039f"
             ],
             [
              0.2222222222222222,
              "#7201a8"
             ],
             [
              0.3333333333333333,
              "#9c179e"
             ],
             [
              0.4444444444444444,
              "#bd3786"
             ],
             [
              0.5555555555555556,
              "#d8576b"
             ],
             [
              0.6666666666666666,
              "#ed7953"
             ],
             [
              0.7777777777777778,
              "#fb9f3a"
             ],
             [
              0.8888888888888888,
              "#fdca26"
             ],
             [
              1,
              "#f0f921"
             ]
            ],
            "type": "heatmapgl"
           }
          ],
          "histogram": [
           {
            "marker": {
             "pattern": {
              "fillmode": "overlay",
              "size": 10,
              "solidity": 0.2
             }
            },
            "type": "histogram"
           }
          ],
          "histogram2d": [
           {
            "colorbar": {
             "outlinewidth": 0,
             "ticks": ""
            },
            "colorscale": [
             [
              0,
              "#0d0887"
             ],
             [
              0.1111111111111111,
              "#46039f"
             ],
             [
              0.2222222222222222,
              "#7201a8"
             ],
             [
              0.3333333333333333,
              "#9c179e"
             ],
             [
              0.4444444444444444,
              "#bd3786"
             ],
             [
              0.5555555555555556,
              "#d8576b"
             ],
             [
              0.6666666666666666,
              "#ed7953"
             ],
             [
              0.7777777777777778,
              "#fb9f3a"
             ],
             [
              0.8888888888888888,
              "#fdca26"
             ],
             [
              1,
              "#f0f921"
             ]
            ],
            "type": "histogram2d"
           }
          ],
          "histogram2dcontour": [
           {
            "colorbar": {
             "outlinewidth": 0,
             "ticks": ""
            },
            "colorscale": [
             [
              0,
              "#0d0887"
             ],
             [
              0.1111111111111111,
              "#46039f"
             ],
             [
              0.2222222222222222,
              "#7201a8"
             ],
             [
              0.3333333333333333,
              "#9c179e"
             ],
             [
              0.4444444444444444,
              "#bd3786"
             ],
             [
              0.5555555555555556,
              "#d8576b"
             ],
             [
              0.6666666666666666,
              "#ed7953"
             ],
             [
              0.7777777777777778,
              "#fb9f3a"
             ],
             [
              0.8888888888888888,
              "#fdca26"
             ],
             [
              1,
              "#f0f921"
             ]
            ],
            "type": "histogram2dcontour"
           }
          ],
          "mesh3d": [
           {
            "colorbar": {
             "outlinewidth": 0,
             "ticks": ""
            },
            "type": "mesh3d"
           }
          ],
          "parcoords": [
           {
            "line": {
             "colorbar": {
              "outlinewidth": 0,
              "ticks": ""
             }
            },
            "type": "parcoords"
           }
          ],
          "pie": [
           {
            "automargin": true,
            "type": "pie"
           }
          ],
          "scatter": [
           {
            "fillpattern": {
             "fillmode": "overlay",
             "size": 10,
             "solidity": 0.2
            },
            "type": "scatter"
           }
          ],
          "scatter3d": [
           {
            "line": {
             "colorbar": {
              "outlinewidth": 0,
              "ticks": ""
             }
            },
            "marker": {
             "colorbar": {
              "outlinewidth": 0,
              "ticks": ""
             }
            },
            "type": "scatter3d"
           }
          ],
          "scattercarpet": [
           {
            "marker": {
             "colorbar": {
              "outlinewidth": 0,
              "ticks": ""
             }
            },
            "type": "scattercarpet"
           }
          ],
          "scattergeo": [
           {
            "marker": {
             "colorbar": {
              "outlinewidth": 0,
              "ticks": ""
             }
            },
            "type": "scattergeo"
           }
          ],
          "scattergl": [
           {
            "marker": {
             "colorbar": {
              "outlinewidth": 0,
              "ticks": ""
             }
            },
            "type": "scattergl"
           }
          ],
          "scattermapbox": [
           {
            "marker": {
             "colorbar": {
              "outlinewidth": 0,
              "ticks": ""
             }
            },
            "type": "scattermapbox"
           }
          ],
          "scatterpolar": [
           {
            "marker": {
             "colorbar": {
              "outlinewidth": 0,
              "ticks": ""
             }
            },
            "type": "scatterpolar"
           }
          ],
          "scatterpolargl": [
           {
            "marker": {
             "colorbar": {
              "outlinewidth": 0,
              "ticks": ""
             }
            },
            "type": "scatterpolargl"
           }
          ],
          "scatterternary": [
           {
            "marker": {
             "colorbar": {
              "outlinewidth": 0,
              "ticks": ""
             }
            },
            "type": "scatterternary"
           }
          ],
          "surface": [
           {
            "colorbar": {
             "outlinewidth": 0,
             "ticks": ""
            },
            "colorscale": [
             [
              0,
              "#0d0887"
             ],
             [
              0.1111111111111111,
              "#46039f"
             ],
             [
              0.2222222222222222,
              "#7201a8"
             ],
             [
              0.3333333333333333,
              "#9c179e"
             ],
             [
              0.4444444444444444,
              "#bd3786"
             ],
             [
              0.5555555555555556,
              "#d8576b"
             ],
             [
              0.6666666666666666,
              "#ed7953"
             ],
             [
              0.7777777777777778,
              "#fb9f3a"
             ],
             [
              0.8888888888888888,
              "#fdca26"
             ],
             [
              1,
              "#f0f921"
             ]
            ],
            "type": "surface"
           }
          ],
          "table": [
           {
            "cells": {
             "fill": {
              "color": "#EBF0F8"
             },
             "line": {
              "color": "white"
             }
            },
            "header": {
             "fill": {
              "color": "#C8D4E3"
             },
             "line": {
              "color": "white"
             }
            },
            "type": "table"
           }
          ]
         },
         "layout": {
          "annotationdefaults": {
           "arrowcolor": "#2a3f5f",
           "arrowhead": 0,
           "arrowwidth": 1
          },
          "autotypenumbers": "strict",
          "coloraxis": {
           "colorbar": {
            "outlinewidth": 0,
            "ticks": ""
           }
          },
          "colorscale": {
           "diverging": [
            [
             0,
             "#8e0152"
            ],
            [
             0.1,
             "#c51b7d"
            ],
            [
             0.2,
             "#de77ae"
            ],
            [
             0.3,
             "#f1b6da"
            ],
            [
             0.4,
             "#fde0ef"
            ],
            [
             0.5,
             "#f7f7f7"
            ],
            [
             0.6,
             "#e6f5d0"
            ],
            [
             0.7,
             "#b8e186"
            ],
            [
             0.8,
             "#7fbc41"
            ],
            [
             0.9,
             "#4d9221"
            ],
            [
             1,
             "#276419"
            ]
           ],
           "sequential": [
            [
             0,
             "#0d0887"
            ],
            [
             0.1111111111111111,
             "#46039f"
            ],
            [
             0.2222222222222222,
             "#7201a8"
            ],
            [
             0.3333333333333333,
             "#9c179e"
            ],
            [
             0.4444444444444444,
             "#bd3786"
            ],
            [
             0.5555555555555556,
             "#d8576b"
            ],
            [
             0.6666666666666666,
             "#ed7953"
            ],
            [
             0.7777777777777778,
             "#fb9f3a"
            ],
            [
             0.8888888888888888,
             "#fdca26"
            ],
            [
             1,
             "#f0f921"
            ]
           ],
           "sequentialminus": [
            [
             0,
             "#0d0887"
            ],
            [
             0.1111111111111111,
             "#46039f"
            ],
            [
             0.2222222222222222,
             "#7201a8"
            ],
            [
             0.3333333333333333,
             "#9c179e"
            ],
            [
             0.4444444444444444,
             "#bd3786"
            ],
            [
             0.5555555555555556,
             "#d8576b"
            ],
            [
             0.6666666666666666,
             "#ed7953"
            ],
            [
             0.7777777777777778,
             "#fb9f3a"
            ],
            [
             0.8888888888888888,
             "#fdca26"
            ],
            [
             1,
             "#f0f921"
            ]
           ]
          },
          "colorway": [
           "#636efa",
           "#EF553B",
           "#00cc96",
           "#ab63fa",
           "#FFA15A",
           "#19d3f3",
           "#FF6692",
           "#B6E880",
           "#FF97FF",
           "#FECB52"
          ],
          "font": {
           "color": "#2a3f5f"
          },
          "geo": {
           "bgcolor": "white",
           "lakecolor": "white",
           "landcolor": "#E5ECF6",
           "showlakes": true,
           "showland": true,
           "subunitcolor": "white"
          },
          "hoverlabel": {
           "align": "left"
          },
          "hovermode": "closest",
          "mapbox": {
           "style": "light"
          },
          "paper_bgcolor": "white",
          "plot_bgcolor": "#E5ECF6",
          "polar": {
           "angularaxis": {
            "gridcolor": "white",
            "linecolor": "white",
            "ticks": ""
           },
           "bgcolor": "#E5ECF6",
           "radialaxis": {
            "gridcolor": "white",
            "linecolor": "white",
            "ticks": ""
           }
          },
          "scene": {
           "xaxis": {
            "backgroundcolor": "#E5ECF6",
            "gridcolor": "white",
            "gridwidth": 2,
            "linecolor": "white",
            "showbackground": true,
            "ticks": "",
            "zerolinecolor": "white"
           },
           "yaxis": {
            "backgroundcolor": "#E5ECF6",
            "gridcolor": "white",
            "gridwidth": 2,
            "linecolor": "white",
            "showbackground": true,
            "ticks": "",
            "zerolinecolor": "white"
           },
           "zaxis": {
            "backgroundcolor": "#E5ECF6",
            "gridcolor": "white",
            "gridwidth": 2,
            "linecolor": "white",
            "showbackground": true,
            "ticks": "",
            "zerolinecolor": "white"
           }
          },
          "shapedefaults": {
           "line": {
            "color": "#2a3f5f"
           }
          },
          "ternary": {
           "aaxis": {
            "gridcolor": "white",
            "linecolor": "white",
            "ticks": ""
           },
           "baxis": {
            "gridcolor": "white",
            "linecolor": "white",
            "ticks": ""
           },
           "bgcolor": "#E5ECF6",
           "caxis": {
            "gridcolor": "white",
            "linecolor": "white",
            "ticks": ""
           }
          },
          "title": {
           "x": 0.05
          },
          "xaxis": {
           "automargin": true,
           "gridcolor": "white",
           "linecolor": "white",
           "ticks": "",
           "title": {
            "standoff": 15
           },
           "zerolinecolor": "white",
           "zerolinewidth": 2
          },
          "yaxis": {
           "automargin": true,
           "gridcolor": "white",
           "linecolor": "white",
           "ticks": "",
           "title": {
            "standoff": 15
           },
           "zerolinecolor": "white",
           "zerolinewidth": 2
          }
         }
        },
        "title": {
         "text": "Monthly Sales Quantity"
        }
       }
      },
      "text/html": [
       "<div>                            <div id=\"57822271-93eb-4d80-82b7-51f02ca4c622\" class=\"plotly-graph-div\" style=\"height:525px; width:100%;\"></div>            <script type=\"text/javascript\">                require([\"plotly\"], function(Plotly) {                    window.PLOTLYENV=window.PLOTLYENV || {};                                    if (document.getElementById(\"57822271-93eb-4d80-82b7-51f02ca4c622\")) {                    Plotly.newPlot(                        \"57822271-93eb-4d80-82b7-51f02ca4c622\",                        [{\"mode\":\"lines+markers\",\"name\":\"Model-10_Store-9\",\"x\":[\"2019-01-01T00:00:00\",\"2019-02-01T00:00:00\",\"2019-03-01T00:00:00\",\"2019-04-01T00:00:00\",\"2019-05-01T00:00:00\",\"2019-06-01T00:00:00\",\"2019-07-01T00:00:00\",\"2019-08-01T00:00:00\",\"2019-09-01T00:00:00\",\"2019-10-01T00:00:00\",\"2019-11-01T00:00:00\",\"2019-12-01T00:00:00\",\"2020-01-01T00:00:00\",\"2020-02-01T00:00:00\",\"2020-03-01T00:00:00\",\"2020-04-01T00:00:00\",\"2020-05-01T00:00:00\",\"2020-06-01T00:00:00\",\"2020-07-01T00:00:00\",\"2020-08-01T00:00:00\",\"2020-09-01T00:00:00\",\"2020-10-01T00:00:00\",\"2020-11-01T00:00:00\",\"2020-12-01T00:00:00\",\"2021-01-01T00:00:00\",\"2021-02-01T00:00:00\",\"2021-03-01T00:00:00\",\"2021-04-01T00:00:00\",\"2021-05-01T00:00:00\",\"2021-06-01T00:00:00\",\"2021-07-01T00:00:00\",\"2021-08-01T00:00:00\",\"2021-09-01T00:00:00\",\"2021-10-01T00:00:00\",\"2021-11-01T00:00:00\",\"2022-02-01T00:00:00\",\"2022-03-01T00:00:00\",\"2022-04-01T00:00:00\",\"2022-05-01T00:00:00\",\"2022-06-01T00:00:00\",\"2022-07-01T00:00:00\",\"2022-08-01T00:00:00\",\"2022-09-01T00:00:00\",\"2022-10-01T00:00:00\",\"2022-11-01T00:00:00\",\"2022-12-01T00:00:00\",\"2023-01-01T00:00:00\",\"2023-02-01T00:00:00\",\"2023-03-01T00:00:00\",\"2023-04-01T00:00:00\",\"2023-05-01T00:00:00\",\"2023-06-01T00:00:00\",\"2023-07-01T00:00:00\",\"2023-08-01T00:00:00\",\"2023-09-01T00:00:00\",\"2023-10-01T00:00:00\",\"2023-11-01T00:00:00\"],\"y\":[311,38,9,40,75,358,68,84,23,106,30,86,81,119,15,46,33,58,61,65,74,112,930,116,91,36,116,54,165,144,287,168,263,73,51,21,19,401,5,307,209,21,93,624,219,39,36,28,75,800,72,16,37,55,51,24,14],\"type\":\"scatter\"},{\"mode\":\"lines+markers\",\"name\":\"Model-12_Store-11\",\"x\":[\"2019-06-01T00:00:00\",\"2019-07-01T00:00:00\",\"2019-09-01T00:00:00\",\"2019-11-01T00:00:00\",\"2019-12-01T00:00:00\",\"2020-01-01T00:00:00\",\"2020-02-01T00:00:00\",\"2020-03-01T00:00:00\",\"2020-05-01T00:00:00\",\"2020-06-01T00:00:00\",\"2020-08-01T00:00:00\",\"2020-09-01T00:00:00\",\"2020-10-01T00:00:00\",\"2020-11-01T00:00:00\",\"2020-12-01T00:00:00\",\"2021-01-01T00:00:00\",\"2021-02-01T00:00:00\",\"2021-03-01T00:00:00\",\"2021-06-01T00:00:00\",\"2021-07-01T00:00:00\",\"2021-08-01T00:00:00\",\"2021-09-01T00:00:00\",\"2021-10-01T00:00:00\",\"2021-11-01T00:00:00\",\"2021-12-01T00:00:00\",\"2022-01-01T00:00:00\",\"2022-02-01T00:00:00\",\"2022-03-01T00:00:00\",\"2022-04-01T00:00:00\",\"2022-05-01T00:00:00\",\"2022-06-01T00:00:00\",\"2022-07-01T00:00:00\",\"2022-08-01T00:00:00\",\"2022-09-01T00:00:00\",\"2022-10-01T00:00:00\",\"2022-11-01T00:00:00\",\"2022-12-01T00:00:00\",\"2023-01-01T00:00:00\",\"2023-02-01T00:00:00\",\"2023-03-01T00:00:00\",\"2023-04-01T00:00:00\",\"2023-05-01T00:00:00\",\"2023-06-01T00:00:00\",\"2023-07-01T00:00:00\",\"2023-08-01T00:00:00\",\"2023-09-01T00:00:00\",\"2023-10-01T00:00:00\"],\"y\":[3,2,3,3,3,1,6,1,2,3,1,3,4,8,11,5,2,2,13,11,4,2,6,17,17,7,7,15,5,11,16,21,15,13,10,28,24,13,7,10,11,20,13,12,14,15,10],\"type\":\"scatter\"},{\"mode\":\"lines+markers\",\"name\":\"Model-13_Store-12\",\"x\":[\"2020-07-01T00:00:00\",\"2020-10-01T00:00:00\",\"2020-11-01T00:00:00\",\"2020-12-01T00:00:00\",\"2021-03-01T00:00:00\",\"2021-04-01T00:00:00\",\"2021-05-01T00:00:00\",\"2021-06-01T00:00:00\",\"2021-07-01T00:00:00\",\"2021-09-01T00:00:00\",\"2021-10-01T00:00:00\",\"2021-11-01T00:00:00\",\"2021-12-01T00:00:00\",\"2022-01-01T00:00:00\",\"2022-04-01T00:00:00\",\"2022-10-01T00:00:00\",\"2022-11-01T00:00:00\",\"2022-12-01T00:00:00\",\"2023-02-01T00:00:00\",\"2023-03-01T00:00:00\",\"2023-04-01T00:00:00\",\"2023-05-01T00:00:00\",\"2023-06-01T00:00:00\",\"2023-07-01T00:00:00\",\"2023-10-01T00:00:00\",\"2023-12-01T00:00:00\"],\"y\":[1,1,9,3,4,4,3,3,4,7,5,4,3,1,1,9,6,5,8,4,4,10,9,4,6,2],\"type\":\"scatter\"},{\"mode\":\"lines+markers\",\"name\":\"Model-14_Store-13\",\"x\":[\"2021-10-01T00:00:00\",\"2021-11-01T00:00:00\",\"2022-07-01T00:00:00\",\"2022-11-01T00:00:00\"],\"y\":[2,3,1,2],\"type\":\"scatter\"},{\"mode\":\"lines+markers\",\"name\":\"Model-16_Store-15\",\"x\":[\"2019-07-01T00:00:00\",\"2019-08-01T00:00:00\",\"2019-09-01T00:00:00\",\"2019-10-01T00:00:00\",\"2019-11-01T00:00:00\",\"2019-12-01T00:00:00\",\"2020-01-01T00:00:00\",\"2020-02-01T00:00:00\",\"2020-08-01T00:00:00\",\"2020-11-01T00:00:00\",\"2021-01-01T00:00:00\",\"2021-03-01T00:00:00\",\"2021-06-01T00:00:00\",\"2021-07-01T00:00:00\",\"2021-08-01T00:00:00\",\"2021-11-01T00:00:00\",\"2021-12-01T00:00:00\",\"2022-02-01T00:00:00\",\"2022-04-01T00:00:00\",\"2022-07-01T00:00:00\",\"2022-09-01T00:00:00\",\"2022-11-01T00:00:00\",\"2023-04-01T00:00:00\",\"2023-05-01T00:00:00\",\"2023-07-01T00:00:00\",\"2023-08-01T00:00:00\",\"2023-10-01T00:00:00\"],\"y\":[58,3,10,13,2,5,13,7,59,34,1,25,3,10,45,3,46,19,34,5,10,44,10,10,10,15,5],\"type\":\"scatter\"},{\"mode\":\"lines+markers\",\"name\":\"Model-17_Store-16\",\"x\":[\"2021-04-01T00:00:00\",\"2021-05-01T00:00:00\",\"2022-06-01T00:00:00\",\"2022-11-01T00:00:00\",\"2023-01-01T00:00:00\",\"2023-02-01T00:00:00\",\"2023-04-01T00:00:00\",\"2023-06-01T00:00:00\",\"2023-09-01T00:00:00\"],\"y\":[25,1,30,70,20,10,18,32,21],\"type\":\"scatter\"},{\"mode\":\"lines+markers\",\"name\":\"Model-18_Store-17\",\"x\":[\"2019-01-01T00:00:00\",\"2019-02-01T00:00:00\",\"2019-03-01T00:00:00\",\"2019-04-01T00:00:00\",\"2019-05-01T00:00:00\",\"2019-06-01T00:00:00\",\"2019-07-01T00:00:00\",\"2019-08-01T00:00:00\",\"2019-09-01T00:00:00\",\"2019-10-01T00:00:00\",\"2019-11-01T00:00:00\",\"2019-12-01T00:00:00\",\"2020-01-01T00:00:00\",\"2020-02-01T00:00:00\",\"2020-03-01T00:00:00\",\"2020-06-01T00:00:00\",\"2020-08-01T00:00:00\",\"2020-10-01T00:00:00\",\"2020-11-01T00:00:00\",\"2020-12-01T00:00:00\",\"2021-01-01T00:00:00\",\"2021-02-01T00:00:00\",\"2021-03-01T00:00:00\",\"2021-04-01T00:00:00\",\"2021-07-01T00:00:00\",\"2021-08-01T00:00:00\",\"2021-09-01T00:00:00\",\"2021-10-01T00:00:00\",\"2021-11-01T00:00:00\",\"2021-12-01T00:00:00\",\"2022-01-01T00:00:00\",\"2022-02-01T00:00:00\",\"2022-03-01T00:00:00\",\"2022-04-01T00:00:00\",\"2022-05-01T00:00:00\",\"2022-06-01T00:00:00\",\"2022-07-01T00:00:00\",\"2022-08-01T00:00:00\",\"2022-09-01T00:00:00\",\"2022-10-01T00:00:00\",\"2022-11-01T00:00:00\",\"2022-12-01T00:00:00\",\"2023-01-01T00:00:00\",\"2023-02-01T00:00:00\",\"2023-05-01T00:00:00\",\"2023-07-01T00:00:00\",\"2023-08-01T00:00:00\"],\"y\":[15,19,6,14,16,24,25,8,5,13,18,10,18,13,4,1,1,110,9,38,22,12,20,22,69,19,10,22,14,36,16,15,10,15,9,15,17,5,8,3,7,23,7,7,1,4,1],\"type\":\"scatter\"},{\"mode\":\"lines+markers\",\"name\":\"Model-1_Store-1\",\"x\":[\"2019-01-01T00:00:00\",\"2019-02-01T00:00:00\",\"2019-03-01T00:00:00\",\"2019-04-01T00:00:00\",\"2019-05-01T00:00:00\",\"2019-06-01T00:00:00\",\"2019-07-01T00:00:00\",\"2019-11-01T00:00:00\",\"2019-12-01T00:00:00\",\"2020-05-01T00:00:00\",\"2020-06-01T00:00:00\",\"2020-08-01T00:00:00\",\"2020-09-01T00:00:00\",\"2020-12-01T00:00:00\",\"2021-02-01T00:00:00\",\"2021-05-01T00:00:00\",\"2021-06-01T00:00:00\",\"2021-07-01T00:00:00\",\"2021-08-01T00:00:00\",\"2021-09-01T00:00:00\",\"2021-10-01T00:00:00\",\"2021-11-01T00:00:00\",\"2022-03-01T00:00:00\",\"2022-09-01T00:00:00\",\"2023-06-01T00:00:00\"],\"y\":[54,72,19,31,371,359,442,306,5,154,269,261,158,2,271,6,25,87,3,756,93,94,167,591,540],\"type\":\"scatter\"},{\"mode\":\"lines+markers\",\"name\":\"Model-21_Store-20\",\"x\":[\"2021-11-01T00:00:00\",\"2022-02-01T00:00:00\",\"2022-03-01T00:00:00\",\"2022-04-01T00:00:00\",\"2022-09-01T00:00:00\",\"2022-11-01T00:00:00\",\"2022-12-01T00:00:00\",\"2023-01-01T00:00:00\",\"2023-02-01T00:00:00\",\"2023-08-01T00:00:00\",\"2023-09-01T00:00:00\",\"2023-10-01T00:00:00\"],\"y\":[1,1,6,2,1,7,8,10,2,4,4,3],\"type\":\"scatter\"},{\"mode\":\"lines+markers\",\"name\":\"Model-2_Store-2\",\"x\":[\"2019-01-01T00:00:00\",\"2019-02-01T00:00:00\",\"2019-03-01T00:00:00\",\"2019-04-01T00:00:00\",\"2019-05-01T00:00:00\",\"2019-06-01T00:00:00\",\"2019-07-01T00:00:00\",\"2019-08-01T00:00:00\",\"2019-09-01T00:00:00\",\"2019-10-01T00:00:00\",\"2019-11-01T00:00:00\",\"2019-12-01T00:00:00\",\"2020-01-01T00:00:00\",\"2020-02-01T00:00:00\",\"2020-03-01T00:00:00\",\"2020-06-01T00:00:00\",\"2020-07-01T00:00:00\",\"2020-08-01T00:00:00\",\"2020-09-01T00:00:00\",\"2020-10-01T00:00:00\",\"2020-11-01T00:00:00\",\"2020-12-01T00:00:00\",\"2021-01-01T00:00:00\",\"2021-02-01T00:00:00\",\"2021-03-01T00:00:00\",\"2021-04-01T00:00:00\",\"2021-06-01T00:00:00\",\"2021-07-01T00:00:00\",\"2021-08-01T00:00:00\",\"2021-09-01T00:00:00\",\"2021-10-01T00:00:00\",\"2021-12-01T00:00:00\",\"2022-01-01T00:00:00\",\"2022-02-01T00:00:00\",\"2022-03-01T00:00:00\",\"2022-04-01T00:00:00\",\"2022-05-01T00:00:00\",\"2022-06-01T00:00:00\",\"2022-07-01T00:00:00\",\"2022-08-01T00:00:00\",\"2022-09-01T00:00:00\",\"2022-11-01T00:00:00\",\"2022-12-01T00:00:00\",\"2023-01-01T00:00:00\",\"2023-02-01T00:00:00\",\"2023-03-01T00:00:00\",\"2023-04-01T00:00:00\",\"2023-05-01T00:00:00\",\"2023-06-01T00:00:00\",\"2023-07-01T00:00:00\",\"2023-08-01T00:00:00\",\"2023-09-01T00:00:00\",\"2023-10-01T00:00:00\"],\"y\":[60,98,84,55,106,129,72,109,157,494,84,47,59,63,12,14,82,45,53,121,276,64,70,54,48,71,104,215,56,44,1,136,109,164,101,68,120,43,27,299,252,66,96,100,62,66,95,97,3,155,58,105,98],\"type\":\"scatter\"},{\"mode\":\"lines+markers\",\"name\":\"Model-3_Store-3\",\"x\":[\"2021-06-01T00:00:00\",\"2021-07-01T00:00:00\",\"2021-08-01T00:00:00\",\"2021-09-01T00:00:00\",\"2021-10-01T00:00:00\",\"2021-11-01T00:00:00\",\"2021-12-01T00:00:00\",\"2022-01-01T00:00:00\",\"2022-02-01T00:00:00\",\"2022-03-01T00:00:00\",\"2022-04-01T00:00:00\",\"2022-05-01T00:00:00\",\"2022-06-01T00:00:00\",\"2022-07-01T00:00:00\",\"2022-08-01T00:00:00\",\"2022-09-01T00:00:00\",\"2022-10-01T00:00:00\",\"2022-11-01T00:00:00\",\"2022-12-01T00:00:00\",\"2023-01-01T00:00:00\",\"2023-02-01T00:00:00\",\"2023-03-01T00:00:00\",\"2023-04-01T00:00:00\",\"2023-05-01T00:00:00\",\"2023-06-01T00:00:00\",\"2023-07-01T00:00:00\",\"2023-08-01T00:00:00\",\"2023-09-01T00:00:00\",\"2023-10-01T00:00:00\",\"2023-11-01T00:00:00\"],\"y\":[42,64,19,31,56,25,4,14,4,23,19,34,8,13,27,18,35,39,7,30,18,15,18,12,9,24,25,12,24,2],\"type\":\"scatter\"},{\"mode\":\"lines+markers\",\"name\":\"Model-4_Store-4\",\"x\":[\"2019-01-01T00:00:00\",\"2019-02-01T00:00:00\",\"2019-03-01T00:00:00\",\"2019-04-01T00:00:00\",\"2019-05-01T00:00:00\",\"2019-07-01T00:00:00\",\"2019-08-01T00:00:00\",\"2019-09-01T00:00:00\",\"2019-10-01T00:00:00\",\"2019-11-01T00:00:00\",\"2019-12-01T00:00:00\",\"2020-02-01T00:00:00\",\"2020-06-01T00:00:00\",\"2020-07-01T00:00:00\",\"2020-09-01T00:00:00\",\"2020-10-01T00:00:00\",\"2020-11-01T00:00:00\",\"2020-12-01T00:00:00\",\"2021-01-01T00:00:00\",\"2021-03-01T00:00:00\",\"2021-04-01T00:00:00\",\"2021-05-01T00:00:00\",\"2021-06-01T00:00:00\",\"2021-07-01T00:00:00\",\"2021-09-01T00:00:00\",\"2021-10-01T00:00:00\",\"2022-01-01T00:00:00\",\"2022-03-01T00:00:00\",\"2022-04-01T00:00:00\",\"2022-07-01T00:00:00\",\"2022-08-01T00:00:00\",\"2022-10-01T00:00:00\",\"2023-01-01T00:00:00\",\"2023-02-01T00:00:00\",\"2023-03-01T00:00:00\",\"2023-04-01T00:00:00\",\"2023-06-01T00:00:00\",\"2023-07-01T00:00:00\",\"2023-08-01T00:00:00\",\"2023-09-01T00:00:00\",\"2023-10-01T00:00:00\"],\"y\":[2,723,418,143,2,1,1,3,494,175,17,113,1,280,2,136,45,26,1,1,1,286,253,183,233,521,150,44,404,195,159,247,313,56,94,73,123,188,129,211,88],\"type\":\"scatter\"},{\"mode\":\"lines+markers\",\"name\":\"Model-5_Store-5\",\"x\":[\"2021-09-01T00:00:00\",\"2021-10-01T00:00:00\",\"2021-11-01T00:00:00\",\"2022-02-01T00:00:00\",\"2022-04-01T00:00:00\",\"2022-05-01T00:00:00\",\"2022-07-01T00:00:00\",\"2022-08-01T00:00:00\",\"2022-10-01T00:00:00\",\"2022-12-01T00:00:00\",\"2023-01-01T00:00:00\",\"2023-02-01T00:00:00\",\"2023-03-01T00:00:00\",\"2023-04-01T00:00:00\",\"2023-07-01T00:00:00\",\"2023-08-01T00:00:00\",\"2023-10-01T00:00:00\"],\"y\":[4,80,25,25,15,50,80,37,45,58,50,50,28,62,43,30,21],\"type\":\"scatter\"},{\"mode\":\"lines+markers\",\"name\":\"Model-8_Store-8\",\"x\":[\"2021-08-01T00:00:00\",\"2021-09-01T00:00:00\",\"2021-10-01T00:00:00\",\"2021-11-01T00:00:00\",\"2022-01-01T00:00:00\",\"2022-02-01T00:00:00\",\"2022-03-01T00:00:00\",\"2022-04-01T00:00:00\",\"2022-05-01T00:00:00\",\"2022-07-01T00:00:00\",\"2022-08-01T00:00:00\",\"2022-10-01T00:00:00\",\"2022-11-01T00:00:00\",\"2022-12-01T00:00:00\",\"2023-01-01T00:00:00\",\"2023-02-01T00:00:00\",\"2023-03-01T00:00:00\",\"2023-04-01T00:00:00\",\"2023-05-01T00:00:00\",\"2023-06-01T00:00:00\",\"2023-07-01T00:00:00\",\"2023-08-01T00:00:00\",\"2023-09-01T00:00:00\",\"2023-10-01T00:00:00\",\"2023-11-01T00:00:00\"],\"y\":[432,4,519,152,158,42,2,521,147,95,362,193,47,333,68,150,12,68,21,66,33,111,225,160,80],\"type\":\"scatter\"},{\"mode\":\"lines+markers\",\"name\":\"Model-9_Store-4\",\"x\":[\"2021-07-01T00:00:00\",\"2021-09-01T00:00:00\",\"2021-10-01T00:00:00\",\"2022-01-01T00:00:00\",\"2022-02-01T00:00:00\",\"2022-04-01T00:00:00\",\"2022-06-01T00:00:00\",\"2022-07-01T00:00:00\",\"2022-10-01T00:00:00\",\"2022-12-01T00:00:00\",\"2023-01-01T00:00:00\",\"2023-04-01T00:00:00\",\"2023-05-01T00:00:00\",\"2023-06-01T00:00:00\",\"2023-07-01T00:00:00\",\"2023-08-01T00:00:00\",\"2023-09-01T00:00:00\",\"2023-10-01T00:00:00\"],\"y\":[129,54,14,26,19,85,12,15,45,3,10,273,42,11,57,36,185,1],\"type\":\"scatter\"}],                        {\"template\":{\"data\":{\"barpolar\":[{\"marker\":{\"line\":{\"color\":\"#E5ECF6\",\"width\":0.5},\"pattern\":{\"fillmode\":\"overlay\",\"size\":10,\"solidity\":0.2}},\"type\":\"barpolar\"}],\"bar\":[{\"error_x\":{\"color\":\"#2a3f5f\"},\"error_y\":{\"color\":\"#2a3f5f\"},\"marker\":{\"line\":{\"color\":\"#E5ECF6\",\"width\":0.5},\"pattern\":{\"fillmode\":\"overlay\",\"size\":10,\"solidity\":0.2}},\"type\":\"bar\"}],\"carpet\":[{\"aaxis\":{\"endlinecolor\":\"#2a3f5f\",\"gridcolor\":\"white\",\"linecolor\":\"white\",\"minorgridcolor\":\"white\",\"startlinecolor\":\"#2a3f5f\"},\"baxis\":{\"endlinecolor\":\"#2a3f5f\",\"gridcolor\":\"white\",\"linecolor\":\"white\",\"minorgridcolor\":\"white\",\"startlinecolor\":\"#2a3f5f\"},\"type\":\"carpet\"}],\"choropleth\":[{\"colorbar\":{\"outlinewidth\":0,\"ticks\":\"\"},\"type\":\"choropleth\"}],\"contourcarpet\":[{\"colorbar\":{\"outlinewidth\":0,\"ticks\":\"\"},\"type\":\"contourcarpet\"}],\"contour\":[{\"colorbar\":{\"outlinewidth\":0,\"ticks\":\"\"},\"colorscale\":[[0.0,\"#0d0887\"],[0.1111111111111111,\"#46039f\"],[0.2222222222222222,\"#7201a8\"],[0.3333333333333333,\"#9c179e\"],[0.4444444444444444,\"#bd3786\"],[0.5555555555555556,\"#d8576b\"],[0.6666666666666666,\"#ed7953\"],[0.7777777777777778,\"#fb9f3a\"],[0.8888888888888888,\"#fdca26\"],[1.0,\"#f0f921\"]],\"type\":\"contour\"}],\"heatmapgl\":[{\"colorbar\":{\"outlinewidth\":0,\"ticks\":\"\"},\"colorscale\":[[0.0,\"#0d0887\"],[0.1111111111111111,\"#46039f\"],[0.2222222222222222,\"#7201a8\"],[0.3333333333333333,\"#9c179e\"],[0.4444444444444444,\"#bd3786\"],[0.5555555555555556,\"#d8576b\"],[0.6666666666666666,\"#ed7953\"],[0.7777777777777778,\"#fb9f3a\"],[0.8888888888888888,\"#fdca26\"],[1.0,\"#f0f921\"]],\"type\":\"heatmapgl\"}],\"heatmap\":[{\"colorbar\":{\"outlinewidth\":0,\"ticks\":\"\"},\"colorscale\":[[0.0,\"#0d0887\"],[0.1111111111111111,\"#46039f\"],[0.2222222222222222,\"#7201a8\"],[0.3333333333333333,\"#9c179e\"],[0.4444444444444444,\"#bd3786\"],[0.5555555555555556,\"#d8576b\"],[0.6666666666666666,\"#ed7953\"],[0.7777777777777778,\"#fb9f3a\"],[0.8888888888888888,\"#fdca26\"],[1.0,\"#f0f921\"]],\"type\":\"heatmap\"}],\"histogram2dcontour\":[{\"colorbar\":{\"outlinewidth\":0,\"ticks\":\"\"},\"colorscale\":[[0.0,\"#0d0887\"],[0.1111111111111111,\"#46039f\"],[0.2222222222222222,\"#7201a8\"],[0.3333333333333333,\"#9c179e\"],[0.4444444444444444,\"#bd3786\"],[0.5555555555555556,\"#d8576b\"],[0.6666666666666666,\"#ed7953\"],[0.7777777777777778,\"#fb9f3a\"],[0.8888888888888888,\"#fdca26\"],[1.0,\"#f0f921\"]],\"type\":\"histogram2dcontour\"}],\"histogram2d\":[{\"colorbar\":{\"outlinewidth\":0,\"ticks\":\"\"},\"colorscale\":[[0.0,\"#0d0887\"],[0.1111111111111111,\"#46039f\"],[0.2222222222222222,\"#7201a8\"],[0.3333333333333333,\"#9c179e\"],[0.4444444444444444,\"#bd3786\"],[0.5555555555555556,\"#d8576b\"],[0.6666666666666666,\"#ed7953\"],[0.7777777777777778,\"#fb9f3a\"],[0.8888888888888888,\"#fdca26\"],[1.0,\"#f0f921\"]],\"type\":\"histogram2d\"}],\"histogram\":[{\"marker\":{\"pattern\":{\"fillmode\":\"overlay\",\"size\":10,\"solidity\":0.2}},\"type\":\"histogram\"}],\"mesh3d\":[{\"colorbar\":{\"outlinewidth\":0,\"ticks\":\"\"},\"type\":\"mesh3d\"}],\"parcoords\":[{\"line\":{\"colorbar\":{\"outlinewidth\":0,\"ticks\":\"\"}},\"type\":\"parcoords\"}],\"pie\":[{\"automargin\":true,\"type\":\"pie\"}],\"scatter3d\":[{\"line\":{\"colorbar\":{\"outlinewidth\":0,\"ticks\":\"\"}},\"marker\":{\"colorbar\":{\"outlinewidth\":0,\"ticks\":\"\"}},\"type\":\"scatter3d\"}],\"scattercarpet\":[{\"marker\":{\"colorbar\":{\"outlinewidth\":0,\"ticks\":\"\"}},\"type\":\"scattercarpet\"}],\"scattergeo\":[{\"marker\":{\"colorbar\":{\"outlinewidth\":0,\"ticks\":\"\"}},\"type\":\"scattergeo\"}],\"scattergl\":[{\"marker\":{\"colorbar\":{\"outlinewidth\":0,\"ticks\":\"\"}},\"type\":\"scattergl\"}],\"scattermapbox\":[{\"marker\":{\"colorbar\":{\"outlinewidth\":0,\"ticks\":\"\"}},\"type\":\"scattermapbox\"}],\"scatterpolargl\":[{\"marker\":{\"colorbar\":{\"outlinewidth\":0,\"ticks\":\"\"}},\"type\":\"scatterpolargl\"}],\"scatterpolar\":[{\"marker\":{\"colorbar\":{\"outlinewidth\":0,\"ticks\":\"\"}},\"type\":\"scatterpolar\"}],\"scatter\":[{\"fillpattern\":{\"fillmode\":\"overlay\",\"size\":10,\"solidity\":0.2},\"type\":\"scatter\"}],\"scatterternary\":[{\"marker\":{\"colorbar\":{\"outlinewidth\":0,\"ticks\":\"\"}},\"type\":\"scatterternary\"}],\"surface\":[{\"colorbar\":{\"outlinewidth\":0,\"ticks\":\"\"},\"colorscale\":[[0.0,\"#0d0887\"],[0.1111111111111111,\"#46039f\"],[0.2222222222222222,\"#7201a8\"],[0.3333333333333333,\"#9c179e\"],[0.4444444444444444,\"#bd3786\"],[0.5555555555555556,\"#d8576b\"],[0.6666666666666666,\"#ed7953\"],[0.7777777777777778,\"#fb9f3a\"],[0.8888888888888888,\"#fdca26\"],[1.0,\"#f0f921\"]],\"type\":\"surface\"}],\"table\":[{\"cells\":{\"fill\":{\"color\":\"#EBF0F8\"},\"line\":{\"color\":\"white\"}},\"header\":{\"fill\":{\"color\":\"#C8D4E3\"},\"line\":{\"color\":\"white\"}},\"type\":\"table\"}]},\"layout\":{\"annotationdefaults\":{\"arrowcolor\":\"#2a3f5f\",\"arrowhead\":0,\"arrowwidth\":1},\"autotypenumbers\":\"strict\",\"coloraxis\":{\"colorbar\":{\"outlinewidth\":0,\"ticks\":\"\"}},\"colorscale\":{\"diverging\":[[0,\"#8e0152\"],[0.1,\"#c51b7d\"],[0.2,\"#de77ae\"],[0.3,\"#f1b6da\"],[0.4,\"#fde0ef\"],[0.5,\"#f7f7f7\"],[0.6,\"#e6f5d0\"],[0.7,\"#b8e186\"],[0.8,\"#7fbc41\"],[0.9,\"#4d9221\"],[1,\"#276419\"]],\"sequential\":[[0.0,\"#0d0887\"],[0.1111111111111111,\"#46039f\"],[0.2222222222222222,\"#7201a8\"],[0.3333333333333333,\"#9c179e\"],[0.4444444444444444,\"#bd3786\"],[0.5555555555555556,\"#d8576b\"],[0.6666666666666666,\"#ed7953\"],[0.7777777777777778,\"#fb9f3a\"],[0.8888888888888888,\"#fdca26\"],[1.0,\"#f0f921\"]],\"sequentialminus\":[[0.0,\"#0d0887\"],[0.1111111111111111,\"#46039f\"],[0.2222222222222222,\"#7201a8\"],[0.3333333333333333,\"#9c179e\"],[0.4444444444444444,\"#bd3786\"],[0.5555555555555556,\"#d8576b\"],[0.6666666666666666,\"#ed7953\"],[0.7777777777777778,\"#fb9f3a\"],[0.8888888888888888,\"#fdca26\"],[1.0,\"#f0f921\"]]},\"colorway\":[\"#636efa\",\"#EF553B\",\"#00cc96\",\"#ab63fa\",\"#FFA15A\",\"#19d3f3\",\"#FF6692\",\"#B6E880\",\"#FF97FF\",\"#FECB52\"],\"font\":{\"color\":\"#2a3f5f\"},\"geo\":{\"bgcolor\":\"white\",\"lakecolor\":\"white\",\"landcolor\":\"#E5ECF6\",\"showlakes\":true,\"showland\":true,\"subunitcolor\":\"white\"},\"hoverlabel\":{\"align\":\"left\"},\"hovermode\":\"closest\",\"mapbox\":{\"style\":\"light\"},\"paper_bgcolor\":\"white\",\"plot_bgcolor\":\"#E5ECF6\",\"polar\":{\"angularaxis\":{\"gridcolor\":\"white\",\"linecolor\":\"white\",\"ticks\":\"\"},\"bgcolor\":\"#E5ECF6\",\"radialaxis\":{\"gridcolor\":\"white\",\"linecolor\":\"white\",\"ticks\":\"\"}},\"scene\":{\"xaxis\":{\"backgroundcolor\":\"#E5ECF6\",\"gridcolor\":\"white\",\"gridwidth\":2,\"linecolor\":\"white\",\"showbackground\":true,\"ticks\":\"\",\"zerolinecolor\":\"white\"},\"yaxis\":{\"backgroundcolor\":\"#E5ECF6\",\"gridcolor\":\"white\",\"gridwidth\":2,\"linecolor\":\"white\",\"showbackground\":true,\"ticks\":\"\",\"zerolinecolor\":\"white\"},\"zaxis\":{\"backgroundcolor\":\"#E5ECF6\",\"gridcolor\":\"white\",\"gridwidth\":2,\"linecolor\":\"white\",\"showbackground\":true,\"ticks\":\"\",\"zerolinecolor\":\"white\"}},\"shapedefaults\":{\"line\":{\"color\":\"#2a3f5f\"}},\"ternary\":{\"aaxis\":{\"gridcolor\":\"white\",\"linecolor\":\"white\",\"ticks\":\"\"},\"baxis\":{\"gridcolor\":\"white\",\"linecolor\":\"white\",\"ticks\":\"\"},\"bgcolor\":\"#E5ECF6\",\"caxis\":{\"gridcolor\":\"white\",\"linecolor\":\"white\",\"ticks\":\"\"}},\"title\":{\"x\":0.05},\"xaxis\":{\"automargin\":true,\"gridcolor\":\"white\",\"linecolor\":\"white\",\"ticks\":\"\",\"title\":{\"standoff\":15},\"zerolinecolor\":\"white\",\"zerolinewidth\":2},\"yaxis\":{\"automargin\":true,\"gridcolor\":\"white\",\"linecolor\":\"white\",\"ticks\":\"\",\"title\":{\"standoff\":15},\"zerolinecolor\":\"white\",\"zerolinewidth\":2}}},\"title\":{\"text\":\"Monthly Sales Quantity\"}},                        {\"responsive\": true}                    ).then(function(){\n",
       "                            \n",
       "var gd = document.getElementById('57822271-93eb-4d80-82b7-51f02ca4c622');\n",
       "var x = new MutationObserver(function (mutations, observer) {{\n",
       "        var display = window.getComputedStyle(gd).display;\n",
       "        if (!display || display === 'none') {{\n",
       "            console.log([gd, 'removed!']);\n",
       "            Plotly.purge(gd);\n",
       "            observer.disconnect();\n",
       "        }}\n",
       "}});\n",
       "\n",
       "// Listen for the removal of the full notebook cells\n",
       "var notebookContainer = gd.closest('#notebook-container');\n",
       "if (notebookContainer) {{\n",
       "    x.observe(notebookContainer, {childList: true});\n",
       "}}\n",
       "\n",
       "// Listen for the clearing of the current output cell\n",
       "var outputEl = gd.closest('.output');\n",
       "if (outputEl) {{\n",
       "    x.observe(outputEl, {childList: true});\n",
       "}}\n",
       "\n",
       "                        })                };                });            </script>        </div>"
      ]
     },
     "metadata": {},
     "output_type": "display_data"
    }
   ],
   "source": [
    "# Get unique Model_Store_Pairs\n",
    "unique_pairs = sales_data['Model_Store_Pair'].unique()\n",
    "\n",
    "plot_data = []\n",
    "\n",
    "# Loop through each unique Model_Store_Pair and create a trace\n",
    "for unique_pair in unique_pairs:\n",
    "    trace = go.Scatter(\n",
    "        x=sales_data[sales_data['Model_Store_Pair'] == unique_pair]['MONTH_YEAR'],\n",
    "        y=sales_data[sales_data['Model_Store_Pair'] == unique_pair]['QUANTITY'],\n",
    "        mode='lines+markers',\n",
    "        name=unique_pair  # Label each trace with the Model_Store_Pair\n",
    "    )\n",
    "    plot_data.append(trace)\n",
    "\n",
    "plot_layout = go.Layout(\n",
    "    title='Monthly Sales Quantity'\n",
    ")\n",
    "\n",
    "fig = go.Figure(data=plot_data, layout=plot_layout)\n",
    "pyoff.iplot(fig)"
   ]
  },
  {
   "cell_type": "markdown",
   "metadata": {},
   "source": [
    "### Adding missing values"
   ]
  },
  {
   "cell_type": "code",
   "execution_count": 92,
   "metadata": {},
   "outputs": [],
   "source": [
    "# Method 1: Seasonal Imputation\n",
    "\n",
    "def add_missing_months_with_monthly_average(data):\n",
    "\n",
    "    # Convert MONTH_YEAR to datetime\n",
    "    data['MONTH_YEAR'] = pd.to_datetime(data['MONTH_YEAR'])\n",
    "\n",
    "    # Get unique Model_Store_Pairs\n",
    "    model_store_pairs = data['Model_Store_Pair'].unique()\n",
    "\n",
    "    # Create a template DataFrame with all possible MONTH_YEAR values\n",
    "    all_months = pd.date_range(start=data['MONTH_YEAR'].min(), end=data['MONTH_YEAR'].max(), freq='MS')\n",
    "    template = pd.DataFrame({\n",
    "        'MONTH_YEAR': all_months\n",
    "    })\n",
    "\n",
    "    # Create a cross-join to cover all model-store pairs\n",
    "    template['key'] = 1\n",
    "    cross_join = pd.DataFrame({'key': 1, 'Model_Store_Pair': model_store_pairs})\n",
    "    result = pd.merge(cross_join, template, on='key').drop(columns='key')\n",
    "\n",
    "    # Merge with the original data to fill in missing months\n",
    "    result = pd.merge(result, data, on=['Model_Store_Pair', 'MONTH_YEAR'], how='left')\n",
    "\n",
    "    # Sort the result DataFrame by Model_Store_Pair and MONTH_YEAR\n",
    "    result = result.sort_values(by=['Model_Store_Pair', 'MONTH_YEAR']).reset_index(drop=True)\n",
    "\n",
    "    # Calculate the monthly average for each Model_Store_Pair\n",
    "    result['QUANTITY'] = result.groupby(['Model_Store_Pair', result['MONTH_YEAR'].dt.month])['QUANTITY'].transform(lambda x: x.fillna(x.mean()))\n",
    "\n",
    "    # Convert MONTH_YEAR back to its original format (yyyy-mm)\n",
    "    result['MONTH_YEAR'] = result['MONTH_YEAR'].dt.strftime('%Y-%m')\n",
    "\n",
    "    return result\n",
    "\n"
   ]
  },
  {
   "cell_type": "code",
   "execution_count": 93,
   "metadata": {},
   "outputs": [],
   "source": [
    "# Method 2: Interpolation\n",
    "\n",
    "def add_missing_months_with_monthly_interpolation(data):\n",
    "    # Convert MONTH_YEAR to datetime\n",
    "    data['MONTH_YEAR'] = pd.to_datetime(data['MONTH_YEAR'])\n",
    "\n",
    "    # Get unique Model_Store_Pairs\n",
    "    model_store_pairs = data['Model_Store_Pair'].unique()\n",
    "\n",
    "    # Create a template DataFrame with all possible MONTH_YEAR values\n",
    "    all_months = pd.date_range(start=data['MONTH_YEAR'].min(), end=data['MONTH_YEAR'].max(), freq='MS')\n",
    "    template = pd.DataFrame({\n",
    "        'MONTH_YEAR': all_months\n",
    "    })\n",
    "\n",
    "    # Create a cross-join to cover all model-store pairs\n",
    "    template['key'] = 1\n",
    "    cross_join = pd.DataFrame({'key': 1, 'Model_Store_Pair': model_store_pairs})\n",
    "    result = pd.merge(cross_join, template, on='key').drop(columns='key')\n",
    "\n",
    "    # Merge with the original data to fill in missing months\n",
    "    result = pd.merge(result, data, on=['Model_Store_Pair', 'MONTH_YEAR'], how='left')\n",
    "\n",
    "    # Sort the result DataFrame by Model_Store_Pair and MONTH_YEAR\n",
    "    result = result.sort_values(by=['Model_Store_Pair', 'MONTH_YEAR']).reset_index(drop=True)\n",
    "\n",
    "    # Perform interpolation for missing values\n",
    "    #['linear', 'time', 'index', 'values', 'nearest', 'zero', 'slinear', 'quadratic', 'cubic', 'barycentric', 'krogh', 'spline', 'polynomial', 'from_derivatives', 'piecewise_polynomial', 'pchip', 'akima', 'cubicspline']\n",
    "\n",
    "    result['QUANTITY'] = result.groupby('Model_Store_Pair')['QUANTITY'].apply(lambda group: group.interpolate(method='linear'))\n",
    "\n",
    "    # Convert MONTH_YEAR back to its original format (yyyy-mm)\n",
    "    result['MONTH_YEAR'] = result['MONTH_YEAR'].dt.strftime('%Y-%m')\n",
    "\n",
    "    return result\n"
   ]
  },
  {
   "cell_type": "code",
   "execution_count": 94,
   "metadata": {},
   "outputs": [
    {
     "data": {
      "text/html": [
       "<div>\n",
       "<style scoped>\n",
       "    .dataframe tbody tr th:only-of-type {\n",
       "        vertical-align: middle;\n",
       "    }\n",
       "\n",
       "    .dataframe tbody tr th {\n",
       "        vertical-align: top;\n",
       "    }\n",
       "\n",
       "    .dataframe thead th {\n",
       "        text-align: right;\n",
       "    }\n",
       "</style>\n",
       "<table border=\"1\" class=\"dataframe\">\n",
       "  <thead>\n",
       "    <tr style=\"text-align: right;\">\n",
       "      <th></th>\n",
       "      <th>Model_Store_Pair</th>\n",
       "      <th>MONTH_YEAR</th>\n",
       "      <th>QUANTITY</th>\n",
       "    </tr>\n",
       "  </thead>\n",
       "  <tbody>\n",
       "    <tr>\n",
       "      <th>0</th>\n",
       "      <td>Model-10_Store-9</td>\n",
       "      <td>2019-01-01</td>\n",
       "      <td>311.0</td>\n",
       "    </tr>\n",
       "    <tr>\n",
       "      <th>1</th>\n",
       "      <td>Model-10_Store-9</td>\n",
       "      <td>2019-02-01</td>\n",
       "      <td>38.0</td>\n",
       "    </tr>\n",
       "    <tr>\n",
       "      <th>2</th>\n",
       "      <td>Model-10_Store-9</td>\n",
       "      <td>2019-03-01</td>\n",
       "      <td>9.0</td>\n",
       "    </tr>\n",
       "    <tr>\n",
       "      <th>3</th>\n",
       "      <td>Model-10_Store-9</td>\n",
       "      <td>2019-04-01</td>\n",
       "      <td>40.0</td>\n",
       "    </tr>\n",
       "    <tr>\n",
       "      <th>4</th>\n",
       "      <td>Model-10_Store-9</td>\n",
       "      <td>2019-05-01</td>\n",
       "      <td>75.0</td>\n",
       "    </tr>\n",
       "    <tr>\n",
       "      <th>...</th>\n",
       "      <td>...</td>\n",
       "      <td>...</td>\n",
       "      <td>...</td>\n",
       "    </tr>\n",
       "    <tr>\n",
       "      <th>893</th>\n",
       "      <td>Model-9_Store-4</td>\n",
       "      <td>2023-06-01</td>\n",
       "      <td>11.0</td>\n",
       "    </tr>\n",
       "    <tr>\n",
       "      <th>894</th>\n",
       "      <td>Model-9_Store-4</td>\n",
       "      <td>2023-07-01</td>\n",
       "      <td>57.0</td>\n",
       "    </tr>\n",
       "    <tr>\n",
       "      <th>895</th>\n",
       "      <td>Model-9_Store-4</td>\n",
       "      <td>2023-08-01</td>\n",
       "      <td>36.0</td>\n",
       "    </tr>\n",
       "    <tr>\n",
       "      <th>896</th>\n",
       "      <td>Model-9_Store-4</td>\n",
       "      <td>2023-09-01</td>\n",
       "      <td>185.0</td>\n",
       "    </tr>\n",
       "    <tr>\n",
       "      <th>897</th>\n",
       "      <td>Model-9_Store-4</td>\n",
       "      <td>2023-10-01</td>\n",
       "      <td>1.0</td>\n",
       "    </tr>\n",
       "  </tbody>\n",
       "</table>\n",
       "<p>870 rows × 3 columns</p>\n",
       "</div>"
      ],
      "text/plain": [
       "     Model_Store_Pair MONTH_YEAR  QUANTITY\n",
       "0    Model-10_Store-9 2019-01-01     311.0\n",
       "1    Model-10_Store-9 2019-02-01      38.0\n",
       "2    Model-10_Store-9 2019-03-01       9.0\n",
       "3    Model-10_Store-9 2019-04-01      40.0\n",
       "4    Model-10_Store-9 2019-05-01      75.0\n",
       "..                ...        ...       ...\n",
       "893   Model-9_Store-4 2023-06-01      11.0\n",
       "894   Model-9_Store-4 2023-07-01      57.0\n",
       "895   Model-9_Store-4 2023-08-01      36.0\n",
       "896   Model-9_Store-4 2023-09-01     185.0\n",
       "897   Model-9_Store-4 2023-10-01       1.0\n",
       "\n",
       "[870 rows x 3 columns]"
      ]
     },
     "execution_count": 94,
     "metadata": {},
     "output_type": "execute_result"
    }
   ],
   "source": [
    "full_sales_df = add_missing_months_with_monthly_average(sales_data)\n",
    "full_sales_df.fillna(0,inplace=True)\n",
    "full_sales_df['MONTH_YEAR'] = pd.to_datetime(full_sales_df['MONTH_YEAR'])\n",
    "full_sales_df = full_sales_df[full_sales_df['MONTH_YEAR']<'2023-11-01']\n",
    "full_sales_df"
   ]
  },
  {
   "cell_type": "code",
   "execution_count": 95,
   "metadata": {},
   "outputs": [
    {
     "data": {
      "text/html": [
       "<div>\n",
       "<style scoped>\n",
       "    .dataframe tbody tr th:only-of-type {\n",
       "        vertical-align: middle;\n",
       "    }\n",
       "\n",
       "    .dataframe tbody tr th {\n",
       "        vertical-align: top;\n",
       "    }\n",
       "\n",
       "    .dataframe thead th {\n",
       "        text-align: right;\n",
       "    }\n",
       "</style>\n",
       "<table border=\"1\" class=\"dataframe\">\n",
       "  <thead>\n",
       "    <tr style=\"text-align: right;\">\n",
       "      <th></th>\n",
       "      <th>Model_Store_Pair</th>\n",
       "      <th>Pair_ID</th>\n",
       "    </tr>\n",
       "  </thead>\n",
       "  <tbody>\n",
       "    <tr>\n",
       "      <th>0</th>\n",
       "      <td>Model-10_Store-9</td>\n",
       "      <td>0</td>\n",
       "    </tr>\n",
       "    <tr>\n",
       "      <th>1</th>\n",
       "      <td>Model-12_Store-11</td>\n",
       "      <td>1</td>\n",
       "    </tr>\n",
       "    <tr>\n",
       "      <th>2</th>\n",
       "      <td>Model-13_Store-12</td>\n",
       "      <td>2</td>\n",
       "    </tr>\n",
       "    <tr>\n",
       "      <th>3</th>\n",
       "      <td>Model-14_Store-13</td>\n",
       "      <td>3</td>\n",
       "    </tr>\n",
       "    <tr>\n",
       "      <th>4</th>\n",
       "      <td>Model-16_Store-15</td>\n",
       "      <td>4</td>\n",
       "    </tr>\n",
       "    <tr>\n",
       "      <th>5</th>\n",
       "      <td>Model-17_Store-16</td>\n",
       "      <td>5</td>\n",
       "    </tr>\n",
       "    <tr>\n",
       "      <th>6</th>\n",
       "      <td>Model-18_Store-17</td>\n",
       "      <td>6</td>\n",
       "    </tr>\n",
       "    <tr>\n",
       "      <th>7</th>\n",
       "      <td>Model-1_Store-1</td>\n",
       "      <td>7</td>\n",
       "    </tr>\n",
       "    <tr>\n",
       "      <th>8</th>\n",
       "      <td>Model-21_Store-20</td>\n",
       "      <td>8</td>\n",
       "    </tr>\n",
       "    <tr>\n",
       "      <th>9</th>\n",
       "      <td>Model-2_Store-2</td>\n",
       "      <td>9</td>\n",
       "    </tr>\n",
       "    <tr>\n",
       "      <th>10</th>\n",
       "      <td>Model-3_Store-3</td>\n",
       "      <td>10</td>\n",
       "    </tr>\n",
       "    <tr>\n",
       "      <th>11</th>\n",
       "      <td>Model-4_Store-4</td>\n",
       "      <td>11</td>\n",
       "    </tr>\n",
       "    <tr>\n",
       "      <th>12</th>\n",
       "      <td>Model-5_Store-5</td>\n",
       "      <td>12</td>\n",
       "    </tr>\n",
       "    <tr>\n",
       "      <th>13</th>\n",
       "      <td>Model-8_Store-8</td>\n",
       "      <td>13</td>\n",
       "    </tr>\n",
       "    <tr>\n",
       "      <th>14</th>\n",
       "      <td>Model-9_Store-4</td>\n",
       "      <td>14</td>\n",
       "    </tr>\n",
       "  </tbody>\n",
       "</table>\n",
       "</div>"
      ],
      "text/plain": [
       "     Model_Store_Pair  Pair_ID\n",
       "0    Model-10_Store-9        0\n",
       "1   Model-12_Store-11        1\n",
       "2   Model-13_Store-12        2\n",
       "3   Model-14_Store-13        3\n",
       "4   Model-16_Store-15        4\n",
       "5   Model-17_Store-16        5\n",
       "6   Model-18_Store-17        6\n",
       "7     Model-1_Store-1        7\n",
       "8   Model-21_Store-20        8\n",
       "9     Model-2_Store-2        9\n",
       "10    Model-3_Store-3       10\n",
       "11    Model-4_Store-4       11\n",
       "12    Model-5_Store-5       12\n",
       "13    Model-8_Store-8       13\n",
       "14    Model-9_Store-4       14"
      ]
     },
     "execution_count": 95,
     "metadata": {},
     "output_type": "execute_result"
    }
   ],
   "source": [
    "unique_pairs = sales_data['Model_Store_Pair'].unique()\n",
    "\n",
    "# Use factorize to create unique IDs for each pair\n",
    "pair_ids, pair_labels = pd.factorize(unique_pairs)\n",
    "\n",
    "# Create a DataFrame to map pairs to IDs\n",
    "pair_id_mapping = pd.DataFrame({'Model_Store_Pair': unique_pairs, 'Pair_ID': pair_ids})\n",
    "pair_id_mapping"
   ]
  },
  {
   "cell_type": "code",
   "execution_count": 96,
   "metadata": {},
   "outputs": [
    {
     "data": {
      "text/html": [
       "<div>\n",
       "<style scoped>\n",
       "    .dataframe tbody tr th:only-of-type {\n",
       "        vertical-align: middle;\n",
       "    }\n",
       "\n",
       "    .dataframe tbody tr th {\n",
       "        vertical-align: top;\n",
       "    }\n",
       "\n",
       "    .dataframe thead th {\n",
       "        text-align: right;\n",
       "    }\n",
       "</style>\n",
       "<table border=\"1\" class=\"dataframe\">\n",
       "  <thead>\n",
       "    <tr style=\"text-align: right;\">\n",
       "      <th></th>\n",
       "      <th>Model_Store_Pair</th>\n",
       "      <th>MONTH_YEAR</th>\n",
       "      <th>QUANTITY</th>\n",
       "      <th>Model_Store_Pair_ID</th>\n",
       "    </tr>\n",
       "  </thead>\n",
       "  <tbody>\n",
       "    <tr>\n",
       "      <th>0</th>\n",
       "      <td>Model-10_Store-9</td>\n",
       "      <td>2019-01-01</td>\n",
       "      <td>311.0</td>\n",
       "      <td>0</td>\n",
       "    </tr>\n",
       "    <tr>\n",
       "      <th>1</th>\n",
       "      <td>Model-10_Store-9</td>\n",
       "      <td>2019-02-01</td>\n",
       "      <td>38.0</td>\n",
       "      <td>0</td>\n",
       "    </tr>\n",
       "    <tr>\n",
       "      <th>2</th>\n",
       "      <td>Model-10_Store-9</td>\n",
       "      <td>2019-03-01</td>\n",
       "      <td>9.0</td>\n",
       "      <td>0</td>\n",
       "    </tr>\n",
       "    <tr>\n",
       "      <th>3</th>\n",
       "      <td>Model-10_Store-9</td>\n",
       "      <td>2019-04-01</td>\n",
       "      <td>40.0</td>\n",
       "      <td>0</td>\n",
       "    </tr>\n",
       "    <tr>\n",
       "      <th>4</th>\n",
       "      <td>Model-10_Store-9</td>\n",
       "      <td>2019-05-01</td>\n",
       "      <td>75.0</td>\n",
       "      <td>0</td>\n",
       "    </tr>\n",
       "    <tr>\n",
       "      <th>...</th>\n",
       "      <td>...</td>\n",
       "      <td>...</td>\n",
       "      <td>...</td>\n",
       "      <td>...</td>\n",
       "    </tr>\n",
       "    <tr>\n",
       "      <th>893</th>\n",
       "      <td>Model-9_Store-4</td>\n",
       "      <td>2023-06-01</td>\n",
       "      <td>11.0</td>\n",
       "      <td>14</td>\n",
       "    </tr>\n",
       "    <tr>\n",
       "      <th>894</th>\n",
       "      <td>Model-9_Store-4</td>\n",
       "      <td>2023-07-01</td>\n",
       "      <td>57.0</td>\n",
       "      <td>14</td>\n",
       "    </tr>\n",
       "    <tr>\n",
       "      <th>895</th>\n",
       "      <td>Model-9_Store-4</td>\n",
       "      <td>2023-08-01</td>\n",
       "      <td>36.0</td>\n",
       "      <td>14</td>\n",
       "    </tr>\n",
       "    <tr>\n",
       "      <th>896</th>\n",
       "      <td>Model-9_Store-4</td>\n",
       "      <td>2023-09-01</td>\n",
       "      <td>185.0</td>\n",
       "      <td>14</td>\n",
       "    </tr>\n",
       "    <tr>\n",
       "      <th>897</th>\n",
       "      <td>Model-9_Store-4</td>\n",
       "      <td>2023-10-01</td>\n",
       "      <td>1.0</td>\n",
       "      <td>14</td>\n",
       "    </tr>\n",
       "  </tbody>\n",
       "</table>\n",
       "<p>870 rows × 4 columns</p>\n",
       "</div>"
      ],
      "text/plain": [
       "     Model_Store_Pair MONTH_YEAR  QUANTITY  Model_Store_Pair_ID\n",
       "0    Model-10_Store-9 2019-01-01     311.0                    0\n",
       "1    Model-10_Store-9 2019-02-01      38.0                    0\n",
       "2    Model-10_Store-9 2019-03-01       9.0                    0\n",
       "3    Model-10_Store-9 2019-04-01      40.0                    0\n",
       "4    Model-10_Store-9 2019-05-01      75.0                    0\n",
       "..                ...        ...       ...                  ...\n",
       "893   Model-9_Store-4 2023-06-01      11.0                   14\n",
       "894   Model-9_Store-4 2023-07-01      57.0                   14\n",
       "895   Model-9_Store-4 2023-08-01      36.0                   14\n",
       "896   Model-9_Store-4 2023-09-01     185.0                   14\n",
       "897   Model-9_Store-4 2023-10-01       1.0                   14\n",
       "\n",
       "[870 rows x 4 columns]"
      ]
     },
     "execution_count": 96,
     "metadata": {},
     "output_type": "execute_result"
    }
   ],
   "source": [
    "full_sales_df['Model_Store_Pair_ID'] = full_sales_df['Model_Store_Pair'].map(pair_id_mapping.set_index('Model_Store_Pair')['Pair_ID'])\n",
    "full_sales_df"
   ]
  },
  {
   "cell_type": "code",
   "execution_count": 97,
   "metadata": {},
   "outputs": [
    {
     "data": {
      "text/html": [
       "<div>\n",
       "<style scoped>\n",
       "    .dataframe tbody tr th:only-of-type {\n",
       "        vertical-align: middle;\n",
       "    }\n",
       "\n",
       "    .dataframe tbody tr th {\n",
       "        vertical-align: top;\n",
       "    }\n",
       "\n",
       "    .dataframe thead th {\n",
       "        text-align: right;\n",
       "    }\n",
       "</style>\n",
       "<table border=\"1\" class=\"dataframe\">\n",
       "  <thead>\n",
       "    <tr style=\"text-align: right;\">\n",
       "      <th></th>\n",
       "      <th>Model_Store_Pair</th>\n",
       "      <th>MONTH_YEAR</th>\n",
       "      <th>QUANTITY</th>\n",
       "      <th>Model_Store_Pair_ID</th>\n",
       "      <th>Seasons</th>\n",
       "    </tr>\n",
       "  </thead>\n",
       "  <tbody>\n",
       "    <tr>\n",
       "      <th>0</th>\n",
       "      <td>Model-10_Store-9</td>\n",
       "      <td>2019-01-01</td>\n",
       "      <td>311.0</td>\n",
       "      <td>0</td>\n",
       "      <td>Winter</td>\n",
       "    </tr>\n",
       "    <tr>\n",
       "      <th>1</th>\n",
       "      <td>Model-10_Store-9</td>\n",
       "      <td>2019-02-01</td>\n",
       "      <td>38.0</td>\n",
       "      <td>0</td>\n",
       "      <td>Winter</td>\n",
       "    </tr>\n",
       "    <tr>\n",
       "      <th>2</th>\n",
       "      <td>Model-10_Store-9</td>\n",
       "      <td>2019-03-01</td>\n",
       "      <td>9.0</td>\n",
       "      <td>0</td>\n",
       "      <td>Spring</td>\n",
       "    </tr>\n",
       "    <tr>\n",
       "      <th>3</th>\n",
       "      <td>Model-10_Store-9</td>\n",
       "      <td>2019-04-01</td>\n",
       "      <td>40.0</td>\n",
       "      <td>0</td>\n",
       "      <td>Spring</td>\n",
       "    </tr>\n",
       "    <tr>\n",
       "      <th>4</th>\n",
       "      <td>Model-10_Store-9</td>\n",
       "      <td>2019-05-01</td>\n",
       "      <td>75.0</td>\n",
       "      <td>0</td>\n",
       "      <td>Spring</td>\n",
       "    </tr>\n",
       "    <tr>\n",
       "      <th>...</th>\n",
       "      <td>...</td>\n",
       "      <td>...</td>\n",
       "      <td>...</td>\n",
       "      <td>...</td>\n",
       "      <td>...</td>\n",
       "    </tr>\n",
       "    <tr>\n",
       "      <th>893</th>\n",
       "      <td>Model-9_Store-4</td>\n",
       "      <td>2023-06-01</td>\n",
       "      <td>11.0</td>\n",
       "      <td>14</td>\n",
       "      <td>Summer</td>\n",
       "    </tr>\n",
       "    <tr>\n",
       "      <th>894</th>\n",
       "      <td>Model-9_Store-4</td>\n",
       "      <td>2023-07-01</td>\n",
       "      <td>57.0</td>\n",
       "      <td>14</td>\n",
       "      <td>Summer</td>\n",
       "    </tr>\n",
       "    <tr>\n",
       "      <th>895</th>\n",
       "      <td>Model-9_Store-4</td>\n",
       "      <td>2023-08-01</td>\n",
       "      <td>36.0</td>\n",
       "      <td>14</td>\n",
       "      <td>Summer</td>\n",
       "    </tr>\n",
       "    <tr>\n",
       "      <th>896</th>\n",
       "      <td>Model-9_Store-4</td>\n",
       "      <td>2023-09-01</td>\n",
       "      <td>185.0</td>\n",
       "      <td>14</td>\n",
       "      <td>Fall</td>\n",
       "    </tr>\n",
       "    <tr>\n",
       "      <th>897</th>\n",
       "      <td>Model-9_Store-4</td>\n",
       "      <td>2023-10-01</td>\n",
       "      <td>1.0</td>\n",
       "      <td>14</td>\n",
       "      <td>Fall</td>\n",
       "    </tr>\n",
       "  </tbody>\n",
       "</table>\n",
       "<p>870 rows × 5 columns</p>\n",
       "</div>"
      ],
      "text/plain": [
       "     Model_Store_Pair MONTH_YEAR  QUANTITY  Model_Store_Pair_ID Seasons\n",
       "0    Model-10_Store-9 2019-01-01     311.0                    0  Winter\n",
       "1    Model-10_Store-9 2019-02-01      38.0                    0  Winter\n",
       "2    Model-10_Store-9 2019-03-01       9.0                    0  Spring\n",
       "3    Model-10_Store-9 2019-04-01      40.0                    0  Spring\n",
       "4    Model-10_Store-9 2019-05-01      75.0                    0  Spring\n",
       "..                ...        ...       ...                  ...     ...\n",
       "893   Model-9_Store-4 2023-06-01      11.0                   14  Summer\n",
       "894   Model-9_Store-4 2023-07-01      57.0                   14  Summer\n",
       "895   Model-9_Store-4 2023-08-01      36.0                   14  Summer\n",
       "896   Model-9_Store-4 2023-09-01     185.0                   14    Fall\n",
       "897   Model-9_Store-4 2023-10-01       1.0                   14    Fall\n",
       "\n",
       "[870 rows x 5 columns]"
      ]
     },
     "execution_count": 97,
     "metadata": {},
     "output_type": "execute_result"
    }
   ],
   "source": [
    "# Staging Table to export for dashboard\n",
    "staging_table_full_sales_df= add_seasons(full_sales_df)\n",
    "staging_table_full_sales_df"
   ]
  },
  {
   "cell_type": "markdown",
   "metadata": {},
   "source": [
    "### Check if Data is Stationary"
   ]
  },
  {
   "cell_type": "code",
   "execution_count": 98,
   "metadata": {},
   "outputs": [
    {
     "name": "stdout",
     "output_type": "stream",
     "text": [
      "Data is stationary.\n"
     ]
    }
   ],
   "source": [
    "# Ensure the data is in time series format and is sorted by date\n",
    "data = full_sales_df['QUANTITY']\n",
    "\n",
    "# Check stationarity using the Dickey-Fuller test\n",
    "result = adfuller(data)\n",
    "if result[1] > 0.05:\n",
    "    print(\"Data is not stationary. Perform differencing.\")\n",
    "    data_diff = data - data.shift(1)\n",
    "    data_diff.dropna(inplace=True)\n",
    "else:\n",
    "    print(\"Data is stationary.\")\n",
    "    data_diff = data\n"
   ]
  },
  {
   "cell_type": "code",
   "execution_count": 99,
   "metadata": {},
   "outputs": [
    {
     "data": {
      "application/vnd.plotly.v1+json": {
       "config": {
        "linkText": "Export to plot.ly",
        "plotlyServerURL": "https://plot.ly",
        "showLink": false
       },
       "data": [
        {
         "mode": "lines+markers",
         "name": "Model-10_Store-9",
         "type": "scatter",
         "x": [
          "2019-01-01T00:00:00",
          "2019-02-01T00:00:00",
          "2019-03-01T00:00:00",
          "2019-04-01T00:00:00",
          "2019-05-01T00:00:00",
          "2019-06-01T00:00:00",
          "2019-07-01T00:00:00",
          "2019-08-01T00:00:00",
          "2019-09-01T00:00:00",
          "2019-10-01T00:00:00",
          "2019-11-01T00:00:00",
          "2019-12-01T00:00:00",
          "2020-01-01T00:00:00",
          "2020-02-01T00:00:00",
          "2020-03-01T00:00:00",
          "2020-04-01T00:00:00",
          "2020-05-01T00:00:00",
          "2020-06-01T00:00:00",
          "2020-07-01T00:00:00",
          "2020-08-01T00:00:00",
          "2020-09-01T00:00:00",
          "2020-10-01T00:00:00",
          "2020-11-01T00:00:00",
          "2020-12-01T00:00:00",
          "2021-01-01T00:00:00",
          "2021-02-01T00:00:00",
          "2021-03-01T00:00:00",
          "2021-04-01T00:00:00",
          "2021-05-01T00:00:00",
          "2021-06-01T00:00:00",
          "2021-07-01T00:00:00",
          "2021-08-01T00:00:00",
          "2021-09-01T00:00:00",
          "2021-10-01T00:00:00",
          "2021-11-01T00:00:00",
          "2021-12-01T00:00:00",
          "2022-01-01T00:00:00",
          "2022-02-01T00:00:00",
          "2022-03-01T00:00:00",
          "2022-04-01T00:00:00",
          "2022-05-01T00:00:00",
          "2022-06-01T00:00:00",
          "2022-07-01T00:00:00",
          "2022-08-01T00:00:00",
          "2022-09-01T00:00:00",
          "2022-10-01T00:00:00",
          "2022-11-01T00:00:00",
          "2022-12-01T00:00:00",
          "2023-01-01T00:00:00",
          "2023-02-01T00:00:00",
          "2023-03-01T00:00:00",
          "2023-04-01T00:00:00",
          "2023-05-01T00:00:00",
          "2023-06-01T00:00:00",
          "2023-07-01T00:00:00",
          "2023-08-01T00:00:00",
          "2023-09-01T00:00:00",
          "2023-10-01T00:00:00"
         ],
         "y": [
          311,
          38,
          9,
          40,
          75,
          358,
          68,
          84,
          23,
          106,
          30,
          86,
          81,
          119,
          15,
          46,
          33,
          58,
          61,
          65,
          74,
          112,
          930,
          116,
          91,
          36,
          116,
          54,
          165,
          144,
          287,
          168,
          263,
          73,
          51,
          80.33333333333333,
          129.75,
          21,
          19,
          401,
          5,
          307,
          209,
          21,
          93,
          624,
          219,
          39,
          36,
          28,
          75,
          800,
          72,
          16,
          37,
          55,
          51,
          24
         ]
        },
        {
         "mode": "lines+markers",
         "name": "Model-12_Store-11",
         "type": "scatter",
         "x": [
          "2019-01-01T00:00:00",
          "2019-02-01T00:00:00",
          "2019-03-01T00:00:00",
          "2019-04-01T00:00:00",
          "2019-05-01T00:00:00",
          "2019-06-01T00:00:00",
          "2019-07-01T00:00:00",
          "2019-08-01T00:00:00",
          "2019-09-01T00:00:00",
          "2019-10-01T00:00:00",
          "2019-11-01T00:00:00",
          "2019-12-01T00:00:00",
          "2020-01-01T00:00:00",
          "2020-02-01T00:00:00",
          "2020-03-01T00:00:00",
          "2020-04-01T00:00:00",
          "2020-05-01T00:00:00",
          "2020-06-01T00:00:00",
          "2020-07-01T00:00:00",
          "2020-08-01T00:00:00",
          "2020-09-01T00:00:00",
          "2020-10-01T00:00:00",
          "2020-11-01T00:00:00",
          "2020-12-01T00:00:00",
          "2021-01-01T00:00:00",
          "2021-02-01T00:00:00",
          "2021-03-01T00:00:00",
          "2021-04-01T00:00:00",
          "2021-05-01T00:00:00",
          "2021-06-01T00:00:00",
          "2021-07-01T00:00:00",
          "2021-08-01T00:00:00",
          "2021-09-01T00:00:00",
          "2021-10-01T00:00:00",
          "2021-11-01T00:00:00",
          "2021-12-01T00:00:00",
          "2022-01-01T00:00:00",
          "2022-02-01T00:00:00",
          "2022-03-01T00:00:00",
          "2022-04-01T00:00:00",
          "2022-05-01T00:00:00",
          "2022-06-01T00:00:00",
          "2022-07-01T00:00:00",
          "2022-08-01T00:00:00",
          "2022-09-01T00:00:00",
          "2022-10-01T00:00:00",
          "2022-11-01T00:00:00",
          "2022-12-01T00:00:00",
          "2023-01-01T00:00:00",
          "2023-02-01T00:00:00",
          "2023-03-01T00:00:00",
          "2023-04-01T00:00:00",
          "2023-05-01T00:00:00",
          "2023-06-01T00:00:00",
          "2023-07-01T00:00:00",
          "2023-08-01T00:00:00",
          "2023-09-01T00:00:00",
          "2023-10-01T00:00:00"
         ],
         "y": [
          6.5,
          5.5,
          7,
          8,
          11,
          3,
          2,
          8.5,
          3,
          7.5,
          3,
          3,
          1,
          6,
          1,
          8,
          2,
          3,
          11.5,
          1,
          3,
          4,
          8,
          11,
          5,
          2,
          2,
          8,
          11,
          13,
          11,
          4,
          2,
          6,
          17,
          17,
          7,
          7,
          15,
          5,
          11,
          16,
          21,
          15,
          13,
          10,
          28,
          24,
          13,
          7,
          10,
          11,
          20,
          13,
          12,
          14,
          15,
          10
         ]
        },
        {
         "mode": "lines+markers",
         "name": "Model-13_Store-12",
         "type": "scatter",
         "x": [
          "2019-01-01T00:00:00",
          "2019-02-01T00:00:00",
          "2019-03-01T00:00:00",
          "2019-04-01T00:00:00",
          "2019-05-01T00:00:00",
          "2019-06-01T00:00:00",
          "2019-07-01T00:00:00",
          "2019-08-01T00:00:00",
          "2019-09-01T00:00:00",
          "2019-10-01T00:00:00",
          "2019-11-01T00:00:00",
          "2019-12-01T00:00:00",
          "2020-01-01T00:00:00",
          "2020-02-01T00:00:00",
          "2020-03-01T00:00:00",
          "2020-04-01T00:00:00",
          "2020-05-01T00:00:00",
          "2020-06-01T00:00:00",
          "2020-07-01T00:00:00",
          "2020-08-01T00:00:00",
          "2020-09-01T00:00:00",
          "2020-10-01T00:00:00",
          "2020-11-01T00:00:00",
          "2020-12-01T00:00:00",
          "2021-01-01T00:00:00",
          "2021-02-01T00:00:00",
          "2021-03-01T00:00:00",
          "2021-04-01T00:00:00",
          "2021-05-01T00:00:00",
          "2021-06-01T00:00:00",
          "2021-07-01T00:00:00",
          "2021-08-01T00:00:00",
          "2021-09-01T00:00:00",
          "2021-10-01T00:00:00",
          "2021-11-01T00:00:00",
          "2021-12-01T00:00:00",
          "2022-01-01T00:00:00",
          "2022-02-01T00:00:00",
          "2022-03-01T00:00:00",
          "2022-04-01T00:00:00",
          "2022-05-01T00:00:00",
          "2022-06-01T00:00:00",
          "2022-07-01T00:00:00",
          "2022-08-01T00:00:00",
          "2022-09-01T00:00:00",
          "2022-10-01T00:00:00",
          "2022-11-01T00:00:00",
          "2022-12-01T00:00:00",
          "2023-01-01T00:00:00",
          "2023-02-01T00:00:00",
          "2023-03-01T00:00:00",
          "2023-04-01T00:00:00",
          "2023-05-01T00:00:00",
          "2023-06-01T00:00:00",
          "2023-07-01T00:00:00",
          "2023-08-01T00:00:00",
          "2023-09-01T00:00:00",
          "2023-10-01T00:00:00"
         ],
         "y": [
          1,
          8,
          4,
          3,
          6.5,
          6,
          3,
          0,
          7,
          5.25,
          6.333333333333333,
          3.25,
          1,
          8,
          4,
          3,
          6.5,
          6,
          1,
          0,
          7,
          1,
          9,
          3,
          1,
          8,
          4,
          4,
          3,
          3,
          4,
          0,
          7,
          5,
          4,
          3,
          1,
          8,
          4,
          1,
          6.5,
          6,
          3,
          0,
          7,
          9,
          6,
          5,
          1,
          8,
          4,
          4,
          10,
          9,
          4,
          0,
          7,
          6
         ]
        },
        {
         "mode": "lines+markers",
         "name": "Model-14_Store-13",
         "type": "scatter",
         "x": [
          "2019-01-01T00:00:00",
          "2019-02-01T00:00:00",
          "2019-03-01T00:00:00",
          "2019-04-01T00:00:00",
          "2019-05-01T00:00:00",
          "2019-06-01T00:00:00",
          "2019-07-01T00:00:00",
          "2019-08-01T00:00:00",
          "2019-09-01T00:00:00",
          "2019-10-01T00:00:00",
          "2019-11-01T00:00:00",
          "2019-12-01T00:00:00",
          "2020-01-01T00:00:00",
          "2020-02-01T00:00:00",
          "2020-03-01T00:00:00",
          "2020-04-01T00:00:00",
          "2020-05-01T00:00:00",
          "2020-06-01T00:00:00",
          "2020-07-01T00:00:00",
          "2020-08-01T00:00:00",
          "2020-09-01T00:00:00",
          "2020-10-01T00:00:00",
          "2020-11-01T00:00:00",
          "2020-12-01T00:00:00",
          "2021-01-01T00:00:00",
          "2021-02-01T00:00:00",
          "2021-03-01T00:00:00",
          "2021-04-01T00:00:00",
          "2021-05-01T00:00:00",
          "2021-06-01T00:00:00",
          "2021-07-01T00:00:00",
          "2021-08-01T00:00:00",
          "2021-09-01T00:00:00",
          "2021-10-01T00:00:00",
          "2021-11-01T00:00:00",
          "2021-12-01T00:00:00",
          "2022-01-01T00:00:00",
          "2022-02-01T00:00:00",
          "2022-03-01T00:00:00",
          "2022-04-01T00:00:00",
          "2022-05-01T00:00:00",
          "2022-06-01T00:00:00",
          "2022-07-01T00:00:00",
          "2022-08-01T00:00:00",
          "2022-09-01T00:00:00",
          "2022-10-01T00:00:00",
          "2022-11-01T00:00:00",
          "2022-12-01T00:00:00",
          "2023-01-01T00:00:00",
          "2023-02-01T00:00:00",
          "2023-03-01T00:00:00",
          "2023-04-01T00:00:00",
          "2023-05-01T00:00:00",
          "2023-06-01T00:00:00",
          "2023-07-01T00:00:00",
          "2023-08-01T00:00:00",
          "2023-09-01T00:00:00",
          "2023-10-01T00:00:00"
         ],
         "y": [
          0,
          0,
          0,
          0,
          0,
          0,
          1,
          0,
          0,
          2,
          2.5,
          0,
          0,
          0,
          0,
          0,
          0,
          0,
          1,
          0,
          0,
          2,
          2.5,
          0,
          0,
          0,
          0,
          0,
          0,
          0,
          1,
          0,
          0,
          2,
          3,
          0,
          0,
          0,
          0,
          0,
          0,
          0,
          1,
          0,
          0,
          2,
          2,
          0,
          0,
          0,
          0,
          0,
          0,
          0,
          1,
          0,
          0,
          2
         ]
        },
        {
         "mode": "lines+markers",
         "name": "Model-16_Store-15",
         "type": "scatter",
         "x": [
          "2019-01-01T00:00:00",
          "2019-02-01T00:00:00",
          "2019-03-01T00:00:00",
          "2019-04-01T00:00:00",
          "2019-05-01T00:00:00",
          "2019-06-01T00:00:00",
          "2019-07-01T00:00:00",
          "2019-08-01T00:00:00",
          "2019-09-01T00:00:00",
          "2019-10-01T00:00:00",
          "2019-11-01T00:00:00",
          "2019-12-01T00:00:00",
          "2020-01-01T00:00:00",
          "2020-02-01T00:00:00",
          "2020-03-01T00:00:00",
          "2020-04-01T00:00:00",
          "2020-05-01T00:00:00",
          "2020-06-01T00:00:00",
          "2020-07-01T00:00:00",
          "2020-08-01T00:00:00",
          "2020-09-01T00:00:00",
          "2020-10-01T00:00:00",
          "2020-11-01T00:00:00",
          "2020-12-01T00:00:00",
          "2021-01-01T00:00:00",
          "2021-02-01T00:00:00",
          "2021-03-01T00:00:00",
          "2021-04-01T00:00:00",
          "2021-05-01T00:00:00",
          "2021-06-01T00:00:00",
          "2021-07-01T00:00:00",
          "2021-08-01T00:00:00",
          "2021-09-01T00:00:00",
          "2021-10-01T00:00:00",
          "2021-11-01T00:00:00",
          "2021-12-01T00:00:00",
          "2022-01-01T00:00:00",
          "2022-02-01T00:00:00",
          "2022-03-01T00:00:00",
          "2022-04-01T00:00:00",
          "2022-05-01T00:00:00",
          "2022-06-01T00:00:00",
          "2022-07-01T00:00:00",
          "2022-08-01T00:00:00",
          "2022-09-01T00:00:00",
          "2022-10-01T00:00:00",
          "2022-11-01T00:00:00",
          "2022-12-01T00:00:00",
          "2023-01-01T00:00:00",
          "2023-02-01T00:00:00",
          "2023-03-01T00:00:00",
          "2023-04-01T00:00:00",
          "2023-05-01T00:00:00",
          "2023-06-01T00:00:00",
          "2023-07-01T00:00:00",
          "2023-08-01T00:00:00",
          "2023-09-01T00:00:00",
          "2023-10-01T00:00:00"
         ],
         "y": [
          7,
          13,
          25,
          22,
          10,
          3,
          58,
          3,
          10,
          13,
          2,
          5,
          13,
          7,
          25,
          22,
          10,
          3,
          20.75,
          59,
          10,
          9,
          34,
          25.5,
          1,
          13,
          25,
          22,
          10,
          3,
          10,
          45,
          10,
          9,
          3,
          46,
          7,
          19,
          25,
          34,
          10,
          3,
          5,
          30.5,
          10,
          9,
          44,
          25.5,
          7,
          13,
          25,
          10,
          10,
          3,
          10,
          15,
          10,
          5
         ]
        },
        {
         "mode": "lines+markers",
         "name": "Model-17_Store-16",
         "type": "scatter",
         "x": [
          "2019-01-01T00:00:00",
          "2019-02-01T00:00:00",
          "2019-03-01T00:00:00",
          "2019-04-01T00:00:00",
          "2019-05-01T00:00:00",
          "2019-06-01T00:00:00",
          "2019-07-01T00:00:00",
          "2019-08-01T00:00:00",
          "2019-09-01T00:00:00",
          "2019-10-01T00:00:00",
          "2019-11-01T00:00:00",
          "2019-12-01T00:00:00",
          "2020-01-01T00:00:00",
          "2020-02-01T00:00:00",
          "2020-03-01T00:00:00",
          "2020-04-01T00:00:00",
          "2020-05-01T00:00:00",
          "2020-06-01T00:00:00",
          "2020-07-01T00:00:00",
          "2020-08-01T00:00:00",
          "2020-09-01T00:00:00",
          "2020-10-01T00:00:00",
          "2020-11-01T00:00:00",
          "2020-12-01T00:00:00",
          "2021-01-01T00:00:00",
          "2021-02-01T00:00:00",
          "2021-03-01T00:00:00",
          "2021-04-01T00:00:00",
          "2021-05-01T00:00:00",
          "2021-06-01T00:00:00",
          "2021-07-01T00:00:00",
          "2021-08-01T00:00:00",
          "2021-09-01T00:00:00",
          "2021-10-01T00:00:00",
          "2021-11-01T00:00:00",
          "2021-12-01T00:00:00",
          "2022-01-01T00:00:00",
          "2022-02-01T00:00:00",
          "2022-03-01T00:00:00",
          "2022-04-01T00:00:00",
          "2022-05-01T00:00:00",
          "2022-06-01T00:00:00",
          "2022-07-01T00:00:00",
          "2022-08-01T00:00:00",
          "2022-09-01T00:00:00",
          "2022-10-01T00:00:00",
          "2022-11-01T00:00:00",
          "2022-12-01T00:00:00",
          "2023-01-01T00:00:00",
          "2023-02-01T00:00:00",
          "2023-03-01T00:00:00",
          "2023-04-01T00:00:00",
          "2023-05-01T00:00:00",
          "2023-06-01T00:00:00",
          "2023-07-01T00:00:00",
          "2023-08-01T00:00:00",
          "2023-09-01T00:00:00",
          "2023-10-01T00:00:00"
         ],
         "y": [
          20,
          10,
          0,
          21.5,
          1,
          31,
          0,
          0,
          21,
          0,
          70,
          0,
          20,
          10,
          0,
          21.5,
          1,
          31,
          0,
          0,
          21,
          0,
          70,
          0,
          20,
          10,
          0,
          25,
          1,
          31,
          0,
          0,
          21,
          0,
          70,
          0,
          20,
          10,
          0,
          21.5,
          1,
          30,
          0,
          0,
          21,
          0,
          70,
          0,
          20,
          10,
          0,
          18,
          1,
          32,
          0,
          0,
          21,
          0
         ]
        },
        {
         "mode": "lines+markers",
         "name": "Model-18_Store-17",
         "type": "scatter",
         "x": [
          "2019-01-01T00:00:00",
          "2019-02-01T00:00:00",
          "2019-03-01T00:00:00",
          "2019-04-01T00:00:00",
          "2019-05-01T00:00:00",
          "2019-06-01T00:00:00",
          "2019-07-01T00:00:00",
          "2019-08-01T00:00:00",
          "2019-09-01T00:00:00",
          "2019-10-01T00:00:00",
          "2019-11-01T00:00:00",
          "2019-12-01T00:00:00",
          "2020-01-01T00:00:00",
          "2020-02-01T00:00:00",
          "2020-03-01T00:00:00",
          "2020-04-01T00:00:00",
          "2020-05-01T00:00:00",
          "2020-06-01T00:00:00",
          "2020-07-01T00:00:00",
          "2020-08-01T00:00:00",
          "2020-09-01T00:00:00",
          "2020-10-01T00:00:00",
          "2020-11-01T00:00:00",
          "2020-12-01T00:00:00",
          "2021-01-01T00:00:00",
          "2021-02-01T00:00:00",
          "2021-03-01T00:00:00",
          "2021-04-01T00:00:00",
          "2021-05-01T00:00:00",
          "2021-06-01T00:00:00",
          "2021-07-01T00:00:00",
          "2021-08-01T00:00:00",
          "2021-09-01T00:00:00",
          "2021-10-01T00:00:00",
          "2021-11-01T00:00:00",
          "2021-12-01T00:00:00",
          "2022-01-01T00:00:00",
          "2022-02-01T00:00:00",
          "2022-03-01T00:00:00",
          "2022-04-01T00:00:00",
          "2022-05-01T00:00:00",
          "2022-06-01T00:00:00",
          "2022-07-01T00:00:00",
          "2022-08-01T00:00:00",
          "2022-09-01T00:00:00",
          "2022-10-01T00:00:00",
          "2022-11-01T00:00:00",
          "2022-12-01T00:00:00",
          "2023-01-01T00:00:00",
          "2023-02-01T00:00:00",
          "2023-03-01T00:00:00",
          "2023-04-01T00:00:00",
          "2023-05-01T00:00:00",
          "2023-06-01T00:00:00",
          "2023-07-01T00:00:00",
          "2023-08-01T00:00:00",
          "2023-09-01T00:00:00",
          "2023-10-01T00:00:00"
         ],
         "y": [
          15,
          19,
          6,
          14,
          16,
          24,
          25,
          8,
          5,
          13,
          18,
          10,
          18,
          13,
          4,
          17,
          8.666666666666666,
          1,
          28.75,
          1,
          7.666666666666667,
          110,
          9,
          38,
          22,
          12,
          20,
          22,
          8.666666666666666,
          13.333333333333334,
          69,
          19,
          10,
          22,
          14,
          36,
          16,
          15,
          10,
          15,
          9,
          15,
          17,
          5,
          8,
          3,
          7,
          23,
          7,
          7,
          10,
          17,
          1,
          13.333333333333334,
          4,
          1,
          7.666666666666667,
          37
         ]
        },
        {
         "mode": "lines+markers",
         "name": "Model-1_Store-1",
         "type": "scatter",
         "x": [
          "2019-01-01T00:00:00",
          "2019-02-01T00:00:00",
          "2019-03-01T00:00:00",
          "2019-04-01T00:00:00",
          "2019-05-01T00:00:00",
          "2019-06-01T00:00:00",
          "2019-07-01T00:00:00",
          "2019-08-01T00:00:00",
          "2019-09-01T00:00:00",
          "2019-10-01T00:00:00",
          "2019-11-01T00:00:00",
          "2019-12-01T00:00:00",
          "2020-01-01T00:00:00",
          "2020-02-01T00:00:00",
          "2020-03-01T00:00:00",
          "2020-04-01T00:00:00",
          "2020-05-01T00:00:00",
          "2020-06-01T00:00:00",
          "2020-07-01T00:00:00",
          "2020-08-01T00:00:00",
          "2020-09-01T00:00:00",
          "2020-10-01T00:00:00",
          "2020-11-01T00:00:00",
          "2020-12-01T00:00:00",
          "2021-01-01T00:00:00",
          "2021-02-01T00:00:00",
          "2021-03-01T00:00:00",
          "2021-04-01T00:00:00",
          "2021-05-01T00:00:00",
          "2021-06-01T00:00:00",
          "2021-07-01T00:00:00",
          "2021-08-01T00:00:00",
          "2021-09-01T00:00:00",
          "2021-10-01T00:00:00",
          "2021-11-01T00:00:00",
          "2021-12-01T00:00:00",
          "2022-01-01T00:00:00",
          "2022-02-01T00:00:00",
          "2022-03-01T00:00:00",
          "2022-04-01T00:00:00",
          "2022-05-01T00:00:00",
          "2022-06-01T00:00:00",
          "2022-07-01T00:00:00",
          "2022-08-01T00:00:00",
          "2022-09-01T00:00:00",
          "2022-10-01T00:00:00",
          "2022-11-01T00:00:00",
          "2022-12-01T00:00:00",
          "2023-01-01T00:00:00",
          "2023-02-01T00:00:00",
          "2023-03-01T00:00:00",
          "2023-04-01T00:00:00",
          "2023-05-01T00:00:00",
          "2023-06-01T00:00:00",
          "2023-07-01T00:00:00",
          "2023-08-01T00:00:00",
          "2023-09-01T00:00:00",
          "2023-10-01T00:00:00"
         ],
         "y": [
          54,
          72,
          19,
          31,
          371,
          359,
          442,
          132,
          501.6666666666667,
          93,
          306,
          5,
          54,
          171.5,
          93,
          31,
          154,
          269,
          264.5,
          261,
          158,
          93,
          200,
          2,
          54,
          271,
          93,
          31,
          6,
          25,
          87,
          3,
          756,
          93,
          94,
          3.5,
          54,
          171.5,
          167,
          31,
          177,
          298.25,
          264.5,
          132,
          591,
          93,
          200,
          3.5,
          54,
          171.5,
          93,
          31,
          177,
          540,
          264.5,
          132,
          501.6666666666667,
          93
         ]
        },
        {
         "mode": "lines+markers",
         "name": "Model-21_Store-20",
         "type": "scatter",
         "x": [
          "2019-01-01T00:00:00",
          "2019-02-01T00:00:00",
          "2019-03-01T00:00:00",
          "2019-04-01T00:00:00",
          "2019-05-01T00:00:00",
          "2019-06-01T00:00:00",
          "2019-07-01T00:00:00",
          "2019-08-01T00:00:00",
          "2019-09-01T00:00:00",
          "2019-10-01T00:00:00",
          "2019-11-01T00:00:00",
          "2019-12-01T00:00:00",
          "2020-01-01T00:00:00",
          "2020-02-01T00:00:00",
          "2020-03-01T00:00:00",
          "2020-04-01T00:00:00",
          "2020-05-01T00:00:00",
          "2020-06-01T00:00:00",
          "2020-07-01T00:00:00",
          "2020-08-01T00:00:00",
          "2020-09-01T00:00:00",
          "2020-10-01T00:00:00",
          "2020-11-01T00:00:00",
          "2020-12-01T00:00:00",
          "2021-01-01T00:00:00",
          "2021-02-01T00:00:00",
          "2021-03-01T00:00:00",
          "2021-04-01T00:00:00",
          "2021-05-01T00:00:00",
          "2021-06-01T00:00:00",
          "2021-07-01T00:00:00",
          "2021-08-01T00:00:00",
          "2021-09-01T00:00:00",
          "2021-10-01T00:00:00",
          "2021-11-01T00:00:00",
          "2021-12-01T00:00:00",
          "2022-01-01T00:00:00",
          "2022-02-01T00:00:00",
          "2022-03-01T00:00:00",
          "2022-04-01T00:00:00",
          "2022-05-01T00:00:00",
          "2022-06-01T00:00:00",
          "2022-07-01T00:00:00",
          "2022-08-01T00:00:00",
          "2022-09-01T00:00:00",
          "2022-10-01T00:00:00",
          "2022-11-01T00:00:00",
          "2022-12-01T00:00:00",
          "2023-01-01T00:00:00",
          "2023-02-01T00:00:00",
          "2023-03-01T00:00:00",
          "2023-04-01T00:00:00",
          "2023-05-01T00:00:00",
          "2023-06-01T00:00:00",
          "2023-07-01T00:00:00",
          "2023-08-01T00:00:00",
          "2023-09-01T00:00:00",
          "2023-10-01T00:00:00"
         ],
         "y": [
          10,
          1.5,
          6,
          2,
          0,
          0,
          0,
          4,
          2.5,
          3,
          4,
          8,
          10,
          1.5,
          6,
          2,
          0,
          0,
          0,
          4,
          2.5,
          3,
          4,
          8,
          10,
          1.5,
          6,
          2,
          0,
          0,
          0,
          4,
          2.5,
          3,
          1,
          8,
          10,
          1,
          6,
          2,
          0,
          0,
          0,
          4,
          1,
          3,
          7,
          8,
          10,
          2,
          6,
          2,
          0,
          0,
          0,
          4,
          4,
          3
         ]
        },
        {
         "mode": "lines+markers",
         "name": "Model-2_Store-2",
         "type": "scatter",
         "x": [
          "2019-01-01T00:00:00",
          "2019-02-01T00:00:00",
          "2019-03-01T00:00:00",
          "2019-04-01T00:00:00",
          "2019-05-01T00:00:00",
          "2019-06-01T00:00:00",
          "2019-07-01T00:00:00",
          "2019-08-01T00:00:00",
          "2019-09-01T00:00:00",
          "2019-10-01T00:00:00",
          "2019-11-01T00:00:00",
          "2019-12-01T00:00:00",
          "2020-01-01T00:00:00",
          "2020-02-01T00:00:00",
          "2020-03-01T00:00:00",
          "2020-04-01T00:00:00",
          "2020-05-01T00:00:00",
          "2020-06-01T00:00:00",
          "2020-07-01T00:00:00",
          "2020-08-01T00:00:00",
          "2020-09-01T00:00:00",
          "2020-10-01T00:00:00",
          "2020-11-01T00:00:00",
          "2020-12-01T00:00:00",
          "2021-01-01T00:00:00",
          "2021-02-01T00:00:00",
          "2021-03-01T00:00:00",
          "2021-04-01T00:00:00",
          "2021-05-01T00:00:00",
          "2021-06-01T00:00:00",
          "2021-07-01T00:00:00",
          "2021-08-01T00:00:00",
          "2021-09-01T00:00:00",
          "2021-10-01T00:00:00",
          "2021-11-01T00:00:00",
          "2021-12-01T00:00:00",
          "2022-01-01T00:00:00",
          "2022-02-01T00:00:00",
          "2022-03-01T00:00:00",
          "2022-04-01T00:00:00",
          "2022-05-01T00:00:00",
          "2022-06-01T00:00:00",
          "2022-07-01T00:00:00",
          "2022-08-01T00:00:00",
          "2022-09-01T00:00:00",
          "2022-10-01T00:00:00",
          "2022-11-01T00:00:00",
          "2022-12-01T00:00:00",
          "2023-01-01T00:00:00",
          "2023-02-01T00:00:00",
          "2023-03-01T00:00:00",
          "2023-04-01T00:00:00",
          "2023-05-01T00:00:00",
          "2023-06-01T00:00:00",
          "2023-07-01T00:00:00",
          "2023-08-01T00:00:00",
          "2023-09-01T00:00:00",
          "2023-10-01T00:00:00"
         ],
         "y": [
          60,
          98,
          84,
          55,
          106,
          129,
          72,
          109,
          157,
          494,
          84,
          47,
          59,
          63,
          12,
          72.25,
          107.66666666666667,
          14,
          82,
          45,
          53,
          121,
          276,
          64,
          70,
          54,
          48,
          71,
          107.66666666666667,
          104,
          215,
          56,
          44,
          1,
          142,
          136,
          109,
          164,
          101,
          68,
          120,
          43,
          27,
          299,
          252,
          178.5,
          66,
          96,
          100,
          62,
          66,
          95,
          97,
          3,
          155,
          58,
          105,
          98
         ]
        },
        {
         "mode": "lines+markers",
         "name": "Model-3_Store-3",
         "type": "scatter",
         "x": [
          "2019-01-01T00:00:00",
          "2019-02-01T00:00:00",
          "2019-03-01T00:00:00",
          "2019-04-01T00:00:00",
          "2019-05-01T00:00:00",
          "2019-06-01T00:00:00",
          "2019-07-01T00:00:00",
          "2019-08-01T00:00:00",
          "2019-09-01T00:00:00",
          "2019-10-01T00:00:00",
          "2019-11-01T00:00:00",
          "2019-12-01T00:00:00",
          "2020-01-01T00:00:00",
          "2020-02-01T00:00:00",
          "2020-03-01T00:00:00",
          "2020-04-01T00:00:00",
          "2020-05-01T00:00:00",
          "2020-06-01T00:00:00",
          "2020-07-01T00:00:00",
          "2020-08-01T00:00:00",
          "2020-09-01T00:00:00",
          "2020-10-01T00:00:00",
          "2020-11-01T00:00:00",
          "2020-12-01T00:00:00",
          "2021-01-01T00:00:00",
          "2021-02-01T00:00:00",
          "2021-03-01T00:00:00",
          "2021-04-01T00:00:00",
          "2021-05-01T00:00:00",
          "2021-06-01T00:00:00",
          "2021-07-01T00:00:00",
          "2021-08-01T00:00:00",
          "2021-09-01T00:00:00",
          "2021-10-01T00:00:00",
          "2021-11-01T00:00:00",
          "2021-12-01T00:00:00",
          "2022-01-01T00:00:00",
          "2022-02-01T00:00:00",
          "2022-03-01T00:00:00",
          "2022-04-01T00:00:00",
          "2022-05-01T00:00:00",
          "2022-06-01T00:00:00",
          "2022-07-01T00:00:00",
          "2022-08-01T00:00:00",
          "2022-09-01T00:00:00",
          "2022-10-01T00:00:00",
          "2022-11-01T00:00:00",
          "2022-12-01T00:00:00",
          "2023-01-01T00:00:00",
          "2023-02-01T00:00:00",
          "2023-03-01T00:00:00",
          "2023-04-01T00:00:00",
          "2023-05-01T00:00:00",
          "2023-06-01T00:00:00",
          "2023-07-01T00:00:00",
          "2023-08-01T00:00:00",
          "2023-09-01T00:00:00",
          "2023-10-01T00:00:00"
         ],
         "y": [
          22,
          11,
          19,
          18.5,
          23,
          19.666666666666668,
          33.666666666666664,
          23.666666666666668,
          20.333333333333332,
          38.333333333333336,
          22,
          5.5,
          22,
          11,
          19,
          18.5,
          23,
          19.666666666666668,
          33.666666666666664,
          23.666666666666668,
          20.333333333333332,
          38.333333333333336,
          22,
          5.5,
          22,
          11,
          19,
          18.5,
          23,
          42,
          64,
          19,
          31,
          56,
          25,
          4,
          14,
          4,
          23,
          19,
          34,
          8,
          13,
          27,
          18,
          35,
          39,
          7,
          30,
          18,
          15,
          18,
          12,
          9,
          24,
          25,
          12,
          24
         ]
        },
        {
         "mode": "lines+markers",
         "name": "Model-4_Store-4",
         "type": "scatter",
         "x": [
          "2019-01-01T00:00:00",
          "2019-02-01T00:00:00",
          "2019-03-01T00:00:00",
          "2019-04-01T00:00:00",
          "2019-05-01T00:00:00",
          "2019-06-01T00:00:00",
          "2019-07-01T00:00:00",
          "2019-08-01T00:00:00",
          "2019-09-01T00:00:00",
          "2019-10-01T00:00:00",
          "2019-11-01T00:00:00",
          "2019-12-01T00:00:00",
          "2020-01-01T00:00:00",
          "2020-02-01T00:00:00",
          "2020-03-01T00:00:00",
          "2020-04-01T00:00:00",
          "2020-05-01T00:00:00",
          "2020-06-01T00:00:00",
          "2020-07-01T00:00:00",
          "2020-08-01T00:00:00",
          "2020-09-01T00:00:00",
          "2020-10-01T00:00:00",
          "2020-11-01T00:00:00",
          "2020-12-01T00:00:00",
          "2021-01-01T00:00:00",
          "2021-02-01T00:00:00",
          "2021-03-01T00:00:00",
          "2021-04-01T00:00:00",
          "2021-05-01T00:00:00",
          "2021-06-01T00:00:00",
          "2021-07-01T00:00:00",
          "2021-08-01T00:00:00",
          "2021-09-01T00:00:00",
          "2021-10-01T00:00:00",
          "2021-11-01T00:00:00",
          "2021-12-01T00:00:00",
          "2022-01-01T00:00:00",
          "2022-02-01T00:00:00",
          "2022-03-01T00:00:00",
          "2022-04-01T00:00:00",
          "2022-05-01T00:00:00",
          "2022-06-01T00:00:00",
          "2022-07-01T00:00:00",
          "2022-08-01T00:00:00",
          "2022-09-01T00:00:00",
          "2022-10-01T00:00:00",
          "2022-11-01T00:00:00",
          "2022-12-01T00:00:00",
          "2023-01-01T00:00:00",
          "2023-02-01T00:00:00",
          "2023-03-01T00:00:00",
          "2023-04-01T00:00:00",
          "2023-05-01T00:00:00",
          "2023-06-01T00:00:00",
          "2023-07-01T00:00:00",
          "2023-08-01T00:00:00",
          "2023-09-01T00:00:00",
          "2023-10-01T00:00:00"
         ],
         "y": [
          2,
          723,
          418,
          143,
          2,
          125.66666666666667,
          1,
          1,
          3,
          494,
          175,
          17,
          116.5,
          113,
          139.25,
          155.25,
          144,
          1,
          280,
          96.33333333333333,
          2,
          136,
          45,
          26,
          1,
          297.3333333333333,
          1,
          1,
          286,
          253,
          183,
          96.33333333333333,
          233,
          521,
          110,
          21.5,
          150,
          297.3333333333333,
          44,
          404,
          144,
          125.66666666666667,
          195,
          159,
          112.25,
          247,
          110,
          21.5,
          313,
          56,
          94,
          73,
          144,
          123,
          188,
          129,
          211,
          88
         ]
        },
        {
         "mode": "lines+markers",
         "name": "Model-5_Store-5",
         "type": "scatter",
         "x": [
          "2019-01-01T00:00:00",
          "2019-02-01T00:00:00",
          "2019-03-01T00:00:00",
          "2019-04-01T00:00:00",
          "2019-05-01T00:00:00",
          "2019-06-01T00:00:00",
          "2019-07-01T00:00:00",
          "2019-08-01T00:00:00",
          "2019-09-01T00:00:00",
          "2019-10-01T00:00:00",
          "2019-11-01T00:00:00",
          "2019-12-01T00:00:00",
          "2020-01-01T00:00:00",
          "2020-02-01T00:00:00",
          "2020-03-01T00:00:00",
          "2020-04-01T00:00:00",
          "2020-05-01T00:00:00",
          "2020-06-01T00:00:00",
          "2020-07-01T00:00:00",
          "2020-08-01T00:00:00",
          "2020-09-01T00:00:00",
          "2020-10-01T00:00:00",
          "2020-11-01T00:00:00",
          "2020-12-01T00:00:00",
          "2021-01-01T00:00:00",
          "2021-02-01T00:00:00",
          "2021-03-01T00:00:00",
          "2021-04-01T00:00:00",
          "2021-05-01T00:00:00",
          "2021-06-01T00:00:00",
          "2021-07-01T00:00:00",
          "2021-08-01T00:00:00",
          "2021-09-01T00:00:00",
          "2021-10-01T00:00:00",
          "2021-11-01T00:00:00",
          "2021-12-01T00:00:00",
          "2022-01-01T00:00:00",
          "2022-02-01T00:00:00",
          "2022-03-01T00:00:00",
          "2022-04-01T00:00:00",
          "2022-05-01T00:00:00",
          "2022-06-01T00:00:00",
          "2022-07-01T00:00:00",
          "2022-08-01T00:00:00",
          "2022-09-01T00:00:00",
          "2022-10-01T00:00:00",
          "2022-11-01T00:00:00",
          "2022-12-01T00:00:00",
          "2023-01-01T00:00:00",
          "2023-02-01T00:00:00",
          "2023-03-01T00:00:00",
          "2023-04-01T00:00:00",
          "2023-05-01T00:00:00",
          "2023-06-01T00:00:00",
          "2023-07-01T00:00:00",
          "2023-08-01T00:00:00",
          "2023-09-01T00:00:00",
          "2023-10-01T00:00:00"
         ],
         "y": [
          50,
          37.5,
          28,
          38.5,
          50,
          0,
          61.5,
          33.5,
          4,
          48.666666666666664,
          25,
          58,
          50,
          37.5,
          28,
          38.5,
          50,
          0,
          61.5,
          33.5,
          4,
          48.666666666666664,
          25,
          58,
          50,
          37.5,
          28,
          38.5,
          50,
          0,
          61.5,
          33.5,
          4,
          80,
          25,
          58,
          50,
          25,
          28,
          15,
          50,
          0,
          80,
          37,
          4,
          45,
          25,
          58,
          50,
          50,
          28,
          62,
          50,
          0,
          43,
          30,
          4,
          21
         ]
        },
        {
         "mode": "lines+markers",
         "name": "Model-8_Store-8",
         "type": "scatter",
         "x": [
          "2019-01-01T00:00:00",
          "2019-02-01T00:00:00",
          "2019-03-01T00:00:00",
          "2019-04-01T00:00:00",
          "2019-05-01T00:00:00",
          "2019-06-01T00:00:00",
          "2019-07-01T00:00:00",
          "2019-08-01T00:00:00",
          "2019-09-01T00:00:00",
          "2019-10-01T00:00:00",
          "2019-11-01T00:00:00",
          "2019-12-01T00:00:00",
          "2020-01-01T00:00:00",
          "2020-02-01T00:00:00",
          "2020-03-01T00:00:00",
          "2020-04-01T00:00:00",
          "2020-05-01T00:00:00",
          "2020-06-01T00:00:00",
          "2020-07-01T00:00:00",
          "2020-08-01T00:00:00",
          "2020-09-01T00:00:00",
          "2020-10-01T00:00:00",
          "2020-11-01T00:00:00",
          "2020-12-01T00:00:00",
          "2021-01-01T00:00:00",
          "2021-02-01T00:00:00",
          "2021-03-01T00:00:00",
          "2021-04-01T00:00:00",
          "2021-05-01T00:00:00",
          "2021-06-01T00:00:00",
          "2021-07-01T00:00:00",
          "2021-08-01T00:00:00",
          "2021-09-01T00:00:00",
          "2021-10-01T00:00:00",
          "2021-11-01T00:00:00",
          "2021-12-01T00:00:00",
          "2022-01-01T00:00:00",
          "2022-02-01T00:00:00",
          "2022-03-01T00:00:00",
          "2022-04-01T00:00:00",
          "2022-05-01T00:00:00",
          "2022-06-01T00:00:00",
          "2022-07-01T00:00:00",
          "2022-08-01T00:00:00",
          "2022-09-01T00:00:00",
          "2022-10-01T00:00:00",
          "2022-11-01T00:00:00",
          "2022-12-01T00:00:00",
          "2023-01-01T00:00:00",
          "2023-02-01T00:00:00",
          "2023-03-01T00:00:00",
          "2023-04-01T00:00:00",
          "2023-05-01T00:00:00",
          "2023-06-01T00:00:00",
          "2023-07-01T00:00:00",
          "2023-08-01T00:00:00",
          "2023-09-01T00:00:00",
          "2023-10-01T00:00:00"
         ],
         "y": [
          113,
          96,
          7,
          294.5,
          84,
          66,
          64,
          301.6666666666667,
          114.5,
          290.6666666666667,
          93,
          333,
          113,
          96,
          7,
          294.5,
          84,
          66,
          64,
          301.6666666666667,
          114.5,
          290.6666666666667,
          93,
          333,
          113,
          96,
          7,
          294.5,
          84,
          66,
          64,
          432,
          4,
          519,
          152,
          333,
          158,
          42,
          2,
          521,
          147,
          66,
          95,
          362,
          114.5,
          193,
          47,
          333,
          68,
          150,
          12,
          68,
          21,
          66,
          33,
          111,
          225,
          160
         ]
        },
        {
         "mode": "lines+markers",
         "name": "Model-9_Store-4",
         "type": "scatter",
         "x": [
          "2019-01-01T00:00:00",
          "2019-02-01T00:00:00",
          "2019-03-01T00:00:00",
          "2019-04-01T00:00:00",
          "2019-05-01T00:00:00",
          "2019-06-01T00:00:00",
          "2019-07-01T00:00:00",
          "2019-08-01T00:00:00",
          "2019-09-01T00:00:00",
          "2019-10-01T00:00:00",
          "2019-11-01T00:00:00",
          "2019-12-01T00:00:00",
          "2020-01-01T00:00:00",
          "2020-02-01T00:00:00",
          "2020-03-01T00:00:00",
          "2020-04-01T00:00:00",
          "2020-05-01T00:00:00",
          "2020-06-01T00:00:00",
          "2020-07-01T00:00:00",
          "2020-08-01T00:00:00",
          "2020-09-01T00:00:00",
          "2020-10-01T00:00:00",
          "2020-11-01T00:00:00",
          "2020-12-01T00:00:00",
          "2021-01-01T00:00:00",
          "2021-02-01T00:00:00",
          "2021-03-01T00:00:00",
          "2021-04-01T00:00:00",
          "2021-05-01T00:00:00",
          "2021-06-01T00:00:00",
          "2021-07-01T00:00:00",
          "2021-08-01T00:00:00",
          "2021-09-01T00:00:00",
          "2021-10-01T00:00:00",
          "2021-11-01T00:00:00",
          "2021-12-01T00:00:00",
          "2022-01-01T00:00:00",
          "2022-02-01T00:00:00",
          "2022-03-01T00:00:00",
          "2022-04-01T00:00:00",
          "2022-05-01T00:00:00",
          "2022-06-01T00:00:00",
          "2022-07-01T00:00:00",
          "2022-08-01T00:00:00",
          "2022-09-01T00:00:00",
          "2022-10-01T00:00:00",
          "2022-11-01T00:00:00",
          "2022-12-01T00:00:00",
          "2023-01-01T00:00:00",
          "2023-02-01T00:00:00",
          "2023-03-01T00:00:00",
          "2023-04-01T00:00:00",
          "2023-05-01T00:00:00",
          "2023-06-01T00:00:00",
          "2023-07-01T00:00:00",
          "2023-08-01T00:00:00",
          "2023-09-01T00:00:00",
          "2023-10-01T00:00:00"
         ],
         "y": [
          18,
          19,
          0,
          179,
          42,
          11.5,
          67,
          36,
          119.5,
          20,
          0,
          3,
          18,
          19,
          0,
          179,
          42,
          11.5,
          67,
          36,
          119.5,
          20,
          0,
          3,
          18,
          19,
          0,
          179,
          42,
          11.5,
          129,
          36,
          54,
          14,
          0,
          3,
          26,
          19,
          0,
          85,
          42,
          12,
          15,
          36,
          119.5,
          45,
          0,
          3,
          10,
          19,
          0,
          273,
          42,
          11,
          57,
          36,
          185,
          1
         ]
        }
       ],
       "layout": {
        "template": {
         "data": {
          "bar": [
           {
            "error_x": {
             "color": "#2a3f5f"
            },
            "error_y": {
             "color": "#2a3f5f"
            },
            "marker": {
             "line": {
              "color": "#E5ECF6",
              "width": 0.5
             },
             "pattern": {
              "fillmode": "overlay",
              "size": 10,
              "solidity": 0.2
             }
            },
            "type": "bar"
           }
          ],
          "barpolar": [
           {
            "marker": {
             "line": {
              "color": "#E5ECF6",
              "width": 0.5
             },
             "pattern": {
              "fillmode": "overlay",
              "size": 10,
              "solidity": 0.2
             }
            },
            "type": "barpolar"
           }
          ],
          "carpet": [
           {
            "aaxis": {
             "endlinecolor": "#2a3f5f",
             "gridcolor": "white",
             "linecolor": "white",
             "minorgridcolor": "white",
             "startlinecolor": "#2a3f5f"
            },
            "baxis": {
             "endlinecolor": "#2a3f5f",
             "gridcolor": "white",
             "linecolor": "white",
             "minorgridcolor": "white",
             "startlinecolor": "#2a3f5f"
            },
            "type": "carpet"
           }
          ],
          "choropleth": [
           {
            "colorbar": {
             "outlinewidth": 0,
             "ticks": ""
            },
            "type": "choropleth"
           }
          ],
          "contour": [
           {
            "colorbar": {
             "outlinewidth": 0,
             "ticks": ""
            },
            "colorscale": [
             [
              0,
              "#0d0887"
             ],
             [
              0.1111111111111111,
              "#46039f"
             ],
             [
              0.2222222222222222,
              "#7201a8"
             ],
             [
              0.3333333333333333,
              "#9c179e"
             ],
             [
              0.4444444444444444,
              "#bd3786"
             ],
             [
              0.5555555555555556,
              "#d8576b"
             ],
             [
              0.6666666666666666,
              "#ed7953"
             ],
             [
              0.7777777777777778,
              "#fb9f3a"
             ],
             [
              0.8888888888888888,
              "#fdca26"
             ],
             [
              1,
              "#f0f921"
             ]
            ],
            "type": "contour"
           }
          ],
          "contourcarpet": [
           {
            "colorbar": {
             "outlinewidth": 0,
             "ticks": ""
            },
            "type": "contourcarpet"
           }
          ],
          "heatmap": [
           {
            "colorbar": {
             "outlinewidth": 0,
             "ticks": ""
            },
            "colorscale": [
             [
              0,
              "#0d0887"
             ],
             [
              0.1111111111111111,
              "#46039f"
             ],
             [
              0.2222222222222222,
              "#7201a8"
             ],
             [
              0.3333333333333333,
              "#9c179e"
             ],
             [
              0.4444444444444444,
              "#bd3786"
             ],
             [
              0.5555555555555556,
              "#d8576b"
             ],
             [
              0.6666666666666666,
              "#ed7953"
             ],
             [
              0.7777777777777778,
              "#fb9f3a"
             ],
             [
              0.8888888888888888,
              "#fdca26"
             ],
             [
              1,
              "#f0f921"
             ]
            ],
            "type": "heatmap"
           }
          ],
          "heatmapgl": [
           {
            "colorbar": {
             "outlinewidth": 0,
             "ticks": ""
            },
            "colorscale": [
             [
              0,
              "#0d0887"
             ],
             [
              0.1111111111111111,
              "#46039f"
             ],
             [
              0.2222222222222222,
              "#7201a8"
             ],
             [
              0.3333333333333333,
              "#9c179e"
             ],
             [
              0.4444444444444444,
              "#bd3786"
             ],
             [
              0.5555555555555556,
              "#d8576b"
             ],
             [
              0.6666666666666666,
              "#ed7953"
             ],
             [
              0.7777777777777778,
              "#fb9f3a"
             ],
             [
              0.8888888888888888,
              "#fdca26"
             ],
             [
              1,
              "#f0f921"
             ]
            ],
            "type": "heatmapgl"
           }
          ],
          "histogram": [
           {
            "marker": {
             "pattern": {
              "fillmode": "overlay",
              "size": 10,
              "solidity": 0.2
             }
            },
            "type": "histogram"
           }
          ],
          "histogram2d": [
           {
            "colorbar": {
             "outlinewidth": 0,
             "ticks": ""
            },
            "colorscale": [
             [
              0,
              "#0d0887"
             ],
             [
              0.1111111111111111,
              "#46039f"
             ],
             [
              0.2222222222222222,
              "#7201a8"
             ],
             [
              0.3333333333333333,
              "#9c179e"
             ],
             [
              0.4444444444444444,
              "#bd3786"
             ],
             [
              0.5555555555555556,
              "#d8576b"
             ],
             [
              0.6666666666666666,
              "#ed7953"
             ],
             [
              0.7777777777777778,
              "#fb9f3a"
             ],
             [
              0.8888888888888888,
              "#fdca26"
             ],
             [
              1,
              "#f0f921"
             ]
            ],
            "type": "histogram2d"
           }
          ],
          "histogram2dcontour": [
           {
            "colorbar": {
             "outlinewidth": 0,
             "ticks": ""
            },
            "colorscale": [
             [
              0,
              "#0d0887"
             ],
             [
              0.1111111111111111,
              "#46039f"
             ],
             [
              0.2222222222222222,
              "#7201a8"
             ],
             [
              0.3333333333333333,
              "#9c179e"
             ],
             [
              0.4444444444444444,
              "#bd3786"
             ],
             [
              0.5555555555555556,
              "#d8576b"
             ],
             [
              0.6666666666666666,
              "#ed7953"
             ],
             [
              0.7777777777777778,
              "#fb9f3a"
             ],
             [
              0.8888888888888888,
              "#fdca26"
             ],
             [
              1,
              "#f0f921"
             ]
            ],
            "type": "histogram2dcontour"
           }
          ],
          "mesh3d": [
           {
            "colorbar": {
             "outlinewidth": 0,
             "ticks": ""
            },
            "type": "mesh3d"
           }
          ],
          "parcoords": [
           {
            "line": {
             "colorbar": {
              "outlinewidth": 0,
              "ticks": ""
             }
            },
            "type": "parcoords"
           }
          ],
          "pie": [
           {
            "automargin": true,
            "type": "pie"
           }
          ],
          "scatter": [
           {
            "fillpattern": {
             "fillmode": "overlay",
             "size": 10,
             "solidity": 0.2
            },
            "type": "scatter"
           }
          ],
          "scatter3d": [
           {
            "line": {
             "colorbar": {
              "outlinewidth": 0,
              "ticks": ""
             }
            },
            "marker": {
             "colorbar": {
              "outlinewidth": 0,
              "ticks": ""
             }
            },
            "type": "scatter3d"
           }
          ],
          "scattercarpet": [
           {
            "marker": {
             "colorbar": {
              "outlinewidth": 0,
              "ticks": ""
             }
            },
            "type": "scattercarpet"
           }
          ],
          "scattergeo": [
           {
            "marker": {
             "colorbar": {
              "outlinewidth": 0,
              "ticks": ""
             }
            },
            "type": "scattergeo"
           }
          ],
          "scattergl": [
           {
            "marker": {
             "colorbar": {
              "outlinewidth": 0,
              "ticks": ""
             }
            },
            "type": "scattergl"
           }
          ],
          "scattermapbox": [
           {
            "marker": {
             "colorbar": {
              "outlinewidth": 0,
              "ticks": ""
             }
            },
            "type": "scattermapbox"
           }
          ],
          "scatterpolar": [
           {
            "marker": {
             "colorbar": {
              "outlinewidth": 0,
              "ticks": ""
             }
            },
            "type": "scatterpolar"
           }
          ],
          "scatterpolargl": [
           {
            "marker": {
             "colorbar": {
              "outlinewidth": 0,
              "ticks": ""
             }
            },
            "type": "scatterpolargl"
           }
          ],
          "scatterternary": [
           {
            "marker": {
             "colorbar": {
              "outlinewidth": 0,
              "ticks": ""
             }
            },
            "type": "scatterternary"
           }
          ],
          "surface": [
           {
            "colorbar": {
             "outlinewidth": 0,
             "ticks": ""
            },
            "colorscale": [
             [
              0,
              "#0d0887"
             ],
             [
              0.1111111111111111,
              "#46039f"
             ],
             [
              0.2222222222222222,
              "#7201a8"
             ],
             [
              0.3333333333333333,
              "#9c179e"
             ],
             [
              0.4444444444444444,
              "#bd3786"
             ],
             [
              0.5555555555555556,
              "#d8576b"
             ],
             [
              0.6666666666666666,
              "#ed7953"
             ],
             [
              0.7777777777777778,
              "#fb9f3a"
             ],
             [
              0.8888888888888888,
              "#fdca26"
             ],
             [
              1,
              "#f0f921"
             ]
            ],
            "type": "surface"
           }
          ],
          "table": [
           {
            "cells": {
             "fill": {
              "color": "#EBF0F8"
             },
             "line": {
              "color": "white"
             }
            },
            "header": {
             "fill": {
              "color": "#C8D4E3"
             },
             "line": {
              "color": "white"
             }
            },
            "type": "table"
           }
          ]
         },
         "layout": {
          "annotationdefaults": {
           "arrowcolor": "#2a3f5f",
           "arrowhead": 0,
           "arrowwidth": 1
          },
          "autotypenumbers": "strict",
          "coloraxis": {
           "colorbar": {
            "outlinewidth": 0,
            "ticks": ""
           }
          },
          "colorscale": {
           "diverging": [
            [
             0,
             "#8e0152"
            ],
            [
             0.1,
             "#c51b7d"
            ],
            [
             0.2,
             "#de77ae"
            ],
            [
             0.3,
             "#f1b6da"
            ],
            [
             0.4,
             "#fde0ef"
            ],
            [
             0.5,
             "#f7f7f7"
            ],
            [
             0.6,
             "#e6f5d0"
            ],
            [
             0.7,
             "#b8e186"
            ],
            [
             0.8,
             "#7fbc41"
            ],
            [
             0.9,
             "#4d9221"
            ],
            [
             1,
             "#276419"
            ]
           ],
           "sequential": [
            [
             0,
             "#0d0887"
            ],
            [
             0.1111111111111111,
             "#46039f"
            ],
            [
             0.2222222222222222,
             "#7201a8"
            ],
            [
             0.3333333333333333,
             "#9c179e"
            ],
            [
             0.4444444444444444,
             "#bd3786"
            ],
            [
             0.5555555555555556,
             "#d8576b"
            ],
            [
             0.6666666666666666,
             "#ed7953"
            ],
            [
             0.7777777777777778,
             "#fb9f3a"
            ],
            [
             0.8888888888888888,
             "#fdca26"
            ],
            [
             1,
             "#f0f921"
            ]
           ],
           "sequentialminus": [
            [
             0,
             "#0d0887"
            ],
            [
             0.1111111111111111,
             "#46039f"
            ],
            [
             0.2222222222222222,
             "#7201a8"
            ],
            [
             0.3333333333333333,
             "#9c179e"
            ],
            [
             0.4444444444444444,
             "#bd3786"
            ],
            [
             0.5555555555555556,
             "#d8576b"
            ],
            [
             0.6666666666666666,
             "#ed7953"
            ],
            [
             0.7777777777777778,
             "#fb9f3a"
            ],
            [
             0.8888888888888888,
             "#fdca26"
            ],
            [
             1,
             "#f0f921"
            ]
           ]
          },
          "colorway": [
           "#636efa",
           "#EF553B",
           "#00cc96",
           "#ab63fa",
           "#FFA15A",
           "#19d3f3",
           "#FF6692",
           "#B6E880",
           "#FF97FF",
           "#FECB52"
          ],
          "font": {
           "color": "#2a3f5f"
          },
          "geo": {
           "bgcolor": "white",
           "lakecolor": "white",
           "landcolor": "#E5ECF6",
           "showlakes": true,
           "showland": true,
           "subunitcolor": "white"
          },
          "hoverlabel": {
           "align": "left"
          },
          "hovermode": "closest",
          "mapbox": {
           "style": "light"
          },
          "paper_bgcolor": "white",
          "plot_bgcolor": "#E5ECF6",
          "polar": {
           "angularaxis": {
            "gridcolor": "white",
            "linecolor": "white",
            "ticks": ""
           },
           "bgcolor": "#E5ECF6",
           "radialaxis": {
            "gridcolor": "white",
            "linecolor": "white",
            "ticks": ""
           }
          },
          "scene": {
           "xaxis": {
            "backgroundcolor": "#E5ECF6",
            "gridcolor": "white",
            "gridwidth": 2,
            "linecolor": "white",
            "showbackground": true,
            "ticks": "",
            "zerolinecolor": "white"
           },
           "yaxis": {
            "backgroundcolor": "#E5ECF6",
            "gridcolor": "white",
            "gridwidth": 2,
            "linecolor": "white",
            "showbackground": true,
            "ticks": "",
            "zerolinecolor": "white"
           },
           "zaxis": {
            "backgroundcolor": "#E5ECF6",
            "gridcolor": "white",
            "gridwidth": 2,
            "linecolor": "white",
            "showbackground": true,
            "ticks": "",
            "zerolinecolor": "white"
           }
          },
          "shapedefaults": {
           "line": {
            "color": "#2a3f5f"
           }
          },
          "ternary": {
           "aaxis": {
            "gridcolor": "white",
            "linecolor": "white",
            "ticks": ""
           },
           "baxis": {
            "gridcolor": "white",
            "linecolor": "white",
            "ticks": ""
           },
           "bgcolor": "#E5ECF6",
           "caxis": {
            "gridcolor": "white",
            "linecolor": "white",
            "ticks": ""
           }
          },
          "title": {
           "x": 0.05
          },
          "xaxis": {
           "automargin": true,
           "gridcolor": "white",
           "linecolor": "white",
           "ticks": "",
           "title": {
            "standoff": 15
           },
           "zerolinecolor": "white",
           "zerolinewidth": 2
          },
          "yaxis": {
           "automargin": true,
           "gridcolor": "white",
           "linecolor": "white",
           "ticks": "",
           "title": {
            "standoff": 15
           },
           "zerolinecolor": "white",
           "zerolinewidth": 2
          }
         }
        },
        "title": {
         "text": "Monthly Sales"
        }
       }
      },
      "text/html": [
       "<div>                            <div id=\"87f3b8a2-b6bb-4421-ad40-fc7bec3c3bbe\" class=\"plotly-graph-div\" style=\"height:525px; width:100%;\"></div>            <script type=\"text/javascript\">                require([\"plotly\"], function(Plotly) {                    window.PLOTLYENV=window.PLOTLYENV || {};                                    if (document.getElementById(\"87f3b8a2-b6bb-4421-ad40-fc7bec3c3bbe\")) {                    Plotly.newPlot(                        \"87f3b8a2-b6bb-4421-ad40-fc7bec3c3bbe\",                        [{\"mode\":\"lines+markers\",\"name\":\"Model-10_Store-9\",\"x\":[\"2019-01-01T00:00:00\",\"2019-02-01T00:00:00\",\"2019-03-01T00:00:00\",\"2019-04-01T00:00:00\",\"2019-05-01T00:00:00\",\"2019-06-01T00:00:00\",\"2019-07-01T00:00:00\",\"2019-08-01T00:00:00\",\"2019-09-01T00:00:00\",\"2019-10-01T00:00:00\",\"2019-11-01T00:00:00\",\"2019-12-01T00:00:00\",\"2020-01-01T00:00:00\",\"2020-02-01T00:00:00\",\"2020-03-01T00:00:00\",\"2020-04-01T00:00:00\",\"2020-05-01T00:00:00\",\"2020-06-01T00:00:00\",\"2020-07-01T00:00:00\",\"2020-08-01T00:00:00\",\"2020-09-01T00:00:00\",\"2020-10-01T00:00:00\",\"2020-11-01T00:00:00\",\"2020-12-01T00:00:00\",\"2021-01-01T00:00:00\",\"2021-02-01T00:00:00\",\"2021-03-01T00:00:00\",\"2021-04-01T00:00:00\",\"2021-05-01T00:00:00\",\"2021-06-01T00:00:00\",\"2021-07-01T00:00:00\",\"2021-08-01T00:00:00\",\"2021-09-01T00:00:00\",\"2021-10-01T00:00:00\",\"2021-11-01T00:00:00\",\"2021-12-01T00:00:00\",\"2022-01-01T00:00:00\",\"2022-02-01T00:00:00\",\"2022-03-01T00:00:00\",\"2022-04-01T00:00:00\",\"2022-05-01T00:00:00\",\"2022-06-01T00:00:00\",\"2022-07-01T00:00:00\",\"2022-08-01T00:00:00\",\"2022-09-01T00:00:00\",\"2022-10-01T00:00:00\",\"2022-11-01T00:00:00\",\"2022-12-01T00:00:00\",\"2023-01-01T00:00:00\",\"2023-02-01T00:00:00\",\"2023-03-01T00:00:00\",\"2023-04-01T00:00:00\",\"2023-05-01T00:00:00\",\"2023-06-01T00:00:00\",\"2023-07-01T00:00:00\",\"2023-08-01T00:00:00\",\"2023-09-01T00:00:00\",\"2023-10-01T00:00:00\"],\"y\":[311.0,38.0,9.0,40.0,75.0,358.0,68.0,84.0,23.0,106.0,30.0,86.0,81.0,119.0,15.0,46.0,33.0,58.0,61.0,65.0,74.0,112.0,930.0,116.0,91.0,36.0,116.0,54.0,165.0,144.0,287.0,168.0,263.0,73.0,51.0,80.33333333333333,129.75,21.0,19.0,401.0,5.0,307.0,209.0,21.0,93.0,624.0,219.0,39.0,36.0,28.0,75.0,800.0,72.0,16.0,37.0,55.0,51.0,24.0],\"type\":\"scatter\"},{\"mode\":\"lines+markers\",\"name\":\"Model-12_Store-11\",\"x\":[\"2019-01-01T00:00:00\",\"2019-02-01T00:00:00\",\"2019-03-01T00:00:00\",\"2019-04-01T00:00:00\",\"2019-05-01T00:00:00\",\"2019-06-01T00:00:00\",\"2019-07-01T00:00:00\",\"2019-08-01T00:00:00\",\"2019-09-01T00:00:00\",\"2019-10-01T00:00:00\",\"2019-11-01T00:00:00\",\"2019-12-01T00:00:00\",\"2020-01-01T00:00:00\",\"2020-02-01T00:00:00\",\"2020-03-01T00:00:00\",\"2020-04-01T00:00:00\",\"2020-05-01T00:00:00\",\"2020-06-01T00:00:00\",\"2020-07-01T00:00:00\",\"2020-08-01T00:00:00\",\"2020-09-01T00:00:00\",\"2020-10-01T00:00:00\",\"2020-11-01T00:00:00\",\"2020-12-01T00:00:00\",\"2021-01-01T00:00:00\",\"2021-02-01T00:00:00\",\"2021-03-01T00:00:00\",\"2021-04-01T00:00:00\",\"2021-05-01T00:00:00\",\"2021-06-01T00:00:00\",\"2021-07-01T00:00:00\",\"2021-08-01T00:00:00\",\"2021-09-01T00:00:00\",\"2021-10-01T00:00:00\",\"2021-11-01T00:00:00\",\"2021-12-01T00:00:00\",\"2022-01-01T00:00:00\",\"2022-02-01T00:00:00\",\"2022-03-01T00:00:00\",\"2022-04-01T00:00:00\",\"2022-05-01T00:00:00\",\"2022-06-01T00:00:00\",\"2022-07-01T00:00:00\",\"2022-08-01T00:00:00\",\"2022-09-01T00:00:00\",\"2022-10-01T00:00:00\",\"2022-11-01T00:00:00\",\"2022-12-01T00:00:00\",\"2023-01-01T00:00:00\",\"2023-02-01T00:00:00\",\"2023-03-01T00:00:00\",\"2023-04-01T00:00:00\",\"2023-05-01T00:00:00\",\"2023-06-01T00:00:00\",\"2023-07-01T00:00:00\",\"2023-08-01T00:00:00\",\"2023-09-01T00:00:00\",\"2023-10-01T00:00:00\"],\"y\":[6.5,5.5,7.0,8.0,11.0,3.0,2.0,8.5,3.0,7.5,3.0,3.0,1.0,6.0,1.0,8.0,2.0,3.0,11.5,1.0,3.0,4.0,8.0,11.0,5.0,2.0,2.0,8.0,11.0,13.0,11.0,4.0,2.0,6.0,17.0,17.0,7.0,7.0,15.0,5.0,11.0,16.0,21.0,15.0,13.0,10.0,28.0,24.0,13.0,7.0,10.0,11.0,20.0,13.0,12.0,14.0,15.0,10.0],\"type\":\"scatter\"},{\"mode\":\"lines+markers\",\"name\":\"Model-13_Store-12\",\"x\":[\"2019-01-01T00:00:00\",\"2019-02-01T00:00:00\",\"2019-03-01T00:00:00\",\"2019-04-01T00:00:00\",\"2019-05-01T00:00:00\",\"2019-06-01T00:00:00\",\"2019-07-01T00:00:00\",\"2019-08-01T00:00:00\",\"2019-09-01T00:00:00\",\"2019-10-01T00:00:00\",\"2019-11-01T00:00:00\",\"2019-12-01T00:00:00\",\"2020-01-01T00:00:00\",\"2020-02-01T00:00:00\",\"2020-03-01T00:00:00\",\"2020-04-01T00:00:00\",\"2020-05-01T00:00:00\",\"2020-06-01T00:00:00\",\"2020-07-01T00:00:00\",\"2020-08-01T00:00:00\",\"2020-09-01T00:00:00\",\"2020-10-01T00:00:00\",\"2020-11-01T00:00:00\",\"2020-12-01T00:00:00\",\"2021-01-01T00:00:00\",\"2021-02-01T00:00:00\",\"2021-03-01T00:00:00\",\"2021-04-01T00:00:00\",\"2021-05-01T00:00:00\",\"2021-06-01T00:00:00\",\"2021-07-01T00:00:00\",\"2021-08-01T00:00:00\",\"2021-09-01T00:00:00\",\"2021-10-01T00:00:00\",\"2021-11-01T00:00:00\",\"2021-12-01T00:00:00\",\"2022-01-01T00:00:00\",\"2022-02-01T00:00:00\",\"2022-03-01T00:00:00\",\"2022-04-01T00:00:00\",\"2022-05-01T00:00:00\",\"2022-06-01T00:00:00\",\"2022-07-01T00:00:00\",\"2022-08-01T00:00:00\",\"2022-09-01T00:00:00\",\"2022-10-01T00:00:00\",\"2022-11-01T00:00:00\",\"2022-12-01T00:00:00\",\"2023-01-01T00:00:00\",\"2023-02-01T00:00:00\",\"2023-03-01T00:00:00\",\"2023-04-01T00:00:00\",\"2023-05-01T00:00:00\",\"2023-06-01T00:00:00\",\"2023-07-01T00:00:00\",\"2023-08-01T00:00:00\",\"2023-09-01T00:00:00\",\"2023-10-01T00:00:00\"],\"y\":[1.0,8.0,4.0,3.0,6.5,6.0,3.0,0.0,7.0,5.25,6.333333333333333,3.25,1.0,8.0,4.0,3.0,6.5,6.0,1.0,0.0,7.0,1.0,9.0,3.0,1.0,8.0,4.0,4.0,3.0,3.0,4.0,0.0,7.0,5.0,4.0,3.0,1.0,8.0,4.0,1.0,6.5,6.0,3.0,0.0,7.0,9.0,6.0,5.0,1.0,8.0,4.0,4.0,10.0,9.0,4.0,0.0,7.0,6.0],\"type\":\"scatter\"},{\"mode\":\"lines+markers\",\"name\":\"Model-14_Store-13\",\"x\":[\"2019-01-01T00:00:00\",\"2019-02-01T00:00:00\",\"2019-03-01T00:00:00\",\"2019-04-01T00:00:00\",\"2019-05-01T00:00:00\",\"2019-06-01T00:00:00\",\"2019-07-01T00:00:00\",\"2019-08-01T00:00:00\",\"2019-09-01T00:00:00\",\"2019-10-01T00:00:00\",\"2019-11-01T00:00:00\",\"2019-12-01T00:00:00\",\"2020-01-01T00:00:00\",\"2020-02-01T00:00:00\",\"2020-03-01T00:00:00\",\"2020-04-01T00:00:00\",\"2020-05-01T00:00:00\",\"2020-06-01T00:00:00\",\"2020-07-01T00:00:00\",\"2020-08-01T00:00:00\",\"2020-09-01T00:00:00\",\"2020-10-01T00:00:00\",\"2020-11-01T00:00:00\",\"2020-12-01T00:00:00\",\"2021-01-01T00:00:00\",\"2021-02-01T00:00:00\",\"2021-03-01T00:00:00\",\"2021-04-01T00:00:00\",\"2021-05-01T00:00:00\",\"2021-06-01T00:00:00\",\"2021-07-01T00:00:00\",\"2021-08-01T00:00:00\",\"2021-09-01T00:00:00\",\"2021-10-01T00:00:00\",\"2021-11-01T00:00:00\",\"2021-12-01T00:00:00\",\"2022-01-01T00:00:00\",\"2022-02-01T00:00:00\",\"2022-03-01T00:00:00\",\"2022-04-01T00:00:00\",\"2022-05-01T00:00:00\",\"2022-06-01T00:00:00\",\"2022-07-01T00:00:00\",\"2022-08-01T00:00:00\",\"2022-09-01T00:00:00\",\"2022-10-01T00:00:00\",\"2022-11-01T00:00:00\",\"2022-12-01T00:00:00\",\"2023-01-01T00:00:00\",\"2023-02-01T00:00:00\",\"2023-03-01T00:00:00\",\"2023-04-01T00:00:00\",\"2023-05-01T00:00:00\",\"2023-06-01T00:00:00\",\"2023-07-01T00:00:00\",\"2023-08-01T00:00:00\",\"2023-09-01T00:00:00\",\"2023-10-01T00:00:00\"],\"y\":[0.0,0.0,0.0,0.0,0.0,0.0,1.0,0.0,0.0,2.0,2.5,0.0,0.0,0.0,0.0,0.0,0.0,0.0,1.0,0.0,0.0,2.0,2.5,0.0,0.0,0.0,0.0,0.0,0.0,0.0,1.0,0.0,0.0,2.0,3.0,0.0,0.0,0.0,0.0,0.0,0.0,0.0,1.0,0.0,0.0,2.0,2.0,0.0,0.0,0.0,0.0,0.0,0.0,0.0,1.0,0.0,0.0,2.0],\"type\":\"scatter\"},{\"mode\":\"lines+markers\",\"name\":\"Model-16_Store-15\",\"x\":[\"2019-01-01T00:00:00\",\"2019-02-01T00:00:00\",\"2019-03-01T00:00:00\",\"2019-04-01T00:00:00\",\"2019-05-01T00:00:00\",\"2019-06-01T00:00:00\",\"2019-07-01T00:00:00\",\"2019-08-01T00:00:00\",\"2019-09-01T00:00:00\",\"2019-10-01T00:00:00\",\"2019-11-01T00:00:00\",\"2019-12-01T00:00:00\",\"2020-01-01T00:00:00\",\"2020-02-01T00:00:00\",\"2020-03-01T00:00:00\",\"2020-04-01T00:00:00\",\"2020-05-01T00:00:00\",\"2020-06-01T00:00:00\",\"2020-07-01T00:00:00\",\"2020-08-01T00:00:00\",\"2020-09-01T00:00:00\",\"2020-10-01T00:00:00\",\"2020-11-01T00:00:00\",\"2020-12-01T00:00:00\",\"2021-01-01T00:00:00\",\"2021-02-01T00:00:00\",\"2021-03-01T00:00:00\",\"2021-04-01T00:00:00\",\"2021-05-01T00:00:00\",\"2021-06-01T00:00:00\",\"2021-07-01T00:00:00\",\"2021-08-01T00:00:00\",\"2021-09-01T00:00:00\",\"2021-10-01T00:00:00\",\"2021-11-01T00:00:00\",\"2021-12-01T00:00:00\",\"2022-01-01T00:00:00\",\"2022-02-01T00:00:00\",\"2022-03-01T00:00:00\",\"2022-04-01T00:00:00\",\"2022-05-01T00:00:00\",\"2022-06-01T00:00:00\",\"2022-07-01T00:00:00\",\"2022-08-01T00:00:00\",\"2022-09-01T00:00:00\",\"2022-10-01T00:00:00\",\"2022-11-01T00:00:00\",\"2022-12-01T00:00:00\",\"2023-01-01T00:00:00\",\"2023-02-01T00:00:00\",\"2023-03-01T00:00:00\",\"2023-04-01T00:00:00\",\"2023-05-01T00:00:00\",\"2023-06-01T00:00:00\",\"2023-07-01T00:00:00\",\"2023-08-01T00:00:00\",\"2023-09-01T00:00:00\",\"2023-10-01T00:00:00\"],\"y\":[7.0,13.0,25.0,22.0,10.0,3.0,58.0,3.0,10.0,13.0,2.0,5.0,13.0,7.0,25.0,22.0,10.0,3.0,20.75,59.0,10.0,9.0,34.0,25.5,1.0,13.0,25.0,22.0,10.0,3.0,10.0,45.0,10.0,9.0,3.0,46.0,7.0,19.0,25.0,34.0,10.0,3.0,5.0,30.5,10.0,9.0,44.0,25.5,7.0,13.0,25.0,10.0,10.0,3.0,10.0,15.0,10.0,5.0],\"type\":\"scatter\"},{\"mode\":\"lines+markers\",\"name\":\"Model-17_Store-16\",\"x\":[\"2019-01-01T00:00:00\",\"2019-02-01T00:00:00\",\"2019-03-01T00:00:00\",\"2019-04-01T00:00:00\",\"2019-05-01T00:00:00\",\"2019-06-01T00:00:00\",\"2019-07-01T00:00:00\",\"2019-08-01T00:00:00\",\"2019-09-01T00:00:00\",\"2019-10-01T00:00:00\",\"2019-11-01T00:00:00\",\"2019-12-01T00:00:00\",\"2020-01-01T00:00:00\",\"2020-02-01T00:00:00\",\"2020-03-01T00:00:00\",\"2020-04-01T00:00:00\",\"2020-05-01T00:00:00\",\"2020-06-01T00:00:00\",\"2020-07-01T00:00:00\",\"2020-08-01T00:00:00\",\"2020-09-01T00:00:00\",\"2020-10-01T00:00:00\",\"2020-11-01T00:00:00\",\"2020-12-01T00:00:00\",\"2021-01-01T00:00:00\",\"2021-02-01T00:00:00\",\"2021-03-01T00:00:00\",\"2021-04-01T00:00:00\",\"2021-05-01T00:00:00\",\"2021-06-01T00:00:00\",\"2021-07-01T00:00:00\",\"2021-08-01T00:00:00\",\"2021-09-01T00:00:00\",\"2021-10-01T00:00:00\",\"2021-11-01T00:00:00\",\"2021-12-01T00:00:00\",\"2022-01-01T00:00:00\",\"2022-02-01T00:00:00\",\"2022-03-01T00:00:00\",\"2022-04-01T00:00:00\",\"2022-05-01T00:00:00\",\"2022-06-01T00:00:00\",\"2022-07-01T00:00:00\",\"2022-08-01T00:00:00\",\"2022-09-01T00:00:00\",\"2022-10-01T00:00:00\",\"2022-11-01T00:00:00\",\"2022-12-01T00:00:00\",\"2023-01-01T00:00:00\",\"2023-02-01T00:00:00\",\"2023-03-01T00:00:00\",\"2023-04-01T00:00:00\",\"2023-05-01T00:00:00\",\"2023-06-01T00:00:00\",\"2023-07-01T00:00:00\",\"2023-08-01T00:00:00\",\"2023-09-01T00:00:00\",\"2023-10-01T00:00:00\"],\"y\":[20.0,10.0,0.0,21.5,1.0,31.0,0.0,0.0,21.0,0.0,70.0,0.0,20.0,10.0,0.0,21.5,1.0,31.0,0.0,0.0,21.0,0.0,70.0,0.0,20.0,10.0,0.0,25.0,1.0,31.0,0.0,0.0,21.0,0.0,70.0,0.0,20.0,10.0,0.0,21.5,1.0,30.0,0.0,0.0,21.0,0.0,70.0,0.0,20.0,10.0,0.0,18.0,1.0,32.0,0.0,0.0,21.0,0.0],\"type\":\"scatter\"},{\"mode\":\"lines+markers\",\"name\":\"Model-18_Store-17\",\"x\":[\"2019-01-01T00:00:00\",\"2019-02-01T00:00:00\",\"2019-03-01T00:00:00\",\"2019-04-01T00:00:00\",\"2019-05-01T00:00:00\",\"2019-06-01T00:00:00\",\"2019-07-01T00:00:00\",\"2019-08-01T00:00:00\",\"2019-09-01T00:00:00\",\"2019-10-01T00:00:00\",\"2019-11-01T00:00:00\",\"2019-12-01T00:00:00\",\"2020-01-01T00:00:00\",\"2020-02-01T00:00:00\",\"2020-03-01T00:00:00\",\"2020-04-01T00:00:00\",\"2020-05-01T00:00:00\",\"2020-06-01T00:00:00\",\"2020-07-01T00:00:00\",\"2020-08-01T00:00:00\",\"2020-09-01T00:00:00\",\"2020-10-01T00:00:00\",\"2020-11-01T00:00:00\",\"2020-12-01T00:00:00\",\"2021-01-01T00:00:00\",\"2021-02-01T00:00:00\",\"2021-03-01T00:00:00\",\"2021-04-01T00:00:00\",\"2021-05-01T00:00:00\",\"2021-06-01T00:00:00\",\"2021-07-01T00:00:00\",\"2021-08-01T00:00:00\",\"2021-09-01T00:00:00\",\"2021-10-01T00:00:00\",\"2021-11-01T00:00:00\",\"2021-12-01T00:00:00\",\"2022-01-01T00:00:00\",\"2022-02-01T00:00:00\",\"2022-03-01T00:00:00\",\"2022-04-01T00:00:00\",\"2022-05-01T00:00:00\",\"2022-06-01T00:00:00\",\"2022-07-01T00:00:00\",\"2022-08-01T00:00:00\",\"2022-09-01T00:00:00\",\"2022-10-01T00:00:00\",\"2022-11-01T00:00:00\",\"2022-12-01T00:00:00\",\"2023-01-01T00:00:00\",\"2023-02-01T00:00:00\",\"2023-03-01T00:00:00\",\"2023-04-01T00:00:00\",\"2023-05-01T00:00:00\",\"2023-06-01T00:00:00\",\"2023-07-01T00:00:00\",\"2023-08-01T00:00:00\",\"2023-09-01T00:00:00\",\"2023-10-01T00:00:00\"],\"y\":[15.0,19.0,6.0,14.0,16.0,24.0,25.0,8.0,5.0,13.0,18.0,10.0,18.0,13.0,4.0,17.0,8.666666666666666,1.0,28.75,1.0,7.666666666666667,110.0,9.0,38.0,22.0,12.0,20.0,22.0,8.666666666666666,13.333333333333334,69.0,19.0,10.0,22.0,14.0,36.0,16.0,15.0,10.0,15.0,9.0,15.0,17.0,5.0,8.0,3.0,7.0,23.0,7.0,7.0,10.0,17.0,1.0,13.333333333333334,4.0,1.0,7.666666666666667,37.0],\"type\":\"scatter\"},{\"mode\":\"lines+markers\",\"name\":\"Model-1_Store-1\",\"x\":[\"2019-01-01T00:00:00\",\"2019-02-01T00:00:00\",\"2019-03-01T00:00:00\",\"2019-04-01T00:00:00\",\"2019-05-01T00:00:00\",\"2019-06-01T00:00:00\",\"2019-07-01T00:00:00\",\"2019-08-01T00:00:00\",\"2019-09-01T00:00:00\",\"2019-10-01T00:00:00\",\"2019-11-01T00:00:00\",\"2019-12-01T00:00:00\",\"2020-01-01T00:00:00\",\"2020-02-01T00:00:00\",\"2020-03-01T00:00:00\",\"2020-04-01T00:00:00\",\"2020-05-01T00:00:00\",\"2020-06-01T00:00:00\",\"2020-07-01T00:00:00\",\"2020-08-01T00:00:00\",\"2020-09-01T00:00:00\",\"2020-10-01T00:00:00\",\"2020-11-01T00:00:00\",\"2020-12-01T00:00:00\",\"2021-01-01T00:00:00\",\"2021-02-01T00:00:00\",\"2021-03-01T00:00:00\",\"2021-04-01T00:00:00\",\"2021-05-01T00:00:00\",\"2021-06-01T00:00:00\",\"2021-07-01T00:00:00\",\"2021-08-01T00:00:00\",\"2021-09-01T00:00:00\",\"2021-10-01T00:00:00\",\"2021-11-01T00:00:00\",\"2021-12-01T00:00:00\",\"2022-01-01T00:00:00\",\"2022-02-01T00:00:00\",\"2022-03-01T00:00:00\",\"2022-04-01T00:00:00\",\"2022-05-01T00:00:00\",\"2022-06-01T00:00:00\",\"2022-07-01T00:00:00\",\"2022-08-01T00:00:00\",\"2022-09-01T00:00:00\",\"2022-10-01T00:00:00\",\"2022-11-01T00:00:00\",\"2022-12-01T00:00:00\",\"2023-01-01T00:00:00\",\"2023-02-01T00:00:00\",\"2023-03-01T00:00:00\",\"2023-04-01T00:00:00\",\"2023-05-01T00:00:00\",\"2023-06-01T00:00:00\",\"2023-07-01T00:00:00\",\"2023-08-01T00:00:00\",\"2023-09-01T00:00:00\",\"2023-10-01T00:00:00\"],\"y\":[54.0,72.0,19.0,31.0,371.0,359.0,442.0,132.0,501.6666666666667,93.0,306.0,5.0,54.0,171.5,93.0,31.0,154.0,269.0,264.5,261.0,158.0,93.0,200.0,2.0,54.0,271.0,93.0,31.0,6.0,25.0,87.0,3.0,756.0,93.0,94.0,3.5,54.0,171.5,167.0,31.0,177.0,298.25,264.5,132.0,591.0,93.0,200.0,3.5,54.0,171.5,93.0,31.0,177.0,540.0,264.5,132.0,501.6666666666667,93.0],\"type\":\"scatter\"},{\"mode\":\"lines+markers\",\"name\":\"Model-21_Store-20\",\"x\":[\"2019-01-01T00:00:00\",\"2019-02-01T00:00:00\",\"2019-03-01T00:00:00\",\"2019-04-01T00:00:00\",\"2019-05-01T00:00:00\",\"2019-06-01T00:00:00\",\"2019-07-01T00:00:00\",\"2019-08-01T00:00:00\",\"2019-09-01T00:00:00\",\"2019-10-01T00:00:00\",\"2019-11-01T00:00:00\",\"2019-12-01T00:00:00\",\"2020-01-01T00:00:00\",\"2020-02-01T00:00:00\",\"2020-03-01T00:00:00\",\"2020-04-01T00:00:00\",\"2020-05-01T00:00:00\",\"2020-06-01T00:00:00\",\"2020-07-01T00:00:00\",\"2020-08-01T00:00:00\",\"2020-09-01T00:00:00\",\"2020-10-01T00:00:00\",\"2020-11-01T00:00:00\",\"2020-12-01T00:00:00\",\"2021-01-01T00:00:00\",\"2021-02-01T00:00:00\",\"2021-03-01T00:00:00\",\"2021-04-01T00:00:00\",\"2021-05-01T00:00:00\",\"2021-06-01T00:00:00\",\"2021-07-01T00:00:00\",\"2021-08-01T00:00:00\",\"2021-09-01T00:00:00\",\"2021-10-01T00:00:00\",\"2021-11-01T00:00:00\",\"2021-12-01T00:00:00\",\"2022-01-01T00:00:00\",\"2022-02-01T00:00:00\",\"2022-03-01T00:00:00\",\"2022-04-01T00:00:00\",\"2022-05-01T00:00:00\",\"2022-06-01T00:00:00\",\"2022-07-01T00:00:00\",\"2022-08-01T00:00:00\",\"2022-09-01T00:00:00\",\"2022-10-01T00:00:00\",\"2022-11-01T00:00:00\",\"2022-12-01T00:00:00\",\"2023-01-01T00:00:00\",\"2023-02-01T00:00:00\",\"2023-03-01T00:00:00\",\"2023-04-01T00:00:00\",\"2023-05-01T00:00:00\",\"2023-06-01T00:00:00\",\"2023-07-01T00:00:00\",\"2023-08-01T00:00:00\",\"2023-09-01T00:00:00\",\"2023-10-01T00:00:00\"],\"y\":[10.0,1.5,6.0,2.0,0.0,0.0,0.0,4.0,2.5,3.0,4.0,8.0,10.0,1.5,6.0,2.0,0.0,0.0,0.0,4.0,2.5,3.0,4.0,8.0,10.0,1.5,6.0,2.0,0.0,0.0,0.0,4.0,2.5,3.0,1.0,8.0,10.0,1.0,6.0,2.0,0.0,0.0,0.0,4.0,1.0,3.0,7.0,8.0,10.0,2.0,6.0,2.0,0.0,0.0,0.0,4.0,4.0,3.0],\"type\":\"scatter\"},{\"mode\":\"lines+markers\",\"name\":\"Model-2_Store-2\",\"x\":[\"2019-01-01T00:00:00\",\"2019-02-01T00:00:00\",\"2019-03-01T00:00:00\",\"2019-04-01T00:00:00\",\"2019-05-01T00:00:00\",\"2019-06-01T00:00:00\",\"2019-07-01T00:00:00\",\"2019-08-01T00:00:00\",\"2019-09-01T00:00:00\",\"2019-10-01T00:00:00\",\"2019-11-01T00:00:00\",\"2019-12-01T00:00:00\",\"2020-01-01T00:00:00\",\"2020-02-01T00:00:00\",\"2020-03-01T00:00:00\",\"2020-04-01T00:00:00\",\"2020-05-01T00:00:00\",\"2020-06-01T00:00:00\",\"2020-07-01T00:00:00\",\"2020-08-01T00:00:00\",\"2020-09-01T00:00:00\",\"2020-10-01T00:00:00\",\"2020-11-01T00:00:00\",\"2020-12-01T00:00:00\",\"2021-01-01T00:00:00\",\"2021-02-01T00:00:00\",\"2021-03-01T00:00:00\",\"2021-04-01T00:00:00\",\"2021-05-01T00:00:00\",\"2021-06-01T00:00:00\",\"2021-07-01T00:00:00\",\"2021-08-01T00:00:00\",\"2021-09-01T00:00:00\",\"2021-10-01T00:00:00\",\"2021-11-01T00:00:00\",\"2021-12-01T00:00:00\",\"2022-01-01T00:00:00\",\"2022-02-01T00:00:00\",\"2022-03-01T00:00:00\",\"2022-04-01T00:00:00\",\"2022-05-01T00:00:00\",\"2022-06-01T00:00:00\",\"2022-07-01T00:00:00\",\"2022-08-01T00:00:00\",\"2022-09-01T00:00:00\",\"2022-10-01T00:00:00\",\"2022-11-01T00:00:00\",\"2022-12-01T00:00:00\",\"2023-01-01T00:00:00\",\"2023-02-01T00:00:00\",\"2023-03-01T00:00:00\",\"2023-04-01T00:00:00\",\"2023-05-01T00:00:00\",\"2023-06-01T00:00:00\",\"2023-07-01T00:00:00\",\"2023-08-01T00:00:00\",\"2023-09-01T00:00:00\",\"2023-10-01T00:00:00\"],\"y\":[60.0,98.0,84.0,55.0,106.0,129.0,72.0,109.0,157.0,494.0,84.0,47.0,59.0,63.0,12.0,72.25,107.66666666666667,14.0,82.0,45.0,53.0,121.0,276.0,64.0,70.0,54.0,48.0,71.0,107.66666666666667,104.0,215.0,56.0,44.0,1.0,142.0,136.0,109.0,164.0,101.0,68.0,120.0,43.0,27.0,299.0,252.0,178.5,66.0,96.0,100.0,62.0,66.0,95.0,97.0,3.0,155.0,58.0,105.0,98.0],\"type\":\"scatter\"},{\"mode\":\"lines+markers\",\"name\":\"Model-3_Store-3\",\"x\":[\"2019-01-01T00:00:00\",\"2019-02-01T00:00:00\",\"2019-03-01T00:00:00\",\"2019-04-01T00:00:00\",\"2019-05-01T00:00:00\",\"2019-06-01T00:00:00\",\"2019-07-01T00:00:00\",\"2019-08-01T00:00:00\",\"2019-09-01T00:00:00\",\"2019-10-01T00:00:00\",\"2019-11-01T00:00:00\",\"2019-12-01T00:00:00\",\"2020-01-01T00:00:00\",\"2020-02-01T00:00:00\",\"2020-03-01T00:00:00\",\"2020-04-01T00:00:00\",\"2020-05-01T00:00:00\",\"2020-06-01T00:00:00\",\"2020-07-01T00:00:00\",\"2020-08-01T00:00:00\",\"2020-09-01T00:00:00\",\"2020-10-01T00:00:00\",\"2020-11-01T00:00:00\",\"2020-12-01T00:00:00\",\"2021-01-01T00:00:00\",\"2021-02-01T00:00:00\",\"2021-03-01T00:00:00\",\"2021-04-01T00:00:00\",\"2021-05-01T00:00:00\",\"2021-06-01T00:00:00\",\"2021-07-01T00:00:00\",\"2021-08-01T00:00:00\",\"2021-09-01T00:00:00\",\"2021-10-01T00:00:00\",\"2021-11-01T00:00:00\",\"2021-12-01T00:00:00\",\"2022-01-01T00:00:00\",\"2022-02-01T00:00:00\",\"2022-03-01T00:00:00\",\"2022-04-01T00:00:00\",\"2022-05-01T00:00:00\",\"2022-06-01T00:00:00\",\"2022-07-01T00:00:00\",\"2022-08-01T00:00:00\",\"2022-09-01T00:00:00\",\"2022-10-01T00:00:00\",\"2022-11-01T00:00:00\",\"2022-12-01T00:00:00\",\"2023-01-01T00:00:00\",\"2023-02-01T00:00:00\",\"2023-03-01T00:00:00\",\"2023-04-01T00:00:00\",\"2023-05-01T00:00:00\",\"2023-06-01T00:00:00\",\"2023-07-01T00:00:00\",\"2023-08-01T00:00:00\",\"2023-09-01T00:00:00\",\"2023-10-01T00:00:00\"],\"y\":[22.0,11.0,19.0,18.5,23.0,19.666666666666668,33.666666666666664,23.666666666666668,20.333333333333332,38.333333333333336,22.0,5.5,22.0,11.0,19.0,18.5,23.0,19.666666666666668,33.666666666666664,23.666666666666668,20.333333333333332,38.333333333333336,22.0,5.5,22.0,11.0,19.0,18.5,23.0,42.0,64.0,19.0,31.0,56.0,25.0,4.0,14.0,4.0,23.0,19.0,34.0,8.0,13.0,27.0,18.0,35.0,39.0,7.0,30.0,18.0,15.0,18.0,12.0,9.0,24.0,25.0,12.0,24.0],\"type\":\"scatter\"},{\"mode\":\"lines+markers\",\"name\":\"Model-4_Store-4\",\"x\":[\"2019-01-01T00:00:00\",\"2019-02-01T00:00:00\",\"2019-03-01T00:00:00\",\"2019-04-01T00:00:00\",\"2019-05-01T00:00:00\",\"2019-06-01T00:00:00\",\"2019-07-01T00:00:00\",\"2019-08-01T00:00:00\",\"2019-09-01T00:00:00\",\"2019-10-01T00:00:00\",\"2019-11-01T00:00:00\",\"2019-12-01T00:00:00\",\"2020-01-01T00:00:00\",\"2020-02-01T00:00:00\",\"2020-03-01T00:00:00\",\"2020-04-01T00:00:00\",\"2020-05-01T00:00:00\",\"2020-06-01T00:00:00\",\"2020-07-01T00:00:00\",\"2020-08-01T00:00:00\",\"2020-09-01T00:00:00\",\"2020-10-01T00:00:00\",\"2020-11-01T00:00:00\",\"2020-12-01T00:00:00\",\"2021-01-01T00:00:00\",\"2021-02-01T00:00:00\",\"2021-03-01T00:00:00\",\"2021-04-01T00:00:00\",\"2021-05-01T00:00:00\",\"2021-06-01T00:00:00\",\"2021-07-01T00:00:00\",\"2021-08-01T00:00:00\",\"2021-09-01T00:00:00\",\"2021-10-01T00:00:00\",\"2021-11-01T00:00:00\",\"2021-12-01T00:00:00\",\"2022-01-01T00:00:00\",\"2022-02-01T00:00:00\",\"2022-03-01T00:00:00\",\"2022-04-01T00:00:00\",\"2022-05-01T00:00:00\",\"2022-06-01T00:00:00\",\"2022-07-01T00:00:00\",\"2022-08-01T00:00:00\",\"2022-09-01T00:00:00\",\"2022-10-01T00:00:00\",\"2022-11-01T00:00:00\",\"2022-12-01T00:00:00\",\"2023-01-01T00:00:00\",\"2023-02-01T00:00:00\",\"2023-03-01T00:00:00\",\"2023-04-01T00:00:00\",\"2023-05-01T00:00:00\",\"2023-06-01T00:00:00\",\"2023-07-01T00:00:00\",\"2023-08-01T00:00:00\",\"2023-09-01T00:00:00\",\"2023-10-01T00:00:00\"],\"y\":[2.0,723.0,418.0,143.0,2.0,125.66666666666667,1.0,1.0,3.0,494.0,175.0,17.0,116.5,113.0,139.25,155.25,144.0,1.0,280.0,96.33333333333333,2.0,136.0,45.0,26.0,1.0,297.3333333333333,1.0,1.0,286.0,253.0,183.0,96.33333333333333,233.0,521.0,110.0,21.5,150.0,297.3333333333333,44.0,404.0,144.0,125.66666666666667,195.0,159.0,112.25,247.0,110.0,21.5,313.0,56.0,94.0,73.0,144.0,123.0,188.0,129.0,211.0,88.0],\"type\":\"scatter\"},{\"mode\":\"lines+markers\",\"name\":\"Model-5_Store-5\",\"x\":[\"2019-01-01T00:00:00\",\"2019-02-01T00:00:00\",\"2019-03-01T00:00:00\",\"2019-04-01T00:00:00\",\"2019-05-01T00:00:00\",\"2019-06-01T00:00:00\",\"2019-07-01T00:00:00\",\"2019-08-01T00:00:00\",\"2019-09-01T00:00:00\",\"2019-10-01T00:00:00\",\"2019-11-01T00:00:00\",\"2019-12-01T00:00:00\",\"2020-01-01T00:00:00\",\"2020-02-01T00:00:00\",\"2020-03-01T00:00:00\",\"2020-04-01T00:00:00\",\"2020-05-01T00:00:00\",\"2020-06-01T00:00:00\",\"2020-07-01T00:00:00\",\"2020-08-01T00:00:00\",\"2020-09-01T00:00:00\",\"2020-10-01T00:00:00\",\"2020-11-01T00:00:00\",\"2020-12-01T00:00:00\",\"2021-01-01T00:00:00\",\"2021-02-01T00:00:00\",\"2021-03-01T00:00:00\",\"2021-04-01T00:00:00\",\"2021-05-01T00:00:00\",\"2021-06-01T00:00:00\",\"2021-07-01T00:00:00\",\"2021-08-01T00:00:00\",\"2021-09-01T00:00:00\",\"2021-10-01T00:00:00\",\"2021-11-01T00:00:00\",\"2021-12-01T00:00:00\",\"2022-01-01T00:00:00\",\"2022-02-01T00:00:00\",\"2022-03-01T00:00:00\",\"2022-04-01T00:00:00\",\"2022-05-01T00:00:00\",\"2022-06-01T00:00:00\",\"2022-07-01T00:00:00\",\"2022-08-01T00:00:00\",\"2022-09-01T00:00:00\",\"2022-10-01T00:00:00\",\"2022-11-01T00:00:00\",\"2022-12-01T00:00:00\",\"2023-01-01T00:00:00\",\"2023-02-01T00:00:00\",\"2023-03-01T00:00:00\",\"2023-04-01T00:00:00\",\"2023-05-01T00:00:00\",\"2023-06-01T00:00:00\",\"2023-07-01T00:00:00\",\"2023-08-01T00:00:00\",\"2023-09-01T00:00:00\",\"2023-10-01T00:00:00\"],\"y\":[50.0,37.5,28.0,38.5,50.0,0.0,61.5,33.5,4.0,48.666666666666664,25.0,58.0,50.0,37.5,28.0,38.5,50.0,0.0,61.5,33.5,4.0,48.666666666666664,25.0,58.0,50.0,37.5,28.0,38.5,50.0,0.0,61.5,33.5,4.0,80.0,25.0,58.0,50.0,25.0,28.0,15.0,50.0,0.0,80.0,37.0,4.0,45.0,25.0,58.0,50.0,50.0,28.0,62.0,50.0,0.0,43.0,30.0,4.0,21.0],\"type\":\"scatter\"},{\"mode\":\"lines+markers\",\"name\":\"Model-8_Store-8\",\"x\":[\"2019-01-01T00:00:00\",\"2019-02-01T00:00:00\",\"2019-03-01T00:00:00\",\"2019-04-01T00:00:00\",\"2019-05-01T00:00:00\",\"2019-06-01T00:00:00\",\"2019-07-01T00:00:00\",\"2019-08-01T00:00:00\",\"2019-09-01T00:00:00\",\"2019-10-01T00:00:00\",\"2019-11-01T00:00:00\",\"2019-12-01T00:00:00\",\"2020-01-01T00:00:00\",\"2020-02-01T00:00:00\",\"2020-03-01T00:00:00\",\"2020-04-01T00:00:00\",\"2020-05-01T00:00:00\",\"2020-06-01T00:00:00\",\"2020-07-01T00:00:00\",\"2020-08-01T00:00:00\",\"2020-09-01T00:00:00\",\"2020-10-01T00:00:00\",\"2020-11-01T00:00:00\",\"2020-12-01T00:00:00\",\"2021-01-01T00:00:00\",\"2021-02-01T00:00:00\",\"2021-03-01T00:00:00\",\"2021-04-01T00:00:00\",\"2021-05-01T00:00:00\",\"2021-06-01T00:00:00\",\"2021-07-01T00:00:00\",\"2021-08-01T00:00:00\",\"2021-09-01T00:00:00\",\"2021-10-01T00:00:00\",\"2021-11-01T00:00:00\",\"2021-12-01T00:00:00\",\"2022-01-01T00:00:00\",\"2022-02-01T00:00:00\",\"2022-03-01T00:00:00\",\"2022-04-01T00:00:00\",\"2022-05-01T00:00:00\",\"2022-06-01T00:00:00\",\"2022-07-01T00:00:00\",\"2022-08-01T00:00:00\",\"2022-09-01T00:00:00\",\"2022-10-01T00:00:00\",\"2022-11-01T00:00:00\",\"2022-12-01T00:00:00\",\"2023-01-01T00:00:00\",\"2023-02-01T00:00:00\",\"2023-03-01T00:00:00\",\"2023-04-01T00:00:00\",\"2023-05-01T00:00:00\",\"2023-06-01T00:00:00\",\"2023-07-01T00:00:00\",\"2023-08-01T00:00:00\",\"2023-09-01T00:00:00\",\"2023-10-01T00:00:00\"],\"y\":[113.0,96.0,7.0,294.5,84.0,66.0,64.0,301.6666666666667,114.5,290.6666666666667,93.0,333.0,113.0,96.0,7.0,294.5,84.0,66.0,64.0,301.6666666666667,114.5,290.6666666666667,93.0,333.0,113.0,96.0,7.0,294.5,84.0,66.0,64.0,432.0,4.0,519.0,152.0,333.0,158.0,42.0,2.0,521.0,147.0,66.0,95.0,362.0,114.5,193.0,47.0,333.0,68.0,150.0,12.0,68.0,21.0,66.0,33.0,111.0,225.0,160.0],\"type\":\"scatter\"},{\"mode\":\"lines+markers\",\"name\":\"Model-9_Store-4\",\"x\":[\"2019-01-01T00:00:00\",\"2019-02-01T00:00:00\",\"2019-03-01T00:00:00\",\"2019-04-01T00:00:00\",\"2019-05-01T00:00:00\",\"2019-06-01T00:00:00\",\"2019-07-01T00:00:00\",\"2019-08-01T00:00:00\",\"2019-09-01T00:00:00\",\"2019-10-01T00:00:00\",\"2019-11-01T00:00:00\",\"2019-12-01T00:00:00\",\"2020-01-01T00:00:00\",\"2020-02-01T00:00:00\",\"2020-03-01T00:00:00\",\"2020-04-01T00:00:00\",\"2020-05-01T00:00:00\",\"2020-06-01T00:00:00\",\"2020-07-01T00:00:00\",\"2020-08-01T00:00:00\",\"2020-09-01T00:00:00\",\"2020-10-01T00:00:00\",\"2020-11-01T00:00:00\",\"2020-12-01T00:00:00\",\"2021-01-01T00:00:00\",\"2021-02-01T00:00:00\",\"2021-03-01T00:00:00\",\"2021-04-01T00:00:00\",\"2021-05-01T00:00:00\",\"2021-06-01T00:00:00\",\"2021-07-01T00:00:00\",\"2021-08-01T00:00:00\",\"2021-09-01T00:00:00\",\"2021-10-01T00:00:00\",\"2021-11-01T00:00:00\",\"2021-12-01T00:00:00\",\"2022-01-01T00:00:00\",\"2022-02-01T00:00:00\",\"2022-03-01T00:00:00\",\"2022-04-01T00:00:00\",\"2022-05-01T00:00:00\",\"2022-06-01T00:00:00\",\"2022-07-01T00:00:00\",\"2022-08-01T00:00:00\",\"2022-09-01T00:00:00\",\"2022-10-01T00:00:00\",\"2022-11-01T00:00:00\",\"2022-12-01T00:00:00\",\"2023-01-01T00:00:00\",\"2023-02-01T00:00:00\",\"2023-03-01T00:00:00\",\"2023-04-01T00:00:00\",\"2023-05-01T00:00:00\",\"2023-06-01T00:00:00\",\"2023-07-01T00:00:00\",\"2023-08-01T00:00:00\",\"2023-09-01T00:00:00\",\"2023-10-01T00:00:00\"],\"y\":[18.0,19.0,0.0,179.0,42.0,11.5,67.0,36.0,119.5,20.0,0.0,3.0,18.0,19.0,0.0,179.0,42.0,11.5,67.0,36.0,119.5,20.0,0.0,3.0,18.0,19.0,0.0,179.0,42.0,11.5,129.0,36.0,54.0,14.0,0.0,3.0,26.0,19.0,0.0,85.0,42.0,12.0,15.0,36.0,119.5,45.0,0.0,3.0,10.0,19.0,0.0,273.0,42.0,11.0,57.0,36.0,185.0,1.0],\"type\":\"scatter\"}],                        {\"template\":{\"data\":{\"barpolar\":[{\"marker\":{\"line\":{\"color\":\"#E5ECF6\",\"width\":0.5},\"pattern\":{\"fillmode\":\"overlay\",\"size\":10,\"solidity\":0.2}},\"type\":\"barpolar\"}],\"bar\":[{\"error_x\":{\"color\":\"#2a3f5f\"},\"error_y\":{\"color\":\"#2a3f5f\"},\"marker\":{\"line\":{\"color\":\"#E5ECF6\",\"width\":0.5},\"pattern\":{\"fillmode\":\"overlay\",\"size\":10,\"solidity\":0.2}},\"type\":\"bar\"}],\"carpet\":[{\"aaxis\":{\"endlinecolor\":\"#2a3f5f\",\"gridcolor\":\"white\",\"linecolor\":\"white\",\"minorgridcolor\":\"white\",\"startlinecolor\":\"#2a3f5f\"},\"baxis\":{\"endlinecolor\":\"#2a3f5f\",\"gridcolor\":\"white\",\"linecolor\":\"white\",\"minorgridcolor\":\"white\",\"startlinecolor\":\"#2a3f5f\"},\"type\":\"carpet\"}],\"choropleth\":[{\"colorbar\":{\"outlinewidth\":0,\"ticks\":\"\"},\"type\":\"choropleth\"}],\"contourcarpet\":[{\"colorbar\":{\"outlinewidth\":0,\"ticks\":\"\"},\"type\":\"contourcarpet\"}],\"contour\":[{\"colorbar\":{\"outlinewidth\":0,\"ticks\":\"\"},\"colorscale\":[[0.0,\"#0d0887\"],[0.1111111111111111,\"#46039f\"],[0.2222222222222222,\"#7201a8\"],[0.3333333333333333,\"#9c179e\"],[0.4444444444444444,\"#bd3786\"],[0.5555555555555556,\"#d8576b\"],[0.6666666666666666,\"#ed7953\"],[0.7777777777777778,\"#fb9f3a\"],[0.8888888888888888,\"#fdca26\"],[1.0,\"#f0f921\"]],\"type\":\"contour\"}],\"heatmapgl\":[{\"colorbar\":{\"outlinewidth\":0,\"ticks\":\"\"},\"colorscale\":[[0.0,\"#0d0887\"],[0.1111111111111111,\"#46039f\"],[0.2222222222222222,\"#7201a8\"],[0.3333333333333333,\"#9c179e\"],[0.4444444444444444,\"#bd3786\"],[0.5555555555555556,\"#d8576b\"],[0.6666666666666666,\"#ed7953\"],[0.7777777777777778,\"#fb9f3a\"],[0.8888888888888888,\"#fdca26\"],[1.0,\"#f0f921\"]],\"type\":\"heatmapgl\"}],\"heatmap\":[{\"colorbar\":{\"outlinewidth\":0,\"ticks\":\"\"},\"colorscale\":[[0.0,\"#0d0887\"],[0.1111111111111111,\"#46039f\"],[0.2222222222222222,\"#7201a8\"],[0.3333333333333333,\"#9c179e\"],[0.4444444444444444,\"#bd3786\"],[0.5555555555555556,\"#d8576b\"],[0.6666666666666666,\"#ed7953\"],[0.7777777777777778,\"#fb9f3a\"],[0.8888888888888888,\"#fdca26\"],[1.0,\"#f0f921\"]],\"type\":\"heatmap\"}],\"histogram2dcontour\":[{\"colorbar\":{\"outlinewidth\":0,\"ticks\":\"\"},\"colorscale\":[[0.0,\"#0d0887\"],[0.1111111111111111,\"#46039f\"],[0.2222222222222222,\"#7201a8\"],[0.3333333333333333,\"#9c179e\"],[0.4444444444444444,\"#bd3786\"],[0.5555555555555556,\"#d8576b\"],[0.6666666666666666,\"#ed7953\"],[0.7777777777777778,\"#fb9f3a\"],[0.8888888888888888,\"#fdca26\"],[1.0,\"#f0f921\"]],\"type\":\"histogram2dcontour\"}],\"histogram2d\":[{\"colorbar\":{\"outlinewidth\":0,\"ticks\":\"\"},\"colorscale\":[[0.0,\"#0d0887\"],[0.1111111111111111,\"#46039f\"],[0.2222222222222222,\"#7201a8\"],[0.3333333333333333,\"#9c179e\"],[0.4444444444444444,\"#bd3786\"],[0.5555555555555556,\"#d8576b\"],[0.6666666666666666,\"#ed7953\"],[0.7777777777777778,\"#fb9f3a\"],[0.8888888888888888,\"#fdca26\"],[1.0,\"#f0f921\"]],\"type\":\"histogram2d\"}],\"histogram\":[{\"marker\":{\"pattern\":{\"fillmode\":\"overlay\",\"size\":10,\"solidity\":0.2}},\"type\":\"histogram\"}],\"mesh3d\":[{\"colorbar\":{\"outlinewidth\":0,\"ticks\":\"\"},\"type\":\"mesh3d\"}],\"parcoords\":[{\"line\":{\"colorbar\":{\"outlinewidth\":0,\"ticks\":\"\"}},\"type\":\"parcoords\"}],\"pie\":[{\"automargin\":true,\"type\":\"pie\"}],\"scatter3d\":[{\"line\":{\"colorbar\":{\"outlinewidth\":0,\"ticks\":\"\"}},\"marker\":{\"colorbar\":{\"outlinewidth\":0,\"ticks\":\"\"}},\"type\":\"scatter3d\"}],\"scattercarpet\":[{\"marker\":{\"colorbar\":{\"outlinewidth\":0,\"ticks\":\"\"}},\"type\":\"scattercarpet\"}],\"scattergeo\":[{\"marker\":{\"colorbar\":{\"outlinewidth\":0,\"ticks\":\"\"}},\"type\":\"scattergeo\"}],\"scattergl\":[{\"marker\":{\"colorbar\":{\"outlinewidth\":0,\"ticks\":\"\"}},\"type\":\"scattergl\"}],\"scattermapbox\":[{\"marker\":{\"colorbar\":{\"outlinewidth\":0,\"ticks\":\"\"}},\"type\":\"scattermapbox\"}],\"scatterpolargl\":[{\"marker\":{\"colorbar\":{\"outlinewidth\":0,\"ticks\":\"\"}},\"type\":\"scatterpolargl\"}],\"scatterpolar\":[{\"marker\":{\"colorbar\":{\"outlinewidth\":0,\"ticks\":\"\"}},\"type\":\"scatterpolar\"}],\"scatter\":[{\"fillpattern\":{\"fillmode\":\"overlay\",\"size\":10,\"solidity\":0.2},\"type\":\"scatter\"}],\"scatterternary\":[{\"marker\":{\"colorbar\":{\"outlinewidth\":0,\"ticks\":\"\"}},\"type\":\"scatterternary\"}],\"surface\":[{\"colorbar\":{\"outlinewidth\":0,\"ticks\":\"\"},\"colorscale\":[[0.0,\"#0d0887\"],[0.1111111111111111,\"#46039f\"],[0.2222222222222222,\"#7201a8\"],[0.3333333333333333,\"#9c179e\"],[0.4444444444444444,\"#bd3786\"],[0.5555555555555556,\"#d8576b\"],[0.6666666666666666,\"#ed7953\"],[0.7777777777777778,\"#fb9f3a\"],[0.8888888888888888,\"#fdca26\"],[1.0,\"#f0f921\"]],\"type\":\"surface\"}],\"table\":[{\"cells\":{\"fill\":{\"color\":\"#EBF0F8\"},\"line\":{\"color\":\"white\"}},\"header\":{\"fill\":{\"color\":\"#C8D4E3\"},\"line\":{\"color\":\"white\"}},\"type\":\"table\"}]},\"layout\":{\"annotationdefaults\":{\"arrowcolor\":\"#2a3f5f\",\"arrowhead\":0,\"arrowwidth\":1},\"autotypenumbers\":\"strict\",\"coloraxis\":{\"colorbar\":{\"outlinewidth\":0,\"ticks\":\"\"}},\"colorscale\":{\"diverging\":[[0,\"#8e0152\"],[0.1,\"#c51b7d\"],[0.2,\"#de77ae\"],[0.3,\"#f1b6da\"],[0.4,\"#fde0ef\"],[0.5,\"#f7f7f7\"],[0.6,\"#e6f5d0\"],[0.7,\"#b8e186\"],[0.8,\"#7fbc41\"],[0.9,\"#4d9221\"],[1,\"#276419\"]],\"sequential\":[[0.0,\"#0d0887\"],[0.1111111111111111,\"#46039f\"],[0.2222222222222222,\"#7201a8\"],[0.3333333333333333,\"#9c179e\"],[0.4444444444444444,\"#bd3786\"],[0.5555555555555556,\"#d8576b\"],[0.6666666666666666,\"#ed7953\"],[0.7777777777777778,\"#fb9f3a\"],[0.8888888888888888,\"#fdca26\"],[1.0,\"#f0f921\"]],\"sequentialminus\":[[0.0,\"#0d0887\"],[0.1111111111111111,\"#46039f\"],[0.2222222222222222,\"#7201a8\"],[0.3333333333333333,\"#9c179e\"],[0.4444444444444444,\"#bd3786\"],[0.5555555555555556,\"#d8576b\"],[0.6666666666666666,\"#ed7953\"],[0.7777777777777778,\"#fb9f3a\"],[0.8888888888888888,\"#fdca26\"],[1.0,\"#f0f921\"]]},\"colorway\":[\"#636efa\",\"#EF553B\",\"#00cc96\",\"#ab63fa\",\"#FFA15A\",\"#19d3f3\",\"#FF6692\",\"#B6E880\",\"#FF97FF\",\"#FECB52\"],\"font\":{\"color\":\"#2a3f5f\"},\"geo\":{\"bgcolor\":\"white\",\"lakecolor\":\"white\",\"landcolor\":\"#E5ECF6\",\"showlakes\":true,\"showland\":true,\"subunitcolor\":\"white\"},\"hoverlabel\":{\"align\":\"left\"},\"hovermode\":\"closest\",\"mapbox\":{\"style\":\"light\"},\"paper_bgcolor\":\"white\",\"plot_bgcolor\":\"#E5ECF6\",\"polar\":{\"angularaxis\":{\"gridcolor\":\"white\",\"linecolor\":\"white\",\"ticks\":\"\"},\"bgcolor\":\"#E5ECF6\",\"radialaxis\":{\"gridcolor\":\"white\",\"linecolor\":\"white\",\"ticks\":\"\"}},\"scene\":{\"xaxis\":{\"backgroundcolor\":\"#E5ECF6\",\"gridcolor\":\"white\",\"gridwidth\":2,\"linecolor\":\"white\",\"showbackground\":true,\"ticks\":\"\",\"zerolinecolor\":\"white\"},\"yaxis\":{\"backgroundcolor\":\"#E5ECF6\",\"gridcolor\":\"white\",\"gridwidth\":2,\"linecolor\":\"white\",\"showbackground\":true,\"ticks\":\"\",\"zerolinecolor\":\"white\"},\"zaxis\":{\"backgroundcolor\":\"#E5ECF6\",\"gridcolor\":\"white\",\"gridwidth\":2,\"linecolor\":\"white\",\"showbackground\":true,\"ticks\":\"\",\"zerolinecolor\":\"white\"}},\"shapedefaults\":{\"line\":{\"color\":\"#2a3f5f\"}},\"ternary\":{\"aaxis\":{\"gridcolor\":\"white\",\"linecolor\":\"white\",\"ticks\":\"\"},\"baxis\":{\"gridcolor\":\"white\",\"linecolor\":\"white\",\"ticks\":\"\"},\"bgcolor\":\"#E5ECF6\",\"caxis\":{\"gridcolor\":\"white\",\"linecolor\":\"white\",\"ticks\":\"\"}},\"title\":{\"x\":0.05},\"xaxis\":{\"automargin\":true,\"gridcolor\":\"white\",\"linecolor\":\"white\",\"ticks\":\"\",\"title\":{\"standoff\":15},\"zerolinecolor\":\"white\",\"zerolinewidth\":2},\"yaxis\":{\"automargin\":true,\"gridcolor\":\"white\",\"linecolor\":\"white\",\"ticks\":\"\",\"title\":{\"standoff\":15},\"zerolinecolor\":\"white\",\"zerolinewidth\":2}}},\"title\":{\"text\":\"Monthly Sales\"}},                        {\"responsive\": true}                    ).then(function(){\n",
       "                            \n",
       "var gd = document.getElementById('87f3b8a2-b6bb-4421-ad40-fc7bec3c3bbe');\n",
       "var x = new MutationObserver(function (mutations, observer) {{\n",
       "        var display = window.getComputedStyle(gd).display;\n",
       "        if (!display || display === 'none') {{\n",
       "            console.log([gd, 'removed!']);\n",
       "            Plotly.purge(gd);\n",
       "            observer.disconnect();\n",
       "        }}\n",
       "}});\n",
       "\n",
       "// Listen for the removal of the full notebook cells\n",
       "var notebookContainer = gd.closest('#notebook-container');\n",
       "if (notebookContainer) {{\n",
       "    x.observe(notebookContainer, {childList: true});\n",
       "}}\n",
       "\n",
       "// Listen for the clearing of the current output cell\n",
       "var outputEl = gd.closest('.output');\n",
       "if (outputEl) {{\n",
       "    x.observe(outputEl, {childList: true});\n",
       "}}\n",
       "\n",
       "                        })                };                });            </script>        </div>"
      ]
     },
     "metadata": {},
     "output_type": "display_data"
    }
   ],
   "source": [
    "# Visualizing the dataset with added values which will be used for model trainig\n",
    "# Get unique Model_Store_Pairs\n",
    "unique_pairs = full_sales_df['Model_Store_Pair'].unique()\n",
    "\n",
    "# Create an empty list to store traces\n",
    "plot_data = []\n",
    "\n",
    "# Loop through each unique Model_Store_Pair and create a trace\n",
    "for unique_pair in unique_pairs:\n",
    "    trace = go.Scatter(\n",
    "        x=full_sales_df[full_sales_df['Model_Store_Pair'] == unique_pair]['MONTH_YEAR'],\n",
    "        y=full_sales_df[full_sales_df['Model_Store_Pair'] == unique_pair]['QUANTITY'],\n",
    "        mode='lines+markers',\n",
    "        name=unique_pair  # Label each trace with the Model_Store_Pair\n",
    "    )\n",
    "    plot_data.append(trace)\n",
    "\n",
    "plot_layout = go.Layout(\n",
    "    title='Monthly Sales'\n",
    ")\n",
    "\n",
    "fig = go.Figure(data=plot_data, layout=plot_layout)\n",
    "pyoff.iplot(fig)"
   ]
  },
  {
   "cell_type": "markdown",
   "metadata": {},
   "source": [
    "## Features and Targets"
   ]
  },
  {
   "cell_type": "markdown",
   "metadata": {},
   "source": [
    "### TS to Supervised with one store_model"
   ]
  },
  {
   "cell_type": "code",
   "execution_count": 100,
   "metadata": {},
   "outputs": [
    {
     "data": {
      "text/html": [
       "<div>\n",
       "<style scoped>\n",
       "    .dataframe tbody tr th:only-of-type {\n",
       "        vertical-align: middle;\n",
       "    }\n",
       "\n",
       "    .dataframe tbody tr th {\n",
       "        vertical-align: top;\n",
       "    }\n",
       "\n",
       "    .dataframe thead th {\n",
       "        text-align: right;\n",
       "    }\n",
       "</style>\n",
       "<table border=\"1\" class=\"dataframe\">\n",
       "  <thead>\n",
       "    <tr style=\"text-align: right;\">\n",
       "      <th></th>\n",
       "      <th>Model_Store_Pair</th>\n",
       "      <th>MONTH_YEAR</th>\n",
       "      <th>QUANTITY</th>\n",
       "      <th>Model_Store_Pair_ID</th>\n",
       "      <th>lag_1</th>\n",
       "      <th>lag_2</th>\n",
       "      <th>lag_3</th>\n",
       "      <th>lag_4</th>\n",
       "      <th>lag_5</th>\n",
       "      <th>lag_6</th>\n",
       "      <th>lag_7</th>\n",
       "      <th>lag_8</th>\n",
       "      <th>lag_9</th>\n",
       "      <th>lag_10</th>\n",
       "      <th>lag_11</th>\n",
       "      <th>lag_12</th>\n",
       "    </tr>\n",
       "  </thead>\n",
       "  <tbody>\n",
       "    <tr>\n",
       "      <th>0</th>\n",
       "      <td>Model-1_Store-1</td>\n",
       "      <td>2020-01-01</td>\n",
       "      <td>54.0</td>\n",
       "      <td>7</td>\n",
       "      <td>5.0</td>\n",
       "      <td>306.0</td>\n",
       "      <td>93.0</td>\n",
       "      <td>501.666667</td>\n",
       "      <td>132.000000</td>\n",
       "      <td>442.000000</td>\n",
       "      <td>359.000000</td>\n",
       "      <td>371.000000</td>\n",
       "      <td>31.000000</td>\n",
       "      <td>19.000000</td>\n",
       "      <td>72.000000</td>\n",
       "      <td>54.000000</td>\n",
       "    </tr>\n",
       "    <tr>\n",
       "      <th>1</th>\n",
       "      <td>Model-1_Store-1</td>\n",
       "      <td>2020-02-01</td>\n",
       "      <td>171.5</td>\n",
       "      <td>7</td>\n",
       "      <td>54.0</td>\n",
       "      <td>5.0</td>\n",
       "      <td>306.0</td>\n",
       "      <td>93.000000</td>\n",
       "      <td>501.666667</td>\n",
       "      <td>132.000000</td>\n",
       "      <td>442.000000</td>\n",
       "      <td>359.000000</td>\n",
       "      <td>371.000000</td>\n",
       "      <td>31.000000</td>\n",
       "      <td>19.000000</td>\n",
       "      <td>72.000000</td>\n",
       "    </tr>\n",
       "    <tr>\n",
       "      <th>2</th>\n",
       "      <td>Model-1_Store-1</td>\n",
       "      <td>2020-03-01</td>\n",
       "      <td>93.0</td>\n",
       "      <td>7</td>\n",
       "      <td>171.5</td>\n",
       "      <td>54.0</td>\n",
       "      <td>5.0</td>\n",
       "      <td>306.000000</td>\n",
       "      <td>93.000000</td>\n",
       "      <td>501.666667</td>\n",
       "      <td>132.000000</td>\n",
       "      <td>442.000000</td>\n",
       "      <td>359.000000</td>\n",
       "      <td>371.000000</td>\n",
       "      <td>31.000000</td>\n",
       "      <td>19.000000</td>\n",
       "    </tr>\n",
       "    <tr>\n",
       "      <th>3</th>\n",
       "      <td>Model-1_Store-1</td>\n",
       "      <td>2020-04-01</td>\n",
       "      <td>31.0</td>\n",
       "      <td>7</td>\n",
       "      <td>93.0</td>\n",
       "      <td>171.5</td>\n",
       "      <td>54.0</td>\n",
       "      <td>5.000000</td>\n",
       "      <td>306.000000</td>\n",
       "      <td>93.000000</td>\n",
       "      <td>501.666667</td>\n",
       "      <td>132.000000</td>\n",
       "      <td>442.000000</td>\n",
       "      <td>359.000000</td>\n",
       "      <td>371.000000</td>\n",
       "      <td>31.000000</td>\n",
       "    </tr>\n",
       "    <tr>\n",
       "      <th>4</th>\n",
       "      <td>Model-1_Store-1</td>\n",
       "      <td>2020-05-01</td>\n",
       "      <td>154.0</td>\n",
       "      <td>7</td>\n",
       "      <td>31.0</td>\n",
       "      <td>93.0</td>\n",
       "      <td>171.5</td>\n",
       "      <td>54.000000</td>\n",
       "      <td>5.000000</td>\n",
       "      <td>306.000000</td>\n",
       "      <td>93.000000</td>\n",
       "      <td>501.666667</td>\n",
       "      <td>132.000000</td>\n",
       "      <td>442.000000</td>\n",
       "      <td>359.000000</td>\n",
       "      <td>371.000000</td>\n",
       "    </tr>\n",
       "    <tr>\n",
       "      <th>5</th>\n",
       "      <td>Model-1_Store-1</td>\n",
       "      <td>2020-06-01</td>\n",
       "      <td>269.0</td>\n",
       "      <td>7</td>\n",
       "      <td>154.0</td>\n",
       "      <td>31.0</td>\n",
       "      <td>93.0</td>\n",
       "      <td>171.500000</td>\n",
       "      <td>54.000000</td>\n",
       "      <td>5.000000</td>\n",
       "      <td>306.000000</td>\n",
       "      <td>93.000000</td>\n",
       "      <td>501.666667</td>\n",
       "      <td>132.000000</td>\n",
       "      <td>442.000000</td>\n",
       "      <td>359.000000</td>\n",
       "    </tr>\n",
       "    <tr>\n",
       "      <th>6</th>\n",
       "      <td>Model-1_Store-1</td>\n",
       "      <td>2020-07-01</td>\n",
       "      <td>264.5</td>\n",
       "      <td>7</td>\n",
       "      <td>269.0</td>\n",
       "      <td>154.0</td>\n",
       "      <td>31.0</td>\n",
       "      <td>93.000000</td>\n",
       "      <td>171.500000</td>\n",
       "      <td>54.000000</td>\n",
       "      <td>5.000000</td>\n",
       "      <td>306.000000</td>\n",
       "      <td>93.000000</td>\n",
       "      <td>501.666667</td>\n",
       "      <td>132.000000</td>\n",
       "      <td>442.000000</td>\n",
       "    </tr>\n",
       "    <tr>\n",
       "      <th>7</th>\n",
       "      <td>Model-1_Store-1</td>\n",
       "      <td>2020-08-01</td>\n",
       "      <td>261.0</td>\n",
       "      <td>7</td>\n",
       "      <td>264.5</td>\n",
       "      <td>269.0</td>\n",
       "      <td>154.0</td>\n",
       "      <td>31.000000</td>\n",
       "      <td>93.000000</td>\n",
       "      <td>171.500000</td>\n",
       "      <td>54.000000</td>\n",
       "      <td>5.000000</td>\n",
       "      <td>306.000000</td>\n",
       "      <td>93.000000</td>\n",
       "      <td>501.666667</td>\n",
       "      <td>132.000000</td>\n",
       "    </tr>\n",
       "    <tr>\n",
       "      <th>8</th>\n",
       "      <td>Model-1_Store-1</td>\n",
       "      <td>2020-09-01</td>\n",
       "      <td>158.0</td>\n",
       "      <td>7</td>\n",
       "      <td>261.0</td>\n",
       "      <td>264.5</td>\n",
       "      <td>269.0</td>\n",
       "      <td>154.000000</td>\n",
       "      <td>31.000000</td>\n",
       "      <td>93.000000</td>\n",
       "      <td>171.500000</td>\n",
       "      <td>54.000000</td>\n",
       "      <td>5.000000</td>\n",
       "      <td>306.000000</td>\n",
       "      <td>93.000000</td>\n",
       "      <td>501.666667</td>\n",
       "    </tr>\n",
       "    <tr>\n",
       "      <th>9</th>\n",
       "      <td>Model-1_Store-1</td>\n",
       "      <td>2020-10-01</td>\n",
       "      <td>93.0</td>\n",
       "      <td>7</td>\n",
       "      <td>158.0</td>\n",
       "      <td>261.0</td>\n",
       "      <td>264.5</td>\n",
       "      <td>269.000000</td>\n",
       "      <td>154.000000</td>\n",
       "      <td>31.000000</td>\n",
       "      <td>93.000000</td>\n",
       "      <td>171.500000</td>\n",
       "      <td>54.000000</td>\n",
       "      <td>5.000000</td>\n",
       "      <td>306.000000</td>\n",
       "      <td>93.000000</td>\n",
       "    </tr>\n",
       "    <tr>\n",
       "      <th>10</th>\n",
       "      <td>Model-1_Store-1</td>\n",
       "      <td>2020-11-01</td>\n",
       "      <td>200.0</td>\n",
       "      <td>7</td>\n",
       "      <td>93.0</td>\n",
       "      <td>158.0</td>\n",
       "      <td>261.0</td>\n",
       "      <td>264.500000</td>\n",
       "      <td>269.000000</td>\n",
       "      <td>154.000000</td>\n",
       "      <td>31.000000</td>\n",
       "      <td>93.000000</td>\n",
       "      <td>171.500000</td>\n",
       "      <td>54.000000</td>\n",
       "      <td>5.000000</td>\n",
       "      <td>306.000000</td>\n",
       "    </tr>\n",
       "    <tr>\n",
       "      <th>11</th>\n",
       "      <td>Model-1_Store-1</td>\n",
       "      <td>2020-12-01</td>\n",
       "      <td>2.0</td>\n",
       "      <td>7</td>\n",
       "      <td>200.0</td>\n",
       "      <td>93.0</td>\n",
       "      <td>158.0</td>\n",
       "      <td>261.000000</td>\n",
       "      <td>264.500000</td>\n",
       "      <td>269.000000</td>\n",
       "      <td>154.000000</td>\n",
       "      <td>31.000000</td>\n",
       "      <td>93.000000</td>\n",
       "      <td>171.500000</td>\n",
       "      <td>54.000000</td>\n",
       "      <td>5.000000</td>\n",
       "    </tr>\n",
       "  </tbody>\n",
       "</table>\n",
       "</div>"
      ],
      "text/plain": [
       "   Model_Store_Pair MONTH_YEAR  QUANTITY  Model_Store_Pair_ID  lag_1  lag_2  \\\n",
       "0   Model-1_Store-1 2020-01-01      54.0                    7    5.0  306.0   \n",
       "1   Model-1_Store-1 2020-02-01     171.5                    7   54.0    5.0   \n",
       "2   Model-1_Store-1 2020-03-01      93.0                    7  171.5   54.0   \n",
       "3   Model-1_Store-1 2020-04-01      31.0                    7   93.0  171.5   \n",
       "4   Model-1_Store-1 2020-05-01     154.0                    7   31.0   93.0   \n",
       "5   Model-1_Store-1 2020-06-01     269.0                    7  154.0   31.0   \n",
       "6   Model-1_Store-1 2020-07-01     264.5                    7  269.0  154.0   \n",
       "7   Model-1_Store-1 2020-08-01     261.0                    7  264.5  269.0   \n",
       "8   Model-1_Store-1 2020-09-01     158.0                    7  261.0  264.5   \n",
       "9   Model-1_Store-1 2020-10-01      93.0                    7  158.0  261.0   \n",
       "10  Model-1_Store-1 2020-11-01     200.0                    7   93.0  158.0   \n",
       "11  Model-1_Store-1 2020-12-01       2.0                    7  200.0   93.0   \n",
       "\n",
       "    lag_3       lag_4       lag_5       lag_6       lag_7       lag_8  \\\n",
       "0    93.0  501.666667  132.000000  442.000000  359.000000  371.000000   \n",
       "1   306.0   93.000000  501.666667  132.000000  442.000000  359.000000   \n",
       "2     5.0  306.000000   93.000000  501.666667  132.000000  442.000000   \n",
       "3    54.0    5.000000  306.000000   93.000000  501.666667  132.000000   \n",
       "4   171.5   54.000000    5.000000  306.000000   93.000000  501.666667   \n",
       "5    93.0  171.500000   54.000000    5.000000  306.000000   93.000000   \n",
       "6    31.0   93.000000  171.500000   54.000000    5.000000  306.000000   \n",
       "7   154.0   31.000000   93.000000  171.500000   54.000000    5.000000   \n",
       "8   269.0  154.000000   31.000000   93.000000  171.500000   54.000000   \n",
       "9   264.5  269.000000  154.000000   31.000000   93.000000  171.500000   \n",
       "10  261.0  264.500000  269.000000  154.000000   31.000000   93.000000   \n",
       "11  158.0  261.000000  264.500000  269.000000  154.000000   31.000000   \n",
       "\n",
       "         lag_9      lag_10      lag_11      lag_12  \n",
       "0    31.000000   19.000000   72.000000   54.000000  \n",
       "1   371.000000   31.000000   19.000000   72.000000  \n",
       "2   359.000000  371.000000   31.000000   19.000000  \n",
       "3   442.000000  359.000000  371.000000   31.000000  \n",
       "4   132.000000  442.000000  359.000000  371.000000  \n",
       "5   501.666667  132.000000  442.000000  359.000000  \n",
       "6    93.000000  501.666667  132.000000  442.000000  \n",
       "7   306.000000   93.000000  501.666667  132.000000  \n",
       "8     5.000000  306.000000   93.000000  501.666667  \n",
       "9    54.000000    5.000000  306.000000   93.000000  \n",
       "10  171.500000   54.000000    5.000000  306.000000  \n",
       "11   93.000000  171.500000   54.000000    5.000000  "
      ]
     },
     "execution_count": 100,
     "metadata": {},
     "output_type": "execute_result"
    }
   ],
   "source": [
    "df_supervised_one_store_model = full_sales_df[(full_sales_df['Model_Store_Pair'] == 'Model-1_Store-1')].reset_index(drop=True)\n",
    "\n",
    "# Create new dataframe from transformation from time series to supervised\n",
    "for inc in range(1,13):\n",
    "    field_name = 'lag_' + str(inc)\n",
    "    df_supervised_one_store_model[field_name] = df_supervised_one_store_model['QUANTITY'].shift(inc)\n",
    "\n",
    "\n",
    "# Drop null values\n",
    "df_supervised_one_store_model = df_supervised_one_store_model.dropna().reset_index(drop=True)\n",
    "df_supervised_one_store_model.head(12)"
   ]
  },
  {
   "cell_type": "markdown",
   "metadata": {},
   "source": [
    "### TS to Supervised All data "
   ]
  },
  {
   "cell_type": "code",
   "execution_count": 101,
   "metadata": {},
   "outputs": [],
   "source": [
    "def time_series_to_supervised(df_predict_next_months,target_col):\n",
    "    '''\n",
    "    Inputs:\n",
    "        Time series dataframe\n",
    "        Target Column for training\n",
    "    Output:\n",
    "        Supervised dataframe\n",
    "    '''\n",
    "    # Get unique Model_Store_Pairs\n",
    "    unique_pairs = df_predict_next_months['Model_Store_Pair'].unique()\n",
    "\n",
    "    # Create an empty list to store the results for all Model/Store Pairs\n",
    "    all_supervised_data_list = []\n",
    "\n",
    "    # Loop through each unique Model_Store_Pair and process the data\n",
    "    for unique_pair in unique_pairs:\n",
    "        df_predict_next_months_one_store_model = df_predict_next_months[df_predict_next_months['Model_Store_Pair'] == unique_pair].reset_index(drop=True)\n",
    "\n",
    "        # Create a new DataFrame for supervised learning\n",
    "        df_predict_next_months_supervised_one_store_model = df_predict_next_months_one_store_model.copy()\n",
    "\n",
    "        # Perform your time series to supervised transformation\n",
    "        for inc in range(1, 13):\n",
    "            field_name = 'lag_' + str(inc)\n",
    "            df_predict_next_months_supervised_one_store_model[field_name] = df_predict_next_months_supervised_one_store_model[target_col].shift(inc)\n",
    "\n",
    "        # Drop null values\n",
    "        df_predict_next_months_supervised_one_store_model = df_predict_next_months_supervised_one_store_model.dropna().reset_index(drop=True)\n",
    "\n",
    "        # Append the result to the list\n",
    "        all_supervised_data_list.append(df_predict_next_months_supervised_one_store_model)\n",
    "\n",
    "    # Concatenate all the DataFrames in the list to create a single DataFrame\n",
    "    df_test_results_store_model = pd.concat(all_supervised_data_list, axis=0)\n",
    "\n",
    "    return df_test_results_store_model"
   ]
  },
  {
   "cell_type": "code",
   "execution_count": 102,
   "metadata": {},
   "outputs": [
    {
     "data": {
      "text/html": [
       "<div>\n",
       "<style scoped>\n",
       "    .dataframe tbody tr th:only-of-type {\n",
       "        vertical-align: middle;\n",
       "    }\n",
       "\n",
       "    .dataframe tbody tr th {\n",
       "        vertical-align: top;\n",
       "    }\n",
       "\n",
       "    .dataframe thead th {\n",
       "        text-align: right;\n",
       "    }\n",
       "</style>\n",
       "<table border=\"1\" class=\"dataframe\">\n",
       "  <thead>\n",
       "    <tr style=\"text-align: right;\">\n",
       "      <th></th>\n",
       "      <th>Model_Store_Pair</th>\n",
       "      <th>MONTH_YEAR</th>\n",
       "      <th>QUANTITY</th>\n",
       "      <th>Model_Store_Pair_ID</th>\n",
       "      <th>lag_1</th>\n",
       "      <th>lag_2</th>\n",
       "      <th>lag_3</th>\n",
       "      <th>lag_4</th>\n",
       "      <th>lag_5</th>\n",
       "      <th>lag_6</th>\n",
       "      <th>lag_7</th>\n",
       "      <th>lag_8</th>\n",
       "      <th>lag_9</th>\n",
       "      <th>lag_10</th>\n",
       "      <th>lag_11</th>\n",
       "      <th>lag_12</th>\n",
       "    </tr>\n",
       "  </thead>\n",
       "  <tbody>\n",
       "    <tr>\n",
       "      <th>0</th>\n",
       "      <td>Model-10_Store-9</td>\n",
       "      <td>2020-01-01</td>\n",
       "      <td>81.0</td>\n",
       "      <td>0</td>\n",
       "      <td>86.0</td>\n",
       "      <td>30.0</td>\n",
       "      <td>106.0</td>\n",
       "      <td>23.0</td>\n",
       "      <td>84.0</td>\n",
       "      <td>68.0</td>\n",
       "      <td>358.0</td>\n",
       "      <td>75.0</td>\n",
       "      <td>40.0</td>\n",
       "      <td>9.0</td>\n",
       "      <td>38.0</td>\n",
       "      <td>311.0</td>\n",
       "    </tr>\n",
       "    <tr>\n",
       "      <th>1</th>\n",
       "      <td>Model-10_Store-9</td>\n",
       "      <td>2020-02-01</td>\n",
       "      <td>119.0</td>\n",
       "      <td>0</td>\n",
       "      <td>81.0</td>\n",
       "      <td>86.0</td>\n",
       "      <td>30.0</td>\n",
       "      <td>106.0</td>\n",
       "      <td>23.0</td>\n",
       "      <td>84.0</td>\n",
       "      <td>68.0</td>\n",
       "      <td>358.0</td>\n",
       "      <td>75.0</td>\n",
       "      <td>40.0</td>\n",
       "      <td>9.0</td>\n",
       "      <td>38.0</td>\n",
       "    </tr>\n",
       "    <tr>\n",
       "      <th>2</th>\n",
       "      <td>Model-10_Store-9</td>\n",
       "      <td>2020-03-01</td>\n",
       "      <td>15.0</td>\n",
       "      <td>0</td>\n",
       "      <td>119.0</td>\n",
       "      <td>81.0</td>\n",
       "      <td>86.0</td>\n",
       "      <td>30.0</td>\n",
       "      <td>106.0</td>\n",
       "      <td>23.0</td>\n",
       "      <td>84.0</td>\n",
       "      <td>68.0</td>\n",
       "      <td>358.0</td>\n",
       "      <td>75.0</td>\n",
       "      <td>40.0</td>\n",
       "      <td>9.0</td>\n",
       "    </tr>\n",
       "    <tr>\n",
       "      <th>3</th>\n",
       "      <td>Model-10_Store-9</td>\n",
       "      <td>2020-04-01</td>\n",
       "      <td>46.0</td>\n",
       "      <td>0</td>\n",
       "      <td>15.0</td>\n",
       "      <td>119.0</td>\n",
       "      <td>81.0</td>\n",
       "      <td>86.0</td>\n",
       "      <td>30.0</td>\n",
       "      <td>106.0</td>\n",
       "      <td>23.0</td>\n",
       "      <td>84.0</td>\n",
       "      <td>68.0</td>\n",
       "      <td>358.0</td>\n",
       "      <td>75.0</td>\n",
       "      <td>40.0</td>\n",
       "    </tr>\n",
       "    <tr>\n",
       "      <th>4</th>\n",
       "      <td>Model-10_Store-9</td>\n",
       "      <td>2020-05-01</td>\n",
       "      <td>33.0</td>\n",
       "      <td>0</td>\n",
       "      <td>46.0</td>\n",
       "      <td>15.0</td>\n",
       "      <td>119.0</td>\n",
       "      <td>81.0</td>\n",
       "      <td>86.0</td>\n",
       "      <td>30.0</td>\n",
       "      <td>106.0</td>\n",
       "      <td>23.0</td>\n",
       "      <td>84.0</td>\n",
       "      <td>68.0</td>\n",
       "      <td>358.0</td>\n",
       "      <td>75.0</td>\n",
       "    </tr>\n",
       "    <tr>\n",
       "      <th>...</th>\n",
       "      <td>...</td>\n",
       "      <td>...</td>\n",
       "      <td>...</td>\n",
       "      <td>...</td>\n",
       "      <td>...</td>\n",
       "      <td>...</td>\n",
       "      <td>...</td>\n",
       "      <td>...</td>\n",
       "      <td>...</td>\n",
       "      <td>...</td>\n",
       "      <td>...</td>\n",
       "      <td>...</td>\n",
       "      <td>...</td>\n",
       "      <td>...</td>\n",
       "      <td>...</td>\n",
       "      <td>...</td>\n",
       "    </tr>\n",
       "    <tr>\n",
       "      <th>41</th>\n",
       "      <td>Model-9_Store-4</td>\n",
       "      <td>2023-06-01</td>\n",
       "      <td>11.0</td>\n",
       "      <td>14</td>\n",
       "      <td>42.0</td>\n",
       "      <td>273.0</td>\n",
       "      <td>0.0</td>\n",
       "      <td>19.0</td>\n",
       "      <td>10.0</td>\n",
       "      <td>3.0</td>\n",
       "      <td>0.0</td>\n",
       "      <td>45.0</td>\n",
       "      <td>119.5</td>\n",
       "      <td>36.0</td>\n",
       "      <td>15.0</td>\n",
       "      <td>12.0</td>\n",
       "    </tr>\n",
       "    <tr>\n",
       "      <th>42</th>\n",
       "      <td>Model-9_Store-4</td>\n",
       "      <td>2023-07-01</td>\n",
       "      <td>57.0</td>\n",
       "      <td>14</td>\n",
       "      <td>11.0</td>\n",
       "      <td>42.0</td>\n",
       "      <td>273.0</td>\n",
       "      <td>0.0</td>\n",
       "      <td>19.0</td>\n",
       "      <td>10.0</td>\n",
       "      <td>3.0</td>\n",
       "      <td>0.0</td>\n",
       "      <td>45.0</td>\n",
       "      <td>119.5</td>\n",
       "      <td>36.0</td>\n",
       "      <td>15.0</td>\n",
       "    </tr>\n",
       "    <tr>\n",
       "      <th>43</th>\n",
       "      <td>Model-9_Store-4</td>\n",
       "      <td>2023-08-01</td>\n",
       "      <td>36.0</td>\n",
       "      <td>14</td>\n",
       "      <td>57.0</td>\n",
       "      <td>11.0</td>\n",
       "      <td>42.0</td>\n",
       "      <td>273.0</td>\n",
       "      <td>0.0</td>\n",
       "      <td>19.0</td>\n",
       "      <td>10.0</td>\n",
       "      <td>3.0</td>\n",
       "      <td>0.0</td>\n",
       "      <td>45.0</td>\n",
       "      <td>119.5</td>\n",
       "      <td>36.0</td>\n",
       "    </tr>\n",
       "    <tr>\n",
       "      <th>44</th>\n",
       "      <td>Model-9_Store-4</td>\n",
       "      <td>2023-09-01</td>\n",
       "      <td>185.0</td>\n",
       "      <td>14</td>\n",
       "      <td>36.0</td>\n",
       "      <td>57.0</td>\n",
       "      <td>11.0</td>\n",
       "      <td>42.0</td>\n",
       "      <td>273.0</td>\n",
       "      <td>0.0</td>\n",
       "      <td>19.0</td>\n",
       "      <td>10.0</td>\n",
       "      <td>3.0</td>\n",
       "      <td>0.0</td>\n",
       "      <td>45.0</td>\n",
       "      <td>119.5</td>\n",
       "    </tr>\n",
       "    <tr>\n",
       "      <th>45</th>\n",
       "      <td>Model-9_Store-4</td>\n",
       "      <td>2023-10-01</td>\n",
       "      <td>1.0</td>\n",
       "      <td>14</td>\n",
       "      <td>185.0</td>\n",
       "      <td>36.0</td>\n",
       "      <td>57.0</td>\n",
       "      <td>11.0</td>\n",
       "      <td>42.0</td>\n",
       "      <td>273.0</td>\n",
       "      <td>0.0</td>\n",
       "      <td>19.0</td>\n",
       "      <td>10.0</td>\n",
       "      <td>3.0</td>\n",
       "      <td>0.0</td>\n",
       "      <td>45.0</td>\n",
       "    </tr>\n",
       "  </tbody>\n",
       "</table>\n",
       "<p>690 rows × 16 columns</p>\n",
       "</div>"
      ],
      "text/plain": [
       "    Model_Store_Pair MONTH_YEAR  QUANTITY  Model_Store_Pair_ID  lag_1  lag_2  \\\n",
       "0   Model-10_Store-9 2020-01-01      81.0                    0   86.0   30.0   \n",
       "1   Model-10_Store-9 2020-02-01     119.0                    0   81.0   86.0   \n",
       "2   Model-10_Store-9 2020-03-01      15.0                    0  119.0   81.0   \n",
       "3   Model-10_Store-9 2020-04-01      46.0                    0   15.0  119.0   \n",
       "4   Model-10_Store-9 2020-05-01      33.0                    0   46.0   15.0   \n",
       "..               ...        ...       ...                  ...    ...    ...   \n",
       "41   Model-9_Store-4 2023-06-01      11.0                   14   42.0  273.0   \n",
       "42   Model-9_Store-4 2023-07-01      57.0                   14   11.0   42.0   \n",
       "43   Model-9_Store-4 2023-08-01      36.0                   14   57.0   11.0   \n",
       "44   Model-9_Store-4 2023-09-01     185.0                   14   36.0   57.0   \n",
       "45   Model-9_Store-4 2023-10-01       1.0                   14  185.0   36.0   \n",
       "\n",
       "    lag_3  lag_4  lag_5  lag_6  lag_7  lag_8  lag_9  lag_10  lag_11  lag_12  \n",
       "0   106.0   23.0   84.0   68.0  358.0   75.0   40.0     9.0    38.0   311.0  \n",
       "1    30.0  106.0   23.0   84.0   68.0  358.0   75.0    40.0     9.0    38.0  \n",
       "2    86.0   30.0  106.0   23.0   84.0   68.0  358.0    75.0    40.0     9.0  \n",
       "3    81.0   86.0   30.0  106.0   23.0   84.0   68.0   358.0    75.0    40.0  \n",
       "4   119.0   81.0   86.0   30.0  106.0   23.0   84.0    68.0   358.0    75.0  \n",
       "..    ...    ...    ...    ...    ...    ...    ...     ...     ...     ...  \n",
       "41    0.0   19.0   10.0    3.0    0.0   45.0  119.5    36.0    15.0    12.0  \n",
       "42  273.0    0.0   19.0   10.0    3.0    0.0   45.0   119.5    36.0    15.0  \n",
       "43   42.0  273.0    0.0   19.0   10.0    3.0    0.0    45.0   119.5    36.0  \n",
       "44   11.0   42.0  273.0    0.0   19.0   10.0    3.0     0.0    45.0   119.5  \n",
       "45   57.0   11.0   42.0  273.0    0.0   19.0   10.0     3.0     0.0    45.0  \n",
       "\n",
       "[690 rows x 16 columns]"
      ]
     },
     "execution_count": 102,
     "metadata": {},
     "output_type": "execute_result"
    }
   ],
   "source": [
    "df_supervised_all = time_series_to_supervised(full_sales_df,'QUANTITY')\n",
    "df_supervised_all"
   ]
  },
  {
   "cell_type": "code",
   "execution_count": 103,
   "metadata": {},
   "outputs": [
    {
     "name": "stdout",
     "output_type": "stream",
     "text": [
      "Adjusted R-squared for Lag_1: 0.09421531959589569\n",
      "Adjusted R-squared for Lag_1 + Lag_2: 0.15082054105314024\n",
      "Adjusted R-squared for Lag_1 + Lag_2 + Lag_3: 0.17647643670247515\n",
      "Adjusted R-squared for Lag_1 + Lag_2 + Lag_3 + Lag_4: 0.2285623370013825\n",
      "Adjusted R-squared for Lag_1 + Lag_2 + Lag_3 + Lag_4 + Lag_5: 0.22937351827764463\n",
      "Adjusted R-squared for Lag_1 + Lag_2 + Lag_3 + Lag_4 + Lag_5 + Lag_6: 0.26965520060060555\n",
      "Adjusted R-squared for Lag_1 + Lag_2 + Lag_3 + Lag_4 + Lag_5 + Lag_6 + Lag_7: 0.27039764215488904\n",
      "Adjusted R-squared for Lag_1 + Lag_2 + Lag_3 + Lag_4 + Lag_5 + Lag_6 + Lag_7 + Lag_8: 0.2841809247193513\n",
      "Adjusted R-squared for Lag_1 + Lag_2 + Lag_3 + Lag_4 + Lag_5 + Lag_6 + Lag_7 + Lag_8 + Lag_9: 0.30067240704846276\n",
      "Adjusted R-squared for Lag_1 + Lag_2 + Lag_3 + Lag_4 + Lag_5 + Lag_6 + Lag_7 + Lag_8 + Lag_9 + Lag_10: 0.30794267978466083\n",
      "Adjusted R-squared for Lag_1 + Lag_2 + Lag_3 + Lag_4 + Lag_5 + Lag_6 + Lag_7 + Lag_8 + Lag_9 + Lag_10 + Lag_11: 0.306884906641969\n",
      "Adjusted R-squared for Lag_1 + Lag_2 + Lag_3 + Lag_4 + Lag_5 + Lag_6 + Lag_7 + Lag_8 + Lag_9 + Lag_10 + Lag_11 + Lag_12: 0.37624607406147137\n"
     ]
    }
   ],
   "source": [
    "def test_dataset_features(df_predict_next_months, target_label):\n",
    "    '''\n",
    "    Test supervised dataset to see how each features influences the prediction of sales quantity\n",
    "    '''\n",
    "    # Create an empty dictionary to store the adjusted R-squared values for each lag\n",
    "    lag_adj_rsq = {}\n",
    "\n",
    "    for i in range(1, 13):\n",
    "        # Create the lag term dynamically for the formula\n",
    "        lag_term = '+'.join([f'lag_{j}' for j in range(1, i + 1)])\n",
    "\n",
    "        # Define the regression formula\n",
    "        formula = f\"{target_label} ~ MONTH_YEAR + Model_Store_Pair_ID + {lag_term}\"\n",
    "\n",
    "        # Fit the regression model\n",
    "        model = smf.ols(formula=formula, data=df_predict_next_months)\n",
    "        model_fit = model.fit()\n",
    "\n",
    "        # Extract the adjusted R-squared\n",
    "        regression_adj_rsq = model_fit.rsquared_adj\n",
    "\n",
    "        # Store the adjusted R-squared for this lag in the dictionary\n",
    "        lag_adj_rsq[f'Lag_{i}'] = regression_adj_rsq\n",
    "\n",
    "    return lag_adj_rsq\n",
    "\n",
    "# Run the function to test different lag values\n",
    "lag_adj_rsq_values = test_dataset_features(df_supervised_all, 'QUANTITY')\n",
    "\n",
    "# Display the adjusted R-squared values for each lag\n",
    "for lag, adj_rsq in lag_adj_rsq_values.items():\n",
    "    lag_str = ' + '.join([f\"Lag_{i}\" for i in range(1, int(lag.split('_')[1]) + 1)])\n",
    "    print(f\"Adjusted R-squared for {lag_str}: {adj_rsq}\")\n",
    "\n"
   ]
  },
  {
   "cell_type": "code",
   "execution_count": 104,
   "metadata": {},
   "outputs": [
    {
     "data": {
      "application/vnd.plotly.v1+json": {
       "config": {
        "plotlyServerURL": "https://plot.ly"
       },
       "data": [
        {
         "colorscale": [
          [
           0,
           "rgb(103,0,31)"
          ],
          [
           0.1,
           "rgb(178,24,43)"
          ],
          [
           0.2,
           "rgb(214,96,77)"
          ],
          [
           0.3,
           "rgb(244,165,130)"
          ],
          [
           0.4,
           "rgb(253,219,199)"
          ],
          [
           0.5,
           "rgb(247,247,247)"
          ],
          [
           0.6,
           "rgb(209,229,240)"
          ],
          [
           0.7,
           "rgb(146,197,222)"
          ],
          [
           0.8,
           "rgb(67,147,195)"
          ],
          [
           0.9,
           "rgb(33,102,172)"
          ],
          [
           1,
           "rgb(5,48,97)"
          ]
         ],
         "text": [
          [
           1,
           0.16,
           0.3,
           0.32,
           0.3,
           0.37,
           0.24,
           0.39,
           0.29,
           0.37,
           0.36,
           0.38,
           0.27,
           0.52
          ],
          [
           0.16,
           1,
           0.16,
           0.16,
           0.16,
           0.16,
           0.17,
           0.17,
           0.18,
           0.18,
           0.18,
           0.18,
           0.18,
           0.18
          ],
          [
           0.3,
           0.16,
           1,
           0.3,
           0.32,
           0.3,
           0.37,
           0.24,
           0.4,
           0.28,
           0.37,
           0.35,
           0.37,
           0.27
          ],
          [
           0.32,
           0.16,
           0.3,
           1,
           0.3,
           0.32,
           0.28,
           0.38,
           0.26,
           0.41,
           0.28,
           0.37,
           0.36,
           0.36
          ],
          [
           0.3,
           0.16,
           0.32,
           0.3,
           1,
           0.29,
           0.31,
           0.26,
           0.39,
           0.25,
           0.41,
           0.28,
           0.39,
           0.35
          ],
          [
           0.37,
           0.16,
           0.3,
           0.32,
           0.29,
           1,
           0.28,
           0.32,
           0.29,
           0.4,
           0.24,
           0.39,
           0.27,
           0.39
          ],
          [
           0.24,
           0.17,
           0.37,
           0.28,
           0.31,
           0.28,
           1,
           0.28,
           0.35,
           0.29,
           0.41,
           0.24,
           0.39,
           0.27
          ],
          [
           0.39,
           0.17,
           0.24,
           0.38,
           0.26,
           0.32,
           0.28,
           1,
           0.3,
           0.36,
           0.28,
           0.39,
           0.23,
           0.38
          ],
          [
           0.29,
           0.18,
           0.4,
           0.26,
           0.39,
           0.29,
           0.35,
           0.3,
           1,
           0.32,
           0.37,
           0.29,
           0.4,
           0.23
          ],
          [
           0.37,
           0.18,
           0.28,
           0.41,
           0.25,
           0.4,
           0.29,
           0.36,
           0.32,
           1,
           0.31,
           0.36,
           0.28,
           0.4
          ],
          [
           0.36,
           0.18,
           0.37,
           0.28,
           0.41,
           0.24,
           0.41,
           0.28,
           0.37,
           0.31,
           1,
           0.31,
           0.35,
           0.28
          ],
          [
           0.38,
           0.18,
           0.35,
           0.37,
           0.28,
           0.39,
           0.24,
           0.39,
           0.29,
           0.36,
           0.31,
           1,
           0.34,
           0.35
          ],
          [
           0.27,
           0.18,
           0.37,
           0.36,
           0.39,
           0.27,
           0.39,
           0.23,
           0.4,
           0.28,
           0.35,
           0.34,
           1,
           0.33
          ],
          [
           0.52,
           0.18,
           0.27,
           0.36,
           0.35,
           0.39,
           0.27,
           0.38,
           0.23,
           0.4,
           0.28,
           0.35,
           0.33,
           1
          ]
         ],
         "type": "heatmap",
         "x": [
          "QUANTITY",
          "Model_Store_Pair_ID",
          "lag_1",
          "lag_2",
          "lag_3",
          "lag_4",
          "lag_5",
          "lag_6",
          "lag_7",
          "lag_8",
          "lag_9",
          "lag_10",
          "lag_11",
          "lag_12"
         ],
         "y": [
          "QUANTITY",
          "Model_Store_Pair_ID",
          "lag_1",
          "lag_2",
          "lag_3",
          "lag_4",
          "lag_5",
          "lag_6",
          "lag_7",
          "lag_8",
          "lag_9",
          "lag_10",
          "lag_11",
          "lag_12"
         ],
         "z": [
          [
           1,
           0.16289302869683936,
           0.30128862960746444,
           0.3213654204786432,
           0.3028014525163713,
           0.36614998414318395,
           0.24466269693968867,
           0.3901844292341977,
           0.2851180634530315,
           0.3680854066715348,
           0.36048594393584527,
           0.3818408964000428,
           0.2666444593031393,
           0.5235152316231585
          ],
          [
           0.16289302869683936,
           1,
           0.16362007150890107,
           0.15913721641708023,
           0.1644622453335536,
           0.16312987792996966,
           0.16882148403429909,
           0.16725484077848646,
           0.1759483350514353,
           0.17670425361957914,
           0.18302377570732306,
           0.18212598589443693,
           0.18265660611059992,
           0.18197245450528757
          ],
          [
           0.30128862960746444,
           0.16362007150890107,
           1,
           0.2981767579474907,
           0.31504097279376103,
           0.2953234929727567,
           0.3749676738278296,
           0.2385012032653658,
           0.40329619890533136,
           0.2811857586285331,
           0.37050749973431757,
           0.3521685266476324,
           0.36537533015686957,
           0.2690362018128778
          ],
          [
           0.3213654204786432,
           0.15913721641708023,
           0.2981767579474907,
           1,
           0.2970150114209966,
           0.31510542693737037,
           0.27546134795924426,
           0.37993142808271113,
           0.2572432357041879,
           0.41484096935845927,
           0.2758886356393028,
           0.37355187751984154,
           0.3586339223487369,
           0.36040799695772757
          ],
          [
           0.3028014525163713,
           0.1644622453335536,
           0.31504097279376103,
           0.2970150114209966,
           1,
           0.28810677415782127,
           0.31172101218455034,
           0.26259650436937376,
           0.3921093502888088,
           0.2494686633706611,
           0.410543540932945,
           0.2846157648455103,
           0.3943591835501805,
           0.3466054943674264
          ],
          [
           0.36614998414318395,
           0.16312987792996966,
           0.2953234929727567,
           0.31510542693737037,
           0.28810677415782127,
           1,
           0.282047339836123,
           0.3232672366668684,
           0.286334148573381,
           0.40336197916556366,
           0.24368124953499554,
           0.394696599796869,
           0.27441921306455,
           0.3853485499796436
          ],
          [
           0.24466269693968867,
           0.16882148403429909,
           0.3749676738278296,
           0.27546134795924426,
           0.31172101218455034,
           0.282047339836123,
           1,
           0.2791424488614554,
           0.3482836117891414,
           0.28986927338827,
           0.40508899709486257,
           0.23893000565823,
           0.39020881708046345,
           0.27208296766288514
          ],
          [
           0.3901844292341977,
           0.16725484077848646,
           0.2385012032653658,
           0.37993142808271113,
           0.26259650436937376,
           0.3232672366668684,
           0.2791424488614554,
           1,
           0.29874020930944367,
           0.3579962665895105,
           0.2828398087081119,
           0.39171873485817194,
           0.2291995350166287,
           0.384031901275833
          ],
          [
           0.2851180634530315,
           0.1759483350514353,
           0.40329619890533136,
           0.2572432357041879,
           0.3921093502888088,
           0.286334148573381,
           0.3482836117891414,
           0.29874020930944367,
           1,
           0.31880809806926746,
           0.3694190445518133,
           0.2926701808026404,
           0.4025304839988781,
           0.2319103070035916
          ],
          [
           0.3680854066715348,
           0.17670425361957914,
           0.2811857586285331,
           0.41484096935845927,
           0.2494686633706611,
           0.40336197916556366,
           0.28986927338827,
           0.3579962665895105,
           0.31880809806926746,
           1,
           0.3138781673581881,
           0.3594131106472735,
           0.281723660541627,
           0.3991817241412302
          ],
          [
           0.36048594393584527,
           0.18302377570732306,
           0.37050749973431757,
           0.2758886356393028,
           0.410543540932945,
           0.24368124953499554,
           0.40508899709486257,
           0.2828398087081119,
           0.3694190445518133,
           0.3138781673581881,
           1,
           0.3126771939626027,
           0.35473546987271054,
           0.2790454616909022
          ],
          [
           0.3818408964000428,
           0.18212598589443693,
           0.3521685266476324,
           0.37355187751984154,
           0.2846157648455103,
           0.394696599796869,
           0.23893000565823,
           0.39171873485817194,
           0.2926701808026404,
           0.3594131106472735,
           0.3126771939626027,
           1,
           0.33598531294089157,
           0.3473181317744971
          ],
          [
           0.2666444593031393,
           0.18265660611059992,
           0.36537533015686957,
           0.3586339223487369,
           0.3943591835501805,
           0.27441921306455,
           0.39020881708046345,
           0.2291995350166287,
           0.4025304839988781,
           0.281723660541627,
           0.35473546987271054,
           0.33598531294089157,
           1,
           0.32501776448272396
          ],
          [
           0.5235152316231585,
           0.18197245450528757,
           0.2690362018128778,
           0.36040799695772757,
           0.3466054943674264,
           0.3853485499796436,
           0.27208296766288514,
           0.384031901275833,
           0.2319103070035916,
           0.3991817241412302,
           0.2790454616909022,
           0.3473181317744971,
           0.32501776448272396,
           1
          ]
         ],
         "zmax": 1,
         "zmin": -1
        }
       ],
       "layout": {
        "autosize": false,
        "template": {
         "data": {
          "bar": [
           {
            "error_x": {
             "color": "#2a3f5f"
            },
            "error_y": {
             "color": "#2a3f5f"
            },
            "marker": {
             "line": {
              "color": "#E5ECF6",
              "width": 0.5
             },
             "pattern": {
              "fillmode": "overlay",
              "size": 10,
              "solidity": 0.2
             }
            },
            "type": "bar"
           }
          ],
          "barpolar": [
           {
            "marker": {
             "line": {
              "color": "#E5ECF6",
              "width": 0.5
             },
             "pattern": {
              "fillmode": "overlay",
              "size": 10,
              "solidity": 0.2
             }
            },
            "type": "barpolar"
           }
          ],
          "carpet": [
           {
            "aaxis": {
             "endlinecolor": "#2a3f5f",
             "gridcolor": "white",
             "linecolor": "white",
             "minorgridcolor": "white",
             "startlinecolor": "#2a3f5f"
            },
            "baxis": {
             "endlinecolor": "#2a3f5f",
             "gridcolor": "white",
             "linecolor": "white",
             "minorgridcolor": "white",
             "startlinecolor": "#2a3f5f"
            },
            "type": "carpet"
           }
          ],
          "choropleth": [
           {
            "colorbar": {
             "outlinewidth": 0,
             "ticks": ""
            },
            "type": "choropleth"
           }
          ],
          "contour": [
           {
            "colorbar": {
             "outlinewidth": 0,
             "ticks": ""
            },
            "colorscale": [
             [
              0,
              "#0d0887"
             ],
             [
              0.1111111111111111,
              "#46039f"
             ],
             [
              0.2222222222222222,
              "#7201a8"
             ],
             [
              0.3333333333333333,
              "#9c179e"
             ],
             [
              0.4444444444444444,
              "#bd3786"
             ],
             [
              0.5555555555555556,
              "#d8576b"
             ],
             [
              0.6666666666666666,
              "#ed7953"
             ],
             [
              0.7777777777777778,
              "#fb9f3a"
             ],
             [
              0.8888888888888888,
              "#fdca26"
             ],
             [
              1,
              "#f0f921"
             ]
            ],
            "type": "contour"
           }
          ],
          "contourcarpet": [
           {
            "colorbar": {
             "outlinewidth": 0,
             "ticks": ""
            },
            "type": "contourcarpet"
           }
          ],
          "heatmap": [
           {
            "colorbar": {
             "outlinewidth": 0,
             "ticks": ""
            },
            "colorscale": [
             [
              0,
              "#0d0887"
             ],
             [
              0.1111111111111111,
              "#46039f"
             ],
             [
              0.2222222222222222,
              "#7201a8"
             ],
             [
              0.3333333333333333,
              "#9c179e"
             ],
             [
              0.4444444444444444,
              "#bd3786"
             ],
             [
              0.5555555555555556,
              "#d8576b"
             ],
             [
              0.6666666666666666,
              "#ed7953"
             ],
             [
              0.7777777777777778,
              "#fb9f3a"
             ],
             [
              0.8888888888888888,
              "#fdca26"
             ],
             [
              1,
              "#f0f921"
             ]
            ],
            "type": "heatmap"
           }
          ],
          "heatmapgl": [
           {
            "colorbar": {
             "outlinewidth": 0,
             "ticks": ""
            },
            "colorscale": [
             [
              0,
              "#0d0887"
             ],
             [
              0.1111111111111111,
              "#46039f"
             ],
             [
              0.2222222222222222,
              "#7201a8"
             ],
             [
              0.3333333333333333,
              "#9c179e"
             ],
             [
              0.4444444444444444,
              "#bd3786"
             ],
             [
              0.5555555555555556,
              "#d8576b"
             ],
             [
              0.6666666666666666,
              "#ed7953"
             ],
             [
              0.7777777777777778,
              "#fb9f3a"
             ],
             [
              0.8888888888888888,
              "#fdca26"
             ],
             [
              1,
              "#f0f921"
             ]
            ],
            "type": "heatmapgl"
           }
          ],
          "histogram": [
           {
            "marker": {
             "pattern": {
              "fillmode": "overlay",
              "size": 10,
              "solidity": 0.2
             }
            },
            "type": "histogram"
           }
          ],
          "histogram2d": [
           {
            "colorbar": {
             "outlinewidth": 0,
             "ticks": ""
            },
            "colorscale": [
             [
              0,
              "#0d0887"
             ],
             [
              0.1111111111111111,
              "#46039f"
             ],
             [
              0.2222222222222222,
              "#7201a8"
             ],
             [
              0.3333333333333333,
              "#9c179e"
             ],
             [
              0.4444444444444444,
              "#bd3786"
             ],
             [
              0.5555555555555556,
              "#d8576b"
             ],
             [
              0.6666666666666666,
              "#ed7953"
             ],
             [
              0.7777777777777778,
              "#fb9f3a"
             ],
             [
              0.8888888888888888,
              "#fdca26"
             ],
             [
              1,
              "#f0f921"
             ]
            ],
            "type": "histogram2d"
           }
          ],
          "histogram2dcontour": [
           {
            "colorbar": {
             "outlinewidth": 0,
             "ticks": ""
            },
            "colorscale": [
             [
              0,
              "#0d0887"
             ],
             [
              0.1111111111111111,
              "#46039f"
             ],
             [
              0.2222222222222222,
              "#7201a8"
             ],
             [
              0.3333333333333333,
              "#9c179e"
             ],
             [
              0.4444444444444444,
              "#bd3786"
             ],
             [
              0.5555555555555556,
              "#d8576b"
             ],
             [
              0.6666666666666666,
              "#ed7953"
             ],
             [
              0.7777777777777778,
              "#fb9f3a"
             ],
             [
              0.8888888888888888,
              "#fdca26"
             ],
             [
              1,
              "#f0f921"
             ]
            ],
            "type": "histogram2dcontour"
           }
          ],
          "mesh3d": [
           {
            "colorbar": {
             "outlinewidth": 0,
             "ticks": ""
            },
            "type": "mesh3d"
           }
          ],
          "parcoords": [
           {
            "line": {
             "colorbar": {
              "outlinewidth": 0,
              "ticks": ""
             }
            },
            "type": "parcoords"
           }
          ],
          "pie": [
           {
            "automargin": true,
            "type": "pie"
           }
          ],
          "scatter": [
           {
            "fillpattern": {
             "fillmode": "overlay",
             "size": 10,
             "solidity": 0.2
            },
            "type": "scatter"
           }
          ],
          "scatter3d": [
           {
            "line": {
             "colorbar": {
              "outlinewidth": 0,
              "ticks": ""
             }
            },
            "marker": {
             "colorbar": {
              "outlinewidth": 0,
              "ticks": ""
             }
            },
            "type": "scatter3d"
           }
          ],
          "scattercarpet": [
           {
            "marker": {
             "colorbar": {
              "outlinewidth": 0,
              "ticks": ""
             }
            },
            "type": "scattercarpet"
           }
          ],
          "scattergeo": [
           {
            "marker": {
             "colorbar": {
              "outlinewidth": 0,
              "ticks": ""
             }
            },
            "type": "scattergeo"
           }
          ],
          "scattergl": [
           {
            "marker": {
             "colorbar": {
              "outlinewidth": 0,
              "ticks": ""
             }
            },
            "type": "scattergl"
           }
          ],
          "scattermapbox": [
           {
            "marker": {
             "colorbar": {
              "outlinewidth": 0,
              "ticks": ""
             }
            },
            "type": "scattermapbox"
           }
          ],
          "scatterpolar": [
           {
            "marker": {
             "colorbar": {
              "outlinewidth": 0,
              "ticks": ""
             }
            },
            "type": "scatterpolar"
           }
          ],
          "scatterpolargl": [
           {
            "marker": {
             "colorbar": {
              "outlinewidth": 0,
              "ticks": ""
             }
            },
            "type": "scatterpolargl"
           }
          ],
          "scatterternary": [
           {
            "marker": {
             "colorbar": {
              "outlinewidth": 0,
              "ticks": ""
             }
            },
            "type": "scatterternary"
           }
          ],
          "surface": [
           {
            "colorbar": {
             "outlinewidth": 0,
             "ticks": ""
            },
            "colorscale": [
             [
              0,
              "#0d0887"
             ],
             [
              0.1111111111111111,
              "#46039f"
             ],
             [
              0.2222222222222222,
              "#7201a8"
             ],
             [
              0.3333333333333333,
              "#9c179e"
             ],
             [
              0.4444444444444444,
              "#bd3786"
             ],
             [
              0.5555555555555556,
              "#d8576b"
             ],
             [
              0.6666666666666666,
              "#ed7953"
             ],
             [
              0.7777777777777778,
              "#fb9f3a"
             ],
             [
              0.8888888888888888,
              "#fdca26"
             ],
             [
              1,
              "#f0f921"
             ]
            ],
            "type": "surface"
           }
          ],
          "table": [
           {
            "cells": {
             "fill": {
              "color": "#EBF0F8"
             },
             "line": {
              "color": "white"
             }
            },
            "header": {
             "fill": {
              "color": "#C8D4E3"
             },
             "line": {
              "color": "white"
             }
            },
            "type": "table"
           }
          ]
         },
         "layout": {
          "annotationdefaults": {
           "arrowcolor": "#2a3f5f",
           "arrowhead": 0,
           "arrowwidth": 1
          },
          "autotypenumbers": "strict",
          "coloraxis": {
           "colorbar": {
            "outlinewidth": 0,
            "ticks": ""
           }
          },
          "colorscale": {
           "diverging": [
            [
             0,
             "#8e0152"
            ],
            [
             0.1,
             "#c51b7d"
            ],
            [
             0.2,
             "#de77ae"
            ],
            [
             0.3,
             "#f1b6da"
            ],
            [
             0.4,
             "#fde0ef"
            ],
            [
             0.5,
             "#f7f7f7"
            ],
            [
             0.6,
             "#e6f5d0"
            ],
            [
             0.7,
             "#b8e186"
            ],
            [
             0.8,
             "#7fbc41"
            ],
            [
             0.9,
             "#4d9221"
            ],
            [
             1,
             "#276419"
            ]
           ],
           "sequential": [
            [
             0,
             "#0d0887"
            ],
            [
             0.1111111111111111,
             "#46039f"
            ],
            [
             0.2222222222222222,
             "#7201a8"
            ],
            [
             0.3333333333333333,
             "#9c179e"
            ],
            [
             0.4444444444444444,
             "#bd3786"
            ],
            [
             0.5555555555555556,
             "#d8576b"
            ],
            [
             0.6666666666666666,
             "#ed7953"
            ],
            [
             0.7777777777777778,
             "#fb9f3a"
            ],
            [
             0.8888888888888888,
             "#fdca26"
            ],
            [
             1,
             "#f0f921"
            ]
           ],
           "sequentialminus": [
            [
             0,
             "#0d0887"
            ],
            [
             0.1111111111111111,
             "#46039f"
            ],
            [
             0.2222222222222222,
             "#7201a8"
            ],
            [
             0.3333333333333333,
             "#9c179e"
            ],
            [
             0.4444444444444444,
             "#bd3786"
            ],
            [
             0.5555555555555556,
             "#d8576b"
            ],
            [
             0.6666666666666666,
             "#ed7953"
            ],
            [
             0.7777777777777778,
             "#fb9f3a"
            ],
            [
             0.8888888888888888,
             "#fdca26"
            ],
            [
             1,
             "#f0f921"
            ]
           ]
          },
          "colorway": [
           "#636efa",
           "#EF553B",
           "#00cc96",
           "#ab63fa",
           "#FFA15A",
           "#19d3f3",
           "#FF6692",
           "#B6E880",
           "#FF97FF",
           "#FECB52"
          ],
          "font": {
           "color": "#2a3f5f"
          },
          "geo": {
           "bgcolor": "white",
           "lakecolor": "white",
           "landcolor": "#E5ECF6",
           "showlakes": true,
           "showland": true,
           "subunitcolor": "white"
          },
          "hoverlabel": {
           "align": "left"
          },
          "hovermode": "closest",
          "mapbox": {
           "style": "light"
          },
          "paper_bgcolor": "white",
          "plot_bgcolor": "#E5ECF6",
          "polar": {
           "angularaxis": {
            "gridcolor": "white",
            "linecolor": "white",
            "ticks": ""
           },
           "bgcolor": "#E5ECF6",
           "radialaxis": {
            "gridcolor": "white",
            "linecolor": "white",
            "ticks": ""
           }
          },
          "scene": {
           "xaxis": {
            "backgroundcolor": "#E5ECF6",
            "gridcolor": "white",
            "gridwidth": 2,
            "linecolor": "white",
            "showbackground": true,
            "ticks": "",
            "zerolinecolor": "white"
           },
           "yaxis": {
            "backgroundcolor": "#E5ECF6",
            "gridcolor": "white",
            "gridwidth": 2,
            "linecolor": "white",
            "showbackground": true,
            "ticks": "",
            "zerolinecolor": "white"
           },
           "zaxis": {
            "backgroundcolor": "#E5ECF6",
            "gridcolor": "white",
            "gridwidth": 2,
            "linecolor": "white",
            "showbackground": true,
            "ticks": "",
            "zerolinecolor": "white"
           }
          },
          "shapedefaults": {
           "line": {
            "color": "#2a3f5f"
           }
          },
          "ternary": {
           "aaxis": {
            "gridcolor": "white",
            "linecolor": "white",
            "ticks": ""
           },
           "baxis": {
            "gridcolor": "white",
            "linecolor": "white",
            "ticks": ""
           },
           "bgcolor": "#E5ECF6",
           "caxis": {
            "gridcolor": "white",
            "linecolor": "white",
            "ticks": ""
           }
          },
          "title": {
           "x": 0.05
          },
          "xaxis": {
           "automargin": true,
           "gridcolor": "white",
           "linecolor": "white",
           "ticks": "",
           "title": {
            "standoff": 15
           },
           "zerolinecolor": "white",
           "zerolinewidth": 2
          },
          "yaxis": {
           "automargin": true,
           "gridcolor": "white",
           "linecolor": "white",
           "ticks": "",
           "title": {
            "standoff": 15
           },
           "zerolinecolor": "white",
           "zerolinewidth": 2
          }
         }
        },
        "title": {
         "text": "Correlation Matrix Heatmap"
        }
       }
      },
      "text/html": [
       "<div>                            <div id=\"9d75d8e7-eb9b-40bc-a207-dde10c2e439d\" class=\"plotly-graph-div\" style=\"height:525px; width:100%;\"></div>            <script type=\"text/javascript\">                require([\"plotly\"], function(Plotly) {                    window.PLOTLYENV=window.PLOTLYENV || {};                                    if (document.getElementById(\"9d75d8e7-eb9b-40bc-a207-dde10c2e439d\")) {                    Plotly.newPlot(                        \"9d75d8e7-eb9b-40bc-a207-dde10c2e439d\",                        [{\"colorscale\":[[0.0,\"rgb(103,0,31)\"],[0.1,\"rgb(178,24,43)\"],[0.2,\"rgb(214,96,77)\"],[0.3,\"rgb(244,165,130)\"],[0.4,\"rgb(253,219,199)\"],[0.5,\"rgb(247,247,247)\"],[0.6,\"rgb(209,229,240)\"],[0.7,\"rgb(146,197,222)\"],[0.8,\"rgb(67,147,195)\"],[0.9,\"rgb(33,102,172)\"],[1.0,\"rgb(5,48,97)\"]],\"text\":[[1.0,0.16,0.3,0.32,0.3,0.37,0.24,0.39,0.29,0.37,0.36,0.38,0.27,0.52],[0.16,1.0,0.16,0.16,0.16,0.16,0.17,0.17,0.18,0.18,0.18,0.18,0.18,0.18],[0.3,0.16,1.0,0.3,0.32,0.3,0.37,0.24,0.4,0.28,0.37,0.35,0.37,0.27],[0.32,0.16,0.3,1.0,0.3,0.32,0.28,0.38,0.26,0.41,0.28,0.37,0.36,0.36],[0.3,0.16,0.32,0.3,1.0,0.29,0.31,0.26,0.39,0.25,0.41,0.28,0.39,0.35],[0.37,0.16,0.3,0.32,0.29,1.0,0.28,0.32,0.29,0.4,0.24,0.39,0.27,0.39],[0.24,0.17,0.37,0.28,0.31,0.28,1.0,0.28,0.35,0.29,0.41,0.24,0.39,0.27],[0.39,0.17,0.24,0.38,0.26,0.32,0.28,1.0,0.3,0.36,0.28,0.39,0.23,0.38],[0.29,0.18,0.4,0.26,0.39,0.29,0.35,0.3,1.0,0.32,0.37,0.29,0.4,0.23],[0.37,0.18,0.28,0.41,0.25,0.4,0.29,0.36,0.32,1.0,0.31,0.36,0.28,0.4],[0.36,0.18,0.37,0.28,0.41,0.24,0.41,0.28,0.37,0.31,1.0,0.31,0.35,0.28],[0.38,0.18,0.35,0.37,0.28,0.39,0.24,0.39,0.29,0.36,0.31,1.0,0.34,0.35],[0.27,0.18,0.37,0.36,0.39,0.27,0.39,0.23,0.4,0.28,0.35,0.34,1.0,0.33],[0.52,0.18,0.27,0.36,0.35,0.39,0.27,0.38,0.23,0.4,0.28,0.35,0.33,1.0]],\"x\":[\"QUANTITY\",\"Model_Store_Pair_ID\",\"lag_1\",\"lag_2\",\"lag_3\",\"lag_4\",\"lag_5\",\"lag_6\",\"lag_7\",\"lag_8\",\"lag_9\",\"lag_10\",\"lag_11\",\"lag_12\"],\"y\":[\"QUANTITY\",\"Model_Store_Pair_ID\",\"lag_1\",\"lag_2\",\"lag_3\",\"lag_4\",\"lag_5\",\"lag_6\",\"lag_7\",\"lag_8\",\"lag_9\",\"lag_10\",\"lag_11\",\"lag_12\"],\"z\":[[1.0,0.16289302869683936,0.30128862960746444,0.3213654204786432,0.3028014525163713,0.36614998414318395,0.24466269693968867,0.3901844292341977,0.2851180634530315,0.3680854066715348,0.36048594393584527,0.3818408964000428,0.2666444593031393,0.5235152316231585],[0.16289302869683936,1.0,0.16362007150890107,0.15913721641708023,0.1644622453335536,0.16312987792996966,0.16882148403429909,0.16725484077848646,0.1759483350514353,0.17670425361957914,0.18302377570732306,0.18212598589443693,0.18265660611059992,0.18197245450528757],[0.30128862960746444,0.16362007150890107,1.0,0.2981767579474907,0.31504097279376103,0.2953234929727567,0.3749676738278296,0.2385012032653658,0.40329619890533136,0.2811857586285331,0.37050749973431757,0.3521685266476324,0.36537533015686957,0.2690362018128778],[0.3213654204786432,0.15913721641708023,0.2981767579474907,1.0,0.2970150114209966,0.31510542693737037,0.27546134795924426,0.37993142808271113,0.2572432357041879,0.41484096935845927,0.2758886356393028,0.37355187751984154,0.3586339223487369,0.36040799695772757],[0.3028014525163713,0.1644622453335536,0.31504097279376103,0.2970150114209966,1.0,0.28810677415782127,0.31172101218455034,0.26259650436937376,0.3921093502888088,0.2494686633706611,0.410543540932945,0.2846157648455103,0.3943591835501805,0.3466054943674264],[0.36614998414318395,0.16312987792996966,0.2953234929727567,0.31510542693737037,0.28810677415782127,1.0,0.282047339836123,0.3232672366668684,0.286334148573381,0.40336197916556366,0.24368124953499554,0.394696599796869,0.27441921306455,0.3853485499796436],[0.24466269693968867,0.16882148403429909,0.3749676738278296,0.27546134795924426,0.31172101218455034,0.282047339836123,1.0,0.2791424488614554,0.3482836117891414,0.28986927338827,0.40508899709486257,0.23893000565823,0.39020881708046345,0.27208296766288514],[0.3901844292341977,0.16725484077848646,0.2385012032653658,0.37993142808271113,0.26259650436937376,0.3232672366668684,0.2791424488614554,1.0,0.29874020930944367,0.3579962665895105,0.2828398087081119,0.39171873485817194,0.2291995350166287,0.384031901275833],[0.2851180634530315,0.1759483350514353,0.40329619890533136,0.2572432357041879,0.3921093502888088,0.286334148573381,0.3482836117891414,0.29874020930944367,1.0,0.31880809806926746,0.3694190445518133,0.2926701808026404,0.4025304839988781,0.2319103070035916],[0.3680854066715348,0.17670425361957914,0.2811857586285331,0.41484096935845927,0.2494686633706611,0.40336197916556366,0.28986927338827,0.3579962665895105,0.31880809806926746,1.0,0.3138781673581881,0.3594131106472735,0.281723660541627,0.3991817241412302],[0.36048594393584527,0.18302377570732306,0.37050749973431757,0.2758886356393028,0.410543540932945,0.24368124953499554,0.40508899709486257,0.2828398087081119,0.3694190445518133,0.3138781673581881,1.0,0.3126771939626027,0.35473546987271054,0.2790454616909022],[0.3818408964000428,0.18212598589443693,0.3521685266476324,0.37355187751984154,0.2846157648455103,0.394696599796869,0.23893000565823,0.39171873485817194,0.2926701808026404,0.3594131106472735,0.3126771939626027,1.0,0.33598531294089157,0.3473181317744971],[0.2666444593031393,0.18265660611059992,0.36537533015686957,0.3586339223487369,0.3943591835501805,0.27441921306455,0.39020881708046345,0.2291995350166287,0.4025304839988781,0.281723660541627,0.35473546987271054,0.33598531294089157,1.0,0.32501776448272396],[0.5235152316231585,0.18197245450528757,0.2690362018128778,0.36040799695772757,0.3466054943674264,0.3853485499796436,0.27208296766288514,0.384031901275833,0.2319103070035916,0.3991817241412302,0.2790454616909022,0.3473181317744971,0.32501776448272396,1.0]],\"zmax\":1,\"zmin\":-1,\"type\":\"heatmap\"}],                        {\"template\":{\"data\":{\"histogram2dcontour\":[{\"type\":\"histogram2dcontour\",\"colorbar\":{\"outlinewidth\":0,\"ticks\":\"\"},\"colorscale\":[[0.0,\"#0d0887\"],[0.1111111111111111,\"#46039f\"],[0.2222222222222222,\"#7201a8\"],[0.3333333333333333,\"#9c179e\"],[0.4444444444444444,\"#bd3786\"],[0.5555555555555556,\"#d8576b\"],[0.6666666666666666,\"#ed7953\"],[0.7777777777777778,\"#fb9f3a\"],[0.8888888888888888,\"#fdca26\"],[1.0,\"#f0f921\"]]}],\"choropleth\":[{\"type\":\"choropleth\",\"colorbar\":{\"outlinewidth\":0,\"ticks\":\"\"}}],\"histogram2d\":[{\"type\":\"histogram2d\",\"colorbar\":{\"outlinewidth\":0,\"ticks\":\"\"},\"colorscale\":[[0.0,\"#0d0887\"],[0.1111111111111111,\"#46039f\"],[0.2222222222222222,\"#7201a8\"],[0.3333333333333333,\"#9c179e\"],[0.4444444444444444,\"#bd3786\"],[0.5555555555555556,\"#d8576b\"],[0.6666666666666666,\"#ed7953\"],[0.7777777777777778,\"#fb9f3a\"],[0.8888888888888888,\"#fdca26\"],[1.0,\"#f0f921\"]]}],\"heatmap\":[{\"type\":\"heatmap\",\"colorbar\":{\"outlinewidth\":0,\"ticks\":\"\"},\"colorscale\":[[0.0,\"#0d0887\"],[0.1111111111111111,\"#46039f\"],[0.2222222222222222,\"#7201a8\"],[0.3333333333333333,\"#9c179e\"],[0.4444444444444444,\"#bd3786\"],[0.5555555555555556,\"#d8576b\"],[0.6666666666666666,\"#ed7953\"],[0.7777777777777778,\"#fb9f3a\"],[0.8888888888888888,\"#fdca26\"],[1.0,\"#f0f921\"]]}],\"heatmapgl\":[{\"type\":\"heatmapgl\",\"colorbar\":{\"outlinewidth\":0,\"ticks\":\"\"},\"colorscale\":[[0.0,\"#0d0887\"],[0.1111111111111111,\"#46039f\"],[0.2222222222222222,\"#7201a8\"],[0.3333333333333333,\"#9c179e\"],[0.4444444444444444,\"#bd3786\"],[0.5555555555555556,\"#d8576b\"],[0.6666666666666666,\"#ed7953\"],[0.7777777777777778,\"#fb9f3a\"],[0.8888888888888888,\"#fdca26\"],[1.0,\"#f0f921\"]]}],\"contourcarpet\":[{\"type\":\"contourcarpet\",\"colorbar\":{\"outlinewidth\":0,\"ticks\":\"\"}}],\"contour\":[{\"type\":\"contour\",\"colorbar\":{\"outlinewidth\":0,\"ticks\":\"\"},\"colorscale\":[[0.0,\"#0d0887\"],[0.1111111111111111,\"#46039f\"],[0.2222222222222222,\"#7201a8\"],[0.3333333333333333,\"#9c179e\"],[0.4444444444444444,\"#bd3786\"],[0.5555555555555556,\"#d8576b\"],[0.6666666666666666,\"#ed7953\"],[0.7777777777777778,\"#fb9f3a\"],[0.8888888888888888,\"#fdca26\"],[1.0,\"#f0f921\"]]}],\"surface\":[{\"type\":\"surface\",\"colorbar\":{\"outlinewidth\":0,\"ticks\":\"\"},\"colorscale\":[[0.0,\"#0d0887\"],[0.1111111111111111,\"#46039f\"],[0.2222222222222222,\"#7201a8\"],[0.3333333333333333,\"#9c179e\"],[0.4444444444444444,\"#bd3786\"],[0.5555555555555556,\"#d8576b\"],[0.6666666666666666,\"#ed7953\"],[0.7777777777777778,\"#fb9f3a\"],[0.8888888888888888,\"#fdca26\"],[1.0,\"#f0f921\"]]}],\"mesh3d\":[{\"type\":\"mesh3d\",\"colorbar\":{\"outlinewidth\":0,\"ticks\":\"\"}}],\"scatter\":[{\"fillpattern\":{\"fillmode\":\"overlay\",\"size\":10,\"solidity\":0.2},\"type\":\"scatter\"}],\"parcoords\":[{\"type\":\"parcoords\",\"line\":{\"colorbar\":{\"outlinewidth\":0,\"ticks\":\"\"}}}],\"scatterpolargl\":[{\"type\":\"scatterpolargl\",\"marker\":{\"colorbar\":{\"outlinewidth\":0,\"ticks\":\"\"}}}],\"bar\":[{\"error_x\":{\"color\":\"#2a3f5f\"},\"error_y\":{\"color\":\"#2a3f5f\"},\"marker\":{\"line\":{\"color\":\"#E5ECF6\",\"width\":0.5},\"pattern\":{\"fillmode\":\"overlay\",\"size\":10,\"solidity\":0.2}},\"type\":\"bar\"}],\"scattergeo\":[{\"type\":\"scattergeo\",\"marker\":{\"colorbar\":{\"outlinewidth\":0,\"ticks\":\"\"}}}],\"scatterpolar\":[{\"type\":\"scatterpolar\",\"marker\":{\"colorbar\":{\"outlinewidth\":0,\"ticks\":\"\"}}}],\"histogram\":[{\"marker\":{\"pattern\":{\"fillmode\":\"overlay\",\"size\":10,\"solidity\":0.2}},\"type\":\"histogram\"}],\"scattergl\":[{\"type\":\"scattergl\",\"marker\":{\"colorbar\":{\"outlinewidth\":0,\"ticks\":\"\"}}}],\"scatter3d\":[{\"type\":\"scatter3d\",\"line\":{\"colorbar\":{\"outlinewidth\":0,\"ticks\":\"\"}},\"marker\":{\"colorbar\":{\"outlinewidth\":0,\"ticks\":\"\"}}}],\"scattermapbox\":[{\"type\":\"scattermapbox\",\"marker\":{\"colorbar\":{\"outlinewidth\":0,\"ticks\":\"\"}}}],\"scatterternary\":[{\"type\":\"scatterternary\",\"marker\":{\"colorbar\":{\"outlinewidth\":0,\"ticks\":\"\"}}}],\"scattercarpet\":[{\"type\":\"scattercarpet\",\"marker\":{\"colorbar\":{\"outlinewidth\":0,\"ticks\":\"\"}}}],\"carpet\":[{\"aaxis\":{\"endlinecolor\":\"#2a3f5f\",\"gridcolor\":\"white\",\"linecolor\":\"white\",\"minorgridcolor\":\"white\",\"startlinecolor\":\"#2a3f5f\"},\"baxis\":{\"endlinecolor\":\"#2a3f5f\",\"gridcolor\":\"white\",\"linecolor\":\"white\",\"minorgridcolor\":\"white\",\"startlinecolor\":\"#2a3f5f\"},\"type\":\"carpet\"}],\"table\":[{\"cells\":{\"fill\":{\"color\":\"#EBF0F8\"},\"line\":{\"color\":\"white\"}},\"header\":{\"fill\":{\"color\":\"#C8D4E3\"},\"line\":{\"color\":\"white\"}},\"type\":\"table\"}],\"barpolar\":[{\"marker\":{\"line\":{\"color\":\"#E5ECF6\",\"width\":0.5},\"pattern\":{\"fillmode\":\"overlay\",\"size\":10,\"solidity\":0.2}},\"type\":\"barpolar\"}],\"pie\":[{\"automargin\":true,\"type\":\"pie\"}]},\"layout\":{\"autotypenumbers\":\"strict\",\"colorway\":[\"#636efa\",\"#EF553B\",\"#00cc96\",\"#ab63fa\",\"#FFA15A\",\"#19d3f3\",\"#FF6692\",\"#B6E880\",\"#FF97FF\",\"#FECB52\"],\"font\":{\"color\":\"#2a3f5f\"},\"hovermode\":\"closest\",\"hoverlabel\":{\"align\":\"left\"},\"paper_bgcolor\":\"white\",\"plot_bgcolor\":\"#E5ECF6\",\"polar\":{\"bgcolor\":\"#E5ECF6\",\"angularaxis\":{\"gridcolor\":\"white\",\"linecolor\":\"white\",\"ticks\":\"\"},\"radialaxis\":{\"gridcolor\":\"white\",\"linecolor\":\"white\",\"ticks\":\"\"}},\"ternary\":{\"bgcolor\":\"#E5ECF6\",\"aaxis\":{\"gridcolor\":\"white\",\"linecolor\":\"white\",\"ticks\":\"\"},\"baxis\":{\"gridcolor\":\"white\",\"linecolor\":\"white\",\"ticks\":\"\"},\"caxis\":{\"gridcolor\":\"white\",\"linecolor\":\"white\",\"ticks\":\"\"}},\"coloraxis\":{\"colorbar\":{\"outlinewidth\":0,\"ticks\":\"\"}},\"colorscale\":{\"sequential\":[[0.0,\"#0d0887\"],[0.1111111111111111,\"#46039f\"],[0.2222222222222222,\"#7201a8\"],[0.3333333333333333,\"#9c179e\"],[0.4444444444444444,\"#bd3786\"],[0.5555555555555556,\"#d8576b\"],[0.6666666666666666,\"#ed7953\"],[0.7777777777777778,\"#fb9f3a\"],[0.8888888888888888,\"#fdca26\"],[1.0,\"#f0f921\"]],\"sequentialminus\":[[0.0,\"#0d0887\"],[0.1111111111111111,\"#46039f\"],[0.2222222222222222,\"#7201a8\"],[0.3333333333333333,\"#9c179e\"],[0.4444444444444444,\"#bd3786\"],[0.5555555555555556,\"#d8576b\"],[0.6666666666666666,\"#ed7953\"],[0.7777777777777778,\"#fb9f3a\"],[0.8888888888888888,\"#fdca26\"],[1.0,\"#f0f921\"]],\"diverging\":[[0,\"#8e0152\"],[0.1,\"#c51b7d\"],[0.2,\"#de77ae\"],[0.3,\"#f1b6da\"],[0.4,\"#fde0ef\"],[0.5,\"#f7f7f7\"],[0.6,\"#e6f5d0\"],[0.7,\"#b8e186\"],[0.8,\"#7fbc41\"],[0.9,\"#4d9221\"],[1,\"#276419\"]]},\"xaxis\":{\"gridcolor\":\"white\",\"linecolor\":\"white\",\"ticks\":\"\",\"title\":{\"standoff\":15},\"zerolinecolor\":\"white\",\"automargin\":true,\"zerolinewidth\":2},\"yaxis\":{\"gridcolor\":\"white\",\"linecolor\":\"white\",\"ticks\":\"\",\"title\":{\"standoff\":15},\"zerolinecolor\":\"white\",\"automargin\":true,\"zerolinewidth\":2},\"scene\":{\"xaxis\":{\"backgroundcolor\":\"#E5ECF6\",\"gridcolor\":\"white\",\"linecolor\":\"white\",\"showbackground\":true,\"ticks\":\"\",\"zerolinecolor\":\"white\",\"gridwidth\":2},\"yaxis\":{\"backgroundcolor\":\"#E5ECF6\",\"gridcolor\":\"white\",\"linecolor\":\"white\",\"showbackground\":true,\"ticks\":\"\",\"zerolinecolor\":\"white\",\"gridwidth\":2},\"zaxis\":{\"backgroundcolor\":\"#E5ECF6\",\"gridcolor\":\"white\",\"linecolor\":\"white\",\"showbackground\":true,\"ticks\":\"\",\"zerolinecolor\":\"white\",\"gridwidth\":2}},\"shapedefaults\":{\"line\":{\"color\":\"#2a3f5f\"}},\"annotationdefaults\":{\"arrowcolor\":\"#2a3f5f\",\"arrowhead\":0,\"arrowwidth\":1},\"geo\":{\"bgcolor\":\"white\",\"landcolor\":\"#E5ECF6\",\"subunitcolor\":\"white\",\"showland\":true,\"showlakes\":true,\"lakecolor\":\"white\"},\"title\":{\"x\":0.05},\"mapbox\":{\"style\":\"light\"}}},\"title\":{\"text\":\"Correlation Matrix Heatmap\"},\"autosize\":false},                        {\"responsive\": true}                    ).then(function(){\n",
       "                            \n",
       "var gd = document.getElementById('9d75d8e7-eb9b-40bc-a207-dde10c2e439d');\n",
       "var x = new MutationObserver(function (mutations, observer) {{\n",
       "        var display = window.getComputedStyle(gd).display;\n",
       "        if (!display || display === 'none') {{\n",
       "            console.log([gd, 'removed!']);\n",
       "            Plotly.purge(gd);\n",
       "            observer.disconnect();\n",
       "        }}\n",
       "}});\n",
       "\n",
       "// Listen for the removal of the full notebook cells\n",
       "var notebookContainer = gd.closest('#notebook-container');\n",
       "if (notebookContainer) {{\n",
       "    x.observe(notebookContainer, {childList: true});\n",
       "}}\n",
       "\n",
       "// Listen for the clearing of the current output cell\n",
       "var outputEl = gd.closest('.output');\n",
       "if (outputEl) {{\n",
       "    x.observe(outputEl, {childList: true});\n",
       "}}\n",
       "\n",
       "                        })                };                });            </script>        </div>"
      ]
     },
     "metadata": {},
     "output_type": "display_data"
    }
   ],
   "source": [
    "# Creating a correlation matrix\n",
    "correlation_matrix = df_supervised_all.corr()\n",
    "\n",
    "# Converting the Seaborn heatmap to a Plotly figure\n",
    "fig = go.Figure(data=go.Heatmap(\n",
    "    z=correlation_matrix.values,\n",
    "    x=correlation_matrix.columns,\n",
    "    y=correlation_matrix.index,\n",
    "    colorscale='RdBu',\n",
    "    zmin=-1,\n",
    "    zmax=1,\n",
    "    text=correlation_matrix.round(2).values  # Displaying values as text on the plot\n",
    "))\n",
    "\n",
    "fig.update_layout(\n",
    "    title='Correlation Matrix Heatmap',\n",
    "    autosize=False\n",
    ")\n",
    "\n",
    "fig.show()\n"
   ]
  },
  {
   "cell_type": "markdown",
   "metadata": {},
   "source": [
    "## Train Test split and Data Preparation"
   ]
  },
  {
   "cell_type": "code",
   "execution_count": 105,
   "metadata": {},
   "outputs": [],
   "source": [
    "def split_dataset(df,test_months, target_col):\n",
    "\n",
    "    '''\n",
    "    Inputs:\n",
    "        Supervised dataframe\n",
    "        Number of months to use for testing\n",
    "        Target Column\n",
    "    Output:\n",
    "        Training dataframe (X,y)\n",
    "        Testing dataframe (X,y)\n",
    "    '''\n",
    "\n",
    "    # Sort the dataset by 'MONTH_YEAR' within each 'Model_Store_Pair'\n",
    "    df = df.sort_values(['Model_Store_Pair', 'MONTH_YEAR'])\n",
    "\n",
    "    # Define a date threshold for the last N months\n",
    "    test_end_date = df['MONTH_YEAR'].max()  # Use the last date in the dataset\n",
    "    test_start_date = test_end_date - timedelta(days=30 * test_months)  # Assuming 30 days in a month\n",
    "\n",
    "    # Initialize empty DataFrames for the training and test sets\n",
    "    train_set = pd.DataFrame()\n",
    "    test_set = pd.DataFrame()\n",
    "\n",
    "    # Get a list of feature columns (all columns except the target and Model_Store_Pair)\n",
    "    feature_cols = [col for col in df.columns if col not in [target_col,'QUANTITY']]\n",
    "\n",
    "    # Loop through each unique 'Model_Store_Pair' in the dataset\n",
    "    for pair in df['Model_Store_Pair'].unique():\n",
    "        # Extract the data for the current 'Model_Store_Pair'\n",
    "        pair_data = df[df['Model_Store_Pair'] == pair]\n",
    "\n",
    "        # Split the data into training and test sets based on the date threshold\n",
    "        train_data = pair_data[pair_data['MONTH_YEAR'] < test_start_date]\n",
    "        test_data = pair_data[(pair_data['MONTH_YEAR'] >= test_start_date) & (pair_data['MONTH_YEAR'] <= test_end_date)]\n",
    "\n",
    "        # Append the split data to the respective DataFrames\n",
    "        train_set = train_set.append(train_data)\n",
    "        test_set = test_set.append(test_data)\n",
    "\n",
    "    # Reset the index of the DataFrames\n",
    "    train_set = train_set.reset_index(drop=True)\n",
    "    test_set = test_set.reset_index(drop=True)\n",
    "\n",
    "    # Assign the target column to y_train and y_test\n",
    "    y_train = train_set[target_col]\n",
    "    y_test = test_set[target_col]\n",
    "\n",
    "    # Extract the feature columns for training and testing\n",
    "    X_train = train_set[feature_cols]\n",
    "    X_test = test_set[feature_cols]\n",
    "\n",
    "    return X_train, y_train, X_test, y_test\n"
   ]
  },
  {
   "cell_type": "code",
   "execution_count": 106,
   "metadata": {},
   "outputs": [],
   "source": [
    "target_col_diff = 'QUANTITY'\n",
    "test_set_months = 6 #using the last 6 months of each model/store for evaluation\n",
    "X_train, y_train, X_test, y_test=split_dataset(df_supervised_all,test_set_months,target_col_diff)"
   ]
  },
  {
   "cell_type": "code",
   "execution_count": 107,
   "metadata": {},
   "outputs": [
    {
     "name": "stdout",
     "output_type": "stream",
     "text": [
      "X_train: X_train.shape=(600, 15)\n",
      "y_train: y_train.shape=(600,)\n",
      "X_test: X_test.shape=(90, 15)\n",
      "y_test: y_test.shape=(90,)\n"
     ]
    }
   ],
   "source": [
    "print(f'X_train: {X_train.shape=}')\n",
    "print(f'y_train: {y_train.shape=}')\n",
    "print(f'X_test: {X_test.shape=}')\n",
    "print(f'y_test: {y_test.shape=}')"
   ]
  },
  {
   "cell_type": "code",
   "execution_count": 108,
   "metadata": {},
   "outputs": [
    {
     "name": "stdout",
     "output_type": "stream",
     "text": [
      "Training: training_df.shape=(600, 3)\n",
      "Testing: testing_df.shape=(90, 3)\n"
     ]
    }
   ],
   "source": [
    "#Make training and testing df for Prophet model\n",
    "\n",
    "training_df = pd.DataFrame({'ds':X_train['MONTH_YEAR'],'y':y_train,'Model_Store_Pair':X_train['Model_Store_Pair']})\n",
    "testing_df = pd.DataFrame({'ds':X_test['MONTH_YEAR'],'y':y_test,'Model_Store_Pair':X_test['Model_Store_Pair']})\n",
    "training_df.dropna(inplace=True)\n",
    "testing_df.dropna(inplace=True)\n",
    "print(f'Training: {training_df.shape=}')\n",
    "print(f'Testing: {testing_df.shape=}')"
   ]
  },
  {
   "cell_type": "code",
   "execution_count": 109,
   "metadata": {},
   "outputs": [
    {
     "name": "stdout",
     "output_type": "stream",
     "text": [
      "X_train: X_train.shape=(600, 13)\n",
      "X_test: X_test.shape=(90, 13)\n"
     ]
    }
   ],
   "source": [
    "X_train.drop(columns=['MONTH_YEAR','Model_Store_Pair'],inplace=True)\n",
    "X_test.drop(columns=['MONTH_YEAR','Model_Store_Pair'],inplace=True)\n",
    "print(f'X_train: {X_train.shape=}')\n",
    "print(f'X_test: {X_test.shape=}')"
   ]
  },
  {
   "cell_type": "markdown",
   "metadata": {},
   "source": [
    "### Models"
   ]
  },
  {
   "cell_type": "code",
   "execution_count": 110,
   "metadata": {},
   "outputs": [],
   "source": [
    "def mean_absolute_percentage_error(y_true, y_pred):\n",
    "    y_true, y_pred = np.array(y_true), np.array(y_pred)\n",
    "    \n",
    "    # Exclude cases where true values are 0\n",
    "    non_zero_indices = y_true != 0\n",
    "    y_true = y_true[non_zero_indices]\n",
    "    y_pred = y_pred[non_zero_indices]\n",
    "    \n",
    "    return np.mean(np.abs((y_true - y_pred) / y_true)) * 100"
   ]
  },
  {
   "cell_type": "code",
   "execution_count": 111,
   "metadata": {},
   "outputs": [],
   "source": [
    "model_eval ={}"
   ]
  },
  {
   "cell_type": "markdown",
   "metadata": {},
   "source": [
    "### Linear Regression"
   ]
  },
  {
   "cell_type": "code",
   "execution_count": 112,
   "metadata": {},
   "outputs": [
    {
     "name": "stdout",
     "output_type": "stream",
     "text": [
      "MAE: 36.0901\n",
      "MAPE: 296.9593%\n",
      "Root Mean Squared Error (RMSE): 71.8090\n"
     ]
    }
   ],
   "source": [
    "scaler = StandardScaler()\n",
    "x_train_scaled = scaler.fit_transform(X_train)\n",
    "x_test_scaled =scaler.fit_transform(X_test)\n",
    "\n",
    "model_LR = LinearRegression()\n",
    "model_LR.fit(x_train_scaled, y_train)\n",
    "\n",
    "predictions_LR = model_LR.predict(x_test_scaled)\n",
    "test_mae = mean_absolute_error(y_test, predictions_LR)\n",
    "print(f'MAE: {test_mae:.4f}')\n",
    "\n",
    "# Calculate MAPE\n",
    "mape = mean_absolute_percentage_error(y_test, predictions_LR)\n",
    "print(f'MAPE: {mape:.4f}%')\n",
    "\n",
    "# Calculate Mean Squared Error (MSE)\n",
    "mse = mean_squared_error(y_test, predictions_LR)\n",
    "\n",
    "# Calculate RMSE\n",
    "rmse = np.sqrt(mse)\n",
    "\n",
    "print(f'Root Mean Squared Error (RMSE): {rmse:.4f}')\n",
    "\n",
    "model_eval['Linear Regression'] = [test_mae,mape,rmse]\n",
    "\n"
   ]
  },
  {
   "cell_type": "markdown",
   "metadata": {},
   "source": [
    "### Random Forest Regressor"
   ]
  },
  {
   "cell_type": "code",
   "execution_count": 113,
   "metadata": {},
   "outputs": [
    {
     "name": "stdout",
     "output_type": "stream",
     "text": [
      "MAE: 41.5518\n",
      "MAPE: 269.7446%\n",
      "Root Mean Squared Error (RMSE): 83.4037\n"
     ]
    }
   ],
   "source": [
    "rf_regressor = RandomForestRegressor(n_estimators=12, random_state=42)\n",
    "rf_regressor.fit(X_train, y_train)\n",
    "\n",
    "predictions_RF = rf_regressor.predict(X_test)\n",
    "test_mae = mean_absolute_error(y_test, predictions_RF)\n",
    "print(f'MAE: {test_mae:.4f}')\n",
    "\n",
    "mape = mean_absolute_percentage_error(y_test, predictions_RF)\n",
    "print(f'MAPE: {mape:.4f}%')\n",
    "\n",
    "mse = mean_squared_error(y_test, predictions_RF)\n",
    "\n",
    "rmse = np.sqrt(mse)\n",
    "\n",
    "print(f'Root Mean Squared Error (RMSE): {rmse:.4f}')\n",
    "\n",
    "model_eval['Random Forest Regressor'] = [test_mae,mape,rmse]"
   ]
  },
  {
   "cell_type": "markdown",
   "metadata": {},
   "source": [
    "### Gradiant Boosting Regressor"
   ]
  },
  {
   "cell_type": "code",
   "execution_count": 114,
   "metadata": {},
   "outputs": [
    {
     "name": "stdout",
     "output_type": "stream",
     "text": [
      "MAE: 42.9825\n",
      "MAPE: 283.3307%\n",
      "Root Mean Squared Error (RMSE): 87.8617\n"
     ]
    }
   ],
   "source": [
    "model_GBRegressor = GradientBoostingRegressor(random_state=0)\n",
    "model_GBRegressor.fit(X_train, y_train)\n",
    "\n",
    "predictions_GB = model_GBRegressor.predict(X_test)\n",
    "test_mae = mean_absolute_error(y_test, predictions_GB)\n",
    "print(f'MAE: {test_mae:.4f}')\n",
    "\n",
    "mape = mean_absolute_percentage_error(y_test, predictions_GB)\n",
    "print(f'MAPE: {mape:.4f}%')\n",
    "\n",
    "mse = mean_squared_error(y_test, predictions_GB)\n",
    "\n",
    "rmse = np.sqrt(mse)\n",
    "\n",
    "print(f'Root Mean Squared Error (RMSE): {rmse:.4f}')\n",
    "\n",
    "model_eval['Gradiant Boosting Regressor'] = [test_mae,mape,rmse]"
   ]
  },
  {
   "cell_type": "markdown",
   "metadata": {},
   "source": [
    "### XGboost Regressor"
   ]
  },
  {
   "cell_type": "code",
   "execution_count": 115,
   "metadata": {},
   "outputs": [
    {
     "name": "stdout",
     "output_type": "stream",
     "text": [
      "MAE: 39.6956\n",
      "MAPE: 235.3023%\n",
      "Root Mean Squared Error (RMSE): 82.7630\n"
     ]
    }
   ],
   "source": [
    "model_XGB = xgb.XGBRegressor()\n",
    "model_XGB.fit(X_train, y_train)\n",
    "\n",
    "predictions_XGB = model_XGB.predict(X_test)\n",
    "test_mae = mean_absolute_error(y_test, predictions_XGB)\n",
    "print(f'MAE: {test_mae:.4f}')\n",
    "\n",
    "mape = mean_absolute_percentage_error(y_test, predictions_XGB)\n",
    "print(f'MAPE: {mape:.4f}%')\n",
    "\n",
    "mse = mean_squared_error(y_test, predictions_XGB)\n",
    "\n",
    "rmse = np.sqrt(mse)\n",
    "\n",
    "print(f'Root Mean Squared Error (RMSE): {rmse:.4f}')\n",
    "\n",
    "model_eval['XGBoost Regressor'] = [test_mae,mape,rmse]\n"
   ]
  },
  {
   "cell_type": "markdown",
   "metadata": {},
   "source": [
    "### Prophet Model"
   ]
  },
  {
   "cell_type": "code",
   "execution_count": 116,
   "metadata": {},
   "outputs": [
    {
     "name": "stderr",
     "output_type": "stream",
     "text": [
      "13:14:36 - cmdstanpy - INFO - Chain [1] start processing\n",
      "13:14:37 - cmdstanpy - INFO - Chain [1] done processing\n",
      "13:14:37 - cmdstanpy - INFO - Chain [1] start processing\n",
      "13:14:37 - cmdstanpy - INFO - Chain [1] done processing\n",
      "13:14:37 - cmdstanpy - INFO - Chain [1] start processing\n",
      "13:14:37 - cmdstanpy - INFO - Chain [1] done processing\n",
      "13:14:37 - cmdstanpy - INFO - Chain [1] start processing\n",
      "13:14:38 - cmdstanpy - INFO - Chain [1] done processing\n",
      "13:14:38 - cmdstanpy - INFO - Chain [1] start processing\n",
      "13:14:38 - cmdstanpy - INFO - Chain [1] done processing\n",
      "13:14:38 - cmdstanpy - INFO - Chain [1] start processing\n",
      "13:14:38 - cmdstanpy - INFO - Chain [1] done processing\n",
      "13:14:38 - cmdstanpy - INFO - Chain [1] start processing\n",
      "13:14:38 - cmdstanpy - INFO - Chain [1] done processing\n",
      "13:14:39 - cmdstanpy - INFO - Chain [1] start processing\n",
      "13:14:39 - cmdstanpy - INFO - Chain [1] done processing\n",
      "13:14:39 - cmdstanpy - INFO - Chain [1] start processing\n",
      "13:14:39 - cmdstanpy - INFO - Chain [1] done processing\n",
      "13:14:39 - cmdstanpy - INFO - Chain [1] start processing\n",
      "13:14:39 - cmdstanpy - INFO - Chain [1] done processing\n",
      "13:14:40 - cmdstanpy - INFO - Chain [1] start processing\n",
      "13:14:40 - cmdstanpy - INFO - Chain [1] done processing\n",
      "13:14:40 - cmdstanpy - INFO - Chain [1] start processing\n",
      "13:14:40 - cmdstanpy - INFO - Chain [1] done processing\n",
      "13:14:40 - cmdstanpy - INFO - Chain [1] start processing\n",
      "13:14:40 - cmdstanpy - INFO - Chain [1] done processing\n",
      "13:14:41 - cmdstanpy - INFO - Chain [1] start processing\n",
      "13:14:41 - cmdstanpy - INFO - Chain [1] done processing\n",
      "13:14:41 - cmdstanpy - INFO - Chain [1] start processing\n",
      "13:14:41 - cmdstanpy - INFO - Chain [1] done processing\n"
     ]
    },
    {
     "data": {
      "image/png": "[encoded data removed]",
      "text/plain": [
       "<Figure size 1080x2880 with 15 Axes>"
      ]
     },
     "metadata": {
      "needs_background": "light"
     },
     "output_type": "display_data"
    },
    {
     "data": {
      "text/html": [
       "<div>\n",
       "<style scoped>\n",
       "    .dataframe tbody tr th:only-of-type {\n",
       "        vertical-align: middle;\n",
       "    }\n",
       "\n",
       "    .dataframe tbody tr th {\n",
       "        vertical-align: top;\n",
       "    }\n",
       "\n",
       "    .dataframe thead th {\n",
       "        text-align: right;\n",
       "    }\n",
       "</style>\n",
       "<table border=\"1\" class=\"dataframe\">\n",
       "  <thead>\n",
       "    <tr style=\"text-align: right;\">\n",
       "      <th></th>\n",
       "      <th>ds</th>\n",
       "      <th>trend</th>\n",
       "      <th>yhat_lower</th>\n",
       "      <th>yhat_upper</th>\n",
       "      <th>trend_lower</th>\n",
       "      <th>trend_upper</th>\n",
       "      <th>additive_terms</th>\n",
       "      <th>additive_terms_lower</th>\n",
       "      <th>additive_terms_upper</th>\n",
       "      <th>yearly</th>\n",
       "      <th>yearly_lower</th>\n",
       "      <th>yearly_upper</th>\n",
       "      <th>multiplicative_terms</th>\n",
       "      <th>multiplicative_terms_lower</th>\n",
       "      <th>multiplicative_terms_upper</th>\n",
       "      <th>yhat</th>\n",
       "      <th>Model_Store_Pair</th>\n",
       "    </tr>\n",
       "  </thead>\n",
       "  <tbody>\n",
       "    <tr>\n",
       "      <th>0</th>\n",
       "      <td>2023-05-01</td>\n",
       "      <td>192.924195</td>\n",
       "      <td>-331.892498</td>\n",
       "      <td>-55.017675</td>\n",
       "      <td>192.924195</td>\n",
       "      <td>192.924195</td>\n",
       "      <td>-386.181098</td>\n",
       "      <td>-386.181098</td>\n",
       "      <td>-386.181098</td>\n",
       "      <td>-386.181098</td>\n",
       "      <td>-386.181098</td>\n",
       "      <td>-386.181098</td>\n",
       "      <td>0.0</td>\n",
       "      <td>0.0</td>\n",
       "      <td>0.0</td>\n",
       "      <td>-193.256903</td>\n",
       "      <td>Model-10_Store-9</td>\n",
       "    </tr>\n",
       "    <tr>\n",
       "      <th>1</th>\n",
       "      <td>2023-06-01</td>\n",
       "      <td>195.029719</td>\n",
       "      <td>77.832884</td>\n",
       "      <td>350.407908</td>\n",
       "      <td>195.029718</td>\n",
       "      <td>195.029719</td>\n",
       "      <td>24.726214</td>\n",
       "      <td>24.726214</td>\n",
       "      <td>24.726214</td>\n",
       "      <td>24.726214</td>\n",
       "      <td>24.726214</td>\n",
       "      <td>24.726214</td>\n",
       "      <td>0.0</td>\n",
       "      <td>0.0</td>\n",
       "      <td>0.0</td>\n",
       "      <td>219.755933</td>\n",
       "      <td>Model-10_Store-9</td>\n",
       "    </tr>\n",
       "    <tr>\n",
       "      <th>2</th>\n",
       "      <td>2023-07-01</td>\n",
       "      <td>197.067322</td>\n",
       "      <td>64.731343</td>\n",
       "      <td>339.940157</td>\n",
       "      <td>197.067321</td>\n",
       "      <td>197.067323</td>\n",
       "      <td>11.276053</td>\n",
       "      <td>11.276053</td>\n",
       "      <td>11.276053</td>\n",
       "      <td>11.276053</td>\n",
       "      <td>11.276053</td>\n",
       "      <td>11.276053</td>\n",
       "      <td>0.0</td>\n",
       "      <td>0.0</td>\n",
       "      <td>0.0</td>\n",
       "      <td>208.343375</td>\n",
       "      <td>Model-10_Store-9</td>\n",
       "    </tr>\n",
       "    <tr>\n",
       "      <th>3</th>\n",
       "      <td>2023-08-01</td>\n",
       "      <td>199.172845</td>\n",
       "      <td>-125.835108</td>\n",
       "      <td>155.120602</td>\n",
       "      <td>199.172844</td>\n",
       "      <td>199.172847</td>\n",
       "      <td>-181.879249</td>\n",
       "      <td>-181.879249</td>\n",
       "      <td>-181.879249</td>\n",
       "      <td>-181.879249</td>\n",
       "      <td>-181.879249</td>\n",
       "      <td>-181.879249</td>\n",
       "      <td>0.0</td>\n",
       "      <td>0.0</td>\n",
       "      <td>0.0</td>\n",
       "      <td>17.293597</td>\n",
       "      <td>Model-10_Store-9</td>\n",
       "    </tr>\n",
       "    <tr>\n",
       "      <th>4</th>\n",
       "      <td>2023-09-01</td>\n",
       "      <td>201.278369</td>\n",
       "      <td>93.346104</td>\n",
       "      <td>379.893728</td>\n",
       "      <td>201.278367</td>\n",
       "      <td>201.278371</td>\n",
       "      <td>34.464208</td>\n",
       "      <td>34.464208</td>\n",
       "      <td>34.464208</td>\n",
       "      <td>34.464208</td>\n",
       "      <td>34.464208</td>\n",
       "      <td>34.464208</td>\n",
       "      <td>0.0</td>\n",
       "      <td>0.0</td>\n",
       "      <td>0.0</td>\n",
       "      <td>235.742577</td>\n",
       "      <td>Model-10_Store-9</td>\n",
       "    </tr>\n",
       "    <tr>\n",
       "      <th>...</th>\n",
       "      <td>...</td>\n",
       "      <td>...</td>\n",
       "      <td>...</td>\n",
       "      <td>...</td>\n",
       "      <td>...</td>\n",
       "      <td>...</td>\n",
       "      <td>...</td>\n",
       "      <td>...</td>\n",
       "      <td>...</td>\n",
       "      <td>...</td>\n",
       "      <td>...</td>\n",
       "      <td>...</td>\n",
       "      <td>...</td>\n",
       "      <td>...</td>\n",
       "      <td>...</td>\n",
       "      <td>...</td>\n",
       "      <td>...</td>\n",
       "    </tr>\n",
       "    <tr>\n",
       "      <th>1</th>\n",
       "      <td>2023-06-01</td>\n",
       "      <td>42.722253</td>\n",
       "      <td>-14.106525</td>\n",
       "      <td>47.060647</td>\n",
       "      <td>42.722248</td>\n",
       "      <td>42.722258</td>\n",
       "      <td>-26.835212</td>\n",
       "      <td>-26.835212</td>\n",
       "      <td>-26.835212</td>\n",
       "      <td>-26.835212</td>\n",
       "      <td>-26.835212</td>\n",
       "      <td>-26.835212</td>\n",
       "      <td>0.0</td>\n",
       "      <td>0.0</td>\n",
       "      <td>0.0</td>\n",
       "      <td>15.887041</td>\n",
       "      <td>Model-9_Store-4</td>\n",
       "    </tr>\n",
       "    <tr>\n",
       "      <th>2</th>\n",
       "      <td>2023-07-01</td>\n",
       "      <td>42.711794</td>\n",
       "      <td>-5.269708</td>\n",
       "      <td>58.377083</td>\n",
       "      <td>42.711784</td>\n",
       "      <td>42.711805</td>\n",
       "      <td>-16.737028</td>\n",
       "      <td>-16.737028</td>\n",
       "      <td>-16.737028</td>\n",
       "      <td>-16.737028</td>\n",
       "      <td>-16.737028</td>\n",
       "      <td>-16.737028</td>\n",
       "      <td>0.0</td>\n",
       "      <td>0.0</td>\n",
       "      <td>0.0</td>\n",
       "      <td>25.974766</td>\n",
       "      <td>Model-9_Store-4</td>\n",
       "    </tr>\n",
       "    <tr>\n",
       "      <th>3</th>\n",
       "      <td>2023-08-01</td>\n",
       "      <td>42.700987</td>\n",
       "      <td>11.444743</td>\n",
       "      <td>77.351695</td>\n",
       "      <td>42.700970</td>\n",
       "      <td>42.701003</td>\n",
       "      <td>1.305450</td>\n",
       "      <td>1.305450</td>\n",
       "      <td>1.305450</td>\n",
       "      <td>1.305450</td>\n",
       "      <td>1.305450</td>\n",
       "      <td>1.305450</td>\n",
       "      <td>0.0</td>\n",
       "      <td>0.0</td>\n",
       "      <td>0.0</td>\n",
       "      <td>44.006437</td>\n",
       "      <td>Model-9_Store-4</td>\n",
       "    </tr>\n",
       "    <tr>\n",
       "      <th>4</th>\n",
       "      <td>2023-09-01</td>\n",
       "      <td>42.690179</td>\n",
       "      <td>71.481021</td>\n",
       "      <td>135.346762</td>\n",
       "      <td>42.690156</td>\n",
       "      <td>42.690202</td>\n",
       "      <td>61.575275</td>\n",
       "      <td>61.575275</td>\n",
       "      <td>61.575275</td>\n",
       "      <td>61.575275</td>\n",
       "      <td>61.575275</td>\n",
       "      <td>61.575275</td>\n",
       "      <td>0.0</td>\n",
       "      <td>0.0</td>\n",
       "      <td>0.0</td>\n",
       "      <td>104.265454</td>\n",
       "      <td>Model-9_Store-4</td>\n",
       "    </tr>\n",
       "    <tr>\n",
       "      <th>5</th>\n",
       "      <td>2023-10-01</td>\n",
       "      <td>42.679721</td>\n",
       "      <td>23.523494</td>\n",
       "      <td>87.274085</td>\n",
       "      <td>42.679689</td>\n",
       "      <td>42.679751</td>\n",
       "      <td>10.864141</td>\n",
       "      <td>10.864141</td>\n",
       "      <td>10.864141</td>\n",
       "      <td>10.864141</td>\n",
       "      <td>10.864141</td>\n",
       "      <td>10.864141</td>\n",
       "      <td>0.0</td>\n",
       "      <td>0.0</td>\n",
       "      <td>0.0</td>\n",
       "      <td>53.543862</td>\n",
       "      <td>Model-9_Store-4</td>\n",
       "    </tr>\n",
       "  </tbody>\n",
       "</table>\n",
       "<p>90 rows × 17 columns</p>\n",
       "</div>"
      ],
      "text/plain": [
       "           ds       trend  yhat_lower  yhat_upper  trend_lower  trend_upper  \\\n",
       "0  2023-05-01  192.924195 -331.892498  -55.017675   192.924195   192.924195   \n",
       "1  2023-06-01  195.029719   77.832884  350.407908   195.029718   195.029719   \n",
       "2  2023-07-01  197.067322   64.731343  339.940157   197.067321   197.067323   \n",
       "3  2023-08-01  199.172845 -125.835108  155.120602   199.172844   199.172847   \n",
       "4  2023-09-01  201.278369   93.346104  379.893728   201.278367   201.278371   \n",
       "..        ...         ...         ...         ...          ...          ...   \n",
       "1  2023-06-01   42.722253  -14.106525   47.060647    42.722248    42.722258   \n",
       "2  2023-07-01   42.711794   -5.269708   58.377083    42.711784    42.711805   \n",
       "3  2023-08-01   42.700987   11.444743   77.351695    42.700970    42.701003   \n",
       "4  2023-09-01   42.690179   71.481021  135.346762    42.690156    42.690202   \n",
       "5  2023-10-01   42.679721   23.523494   87.274085    42.679689    42.679751   \n",
       "\n",
       "    additive_terms  additive_terms_lower  additive_terms_upper      yearly  \\\n",
       "0      -386.181098           -386.181098           -386.181098 -386.181098   \n",
       "1        24.726214             24.726214             24.726214   24.726214   \n",
       "2        11.276053             11.276053             11.276053   11.276053   \n",
       "3      -181.879249           -181.879249           -181.879249 -181.879249   \n",
       "4        34.464208             34.464208             34.464208   34.464208   \n",
       "..             ...                   ...                   ...         ...   \n",
       "1       -26.835212            -26.835212            -26.835212  -26.835212   \n",
       "2       -16.737028            -16.737028            -16.737028  -16.737028   \n",
       "3         1.305450              1.305450              1.305450    1.305450   \n",
       "4        61.575275             61.575275             61.575275   61.575275   \n",
       "5        10.864141             10.864141             10.864141   10.864141   \n",
       "\n",
       "    yearly_lower  yearly_upper  multiplicative_terms  \\\n",
       "0    -386.181098   -386.181098                   0.0   \n",
       "1      24.726214     24.726214                   0.0   \n",
       "2      11.276053     11.276053                   0.0   \n",
       "3    -181.879249   -181.879249                   0.0   \n",
       "4      34.464208     34.464208                   0.0   \n",
       "..           ...           ...                   ...   \n",
       "1     -26.835212    -26.835212                   0.0   \n",
       "2     -16.737028    -16.737028                   0.0   \n",
       "3       1.305450      1.305450                   0.0   \n",
       "4      61.575275     61.575275                   0.0   \n",
       "5      10.864141     10.864141                   0.0   \n",
       "\n",
       "    multiplicative_terms_lower  multiplicative_terms_upper        yhat  \\\n",
       "0                          0.0                         0.0 -193.256903   \n",
       "1                          0.0                         0.0  219.755933   \n",
       "2                          0.0                         0.0  208.343375   \n",
       "3                          0.0                         0.0   17.293597   \n",
       "4                          0.0                         0.0  235.742577   \n",
       "..                         ...                         ...         ...   \n",
       "1                          0.0                         0.0   15.887041   \n",
       "2                          0.0                         0.0   25.974766   \n",
       "3                          0.0                         0.0   44.006437   \n",
       "4                          0.0                         0.0  104.265454   \n",
       "5                          0.0                         0.0   53.543862   \n",
       "\n",
       "    Model_Store_Pair  \n",
       "0   Model-10_Store-9  \n",
       "1   Model-10_Store-9  \n",
       "2   Model-10_Store-9  \n",
       "3   Model-10_Store-9  \n",
       "4   Model-10_Store-9  \n",
       "..               ...  \n",
       "1    Model-9_Store-4  \n",
       "2    Model-9_Store-4  \n",
       "3    Model-9_Store-4  \n",
       "4    Model-9_Store-4  \n",
       "5    Model-9_Store-4  \n",
       "\n",
       "[90 rows x 17 columns]"
      ]
     },
     "metadata": {},
     "output_type": "display_data"
    }
   ],
   "source": [
    "# Get unique Model_Store_Pairs\n",
    "unique_pairs = full_sales_df['Model_Store_Pair'].unique()\n",
    "prophet_dict = {}\n",
    "prophet_pred_list = []\n",
    "\n",
    "num_pairs = len(unique_pairs)\n",
    "num_rows = (num_pairs + 1) // 2  # Calculate the number of rows\n",
    "\n",
    "fig, axs = pyplot.subplots(num_rows, 2, figsize=(15, 5 * num_rows))\n",
    "\n",
    "for i, pair in enumerate(unique_pairs):\n",
    "    # Define the training and testing data by filtering full_sales_df using the Model_Store_Pair\n",
    "    training_df_pair = training_df[training_df['Model_Store_Pair'] == pair]\n",
    "    testing_df_pair = testing_df[testing_df['Model_Store_Pair'] == pair]\n",
    "\n",
    "    # Remove the Model_Store_Pair column for Prophet\n",
    "    train = training_df_pair.drop(columns='Model_Store_Pair')\n",
    "    test = testing_df_pair.drop(columns='Model_Store_Pair')\n",
    "   \n",
    "    # Create and fit the Prophet model\n",
    "    model = Prophet()\n",
    "    model.fit(train)\n",
    "\n",
    "    test['ds'] = to_datetime(test['ds'])\n",
    "    \n",
    "    # Make forecasts using the trained model\n",
    "    forecast = model.predict(test)\n",
    "\n",
    "    # Append each forecast to a list for later concatenation\n",
    "    prophet_pred_list.append(forecast)\n",
    "\n",
    "    # Store the forecast in the dictionary if needed for further analysis\n",
    "    prophet_dict[pair] = forecast\n",
    "\n",
    "    # Plotting the forecasts in subplots\n",
    "    row = i // 2  # Row number for the subplot\n",
    "    col = i % 2  # Column number for the subplot\n",
    "    model.plot(forecast, ax=axs[row, col])\n",
    "    axs[row, col].set_title(pair)\n",
    "\n",
    "# Hide any empty subplots\n",
    "for i in range(num_pairs, num_rows * 2):\n",
    "    row = i // 2\n",
    "    col = i % 2\n",
    "    fig.delaxes(axs[row, col])\n",
    "\n",
    "\n",
    "pyplot.tight_layout()\n",
    "pyplot.show()\n",
    "\n",
    "\n",
    "combined_forecast = pd.concat(prophet_pred_list)\n",
    "combined_forecast['Model_Store_Pair'] = [pair for pair in unique_pairs for _ in range(len(testing_df[testing_df['Model_Store_Pair'] == pair]))]\n",
    "\n",
    "\n",
    "display(combined_forecast)\n"
   ]
  },
  {
   "cell_type": "code",
   "execution_count": 117,
   "metadata": {},
   "outputs": [
    {
     "data": {
      "text/html": [
       "<div>\n",
       "<style scoped>\n",
       "    .dataframe tbody tr th:only-of-type {\n",
       "        vertical-align: middle;\n",
       "    }\n",
       "\n",
       "    .dataframe tbody tr th {\n",
       "        vertical-align: top;\n",
       "    }\n",
       "\n",
       "    .dataframe thead th {\n",
       "        text-align: right;\n",
       "    }\n",
       "</style>\n",
       "<table border=\"1\" class=\"dataframe\">\n",
       "  <thead>\n",
       "    <tr style=\"text-align: right;\">\n",
       "      <th></th>\n",
       "      <th>ds</th>\n",
       "      <th>y</th>\n",
       "      <th>Model_Store_Pair</th>\n",
       "      <th>Predicted_Sales_Quantity</th>\n",
       "    </tr>\n",
       "  </thead>\n",
       "  <tbody>\n",
       "    <tr>\n",
       "      <th>0</th>\n",
       "      <td>2023-05-01</td>\n",
       "      <td>72.0</td>\n",
       "      <td>Model-10_Store-9</td>\n",
       "      <td>-193.256903</td>\n",
       "    </tr>\n",
       "    <tr>\n",
       "      <th>1</th>\n",
       "      <td>2023-06-01</td>\n",
       "      <td>16.0</td>\n",
       "      <td>Model-10_Store-9</td>\n",
       "      <td>219.755933</td>\n",
       "    </tr>\n",
       "    <tr>\n",
       "      <th>2</th>\n",
       "      <td>2023-07-01</td>\n",
       "      <td>37.0</td>\n",
       "      <td>Model-10_Store-9</td>\n",
       "      <td>208.343375</td>\n",
       "    </tr>\n",
       "    <tr>\n",
       "      <th>3</th>\n",
       "      <td>2023-08-01</td>\n",
       "      <td>55.0</td>\n",
       "      <td>Model-10_Store-9</td>\n",
       "      <td>17.293597</td>\n",
       "    </tr>\n",
       "    <tr>\n",
       "      <th>4</th>\n",
       "      <td>2023-09-01</td>\n",
       "      <td>51.0</td>\n",
       "      <td>Model-10_Store-9</td>\n",
       "      <td>235.742577</td>\n",
       "    </tr>\n",
       "    <tr>\n",
       "      <th>...</th>\n",
       "      <td>...</td>\n",
       "      <td>...</td>\n",
       "      <td>...</td>\n",
       "      <td>...</td>\n",
       "    </tr>\n",
       "    <tr>\n",
       "      <th>85</th>\n",
       "      <td>2023-06-01</td>\n",
       "      <td>11.0</td>\n",
       "      <td>Model-9_Store-4</td>\n",
       "      <td>15.887041</td>\n",
       "    </tr>\n",
       "    <tr>\n",
       "      <th>86</th>\n",
       "      <td>2023-07-01</td>\n",
       "      <td>57.0</td>\n",
       "      <td>Model-9_Store-4</td>\n",
       "      <td>25.974766</td>\n",
       "    </tr>\n",
       "    <tr>\n",
       "      <th>87</th>\n",
       "      <td>2023-08-01</td>\n",
       "      <td>36.0</td>\n",
       "      <td>Model-9_Store-4</td>\n",
       "      <td>44.006437</td>\n",
       "    </tr>\n",
       "    <tr>\n",
       "      <th>88</th>\n",
       "      <td>2023-09-01</td>\n",
       "      <td>185.0</td>\n",
       "      <td>Model-9_Store-4</td>\n",
       "      <td>104.265454</td>\n",
       "    </tr>\n",
       "    <tr>\n",
       "      <th>89</th>\n",
       "      <td>2023-10-01</td>\n",
       "      <td>1.0</td>\n",
       "      <td>Model-9_Store-4</td>\n",
       "      <td>53.543862</td>\n",
       "    </tr>\n",
       "  </tbody>\n",
       "</table>\n",
       "<p>90 rows × 4 columns</p>\n",
       "</div>"
      ],
      "text/plain": [
       "           ds      y  Model_Store_Pair  Predicted_Sales_Quantity\n",
       "0  2023-05-01   72.0  Model-10_Store-9               -193.256903\n",
       "1  2023-06-01   16.0  Model-10_Store-9                219.755933\n",
       "2  2023-07-01   37.0  Model-10_Store-9                208.343375\n",
       "3  2023-08-01   55.0  Model-10_Store-9                 17.293597\n",
       "4  2023-09-01   51.0  Model-10_Store-9                235.742577\n",
       "..        ...    ...               ...                       ...\n",
       "85 2023-06-01   11.0   Model-9_Store-4                 15.887041\n",
       "86 2023-07-01   57.0   Model-9_Store-4                 25.974766\n",
       "87 2023-08-01   36.0   Model-9_Store-4                 44.006437\n",
       "88 2023-09-01  185.0   Model-9_Store-4                104.265454\n",
       "89 2023-10-01    1.0   Model-9_Store-4                 53.543862\n",
       "\n",
       "[90 rows x 4 columns]"
      ]
     },
     "execution_count": 117,
     "metadata": {},
     "output_type": "execute_result"
    }
   ],
   "source": [
    "testing_df['Predicted_Sales_Quantity'] = combined_forecast.reset_index(drop=True)['yhat']\n",
    "testing_df"
   ]
  },
  {
   "cell_type": "code",
   "execution_count": 118,
   "metadata": {},
   "outputs": [
    {
     "name": "stdout",
     "output_type": "stream",
     "text": [
      "MAE: 60.9756\n",
      "MAPE: 285.3284%\n",
      "Root Mean Squared Error (RMSE): 135.5473\n"
     ]
    }
   ],
   "source": [
    "y_test_prophet = testing_df['y']\n",
    "pred_prophet= testing_df['Predicted_Sales_Quantity']\n",
    "\n",
    "test_mae = mean_absolute_error(y_test_prophet, pred_prophet)\n",
    "print(f'MAE: {test_mae:.4f}')\n",
    "\n",
    "mape = mean_absolute_percentage_error(y_test_prophet, pred_prophet)\n",
    "print(f'MAPE: {mape:.4f}%')\n",
    "\n",
    "mse = mean_squared_error(y_test_prophet, pred_prophet)\n",
    "\n",
    "rmse = np.sqrt(mse)\n",
    "\n",
    "print(f'Root Mean Squared Error (RMSE): {rmse:.4f}')\n",
    "\n",
    "model_eval['Prophet'] = [test_mae,mape,rmse]"
   ]
  },
  {
   "cell_type": "code",
   "execution_count": 119,
   "metadata": {},
   "outputs": [
    {
     "data": {
      "text/html": [
       "<div>\n",
       "<style scoped>\n",
       "    .dataframe tbody tr th:only-of-type {\n",
       "        vertical-align: middle;\n",
       "    }\n",
       "\n",
       "    .dataframe tbody tr th {\n",
       "        vertical-align: top;\n",
       "    }\n",
       "\n",
       "    .dataframe thead th {\n",
       "        text-align: right;\n",
       "    }\n",
       "</style>\n",
       "<table border=\"1\" class=\"dataframe\">\n",
       "  <thead>\n",
       "    <tr style=\"text-align: right;\">\n",
       "      <th></th>\n",
       "      <th>Model</th>\n",
       "      <th>MAE</th>\n",
       "      <th>MAPE</th>\n",
       "      <th>RMSE</th>\n",
       "    </tr>\n",
       "  </thead>\n",
       "  <tbody>\n",
       "    <tr>\n",
       "      <th>0</th>\n",
       "      <td>Linear Regression</td>\n",
       "      <td>36.09</td>\n",
       "      <td>296.96</td>\n",
       "      <td>71.81</td>\n",
       "    </tr>\n",
       "    <tr>\n",
       "      <th>1</th>\n",
       "      <td>Random Forest Regressor</td>\n",
       "      <td>41.55</td>\n",
       "      <td>269.74</td>\n",
       "      <td>83.40</td>\n",
       "    </tr>\n",
       "    <tr>\n",
       "      <th>2</th>\n",
       "      <td>Gradiant Boosting Regressor</td>\n",
       "      <td>42.98</td>\n",
       "      <td>283.33</td>\n",
       "      <td>87.86</td>\n",
       "    </tr>\n",
       "    <tr>\n",
       "      <th>3</th>\n",
       "      <td>XGBoost Regressor</td>\n",
       "      <td>39.70</td>\n",
       "      <td>235.30</td>\n",
       "      <td>82.76</td>\n",
       "    </tr>\n",
       "    <tr>\n",
       "      <th>4</th>\n",
       "      <td>Prophet</td>\n",
       "      <td>60.98</td>\n",
       "      <td>285.33</td>\n",
       "      <td>135.55</td>\n",
       "    </tr>\n",
       "  </tbody>\n",
       "</table>\n",
       "</div>"
      ],
      "text/plain": [
       "                         Model    MAE    MAPE    RMSE\n",
       "0            Linear Regression  36.09  296.96   71.81\n",
       "1      Random Forest Regressor  41.55  269.74   83.40\n",
       "2  Gradiant Boosting Regressor  42.98  283.33   87.86\n",
       "3            XGBoost Regressor  39.70  235.30   82.76\n",
       "4                      Prophet  60.98  285.33  135.55"
      ]
     },
     "execution_count": 119,
     "metadata": {},
     "output_type": "execute_result"
    }
   ],
   "source": [
    "df_model_eval = pd.DataFrame(model_eval)\n",
    "df_model_eval = df_model_eval.T.reset_index()\n",
    "df_model_eval.columns = ['Model', 'MAE', 'MAPE', 'RMSE']\n",
    "df_model_eval = df_model_eval.round({'MAE': 2, 'MAPE': 2, 'RMSE': 2})\n",
    "\n",
    "df_model_eval"
   ]
  },
  {
   "cell_type": "code",
   "execution_count": 120,
   "metadata": {},
   "outputs": [],
   "source": [
    "def get_test_rows(df_predict_next_months, test_months):\n",
    "    '''\n",
    "    Gets the last 6 months of data for each model store pair\n",
    "    which was used for evaluating our model\n",
    "    '''\n",
    "    # Define the test date range\n",
    "    test_end_date = df_predict_next_months['MONTH_YEAR'].max()\n",
    "    test_start_date = test_end_date - timedelta(days=30 * test_months)\n",
    "\n",
    "    # Extract the test rows\n",
    "    test_rows = df_predict_next_months[(df_predict_next_months['MONTH_YEAR'] >= test_start_date) & (df_predict_next_months['MONTH_YEAR'] <= test_end_date)]\n",
    "\n",
    "    return test_rows"
   ]
  },
  {
   "cell_type": "code",
   "execution_count": 121,
   "metadata": {},
   "outputs": [
    {
     "data": {
      "text/html": [
       "<div>\n",
       "<style scoped>\n",
       "    .dataframe tbody tr th:only-of-type {\n",
       "        vertical-align: middle;\n",
       "    }\n",
       "\n",
       "    .dataframe tbody tr th {\n",
       "        vertical-align: top;\n",
       "    }\n",
       "\n",
       "    .dataframe thead th {\n",
       "        text-align: right;\n",
       "    }\n",
       "</style>\n",
       "<table border=\"1\" class=\"dataframe\">\n",
       "  <thead>\n",
       "    <tr style=\"text-align: right;\">\n",
       "      <th></th>\n",
       "      <th>Model_Store_Pair</th>\n",
       "      <th>MONTH_YEAR</th>\n",
       "      <th>QUANTITY</th>\n",
       "      <th>Model_Store_Pair_ID</th>\n",
       "      <th>lag_1</th>\n",
       "      <th>lag_2</th>\n",
       "      <th>lag_3</th>\n",
       "      <th>lag_4</th>\n",
       "      <th>lag_5</th>\n",
       "      <th>lag_6</th>\n",
       "      <th>lag_7</th>\n",
       "      <th>lag_8</th>\n",
       "      <th>lag_9</th>\n",
       "      <th>lag_10</th>\n",
       "      <th>lag_11</th>\n",
       "      <th>lag_12</th>\n",
       "    </tr>\n",
       "  </thead>\n",
       "  <tbody>\n",
       "    <tr>\n",
       "      <th>40</th>\n",
       "      <td>Model-10_Store-9</td>\n",
       "      <td>2023-05-01</td>\n",
       "      <td>72.0</td>\n",
       "      <td>0</td>\n",
       "      <td>800.0</td>\n",
       "      <td>75.0</td>\n",
       "      <td>28.0</td>\n",
       "      <td>36.0</td>\n",
       "      <td>39.0</td>\n",
       "      <td>219.0</td>\n",
       "      <td>624.0</td>\n",
       "      <td>93.0</td>\n",
       "      <td>21.0</td>\n",
       "      <td>209.0</td>\n",
       "      <td>307.0</td>\n",
       "      <td>5.0</td>\n",
       "    </tr>\n",
       "    <tr>\n",
       "      <th>41</th>\n",
       "      <td>Model-10_Store-9</td>\n",
       "      <td>2023-06-01</td>\n",
       "      <td>16.0</td>\n",
       "      <td>0</td>\n",
       "      <td>72.0</td>\n",
       "      <td>800.0</td>\n",
       "      <td>75.0</td>\n",
       "      <td>28.0</td>\n",
       "      <td>36.0</td>\n",
       "      <td>39.0</td>\n",
       "      <td>219.0</td>\n",
       "      <td>624.0</td>\n",
       "      <td>93.0</td>\n",
       "      <td>21.0</td>\n",
       "      <td>209.0</td>\n",
       "      <td>307.0</td>\n",
       "    </tr>\n",
       "    <tr>\n",
       "      <th>42</th>\n",
       "      <td>Model-10_Store-9</td>\n",
       "      <td>2023-07-01</td>\n",
       "      <td>37.0</td>\n",
       "      <td>0</td>\n",
       "      <td>16.0</td>\n",
       "      <td>72.0</td>\n",
       "      <td>800.0</td>\n",
       "      <td>75.0</td>\n",
       "      <td>28.0</td>\n",
       "      <td>36.0</td>\n",
       "      <td>39.0</td>\n",
       "      <td>219.0</td>\n",
       "      <td>624.0</td>\n",
       "      <td>93.0</td>\n",
       "      <td>21.0</td>\n",
       "      <td>209.0</td>\n",
       "    </tr>\n",
       "    <tr>\n",
       "      <th>43</th>\n",
       "      <td>Model-10_Store-9</td>\n",
       "      <td>2023-08-01</td>\n",
       "      <td>55.0</td>\n",
       "      <td>0</td>\n",
       "      <td>37.0</td>\n",
       "      <td>16.0</td>\n",
       "      <td>72.0</td>\n",
       "      <td>800.0</td>\n",
       "      <td>75.0</td>\n",
       "      <td>28.0</td>\n",
       "      <td>36.0</td>\n",
       "      <td>39.0</td>\n",
       "      <td>219.0</td>\n",
       "      <td>624.0</td>\n",
       "      <td>93.0</td>\n",
       "      <td>21.0</td>\n",
       "    </tr>\n",
       "    <tr>\n",
       "      <th>44</th>\n",
       "      <td>Model-10_Store-9</td>\n",
       "      <td>2023-09-01</td>\n",
       "      <td>51.0</td>\n",
       "      <td>0</td>\n",
       "      <td>55.0</td>\n",
       "      <td>37.0</td>\n",
       "      <td>16.0</td>\n",
       "      <td>72.0</td>\n",
       "      <td>800.0</td>\n",
       "      <td>75.0</td>\n",
       "      <td>28.0</td>\n",
       "      <td>36.0</td>\n",
       "      <td>39.0</td>\n",
       "      <td>219.0</td>\n",
       "      <td>624.0</td>\n",
       "      <td>93.0</td>\n",
       "    </tr>\n",
       "    <tr>\n",
       "      <th>...</th>\n",
       "      <td>...</td>\n",
       "      <td>...</td>\n",
       "      <td>...</td>\n",
       "      <td>...</td>\n",
       "      <td>...</td>\n",
       "      <td>...</td>\n",
       "      <td>...</td>\n",
       "      <td>...</td>\n",
       "      <td>...</td>\n",
       "      <td>...</td>\n",
       "      <td>...</td>\n",
       "      <td>...</td>\n",
       "      <td>...</td>\n",
       "      <td>...</td>\n",
       "      <td>...</td>\n",
       "      <td>...</td>\n",
       "    </tr>\n",
       "    <tr>\n",
       "      <th>41</th>\n",
       "      <td>Model-9_Store-4</td>\n",
       "      <td>2023-06-01</td>\n",
       "      <td>11.0</td>\n",
       "      <td>14</td>\n",
       "      <td>42.0</td>\n",
       "      <td>273.0</td>\n",
       "      <td>0.0</td>\n",
       "      <td>19.0</td>\n",
       "      <td>10.0</td>\n",
       "      <td>3.0</td>\n",
       "      <td>0.0</td>\n",
       "      <td>45.0</td>\n",
       "      <td>119.5</td>\n",
       "      <td>36.0</td>\n",
       "      <td>15.0</td>\n",
       "      <td>12.0</td>\n",
       "    </tr>\n",
       "    <tr>\n",
       "      <th>42</th>\n",
       "      <td>Model-9_Store-4</td>\n",
       "      <td>2023-07-01</td>\n",
       "      <td>57.0</td>\n",
       "      <td>14</td>\n",
       "      <td>11.0</td>\n",
       "      <td>42.0</td>\n",
       "      <td>273.0</td>\n",
       "      <td>0.0</td>\n",
       "      <td>19.0</td>\n",
       "      <td>10.0</td>\n",
       "      <td>3.0</td>\n",
       "      <td>0.0</td>\n",
       "      <td>45.0</td>\n",
       "      <td>119.5</td>\n",
       "      <td>36.0</td>\n",
       "      <td>15.0</td>\n",
       "    </tr>\n",
       "    <tr>\n",
       "      <th>43</th>\n",
       "      <td>Model-9_Store-4</td>\n",
       "      <td>2023-08-01</td>\n",
       "      <td>36.0</td>\n",
       "      <td>14</td>\n",
       "      <td>57.0</td>\n",
       "      <td>11.0</td>\n",
       "      <td>42.0</td>\n",
       "      <td>273.0</td>\n",
       "      <td>0.0</td>\n",
       "      <td>19.0</td>\n",
       "      <td>10.0</td>\n",
       "      <td>3.0</td>\n",
       "      <td>0.0</td>\n",
       "      <td>45.0</td>\n",
       "      <td>119.5</td>\n",
       "      <td>36.0</td>\n",
       "    </tr>\n",
       "    <tr>\n",
       "      <th>44</th>\n",
       "      <td>Model-9_Store-4</td>\n",
       "      <td>2023-09-01</td>\n",
       "      <td>185.0</td>\n",
       "      <td>14</td>\n",
       "      <td>36.0</td>\n",
       "      <td>57.0</td>\n",
       "      <td>11.0</td>\n",
       "      <td>42.0</td>\n",
       "      <td>273.0</td>\n",
       "      <td>0.0</td>\n",
       "      <td>19.0</td>\n",
       "      <td>10.0</td>\n",
       "      <td>3.0</td>\n",
       "      <td>0.0</td>\n",
       "      <td>45.0</td>\n",
       "      <td>119.5</td>\n",
       "    </tr>\n",
       "    <tr>\n",
       "      <th>45</th>\n",
       "      <td>Model-9_Store-4</td>\n",
       "      <td>2023-10-01</td>\n",
       "      <td>1.0</td>\n",
       "      <td>14</td>\n",
       "      <td>185.0</td>\n",
       "      <td>36.0</td>\n",
       "      <td>57.0</td>\n",
       "      <td>11.0</td>\n",
       "      <td>42.0</td>\n",
       "      <td>273.0</td>\n",
       "      <td>0.0</td>\n",
       "      <td>19.0</td>\n",
       "      <td>10.0</td>\n",
       "      <td>3.0</td>\n",
       "      <td>0.0</td>\n",
       "      <td>45.0</td>\n",
       "    </tr>\n",
       "  </tbody>\n",
       "</table>\n",
       "<p>90 rows × 16 columns</p>\n",
       "</div>"
      ],
      "text/plain": [
       "    Model_Store_Pair MONTH_YEAR  QUANTITY  Model_Store_Pair_ID  lag_1  lag_2  \\\n",
       "40  Model-10_Store-9 2023-05-01      72.0                    0  800.0   75.0   \n",
       "41  Model-10_Store-9 2023-06-01      16.0                    0   72.0  800.0   \n",
       "42  Model-10_Store-9 2023-07-01      37.0                    0   16.0   72.0   \n",
       "43  Model-10_Store-9 2023-08-01      55.0                    0   37.0   16.0   \n",
       "44  Model-10_Store-9 2023-09-01      51.0                    0   55.0   37.0   \n",
       "..               ...        ...       ...                  ...    ...    ...   \n",
       "41   Model-9_Store-4 2023-06-01      11.0                   14   42.0  273.0   \n",
       "42   Model-9_Store-4 2023-07-01      57.0                   14   11.0   42.0   \n",
       "43   Model-9_Store-4 2023-08-01      36.0                   14   57.0   11.0   \n",
       "44   Model-9_Store-4 2023-09-01     185.0                   14   36.0   57.0   \n",
       "45   Model-9_Store-4 2023-10-01       1.0                   14  185.0   36.0   \n",
       "\n",
       "    lag_3  lag_4  lag_5  lag_6  lag_7  lag_8  lag_9  lag_10  lag_11  lag_12  \n",
       "40   28.0   36.0   39.0  219.0  624.0   93.0   21.0   209.0   307.0     5.0  \n",
       "41   75.0   28.0   36.0   39.0  219.0  624.0   93.0    21.0   209.0   307.0  \n",
       "42  800.0   75.0   28.0   36.0   39.0  219.0  624.0    93.0    21.0   209.0  \n",
       "43   72.0  800.0   75.0   28.0   36.0   39.0  219.0   624.0    93.0    21.0  \n",
       "44   16.0   72.0  800.0   75.0   28.0   36.0   39.0   219.0   624.0    93.0  \n",
       "..    ...    ...    ...    ...    ...    ...    ...     ...     ...     ...  \n",
       "41    0.0   19.0   10.0    3.0    0.0   45.0  119.5    36.0    15.0    12.0  \n",
       "42  273.0    0.0   19.0   10.0    3.0    0.0   45.0   119.5    36.0    15.0  \n",
       "43   42.0  273.0    0.0   19.0   10.0    3.0    0.0    45.0   119.5    36.0  \n",
       "44   11.0   42.0  273.0    0.0   19.0   10.0    3.0     0.0    45.0   119.5  \n",
       "45   57.0   11.0   42.0  273.0    0.0   19.0   10.0     3.0     0.0    45.0  \n",
       "\n",
       "[90 rows x 16 columns]"
      ]
     },
     "execution_count": 121,
     "metadata": {},
     "output_type": "execute_result"
    }
   ],
   "source": [
    "test_rows = get_test_rows(df_supervised_all, 6)\n",
    "test_rows"
   ]
  },
  {
   "cell_type": "code",
   "execution_count": 122,
   "metadata": {},
   "outputs": [
    {
     "data": {
      "text/html": [
       "<div>\n",
       "<style scoped>\n",
       "    .dataframe tbody tr th:only-of-type {\n",
       "        vertical-align: middle;\n",
       "    }\n",
       "\n",
       "    .dataframe tbody tr th {\n",
       "        vertical-align: top;\n",
       "    }\n",
       "\n",
       "    .dataframe thead th {\n",
       "        text-align: right;\n",
       "    }\n",
       "</style>\n",
       "<table border=\"1\" class=\"dataframe\">\n",
       "  <thead>\n",
       "    <tr style=\"text-align: right;\">\n",
       "      <th></th>\n",
       "      <th>Model_Store_Pair</th>\n",
       "      <th>MONTH_YEAR</th>\n",
       "      <th>QUANTITY</th>\n",
       "      <th>Model_Store_Pair_ID</th>\n",
       "      <th>pred_value</th>\n",
       "    </tr>\n",
       "  </thead>\n",
       "  <tbody>\n",
       "    <tr>\n",
       "      <th>40</th>\n",
       "      <td>Model-10_Store-9</td>\n",
       "      <td>2023-05-01</td>\n",
       "      <td>72.0</td>\n",
       "      <td>0</td>\n",
       "      <td>130.635513</td>\n",
       "    </tr>\n",
       "    <tr>\n",
       "      <th>41</th>\n",
       "      <td>Model-10_Store-9</td>\n",
       "      <td>2023-06-01</td>\n",
       "      <td>16.0</td>\n",
       "      <td>0</td>\n",
       "      <td>232.785965</td>\n",
       "    </tr>\n",
       "    <tr>\n",
       "      <th>42</th>\n",
       "      <td>Model-10_Store-9</td>\n",
       "      <td>2023-07-01</td>\n",
       "      <td>37.0</td>\n",
       "      <td>0</td>\n",
       "      <td>114.893974</td>\n",
       "    </tr>\n",
       "    <tr>\n",
       "      <th>43</th>\n",
       "      <td>Model-10_Store-9</td>\n",
       "      <td>2023-08-01</td>\n",
       "      <td>55.0</td>\n",
       "      <td>0</td>\n",
       "      <td>285.840149</td>\n",
       "    </tr>\n",
       "    <tr>\n",
       "      <th>44</th>\n",
       "      <td>Model-10_Store-9</td>\n",
       "      <td>2023-09-01</td>\n",
       "      <td>51.0</td>\n",
       "      <td>0</td>\n",
       "      <td>57.421574</td>\n",
       "    </tr>\n",
       "    <tr>\n",
       "      <th>...</th>\n",
       "      <td>...</td>\n",
       "      <td>...</td>\n",
       "      <td>...</td>\n",
       "      <td>...</td>\n",
       "      <td>...</td>\n",
       "    </tr>\n",
       "    <tr>\n",
       "      <th>41</th>\n",
       "      <td>Model-9_Store-4</td>\n",
       "      <td>2023-06-01</td>\n",
       "      <td>11.0</td>\n",
       "      <td>14</td>\n",
       "      <td>15.050172</td>\n",
       "    </tr>\n",
       "    <tr>\n",
       "      <th>42</th>\n",
       "      <td>Model-9_Store-4</td>\n",
       "      <td>2023-07-01</td>\n",
       "      <td>57.0</td>\n",
       "      <td>14</td>\n",
       "      <td>73.689758</td>\n",
       "    </tr>\n",
       "    <tr>\n",
       "      <th>43</th>\n",
       "      <td>Model-9_Store-4</td>\n",
       "      <td>2023-08-01</td>\n",
       "      <td>36.0</td>\n",
       "      <td>14</td>\n",
       "      <td>78.243065</td>\n",
       "    </tr>\n",
       "    <tr>\n",
       "      <th>44</th>\n",
       "      <td>Model-9_Store-4</td>\n",
       "      <td>2023-09-01</td>\n",
       "      <td>185.0</td>\n",
       "      <td>14</td>\n",
       "      <td>136.867188</td>\n",
       "    </tr>\n",
       "    <tr>\n",
       "      <th>45</th>\n",
       "      <td>Model-9_Store-4</td>\n",
       "      <td>2023-10-01</td>\n",
       "      <td>1.0</td>\n",
       "      <td>14</td>\n",
       "      <td>30.167435</td>\n",
       "    </tr>\n",
       "  </tbody>\n",
       "</table>\n",
       "<p>90 rows × 5 columns</p>\n",
       "</div>"
      ],
      "text/plain": [
       "    Model_Store_Pair MONTH_YEAR  QUANTITY  Model_Store_Pair_ID  pred_value\n",
       "40  Model-10_Store-9 2023-05-01      72.0                    0  130.635513\n",
       "41  Model-10_Store-9 2023-06-01      16.0                    0  232.785965\n",
       "42  Model-10_Store-9 2023-07-01      37.0                    0  114.893974\n",
       "43  Model-10_Store-9 2023-08-01      55.0                    0  285.840149\n",
       "44  Model-10_Store-9 2023-09-01      51.0                    0   57.421574\n",
       "..               ...        ...       ...                  ...         ...\n",
       "41   Model-9_Store-4 2023-06-01      11.0                   14   15.050172\n",
       "42   Model-9_Store-4 2023-07-01      57.0                   14   73.689758\n",
       "43   Model-9_Store-4 2023-08-01      36.0                   14   78.243065\n",
       "44   Model-9_Store-4 2023-09-01     185.0                   14  136.867188\n",
       "45   Model-9_Store-4 2023-10-01       1.0                   14   30.167435\n",
       "\n",
       "[90 rows x 5 columns]"
      ]
     },
     "execution_count": 122,
     "metadata": {},
     "output_type": "execute_result"
    }
   ],
   "source": [
    "# Convert predictions_XGB to a list\n",
    "# Based on analysis above XGboost Regressor is the selectd model for forcasting\n",
    "predictions_list = predictions_XGB.tolist()\n",
    "\n",
    "# Create a new DataFrame with selected columns from test_rows\n",
    "df_test_results = test_rows[['Model_Store_Pair', 'MONTH_YEAR', 'QUANTITY', 'Model_Store_Pair_ID']]\n",
    "\n",
    "# Add a new column 'pred_value' with the values from predictions_list\n",
    "df_test_results['pred_value'] = predictions_list\n",
    "\n",
    "df_test_results\n"
   ]
  },
  {
   "cell_type": "code",
   "execution_count": 123,
   "metadata": {},
   "outputs": [
    {
     "data": {
      "text/html": [
       "<div>\n",
       "<style scoped>\n",
       "    .dataframe tbody tr th:only-of-type {\n",
       "        vertical-align: middle;\n",
       "    }\n",
       "\n",
       "    .dataframe tbody tr th {\n",
       "        vertical-align: top;\n",
       "    }\n",
       "\n",
       "    .dataframe thead th {\n",
       "        text-align: right;\n",
       "    }\n",
       "</style>\n",
       "<table border=\"1\" class=\"dataframe\">\n",
       "  <thead>\n",
       "    <tr style=\"text-align: right;\">\n",
       "      <th></th>\n",
       "      <th>Model_Store_Pair</th>\n",
       "      <th>MAE</th>\n",
       "      <th>MAPE</th>\n",
       "      <th>RMSE</th>\n",
       "    </tr>\n",
       "  </thead>\n",
       "  <tbody>\n",
       "    <tr>\n",
       "      <th>0</th>\n",
       "      <td>Model-10_Store-9</td>\n",
       "      <td>163.860432</td>\n",
       "      <td>619.158002</td>\n",
       "      <td>209.743284</td>\n",
       "    </tr>\n",
       "    <tr>\n",
       "      <th>1</th>\n",
       "      <td>Model-12_Store-11</td>\n",
       "      <td>5.833894</td>\n",
       "      <td>49.423472</td>\n",
       "      <td>8.701171</td>\n",
       "    </tr>\n",
       "    <tr>\n",
       "      <th>2</th>\n",
       "      <td>Model-13_Store-12</td>\n",
       "      <td>2.010131</td>\n",
       "      <td>29.363270</td>\n",
       "      <td>2.330452</td>\n",
       "    </tr>\n",
       "    <tr>\n",
       "      <th>3</th>\n",
       "      <td>Model-14_Store-13</td>\n",
       "      <td>0.088452</td>\n",
       "      <td>8.410931</td>\n",
       "      <td>0.106005</td>\n",
       "    </tr>\n",
       "    <tr>\n",
       "      <th>4</th>\n",
       "      <td>Model-16_Store-15</td>\n",
       "      <td>3.869544</td>\n",
       "      <td>56.473043</td>\n",
       "      <td>4.021596</td>\n",
       "    </tr>\n",
       "    <tr>\n",
       "      <th>5</th>\n",
       "      <td>Model-17_Store-16</td>\n",
       "      <td>0.966670</td>\n",
       "      <td>48.855530</td>\n",
       "      <td>1.093730</td>\n",
       "    </tr>\n",
       "    <tr>\n",
       "      <th>6</th>\n",
       "      <td>Model-18_Store-17</td>\n",
       "      <td>11.384325</td>\n",
       "      <td>350.437107</td>\n",
       "      <td>13.680771</td>\n",
       "    </tr>\n",
       "    <tr>\n",
       "      <th>7</th>\n",
       "      <td>Model-1_Store-1</td>\n",
       "      <td>113.315424</td>\n",
       "      <td>36.381583</td>\n",
       "      <td>162.678057</td>\n",
       "    </tr>\n",
       "    <tr>\n",
       "      <th>8</th>\n",
       "      <td>Model-21_Store-20</td>\n",
       "      <td>0.912377</td>\n",
       "      <td>37.064434</td>\n",
       "      <td>1.525698</td>\n",
       "    </tr>\n",
       "    <tr>\n",
       "      <th>9</th>\n",
       "      <td>Model-2_Store-2</td>\n",
       "      <td>63.552956</td>\n",
       "      <td>966.148993</td>\n",
       "      <td>85.309882</td>\n",
       "    </tr>\n",
       "    <tr>\n",
       "      <th>10</th>\n",
       "      <td>Model-3_Store-3</td>\n",
       "      <td>5.732434</td>\n",
       "      <td>39.440615</td>\n",
       "      <td>7.181633</td>\n",
       "    </tr>\n",
       "    <tr>\n",
       "      <th>11</th>\n",
       "      <td>Model-4_Store-4</td>\n",
       "      <td>83.535650</td>\n",
       "      <td>55.570803</td>\n",
       "      <td>92.308735</td>\n",
       "    </tr>\n",
       "    <tr>\n",
       "      <th>12</th>\n",
       "      <td>Model-5_Store-5</td>\n",
       "      <td>12.493079</td>\n",
       "      <td>82.539046</td>\n",
       "      <td>20.720075</td>\n",
       "    </tr>\n",
       "    <tr>\n",
       "      <th>13</th>\n",
       "      <td>Model-8_Store-8</td>\n",
       "      <td>94.771243</td>\n",
       "      <td>202.688321</td>\n",
       "      <td>119.496994</td>\n",
       "    </tr>\n",
       "    <tr>\n",
       "      <th>14</th>\n",
       "      <td>Model-9_Store-4</td>\n",
       "      <td>33.107294</td>\n",
       "      <td>544.192782</td>\n",
       "      <td>37.975618</td>\n",
       "    </tr>\n",
       "  </tbody>\n",
       "</table>\n",
       "</div>"
      ],
      "text/plain": [
       "     Model_Store_Pair         MAE        MAPE        RMSE\n",
       "0    Model-10_Store-9  163.860432  619.158002  209.743284\n",
       "1   Model-12_Store-11    5.833894   49.423472    8.701171\n",
       "2   Model-13_Store-12    2.010131   29.363270    2.330452\n",
       "3   Model-14_Store-13    0.088452    8.410931    0.106005\n",
       "4   Model-16_Store-15    3.869544   56.473043    4.021596\n",
       "5   Model-17_Store-16    0.966670   48.855530    1.093730\n",
       "6   Model-18_Store-17   11.384325  350.437107   13.680771\n",
       "7     Model-1_Store-1  113.315424   36.381583  162.678057\n",
       "8   Model-21_Store-20    0.912377   37.064434    1.525698\n",
       "9     Model-2_Store-2   63.552956  966.148993   85.309882\n",
       "10    Model-3_Store-3    5.732434   39.440615    7.181633\n",
       "11    Model-4_Store-4   83.535650   55.570803   92.308735\n",
       "12    Model-5_Store-5   12.493079   82.539046   20.720075\n",
       "13    Model-8_Store-8   94.771243  202.688321  119.496994\n",
       "14    Model-9_Store-4   33.107294  544.192782   37.975618"
      ]
     },
     "execution_count": 123,
     "metadata": {},
     "output_type": "execute_result"
    }
   ],
   "source": [
    "# Group the df_test_results DataFrame by 'Model_Store_Pair'\n",
    "grouped = df_test_results.groupby('Model_Store_Pair')\n",
    "\n",
    "# Create dictionaries to store the metrics\n",
    "metrics = {\n",
    "    'Model_Store_Pair': [],\n",
    "    'MAE': [],\n",
    "    'MAPE': [],\n",
    "    'RMSE': []\n",
    "}\n",
    "\n",
    "# Iterate through each group\n",
    "for model_store_pair, group in grouped:\n",
    "    actual_values = group['QUANTITY']\n",
    "    predicted_values = group['pred_value']\n",
    "    \n",
    "    # Calculate metrics\n",
    "    mae = mean_absolute_error(actual_values, predicted_values)\n",
    "    mape = mean_absolute_percentage_error(actual_values, predicted_values)\n",
    "    rmse = np.sqrt(mean_squared_error(actual_values, predicted_values))\n",
    "   \n",
    "    # Store the results in the metrics dictionary\n",
    "    metrics['Model_Store_Pair'].append(model_store_pair)\n",
    "    metrics['MAE'].append(mae)\n",
    "    metrics['MAPE'].append(mape)\n",
    "    metrics['RMSE'].append(rmse)\n",
    "\n",
    "# Create a DataFrame from the metrics dictionary\n",
    "metrics_df = pd.DataFrame(metrics)\n",
    "\n",
    "metrics_df\n",
    "\n"
   ]
  },
  {
   "cell_type": "code",
   "execution_count": 124,
   "metadata": {},
   "outputs": [
    {
     "data": {
      "text/html": [
       "<div>\n",
       "<style scoped>\n",
       "    .dataframe tbody tr th:only-of-type {\n",
       "        vertical-align: middle;\n",
       "    }\n",
       "\n",
       "    .dataframe tbody tr th {\n",
       "        vertical-align: top;\n",
       "    }\n",
       "\n",
       "    .dataframe thead th {\n",
       "        text-align: right;\n",
       "    }\n",
       "</style>\n",
       "<table border=\"1\" class=\"dataframe\">\n",
       "  <thead>\n",
       "    <tr style=\"text-align: right;\">\n",
       "      <th></th>\n",
       "      <th>Model_Store_Pair</th>\n",
       "      <th>MAE</th>\n",
       "      <th>MAPE</th>\n",
       "      <th>RMSE</th>\n",
       "    </tr>\n",
       "  </thead>\n",
       "  <tbody>\n",
       "    <tr>\n",
       "      <th>0</th>\n",
       "      <td>Model-14_Store-13</td>\n",
       "      <td>0.088452</td>\n",
       "      <td>8.410931</td>\n",
       "      <td>0.106005</td>\n",
       "    </tr>\n",
       "    <tr>\n",
       "      <th>1</th>\n",
       "      <td>Model-21_Store-20</td>\n",
       "      <td>0.912377</td>\n",
       "      <td>37.064434</td>\n",
       "      <td>1.525698</td>\n",
       "    </tr>\n",
       "    <tr>\n",
       "      <th>2</th>\n",
       "      <td>Model-17_Store-16</td>\n",
       "      <td>0.966670</td>\n",
       "      <td>48.855530</td>\n",
       "      <td>1.093730</td>\n",
       "    </tr>\n",
       "    <tr>\n",
       "      <th>3</th>\n",
       "      <td>Model-13_Store-12</td>\n",
       "      <td>2.010131</td>\n",
       "      <td>29.363270</td>\n",
       "      <td>2.330452</td>\n",
       "    </tr>\n",
       "    <tr>\n",
       "      <th>4</th>\n",
       "      <td>Model-16_Store-15</td>\n",
       "      <td>3.869544</td>\n",
       "      <td>56.473043</td>\n",
       "      <td>4.021596</td>\n",
       "    </tr>\n",
       "    <tr>\n",
       "      <th>5</th>\n",
       "      <td>Model-3_Store-3</td>\n",
       "      <td>5.732434</td>\n",
       "      <td>39.440615</td>\n",
       "      <td>7.181633</td>\n",
       "    </tr>\n",
       "    <tr>\n",
       "      <th>6</th>\n",
       "      <td>Model-12_Store-11</td>\n",
       "      <td>5.833894</td>\n",
       "      <td>49.423472</td>\n",
       "      <td>8.701171</td>\n",
       "    </tr>\n",
       "    <tr>\n",
       "      <th>7</th>\n",
       "      <td>Model-18_Store-17</td>\n",
       "      <td>11.384325</td>\n",
       "      <td>350.437107</td>\n",
       "      <td>13.680771</td>\n",
       "    </tr>\n",
       "    <tr>\n",
       "      <th>8</th>\n",
       "      <td>Model-5_Store-5</td>\n",
       "      <td>12.493079</td>\n",
       "      <td>82.539046</td>\n",
       "      <td>20.720075</td>\n",
       "    </tr>\n",
       "    <tr>\n",
       "      <th>9</th>\n",
       "      <td>Model-9_Store-4</td>\n",
       "      <td>33.107294</td>\n",
       "      <td>544.192782</td>\n",
       "      <td>37.975618</td>\n",
       "    </tr>\n",
       "    <tr>\n",
       "      <th>10</th>\n",
       "      <td>Model-2_Store-2</td>\n",
       "      <td>63.552956</td>\n",
       "      <td>966.148993</td>\n",
       "      <td>85.309882</td>\n",
       "    </tr>\n",
       "    <tr>\n",
       "      <th>11</th>\n",
       "      <td>Model-4_Store-4</td>\n",
       "      <td>83.535650</td>\n",
       "      <td>55.570803</td>\n",
       "      <td>92.308735</td>\n",
       "    </tr>\n",
       "    <tr>\n",
       "      <th>12</th>\n",
       "      <td>Model-8_Store-8</td>\n",
       "      <td>94.771243</td>\n",
       "      <td>202.688321</td>\n",
       "      <td>119.496994</td>\n",
       "    </tr>\n",
       "    <tr>\n",
       "      <th>13</th>\n",
       "      <td>Model-1_Store-1</td>\n",
       "      <td>113.315424</td>\n",
       "      <td>36.381583</td>\n",
       "      <td>162.678057</td>\n",
       "    </tr>\n",
       "    <tr>\n",
       "      <th>14</th>\n",
       "      <td>Model-10_Store-9</td>\n",
       "      <td>163.860432</td>\n",
       "      <td>619.158002</td>\n",
       "      <td>209.743284</td>\n",
       "    </tr>\n",
       "  </tbody>\n",
       "</table>\n",
       "</div>"
      ],
      "text/plain": [
       "     Model_Store_Pair         MAE        MAPE        RMSE\n",
       "0   Model-14_Store-13    0.088452    8.410931    0.106005\n",
       "1   Model-21_Store-20    0.912377   37.064434    1.525698\n",
       "2   Model-17_Store-16    0.966670   48.855530    1.093730\n",
       "3   Model-13_Store-12    2.010131   29.363270    2.330452\n",
       "4   Model-16_Store-15    3.869544   56.473043    4.021596\n",
       "5     Model-3_Store-3    5.732434   39.440615    7.181633\n",
       "6   Model-12_Store-11    5.833894   49.423472    8.701171\n",
       "7   Model-18_Store-17   11.384325  350.437107   13.680771\n",
       "8     Model-5_Store-5   12.493079   82.539046   20.720075\n",
       "9     Model-9_Store-4   33.107294  544.192782   37.975618\n",
       "10    Model-2_Store-2   63.552956  966.148993   85.309882\n",
       "11    Model-4_Store-4   83.535650   55.570803   92.308735\n",
       "12    Model-8_Store-8   94.771243  202.688321  119.496994\n",
       "13    Model-1_Store-1  113.315424   36.381583  162.678057\n",
       "14   Model-10_Store-9  163.860432  619.158002  209.743284"
      ]
     },
     "execution_count": 124,
     "metadata": {},
     "output_type": "execute_result"
    }
   ],
   "source": [
    "sorted_metrics_df = metrics_df.sort_values(by='MAE', ascending=True).reset_index(drop=True)\n",
    "sorted_metrics_df"
   ]
  },
  {
   "cell_type": "code",
   "execution_count": 125,
   "metadata": {},
   "outputs": [
    {
     "data": {
      "text/html": [
       "<div>\n",
       "<style scoped>\n",
       "    .dataframe tbody tr th:only-of-type {\n",
       "        vertical-align: middle;\n",
       "    }\n",
       "\n",
       "    .dataframe tbody tr th {\n",
       "        vertical-align: top;\n",
       "    }\n",
       "\n",
       "    .dataframe thead th {\n",
       "        text-align: right;\n",
       "    }\n",
       "</style>\n",
       "<table border=\"1\" class=\"dataframe\">\n",
       "  <thead>\n",
       "    <tr style=\"text-align: right;\">\n",
       "      <th></th>\n",
       "      <th>Model_Store_Pair</th>\n",
       "      <th>MAE</th>\n",
       "      <th>MAPE</th>\n",
       "      <th>RMSE</th>\n",
       "    </tr>\n",
       "  </thead>\n",
       "  <tbody>\n",
       "    <tr>\n",
       "      <th>0</th>\n",
       "      <td>Model-14_Store-13</td>\n",
       "      <td>0.088452</td>\n",
       "      <td>8.410931</td>\n",
       "      <td>0.106005</td>\n",
       "    </tr>\n",
       "    <tr>\n",
       "      <th>1</th>\n",
       "      <td>Model-17_Store-16</td>\n",
       "      <td>0.966670</td>\n",
       "      <td>48.855530</td>\n",
       "      <td>1.093730</td>\n",
       "    </tr>\n",
       "    <tr>\n",
       "      <th>2</th>\n",
       "      <td>Model-16_Store-15</td>\n",
       "      <td>3.869544</td>\n",
       "      <td>56.473043</td>\n",
       "      <td>4.021596</td>\n",
       "    </tr>\n",
       "    <tr>\n",
       "      <th>3</th>\n",
       "      <td>Model-12_Store-11</td>\n",
       "      <td>5.833894</td>\n",
       "      <td>49.423472</td>\n",
       "      <td>8.701171</td>\n",
       "    </tr>\n",
       "    <tr>\n",
       "      <th>4</th>\n",
       "      <td>Model-2_Store-2</td>\n",
       "      <td>63.552956</td>\n",
       "      <td>966.148993</td>\n",
       "      <td>85.309882</td>\n",
       "    </tr>\n",
       "    <tr>\n",
       "      <th>5</th>\n",
       "      <td>Model-8_Store-8</td>\n",
       "      <td>94.771243</td>\n",
       "      <td>202.688321</td>\n",
       "      <td>119.496994</td>\n",
       "    </tr>\n",
       "    <tr>\n",
       "      <th>6</th>\n",
       "      <td>Model-1_Store-1</td>\n",
       "      <td>113.315424</td>\n",
       "      <td>36.381583</td>\n",
       "      <td>162.678057</td>\n",
       "    </tr>\n",
       "    <tr>\n",
       "      <th>7</th>\n",
       "      <td>Model-10_Store-9</td>\n",
       "      <td>163.860432</td>\n",
       "      <td>619.158002</td>\n",
       "      <td>209.743284</td>\n",
       "    </tr>\n",
       "  </tbody>\n",
       "</table>\n",
       "</div>"
      ],
      "text/plain": [
       "    Model_Store_Pair         MAE        MAPE        RMSE\n",
       "0  Model-14_Store-13    0.088452    8.410931    0.106005\n",
       "1  Model-17_Store-16    0.966670   48.855530    1.093730\n",
       "2  Model-16_Store-15    3.869544   56.473043    4.021596\n",
       "3  Model-12_Store-11    5.833894   49.423472    8.701171\n",
       "4    Model-2_Store-2   63.552956  966.148993   85.309882\n",
       "5    Model-8_Store-8   94.771243  202.688321  119.496994\n",
       "6    Model-1_Store-1  113.315424   36.381583  162.678057\n",
       "7   Model-10_Store-9  163.860432  619.158002  209.743284"
      ]
     },
     "execution_count": 125,
     "metadata": {},
     "output_type": "execute_result"
    }
   ],
   "source": [
    "#Requested Model/Store predictions \n",
    "sorted_metrics_df[sorted_metrics_df['Model_Store_Pair'].isin(model_store_pairs)].reset_index(drop=True)"
   ]
  },
  {
   "cell_type": "code",
   "execution_count": 126,
   "metadata": {},
   "outputs": [
    {
     "data": {
      "application/vnd.plotly.v1+json": {
       "config": {
        "linkText": "Export to plot.ly",
        "plotlyServerURL": "https://plot.ly",
        "showLink": false
       },
       "data": [
        {
         "mode": "lines+markers",
         "name": "Actual - Model-10_Store-9",
         "type": "scatter",
         "x": [
          40,
          41,
          42,
          43,
          44,
          45
         ],
         "y": [
          72,
          16,
          37,
          55,
          51,
          24
         ]
        },
        {
         "mode": "lines+markers",
         "name": "Predicted - Model-10_Store-9",
         "type": "scatter",
         "x": [
          40,
          41,
          42,
          43,
          44,
          45
         ],
         "y": [
          130.63551330566406,
          232.7859649658203,
          114.89397430419922,
          285.84014892578125,
          57.421573638916016,
          416.5854187011719
         ]
        },
        {
         "mode": "lines+markers",
         "name": "Actual - Model-12_Store-11",
         "type": "scatter",
         "x": [
          40,
          41,
          42,
          43,
          44,
          45
         ],
         "y": [
          20,
          13,
          12,
          14,
          15,
          10
         ]
        },
        {
         "mode": "lines+markers",
         "name": "Predicted - Model-12_Store-11",
         "type": "scatter",
         "x": [
          40,
          41,
          42,
          43,
          44,
          45
         ],
         "y": [
          14.065990447998047,
          11.17683219909668,
          10.079270362854004,
          18.644140243530273,
          15.94357967376709,
          29.73773765563965
         ]
        },
        {
         "mode": "lines+markers",
         "name": "Actual - Model-13_Store-12",
         "type": "scatter",
         "x": [
          40,
          41,
          42,
          43,
          44,
          45
         ],
         "y": [
          10,
          9,
          4,
          0,
          7,
          6
         ]
        },
        {
         "mode": "lines+markers",
         "name": "Predicted - Model-13_Store-12",
         "type": "scatter",
         "x": [
          40,
          41,
          42,
          43,
          44,
          45
         ],
         "y": [
          6.393189907073975,
          5.663107395172119,
          4.846097946166992,
          0.7685422301292419,
          4.540956497192383,
          4.95659875869751
         ]
        },
        {
         "mode": "lines+markers",
         "name": "Actual - Model-14_Store-13",
         "type": "scatter",
         "x": [
          40,
          41,
          42,
          43,
          44,
          45
         ],
         "y": [
          0,
          0,
          1,
          0,
          0,
          2
         ]
        },
        {
         "mode": "lines+markers",
         "name": "Predicted - Model-14_Store-13",
         "type": "scatter",
         "x": [
          40,
          41,
          42,
          43,
          44,
          45
         ],
         "y": [
          -0.01210545003414154,
          -0.0456741526722908,
          1.0707377195358276,
          -0.12236788123846054,
          0.08486414700746536,
          2.1949617862701416
         ]
        },
        {
         "mode": "lines+markers",
         "name": "Actual - Model-16_Store-15",
         "type": "scatter",
         "x": [
          40,
          41,
          42,
          43,
          44,
          45
         ],
         "y": [
          10,
          3,
          10,
          15,
          10,
          5
         ]
        },
        {
         "mode": "lines+markers",
         "name": "Predicted - Model-16_Store-15",
         "type": "scatter",
         "x": [
          40,
          41,
          42,
          43,
          44,
          45
         ],
         "y": [
          13.140506744384766,
          5.894087314605713,
          7.516961574554443,
          19.281007766723633,
          4.922067165374756,
          10.340692520141602
         ]
        },
        {
         "mode": "lines+markers",
         "name": "Actual - Model-17_Store-16",
         "type": "scatter",
         "x": [
          40,
          41,
          42,
          43,
          44,
          45
         ],
         "y": [
          1,
          32,
          0,
          0,
          21,
          0
         ]
        },
        {
         "mode": "lines+markers",
         "name": "Predicted - Model-17_Store-16",
         "type": "scatter",
         "x": [
          40,
          41,
          42,
          43,
          44,
          45
         ],
         "y": [
          -0.4068845212459564,
          31.598281860351562,
          0.46315041184425354,
          -1.830775260925293,
          21.970781326293945,
          0.7267128825187683
         ]
        },
        {
         "mode": "lines+markers",
         "name": "Actual - Model-18_Store-17",
         "type": "scatter",
         "x": [
          40,
          41,
          42,
          43,
          44,
          45
         ],
         "y": [
          1,
          13.333333333333334,
          4,
          1,
          7.666666666666667,
          37
         ]
        },
        {
         "mode": "lines+markers",
         "name": "Predicted - Model-18_Store-17",
         "type": "scatter",
         "x": [
          40,
          41,
          42,
          43,
          44,
          45
         ],
         "y": [
          10.397727012634277,
          19.893983840942383,
          12.163715362548828,
          8.1879301071167,
          16.444555282592773,
          8.781962394714355
         ]
        },
        {
         "mode": "lines+markers",
         "name": "Actual - Model-1_Store-1",
         "type": "scatter",
         "x": [
          40,
          41,
          42,
          43,
          44,
          45
         ],
         "y": [
          177,
          540,
          264.5,
          132,
          501.6666666666667,
          93
         ]
        },
        {
         "mode": "lines+markers",
         "name": "Predicted - Model-1_Store-1",
         "type": "scatter",
         "x": [
          40,
          41,
          42,
          43,
          44,
          45
         ],
         "y": [
          106.25143432617188,
          174.32159423828125,
          159.98587036132812,
          203.25210571289062,
          438.0917663574219,
          88.87556457519531
         ]
        },
        {
         "mode": "lines+markers",
         "name": "Actual - Model-21_Store-20",
         "type": "scatter",
         "x": [
          40,
          41,
          42,
          43,
          44,
          45
         ],
         "y": [
          0,
          0,
          0,
          4,
          4,
          3
         ]
        },
        {
         "mode": "lines+markers",
         "name": "Predicted - Model-21_Store-20",
         "type": "scatter",
         "x": [
          40,
          41,
          42,
          43,
          44,
          45
         ],
         "y": [
          0.09748052060604095,
          1.0929042100906372,
          -0.01652013696730137,
          4.20072078704834,
          0.47449132800102234,
          2.4588730335235596
         ]
        },
        {
         "mode": "lines+markers",
         "name": "Actual - Model-2_Store-2",
         "type": "scatter",
         "x": [
          40,
          41,
          42,
          43,
          44,
          45
         ],
         "y": [
          97,
          3,
          155,
          58,
          105,
          98
         ]
        },
        {
         "mode": "lines+markers",
         "name": "Predicted - Model-2_Store-2",
         "type": "scatter",
         "x": [
          40,
          41,
          42,
          43,
          44,
          45
         ],
         "y": [
          65.28530883789062,
          168.39610290527344,
          197.7012939453125,
          172.20687866210938,
          85.61736297607422,
          90.08386993408203
         ]
        },
        {
         "mode": "lines+markers",
         "name": "Actual - Model-3_Store-3",
         "type": "scatter",
         "x": [
          40,
          41,
          42,
          43,
          44,
          45
         ],
         "y": [
          12,
          9,
          24,
          25,
          12,
          24
         ]
        },
        {
         "mode": "lines+markers",
         "name": "Predicted - Model-3_Store-3",
         "type": "scatter",
         "x": [
          40,
          41,
          42,
          43,
          44,
          45
         ],
         "y": [
          25.800329208374023,
          7.768826484680176,
          20.025239944458008,
          17.695058822631836,
          5.160204887390137,
          25.24360466003418
         ]
        },
        {
         "mode": "lines+markers",
         "name": "Actual - Model-4_Store-4",
         "type": "scatter",
         "x": [
          40,
          41,
          42,
          43,
          44,
          45
         ],
         "y": [
          144,
          123,
          188,
          129,
          211,
          88
         ]
        },
        {
         "mode": "lines+markers",
         "name": "Predicted - Model-4_Store-4",
         "type": "scatter",
         "x": [
          40,
          41,
          42,
          43,
          44,
          45
         ],
         "y": [
          81.84720611572266,
          60.44306945800781,
          61.465641021728516,
          89.93367004394531,
          63.28826904296875,
          151.19175720214844
         ]
        },
        {
         "mode": "lines+markers",
         "name": "Actual - Model-5_Store-5",
         "type": "scatter",
         "x": [
          40,
          41,
          42,
          43,
          44,
          45
         ],
         "y": [
          50,
          0,
          43,
          30,
          4,
          21
         ]
        },
        {
         "mode": "lines+markers",
         "name": "Predicted - Model-5_Store-5",
         "type": "scatter",
         "x": [
          40,
          41,
          42,
          43,
          44,
          45
         ],
         "y": [
          50.37655258178711,
          0.26566216349601746,
          63.88660430908203,
          32.0252799987793,
          9.525962829589844,
          66.87841033935547
         ]
        },
        {
         "mode": "lines+markers",
         "name": "Actual - Model-8_Store-8",
         "type": "scatter",
         "x": [
          40,
          41,
          42,
          43,
          44,
          45
         ],
         "y": [
          21,
          66,
          33,
          111,
          225,
          160
         ]
        },
        {
         "mode": "lines+markers",
         "name": "Predicted - Model-8_Store-8",
         "type": "scatter",
         "x": [
          40,
          41,
          42,
          43,
          44,
          45
         ],
         "y": [
          192.04315185546875,
          70.33528137207031,
          81.07171630859375,
          309.7313232421875,
          107.76341247558594,
          130.7906036376953
         ]
        },
        {
         "mode": "lines+markers",
         "name": "Actual - Model-9_Store-4",
         "type": "scatter",
         "x": [
          40,
          41,
          42,
          43,
          44,
          45
         ],
         "y": [
          42,
          11,
          57,
          36,
          185,
          1
         ]
        },
        {
         "mode": "lines+markers",
         "name": "Predicted - Model-9_Store-4",
         "type": "scatter",
         "x": [
          40,
          41,
          42,
          43,
          44,
          45
         ],
         "y": [
          100.36051940917969,
          15.050171852111816,
          73.68975830078125,
          78.2430648803711,
          136.8671875,
          30.167434692382812
         ]
        }
       ],
       "layout": {
        "showlegend": true,
        "template": {
         "data": {
          "bar": [
           {
            "error_x": {
             "color": "#2a3f5f"
            },
            "error_y": {
             "color": "#2a3f5f"
            },
            "marker": {
             "line": {
              "color": "#E5ECF6",
              "width": 0.5
             },
             "pattern": {
              "fillmode": "overlay",
              "size": 10,
              "solidity": 0.2
             }
            },
            "type": "bar"
           }
          ],
          "barpolar": [
           {
            "marker": {
             "line": {
              "color": "#E5ECF6",
              "width": 0.5
             },
             "pattern": {
              "fillmode": "overlay",
              "size": 10,
              "solidity": 0.2
             }
            },
            "type": "barpolar"
           }
          ],
          "carpet": [
           {
            "aaxis": {
             "endlinecolor": "#2a3f5f",
             "gridcolor": "white",
             "linecolor": "white",
             "minorgridcolor": "white",
             "startlinecolor": "#2a3f5f"
            },
            "baxis": {
             "endlinecolor": "#2a3f5f",
             "gridcolor": "white",
             "linecolor": "white",
             "minorgridcolor": "white",
             "startlinecolor": "#2a3f5f"
            },
            "type": "carpet"
           }
          ],
          "choropleth": [
           {
            "colorbar": {
             "outlinewidth": 0,
             "ticks": ""
            },
            "type": "choropleth"
           }
          ],
          "contour": [
           {
            "colorbar": {
             "outlinewidth": 0,
             "ticks": ""
            },
            "colorscale": [
             [
              0,
              "#0d0887"
             ],
             [
              0.1111111111111111,
              "#46039f"
             ],
             [
              0.2222222222222222,
              "#7201a8"
             ],
             [
              0.3333333333333333,
              "#9c179e"
             ],
             [
              0.4444444444444444,
              "#bd3786"
             ],
             [
              0.5555555555555556,
              "#d8576b"
             ],
             [
              0.6666666666666666,
              "#ed7953"
             ],
             [
              0.7777777777777778,
              "#fb9f3a"
             ],
             [
              0.8888888888888888,
              "#fdca26"
             ],
             [
              1,
              "#f0f921"
             ]
            ],
            "type": "contour"
           }
          ],
          "contourcarpet": [
           {
            "colorbar": {
             "outlinewidth": 0,
             "ticks": ""
            },
            "type": "contourcarpet"
           }
          ],
          "heatmap": [
           {
            "colorbar": {
             "outlinewidth": 0,
             "ticks": ""
            },
            "colorscale": [
             [
              0,
              "#0d0887"
             ],
             [
              0.1111111111111111,
              "#46039f"
             ],
             [
              0.2222222222222222,
              "#7201a8"
             ],
             [
              0.3333333333333333,
              "#9c179e"
             ],
             [
              0.4444444444444444,
              "#bd3786"
             ],
             [
              0.5555555555555556,
              "#d8576b"
             ],
             [
              0.6666666666666666,
              "#ed7953"
             ],
             [
              0.7777777777777778,
              "#fb9f3a"
             ],
             [
              0.8888888888888888,
              "#fdca26"
             ],
             [
              1,
              "#f0f921"
             ]
            ],
            "type": "heatmap"
           }
          ],
          "heatmapgl": [
           {
            "colorbar": {
             "outlinewidth": 0,
             "ticks": ""
            },
            "colorscale": [
             [
              0,
              "#0d0887"
             ],
             [
              0.1111111111111111,
              "#46039f"
             ],
             [
              0.2222222222222222,
              "#7201a8"
             ],
             [
              0.3333333333333333,
              "#9c179e"
             ],
             [
              0.4444444444444444,
              "#bd3786"
             ],
             [
              0.5555555555555556,
              "#d8576b"
             ],
             [
              0.6666666666666666,
              "#ed7953"
             ],
             [
              0.7777777777777778,
              "#fb9f3a"
             ],
             [
              0.8888888888888888,
              "#fdca26"
             ],
             [
              1,
              "#f0f921"
             ]
            ],
            "type": "heatmapgl"
           }
          ],
          "histogram": [
           {
            "marker": {
             "pattern": {
              "fillmode": "overlay",
              "size": 10,
              "solidity": 0.2
             }
            },
            "type": "histogram"
           }
          ],
          "histogram2d": [
           {
            "colorbar": {
             "outlinewidth": 0,
             "ticks": ""
            },
            "colorscale": [
             [
              0,
              "#0d0887"
             ],
             [
              0.1111111111111111,
              "#46039f"
             ],
             [
              0.2222222222222222,
              "#7201a8"
             ],
             [
              0.3333333333333333,
              "#9c179e"
             ],
             [
              0.4444444444444444,
              "#bd3786"
             ],
             [
              0.5555555555555556,
              "#d8576b"
             ],
             [
              0.6666666666666666,
              "#ed7953"
             ],
             [
              0.7777777777777778,
              "#fb9f3a"
             ],
             [
              0.8888888888888888,
              "#fdca26"
             ],
             [
              1,
              "#f0f921"
             ]
            ],
            "type": "histogram2d"
           }
          ],
          "histogram2dcontour": [
           {
            "colorbar": {
             "outlinewidth": 0,
             "ticks": ""
            },
            "colorscale": [
             [
              0,
              "#0d0887"
             ],
             [
              0.1111111111111111,
              "#46039f"
             ],
             [
              0.2222222222222222,
              "#7201a8"
             ],
             [
              0.3333333333333333,
              "#9c179e"
             ],
             [
              0.4444444444444444,
              "#bd3786"
             ],
             [
              0.5555555555555556,
              "#d8576b"
             ],
             [
              0.6666666666666666,
              "#ed7953"
             ],
             [
              0.7777777777777778,
              "#fb9f3a"
             ],
             [
              0.8888888888888888,
              "#fdca26"
             ],
             [
              1,
              "#f0f921"
             ]
            ],
            "type": "histogram2dcontour"
           }
          ],
          "mesh3d": [
           {
            "colorbar": {
             "outlinewidth": 0,
             "ticks": ""
            },
            "type": "mesh3d"
           }
          ],
          "parcoords": [
           {
            "line": {
             "colorbar": {
              "outlinewidth": 0,
              "ticks": ""
             }
            },
            "type": "parcoords"
           }
          ],
          "pie": [
           {
            "automargin": true,
            "type": "pie"
           }
          ],
          "scatter": [
           {
            "fillpattern": {
             "fillmode": "overlay",
             "size": 10,
             "solidity": 0.2
            },
            "type": "scatter"
           }
          ],
          "scatter3d": [
           {
            "line": {
             "colorbar": {
              "outlinewidth": 0,
              "ticks": ""
             }
            },
            "marker": {
             "colorbar": {
              "outlinewidth": 0,
              "ticks": ""
             }
            },
            "type": "scatter3d"
           }
          ],
          "scattercarpet": [
           {
            "marker": {
             "colorbar": {
              "outlinewidth": 0,
              "ticks": ""
             }
            },
            "type": "scattercarpet"
           }
          ],
          "scattergeo": [
           {
            "marker": {
             "colorbar": {
              "outlinewidth": 0,
              "ticks": ""
             }
            },
            "type": "scattergeo"
           }
          ],
          "scattergl": [
           {
            "marker": {
             "colorbar": {
              "outlinewidth": 0,
              "ticks": ""
             }
            },
            "type": "scattergl"
           }
          ],
          "scattermapbox": [
           {
            "marker": {
             "colorbar": {
              "outlinewidth": 0,
              "ticks": ""
             }
            },
            "type": "scattermapbox"
           }
          ],
          "scatterpolar": [
           {
            "marker": {
             "colorbar": {
              "outlinewidth": 0,
              "ticks": ""
             }
            },
            "type": "scatterpolar"
           }
          ],
          "scatterpolargl": [
           {
            "marker": {
             "colorbar": {
              "outlinewidth": 0,
              "ticks": ""
             }
            },
            "type": "scatterpolargl"
           }
          ],
          "scatterternary": [
           {
            "marker": {
             "colorbar": {
              "outlinewidth": 0,
              "ticks": ""
             }
            },
            "type": "scatterternary"
           }
          ],
          "surface": [
           {
            "colorbar": {
             "outlinewidth": 0,
             "ticks": ""
            },
            "colorscale": [
             [
              0,
              "#0d0887"
             ],
             [
              0.1111111111111111,
              "#46039f"
             ],
             [
              0.2222222222222222,
              "#7201a8"
             ],
             [
              0.3333333333333333,
              "#9c179e"
             ],
             [
              0.4444444444444444,
              "#bd3786"
             ],
             [
              0.5555555555555556,
              "#d8576b"
             ],
             [
              0.6666666666666666,
              "#ed7953"
             ],
             [
              0.7777777777777778,
              "#fb9f3a"
             ],
             [
              0.8888888888888888,
              "#fdca26"
             ],
             [
              1,
              "#f0f921"
             ]
            ],
            "type": "surface"
           }
          ],
          "table": [
           {
            "cells": {
             "fill": {
              "color": "#EBF0F8"
             },
             "line": {
              "color": "white"
             }
            },
            "header": {
             "fill": {
              "color": "#C8D4E3"
             },
             "line": {
              "color": "white"
             }
            },
            "type": "table"
           }
          ]
         },
         "layout": {
          "annotationdefaults": {
           "arrowcolor": "#2a3f5f",
           "arrowhead": 0,
           "arrowwidth": 1
          },
          "autotypenumbers": "strict",
          "coloraxis": {
           "colorbar": {
            "outlinewidth": 0,
            "ticks": ""
           }
          },
          "colorscale": {
           "diverging": [
            [
             0,
             "#8e0152"
            ],
            [
             0.1,
             "#c51b7d"
            ],
            [
             0.2,
             "#de77ae"
            ],
            [
             0.3,
             "#f1b6da"
            ],
            [
             0.4,
             "#fde0ef"
            ],
            [
             0.5,
             "#f7f7f7"
            ],
            [
             0.6,
             "#e6f5d0"
            ],
            [
             0.7,
             "#b8e186"
            ],
            [
             0.8,
             "#7fbc41"
            ],
            [
             0.9,
             "#4d9221"
            ],
            [
             1,
             "#276419"
            ]
           ],
           "sequential": [
            [
             0,
             "#0d0887"
            ],
            [
             0.1111111111111111,
             "#46039f"
            ],
            [
             0.2222222222222222,
             "#7201a8"
            ],
            [
             0.3333333333333333,
             "#9c179e"
            ],
            [
             0.4444444444444444,
             "#bd3786"
            ],
            [
             0.5555555555555556,
             "#d8576b"
            ],
            [
             0.6666666666666666,
             "#ed7953"
            ],
            [
             0.7777777777777778,
             "#fb9f3a"
            ],
            [
             0.8888888888888888,
             "#fdca26"
            ],
            [
             1,
             "#f0f921"
            ]
           ],
           "sequentialminus": [
            [
             0,
             "#0d0887"
            ],
            [
             0.1111111111111111,
             "#46039f"
            ],
            [
             0.2222222222222222,
             "#7201a8"
            ],
            [
             0.3333333333333333,
             "#9c179e"
            ],
            [
             0.4444444444444444,
             "#bd3786"
            ],
            [
             0.5555555555555556,
             "#d8576b"
            ],
            [
             0.6666666666666666,
             "#ed7953"
            ],
            [
             0.7777777777777778,
             "#fb9f3a"
            ],
            [
             0.8888888888888888,
             "#fdca26"
            ],
            [
             1,
             "#f0f921"
            ]
           ]
          },
          "colorway": [
           "#636efa",
           "#EF553B",
           "#00cc96",
           "#ab63fa",
           "#FFA15A",
           "#19d3f3",
           "#FF6692",
           "#B6E880",
           "#FF97FF",
           "#FECB52"
          ],
          "font": {
           "color": "#2a3f5f"
          },
          "geo": {
           "bgcolor": "white",
           "lakecolor": "white",
           "landcolor": "#E5ECF6",
           "showlakes": true,
           "showland": true,
           "subunitcolor": "white"
          },
          "hoverlabel": {
           "align": "left"
          },
          "hovermode": "closest",
          "mapbox": {
           "style": "light"
          },
          "paper_bgcolor": "white",
          "plot_bgcolor": "#E5ECF6",
          "polar": {
           "angularaxis": {
            "gridcolor": "white",
            "linecolor": "white",
            "ticks": ""
           },
           "bgcolor": "#E5ECF6",
           "radialaxis": {
            "gridcolor": "white",
            "linecolor": "white",
            "ticks": ""
           }
          },
          "scene": {
           "xaxis": {
            "backgroundcolor": "#E5ECF6",
            "gridcolor": "white",
            "gridwidth": 2,
            "linecolor": "white",
            "showbackground": true,
            "ticks": "",
            "zerolinecolor": "white"
           },
           "yaxis": {
            "backgroundcolor": "#E5ECF6",
            "gridcolor": "white",
            "gridwidth": 2,
            "linecolor": "white",
            "showbackground": true,
            "ticks": "",
            "zerolinecolor": "white"
           },
           "zaxis": {
            "backgroundcolor": "#E5ECF6",
            "gridcolor": "white",
            "gridwidth": 2,
            "linecolor": "white",
            "showbackground": true,
            "ticks": "",
            "zerolinecolor": "white"
           }
          },
          "shapedefaults": {
           "line": {
            "color": "#2a3f5f"
           }
          },
          "ternary": {
           "aaxis": {
            "gridcolor": "white",
            "linecolor": "white",
            "ticks": ""
           },
           "baxis": {
            "gridcolor": "white",
            "linecolor": "white",
            "ticks": ""
           },
           "bgcolor": "#E5ECF6",
           "caxis": {
            "gridcolor": "white",
            "linecolor": "white",
            "ticks": ""
           }
          },
          "title": {
           "x": 0.05
          },
          "xaxis": {
           "automargin": true,
           "gridcolor": "white",
           "linecolor": "white",
           "ticks": "",
           "title": {
            "standoff": 15
           },
           "zerolinecolor": "white",
           "zerolinewidth": 2
          },
          "yaxis": {
           "automargin": true,
           "gridcolor": "white",
           "linecolor": "white",
           "ticks": "",
           "title": {
            "standoff": 15
           },
           "zerolinecolor": "white",
           "zerolinewidth": 2
          }
         }
        },
        "title": {
         "text": "Predicted vs Actual Values"
        }
       }
      },
      "text/html": [
       "<div>                            <div id=\"058ebc75-4d88-41b8-aa7a-42987184e3b5\" class=\"plotly-graph-div\" style=\"height:525px; width:100%;\"></div>            <script type=\"text/javascript\">                require([\"plotly\"], function(Plotly) {                    window.PLOTLYENV=window.PLOTLYENV || {};                                    if (document.getElementById(\"058ebc75-4d88-41b8-aa7a-42987184e3b5\")) {                    Plotly.newPlot(                        \"058ebc75-4d88-41b8-aa7a-42987184e3b5\",                        [{\"mode\":\"lines+markers\",\"name\":\"Actual - Model-10_Store-9\",\"x\":[40,41,42,43,44,45],\"y\":[72.0,16.0,37.0,55.0,51.0,24.0],\"type\":\"scatter\"},{\"mode\":\"lines+markers\",\"name\":\"Predicted - Model-10_Store-9\",\"x\":[40,41,42,43,44,45],\"y\":[130.63551330566406,232.7859649658203,114.89397430419922,285.84014892578125,57.421573638916016,416.5854187011719],\"type\":\"scatter\"},{\"mode\":\"lines+markers\",\"name\":\"Actual - Model-12_Store-11\",\"x\":[40,41,42,43,44,45],\"y\":[20.0,13.0,12.0,14.0,15.0,10.0],\"type\":\"scatter\"},{\"mode\":\"lines+markers\",\"name\":\"Predicted - Model-12_Store-11\",\"x\":[40,41,42,43,44,45],\"y\":[14.065990447998047,11.17683219909668,10.079270362854004,18.644140243530273,15.94357967376709,29.73773765563965],\"type\":\"scatter\"},{\"mode\":\"lines+markers\",\"name\":\"Actual - Model-13_Store-12\",\"x\":[40,41,42,43,44,45],\"y\":[10.0,9.0,4.0,0.0,7.0,6.0],\"type\":\"scatter\"},{\"mode\":\"lines+markers\",\"name\":\"Predicted - Model-13_Store-12\",\"x\":[40,41,42,43,44,45],\"y\":[6.393189907073975,5.663107395172119,4.846097946166992,0.7685422301292419,4.540956497192383,4.95659875869751],\"type\":\"scatter\"},{\"mode\":\"lines+markers\",\"name\":\"Actual - Model-14_Store-13\",\"x\":[40,41,42,43,44,45],\"y\":[0.0,0.0,1.0,0.0,0.0,2.0],\"type\":\"scatter\"},{\"mode\":\"lines+markers\",\"name\":\"Predicted - Model-14_Store-13\",\"x\":[40,41,42,43,44,45],\"y\":[-0.01210545003414154,-0.0456741526722908,1.0707377195358276,-0.12236788123846054,0.08486414700746536,2.1949617862701416],\"type\":\"scatter\"},{\"mode\":\"lines+markers\",\"name\":\"Actual - Model-16_Store-15\",\"x\":[40,41,42,43,44,45],\"y\":[10.0,3.0,10.0,15.0,10.0,5.0],\"type\":\"scatter\"},{\"mode\":\"lines+markers\",\"name\":\"Predicted - Model-16_Store-15\",\"x\":[40,41,42,43,44,45],\"y\":[13.140506744384766,5.894087314605713,7.516961574554443,19.281007766723633,4.922067165374756,10.340692520141602],\"type\":\"scatter\"},{\"mode\":\"lines+markers\",\"name\":\"Actual - Model-17_Store-16\",\"x\":[40,41,42,43,44,45],\"y\":[1.0,32.0,0.0,0.0,21.0,0.0],\"type\":\"scatter\"},{\"mode\":\"lines+markers\",\"name\":\"Predicted - Model-17_Store-16\",\"x\":[40,41,42,43,44,45],\"y\":[-0.4068845212459564,31.598281860351562,0.46315041184425354,-1.830775260925293,21.970781326293945,0.7267128825187683],\"type\":\"scatter\"},{\"mode\":\"lines+markers\",\"name\":\"Actual - Model-18_Store-17\",\"x\":[40,41,42,43,44,45],\"y\":[1.0,13.333333333333334,4.0,1.0,7.666666666666667,37.0],\"type\":\"scatter\"},{\"mode\":\"lines+markers\",\"name\":\"Predicted - Model-18_Store-17\",\"x\":[40,41,42,43,44,45],\"y\":[10.397727012634277,19.893983840942383,12.163715362548828,8.1879301071167,16.444555282592773,8.781962394714355],\"type\":\"scatter\"},{\"mode\":\"lines+markers\",\"name\":\"Actual - Model-1_Store-1\",\"x\":[40,41,42,43,44,45],\"y\":[177.0,540.0,264.5,132.0,501.6666666666667,93.0],\"type\":\"scatter\"},{\"mode\":\"lines+markers\",\"name\":\"Predicted - Model-1_Store-1\",\"x\":[40,41,42,43,44,45],\"y\":[106.25143432617188,174.32159423828125,159.98587036132812,203.25210571289062,438.0917663574219,88.87556457519531],\"type\":\"scatter\"},{\"mode\":\"lines+markers\",\"name\":\"Actual - Model-21_Store-20\",\"x\":[40,41,42,43,44,45],\"y\":[0.0,0.0,0.0,4.0,4.0,3.0],\"type\":\"scatter\"},{\"mode\":\"lines+markers\",\"name\":\"Predicted - Model-21_Store-20\",\"x\":[40,41,42,43,44,45],\"y\":[0.09748052060604095,1.0929042100906372,-0.01652013696730137,4.20072078704834,0.47449132800102234,2.4588730335235596],\"type\":\"scatter\"},{\"mode\":\"lines+markers\",\"name\":\"Actual - Model-2_Store-2\",\"x\":[40,41,42,43,44,45],\"y\":[97.0,3.0,155.0,58.0,105.0,98.0],\"type\":\"scatter\"},{\"mode\":\"lines+markers\",\"name\":\"Predicted - Model-2_Store-2\",\"x\":[40,41,42,43,44,45],\"y\":[65.28530883789062,168.39610290527344,197.7012939453125,172.20687866210938,85.61736297607422,90.08386993408203],\"type\":\"scatter\"},{\"mode\":\"lines+markers\",\"name\":\"Actual - Model-3_Store-3\",\"x\":[40,41,42,43,44,45],\"y\":[12.0,9.0,24.0,25.0,12.0,24.0],\"type\":\"scatter\"},{\"mode\":\"lines+markers\",\"name\":\"Predicted - Model-3_Store-3\",\"x\":[40,41,42,43,44,45],\"y\":[25.800329208374023,7.768826484680176,20.025239944458008,17.695058822631836,5.160204887390137,25.24360466003418],\"type\":\"scatter\"},{\"mode\":\"lines+markers\",\"name\":\"Actual - Model-4_Store-4\",\"x\":[40,41,42,43,44,45],\"y\":[144.0,123.0,188.0,129.0,211.0,88.0],\"type\":\"scatter\"},{\"mode\":\"lines+markers\",\"name\":\"Predicted - Model-4_Store-4\",\"x\":[40,41,42,43,44,45],\"y\":[81.84720611572266,60.44306945800781,61.465641021728516,89.93367004394531,63.28826904296875,151.19175720214844],\"type\":\"scatter\"},{\"mode\":\"lines+markers\",\"name\":\"Actual - Model-5_Store-5\",\"x\":[40,41,42,43,44,45],\"y\":[50.0,0.0,43.0,30.0,4.0,21.0],\"type\":\"scatter\"},{\"mode\":\"lines+markers\",\"name\":\"Predicted - Model-5_Store-5\",\"x\":[40,41,42,43,44,45],\"y\":[50.37655258178711,0.26566216349601746,63.88660430908203,32.0252799987793,9.525962829589844,66.87841033935547],\"type\":\"scatter\"},{\"mode\":\"lines+markers\",\"name\":\"Actual - Model-8_Store-8\",\"x\":[40,41,42,43,44,45],\"y\":[21.0,66.0,33.0,111.0,225.0,160.0],\"type\":\"scatter\"},{\"mode\":\"lines+markers\",\"name\":\"Predicted - Model-8_Store-8\",\"x\":[40,41,42,43,44,45],\"y\":[192.04315185546875,70.33528137207031,81.07171630859375,309.7313232421875,107.76341247558594,130.7906036376953],\"type\":\"scatter\"},{\"mode\":\"lines+markers\",\"name\":\"Actual - Model-9_Store-4\",\"x\":[40,41,42,43,44,45],\"y\":[42.0,11.0,57.0,36.0,185.0,1.0],\"type\":\"scatter\"},{\"mode\":\"lines+markers\",\"name\":\"Predicted - Model-9_Store-4\",\"x\":[40,41,42,43,44,45],\"y\":[100.36051940917969,15.050171852111816,73.68975830078125,78.2430648803711,136.8671875,30.167434692382812],\"type\":\"scatter\"}],                        {\"showlegend\":true,\"template\":{\"data\":{\"barpolar\":[{\"marker\":{\"line\":{\"color\":\"#E5ECF6\",\"width\":0.5},\"pattern\":{\"fillmode\":\"overlay\",\"size\":10,\"solidity\":0.2}},\"type\":\"barpolar\"}],\"bar\":[{\"error_x\":{\"color\":\"#2a3f5f\"},\"error_y\":{\"color\":\"#2a3f5f\"},\"marker\":{\"line\":{\"color\":\"#E5ECF6\",\"width\":0.5},\"pattern\":{\"fillmode\":\"overlay\",\"size\":10,\"solidity\":0.2}},\"type\":\"bar\"}],\"carpet\":[{\"aaxis\":{\"endlinecolor\":\"#2a3f5f\",\"gridcolor\":\"white\",\"linecolor\":\"white\",\"minorgridcolor\":\"white\",\"startlinecolor\":\"#2a3f5f\"},\"baxis\":{\"endlinecolor\":\"#2a3f5f\",\"gridcolor\":\"white\",\"linecolor\":\"white\",\"minorgridcolor\":\"white\",\"startlinecolor\":\"#2a3f5f\"},\"type\":\"carpet\"}],\"choropleth\":[{\"colorbar\":{\"outlinewidth\":0,\"ticks\":\"\"},\"type\":\"choropleth\"}],\"contourcarpet\":[{\"colorbar\":{\"outlinewidth\":0,\"ticks\":\"\"},\"type\":\"contourcarpet\"}],\"contour\":[{\"colorbar\":{\"outlinewidth\":0,\"ticks\":\"\"},\"colorscale\":[[0.0,\"#0d0887\"],[0.1111111111111111,\"#46039f\"],[0.2222222222222222,\"#7201a8\"],[0.3333333333333333,\"#9c179e\"],[0.4444444444444444,\"#bd3786\"],[0.5555555555555556,\"#d8576b\"],[0.6666666666666666,\"#ed7953\"],[0.7777777777777778,\"#fb9f3a\"],[0.8888888888888888,\"#fdca26\"],[1.0,\"#f0f921\"]],\"type\":\"contour\"}],\"heatmapgl\":[{\"colorbar\":{\"outlinewidth\":0,\"ticks\":\"\"},\"colorscale\":[[0.0,\"#0d0887\"],[0.1111111111111111,\"#46039f\"],[0.2222222222222222,\"#7201a8\"],[0.3333333333333333,\"#9c179e\"],[0.4444444444444444,\"#bd3786\"],[0.5555555555555556,\"#d8576b\"],[0.6666666666666666,\"#ed7953\"],[0.7777777777777778,\"#fb9f3a\"],[0.8888888888888888,\"#fdca26\"],[1.0,\"#f0f921\"]],\"type\":\"heatmapgl\"}],\"heatmap\":[{\"colorbar\":{\"outlinewidth\":0,\"ticks\":\"\"},\"colorscale\":[[0.0,\"#0d0887\"],[0.1111111111111111,\"#46039f\"],[0.2222222222222222,\"#7201a8\"],[0.3333333333333333,\"#9c179e\"],[0.4444444444444444,\"#bd3786\"],[0.5555555555555556,\"#d8576b\"],[0.6666666666666666,\"#ed7953\"],[0.7777777777777778,\"#fb9f3a\"],[0.8888888888888888,\"#fdca26\"],[1.0,\"#f0f921\"]],\"type\":\"heatmap\"}],\"histogram2dcontour\":[{\"colorbar\":{\"outlinewidth\":0,\"ticks\":\"\"},\"colorscale\":[[0.0,\"#0d0887\"],[0.1111111111111111,\"#46039f\"],[0.2222222222222222,\"#7201a8\"],[0.3333333333333333,\"#9c179e\"],[0.4444444444444444,\"#bd3786\"],[0.5555555555555556,\"#d8576b\"],[0.6666666666666666,\"#ed7953\"],[0.7777777777777778,\"#fb9f3a\"],[0.8888888888888888,\"#fdca26\"],[1.0,\"#f0f921\"]],\"type\":\"histogram2dcontour\"}],\"histogram2d\":[{\"colorbar\":{\"outlinewidth\":0,\"ticks\":\"\"},\"colorscale\":[[0.0,\"#0d0887\"],[0.1111111111111111,\"#46039f\"],[0.2222222222222222,\"#7201a8\"],[0.3333333333333333,\"#9c179e\"],[0.4444444444444444,\"#bd3786\"],[0.5555555555555556,\"#d8576b\"],[0.6666666666666666,\"#ed7953\"],[0.7777777777777778,\"#fb9f3a\"],[0.8888888888888888,\"#fdca26\"],[1.0,\"#f0f921\"]],\"type\":\"histogram2d\"}],\"histogram\":[{\"marker\":{\"pattern\":{\"fillmode\":\"overlay\",\"size\":10,\"solidity\":0.2}},\"type\":\"histogram\"}],\"mesh3d\":[{\"colorbar\":{\"outlinewidth\":0,\"ticks\":\"\"},\"type\":\"mesh3d\"}],\"parcoords\":[{\"line\":{\"colorbar\":{\"outlinewidth\":0,\"ticks\":\"\"}},\"type\":\"parcoords\"}],\"pie\":[{\"automargin\":true,\"type\":\"pie\"}],\"scatter3d\":[{\"line\":{\"colorbar\":{\"outlinewidth\":0,\"ticks\":\"\"}},\"marker\":{\"colorbar\":{\"outlinewidth\":0,\"ticks\":\"\"}},\"type\":\"scatter3d\"}],\"scattercarpet\":[{\"marker\":{\"colorbar\":{\"outlinewidth\":0,\"ticks\":\"\"}},\"type\":\"scattercarpet\"}],\"scattergeo\":[{\"marker\":{\"colorbar\":{\"outlinewidth\":0,\"ticks\":\"\"}},\"type\":\"scattergeo\"}],\"scattergl\":[{\"marker\":{\"colorbar\":{\"outlinewidth\":0,\"ticks\":\"\"}},\"type\":\"scattergl\"}],\"scattermapbox\":[{\"marker\":{\"colorbar\":{\"outlinewidth\":0,\"ticks\":\"\"}},\"type\":\"scattermapbox\"}],\"scatterpolargl\":[{\"marker\":{\"colorbar\":{\"outlinewidth\":0,\"ticks\":\"\"}},\"type\":\"scatterpolargl\"}],\"scatterpolar\":[{\"marker\":{\"colorbar\":{\"outlinewidth\":0,\"ticks\":\"\"}},\"type\":\"scatterpolar\"}],\"scatter\":[{\"fillpattern\":{\"fillmode\":\"overlay\",\"size\":10,\"solidity\":0.2},\"type\":\"scatter\"}],\"scatterternary\":[{\"marker\":{\"colorbar\":{\"outlinewidth\":0,\"ticks\":\"\"}},\"type\":\"scatterternary\"}],\"surface\":[{\"colorbar\":{\"outlinewidth\":0,\"ticks\":\"\"},\"colorscale\":[[0.0,\"#0d0887\"],[0.1111111111111111,\"#46039f\"],[0.2222222222222222,\"#7201a8\"],[0.3333333333333333,\"#9c179e\"],[0.4444444444444444,\"#bd3786\"],[0.5555555555555556,\"#d8576b\"],[0.6666666666666666,\"#ed7953\"],[0.7777777777777778,\"#fb9f3a\"],[0.8888888888888888,\"#fdca26\"],[1.0,\"#f0f921\"]],\"type\":\"surface\"}],\"table\":[{\"cells\":{\"fill\":{\"color\":\"#EBF0F8\"},\"line\":{\"color\":\"white\"}},\"header\":{\"fill\":{\"color\":\"#C8D4E3\"},\"line\":{\"color\":\"white\"}},\"type\":\"table\"}]},\"layout\":{\"annotationdefaults\":{\"arrowcolor\":\"#2a3f5f\",\"arrowhead\":0,\"arrowwidth\":1},\"autotypenumbers\":\"strict\",\"coloraxis\":{\"colorbar\":{\"outlinewidth\":0,\"ticks\":\"\"}},\"colorscale\":{\"diverging\":[[0,\"#8e0152\"],[0.1,\"#c51b7d\"],[0.2,\"#de77ae\"],[0.3,\"#f1b6da\"],[0.4,\"#fde0ef\"],[0.5,\"#f7f7f7\"],[0.6,\"#e6f5d0\"],[0.7,\"#b8e186\"],[0.8,\"#7fbc41\"],[0.9,\"#4d9221\"],[1,\"#276419\"]],\"sequential\":[[0.0,\"#0d0887\"],[0.1111111111111111,\"#46039f\"],[0.2222222222222222,\"#7201a8\"],[0.3333333333333333,\"#9c179e\"],[0.4444444444444444,\"#bd3786\"],[0.5555555555555556,\"#d8576b\"],[0.6666666666666666,\"#ed7953\"],[0.7777777777777778,\"#fb9f3a\"],[0.8888888888888888,\"#fdca26\"],[1.0,\"#f0f921\"]],\"sequentialminus\":[[0.0,\"#0d0887\"],[0.1111111111111111,\"#46039f\"],[0.2222222222222222,\"#7201a8\"],[0.3333333333333333,\"#9c179e\"],[0.4444444444444444,\"#bd3786\"],[0.5555555555555556,\"#d8576b\"],[0.6666666666666666,\"#ed7953\"],[0.7777777777777778,\"#fb9f3a\"],[0.8888888888888888,\"#fdca26\"],[1.0,\"#f0f921\"]]},\"colorway\":[\"#636efa\",\"#EF553B\",\"#00cc96\",\"#ab63fa\",\"#FFA15A\",\"#19d3f3\",\"#FF6692\",\"#B6E880\",\"#FF97FF\",\"#FECB52\"],\"font\":{\"color\":\"#2a3f5f\"},\"geo\":{\"bgcolor\":\"white\",\"lakecolor\":\"white\",\"landcolor\":\"#E5ECF6\",\"showlakes\":true,\"showland\":true,\"subunitcolor\":\"white\"},\"hoverlabel\":{\"align\":\"left\"},\"hovermode\":\"closest\",\"mapbox\":{\"style\":\"light\"},\"paper_bgcolor\":\"white\",\"plot_bgcolor\":\"#E5ECF6\",\"polar\":{\"angularaxis\":{\"gridcolor\":\"white\",\"linecolor\":\"white\",\"ticks\":\"\"},\"bgcolor\":\"#E5ECF6\",\"radialaxis\":{\"gridcolor\":\"white\",\"linecolor\":\"white\",\"ticks\":\"\"}},\"scene\":{\"xaxis\":{\"backgroundcolor\":\"#E5ECF6\",\"gridcolor\":\"white\",\"gridwidth\":2,\"linecolor\":\"white\",\"showbackground\":true,\"ticks\":\"\",\"zerolinecolor\":\"white\"},\"yaxis\":{\"backgroundcolor\":\"#E5ECF6\",\"gridcolor\":\"white\",\"gridwidth\":2,\"linecolor\":\"white\",\"showbackground\":true,\"ticks\":\"\",\"zerolinecolor\":\"white\"},\"zaxis\":{\"backgroundcolor\":\"#E5ECF6\",\"gridcolor\":\"white\",\"gridwidth\":2,\"linecolor\":\"white\",\"showbackground\":true,\"ticks\":\"\",\"zerolinecolor\":\"white\"}},\"shapedefaults\":{\"line\":{\"color\":\"#2a3f5f\"}},\"ternary\":{\"aaxis\":{\"gridcolor\":\"white\",\"linecolor\":\"white\",\"ticks\":\"\"},\"baxis\":{\"gridcolor\":\"white\",\"linecolor\":\"white\",\"ticks\":\"\"},\"bgcolor\":\"#E5ECF6\",\"caxis\":{\"gridcolor\":\"white\",\"linecolor\":\"white\",\"ticks\":\"\"}},\"title\":{\"x\":0.05},\"xaxis\":{\"automargin\":true,\"gridcolor\":\"white\",\"linecolor\":\"white\",\"ticks\":\"\",\"title\":{\"standoff\":15},\"zerolinecolor\":\"white\",\"zerolinewidth\":2},\"yaxis\":{\"automargin\":true,\"gridcolor\":\"white\",\"linecolor\":\"white\",\"ticks\":\"\",\"title\":{\"standoff\":15},\"zerolinecolor\":\"white\",\"zerolinewidth\":2}}},\"title\":{\"text\":\"Predicted vs Actual Values\"}},                        {\"responsive\": true}                    ).then(function(){\n",
       "                            \n",
       "var gd = document.getElementById('058ebc75-4d88-41b8-aa7a-42987184e3b5');\n",
       "var x = new MutationObserver(function (mutations, observer) {{\n",
       "        var display = window.getComputedStyle(gd).display;\n",
       "        if (!display || display === 'none') {{\n",
       "            console.log([gd, 'removed!']);\n",
       "            Plotly.purge(gd);\n",
       "            observer.disconnect();\n",
       "        }}\n",
       "}});\n",
       "\n",
       "// Listen for the removal of the full notebook cells\n",
       "var notebookContainer = gd.closest('#notebook-container');\n",
       "if (notebookContainer) {{\n",
       "    x.observe(notebookContainer, {childList: true});\n",
       "}}\n",
       "\n",
       "// Listen for the clearing of the current output cell\n",
       "var outputEl = gd.closest('.output');\n",
       "if (outputEl) {{\n",
       "    x.observe(outputEl, {childList: true});\n",
       "}}\n",
       "\n",
       "                        })                };                });            </script>        </div>"
      ]
     },
     "metadata": {},
     "output_type": "display_data"
    }
   ],
   "source": [
    "unique_pairs = df_test_results['Model_Store_Pair'].unique()\n",
    "\n",
    "plot_data = []\n",
    "\n",
    "# Loop through each unique Model_Store_Pair and create a trace for each one\n",
    "for unique_pair in unique_pairs:\n",
    "    trace_actual = go.Scatter(\n",
    "        x=df_test_results[df_test_results['Model_Store_Pair'] == unique_pair].index,\n",
    "        y=df_test_results[df_test_results['Model_Store_Pair'] == unique_pair]['QUANTITY'],\n",
    "        mode='lines+markers',\n",
    "        name=f'Actual - {unique_pair}',\n",
    "    )\n",
    "    trace_pred = go.Scatter(\n",
    "        x=df_test_results[df_test_results['Model_Store_Pair'] == unique_pair].index,\n",
    "        y=df_test_results[df_test_results['Model_Store_Pair'] == unique_pair]['pred_value'],\n",
    "        mode='lines+markers',\n",
    "        name=f'Predicted - {unique_pair}',\n",
    "    )\n",
    "    \n",
    "    plot_data.append(trace_actual)\n",
    "    plot_data.append(trace_pred)\n",
    "\n",
    "plot_layout = go.Layout(\n",
    "    title='Predicted vs Actual Values',\n",
    "    showlegend=True,  # Show the legend\n",
    ")\n",
    "\n",
    "fig = go.Figure(data=plot_data, layout=plot_layout)\n",
    "iplot(fig)\n"
   ]
  },
  {
   "cell_type": "markdown",
   "metadata": {},
   "source": [
    "## Predict Next Months"
   ]
  },
  {
   "cell_type": "code",
   "execution_count": 127,
   "metadata": {},
   "outputs": [
    {
     "data": {
      "text/html": [
       "<div>\n",
       "<style scoped>\n",
       "    .dataframe tbody tr th:only-of-type {\n",
       "        vertical-align: middle;\n",
       "    }\n",
       "\n",
       "    .dataframe tbody tr th {\n",
       "        vertical-align: top;\n",
       "    }\n",
       "\n",
       "    .dataframe thead th {\n",
       "        text-align: right;\n",
       "    }\n",
       "</style>\n",
       "<table border=\"1\" class=\"dataframe\">\n",
       "  <thead>\n",
       "    <tr style=\"text-align: right;\">\n",
       "      <th></th>\n",
       "      <th>Model_Store_Pair</th>\n",
       "      <th>MONTH_YEAR</th>\n",
       "      <th>Model_Store_Pair_ID</th>\n",
       "    </tr>\n",
       "  </thead>\n",
       "  <tbody>\n",
       "    <tr>\n",
       "      <th>0</th>\n",
       "      <td>Model-10_Store-9</td>\n",
       "      <td>2023-11-01</td>\n",
       "      <td>0</td>\n",
       "    </tr>\n",
       "    <tr>\n",
       "      <th>1</th>\n",
       "      <td>Model-10_Store-9</td>\n",
       "      <td>2023-12-01</td>\n",
       "      <td>0</td>\n",
       "    </tr>\n",
       "    <tr>\n",
       "      <th>2</th>\n",
       "      <td>Model-10_Store-9</td>\n",
       "      <td>2024-01-01</td>\n",
       "      <td>0</td>\n",
       "    </tr>\n",
       "    <tr>\n",
       "      <th>3</th>\n",
       "      <td>Model-10_Store-9</td>\n",
       "      <td>2024-02-01</td>\n",
       "      <td>0</td>\n",
       "    </tr>\n",
       "    <tr>\n",
       "      <th>4</th>\n",
       "      <td>Model-10_Store-9</td>\n",
       "      <td>2024-03-01</td>\n",
       "      <td>0</td>\n",
       "    </tr>\n",
       "    <tr>\n",
       "      <th>5</th>\n",
       "      <td>Model-10_Store-9</td>\n",
       "      <td>2024-04-01</td>\n",
       "      <td>0</td>\n",
       "    </tr>\n",
       "    <tr>\n",
       "      <th>6</th>\n",
       "      <td>Model-12_Store-11</td>\n",
       "      <td>2023-11-01</td>\n",
       "      <td>1</td>\n",
       "    </tr>\n",
       "    <tr>\n",
       "      <th>7</th>\n",
       "      <td>Model-12_Store-11</td>\n",
       "      <td>2023-12-01</td>\n",
       "      <td>1</td>\n",
       "    </tr>\n",
       "    <tr>\n",
       "      <th>8</th>\n",
       "      <td>Model-12_Store-11</td>\n",
       "      <td>2024-01-01</td>\n",
       "      <td>1</td>\n",
       "    </tr>\n",
       "    <tr>\n",
       "      <th>9</th>\n",
       "      <td>Model-12_Store-11</td>\n",
       "      <td>2024-02-01</td>\n",
       "      <td>1</td>\n",
       "    </tr>\n",
       "    <tr>\n",
       "      <th>10</th>\n",
       "      <td>Model-12_Store-11</td>\n",
       "      <td>2024-03-01</td>\n",
       "      <td>1</td>\n",
       "    </tr>\n",
       "    <tr>\n",
       "      <th>11</th>\n",
       "      <td>Model-12_Store-11</td>\n",
       "      <td>2024-04-01</td>\n",
       "      <td>1</td>\n",
       "    </tr>\n",
       "    <tr>\n",
       "      <th>12</th>\n",
       "      <td>Model-14_Store-13</td>\n",
       "      <td>2023-11-01</td>\n",
       "      <td>3</td>\n",
       "    </tr>\n",
       "    <tr>\n",
       "      <th>13</th>\n",
       "      <td>Model-14_Store-13</td>\n",
       "      <td>2023-12-01</td>\n",
       "      <td>3</td>\n",
       "    </tr>\n",
       "    <tr>\n",
       "      <th>14</th>\n",
       "      <td>Model-14_Store-13</td>\n",
       "      <td>2024-01-01</td>\n",
       "      <td>3</td>\n",
       "    </tr>\n",
       "    <tr>\n",
       "      <th>15</th>\n",
       "      <td>Model-14_Store-13</td>\n",
       "      <td>2024-02-01</td>\n",
       "      <td>3</td>\n",
       "    </tr>\n",
       "    <tr>\n",
       "      <th>16</th>\n",
       "      <td>Model-14_Store-13</td>\n",
       "      <td>2024-03-01</td>\n",
       "      <td>3</td>\n",
       "    </tr>\n",
       "    <tr>\n",
       "      <th>17</th>\n",
       "      <td>Model-14_Store-13</td>\n",
       "      <td>2024-04-01</td>\n",
       "      <td>3</td>\n",
       "    </tr>\n",
       "    <tr>\n",
       "      <th>18</th>\n",
       "      <td>Model-16_Store-15</td>\n",
       "      <td>2023-11-01</td>\n",
       "      <td>4</td>\n",
       "    </tr>\n",
       "    <tr>\n",
       "      <th>19</th>\n",
       "      <td>Model-16_Store-15</td>\n",
       "      <td>2023-12-01</td>\n",
       "      <td>4</td>\n",
       "    </tr>\n",
       "    <tr>\n",
       "      <th>20</th>\n",
       "      <td>Model-16_Store-15</td>\n",
       "      <td>2024-01-01</td>\n",
       "      <td>4</td>\n",
       "    </tr>\n",
       "    <tr>\n",
       "      <th>21</th>\n",
       "      <td>Model-16_Store-15</td>\n",
       "      <td>2024-02-01</td>\n",
       "      <td>4</td>\n",
       "    </tr>\n",
       "    <tr>\n",
       "      <th>22</th>\n",
       "      <td>Model-16_Store-15</td>\n",
       "      <td>2024-03-01</td>\n",
       "      <td>4</td>\n",
       "    </tr>\n",
       "    <tr>\n",
       "      <th>23</th>\n",
       "      <td>Model-16_Store-15</td>\n",
       "      <td>2024-04-01</td>\n",
       "      <td>4</td>\n",
       "    </tr>\n",
       "    <tr>\n",
       "      <th>24</th>\n",
       "      <td>Model-17_Store-16</td>\n",
       "      <td>2023-11-01</td>\n",
       "      <td>5</td>\n",
       "    </tr>\n",
       "    <tr>\n",
       "      <th>25</th>\n",
       "      <td>Model-17_Store-16</td>\n",
       "      <td>2023-12-01</td>\n",
       "      <td>5</td>\n",
       "    </tr>\n",
       "    <tr>\n",
       "      <th>26</th>\n",
       "      <td>Model-17_Store-16</td>\n",
       "      <td>2024-01-01</td>\n",
       "      <td>5</td>\n",
       "    </tr>\n",
       "    <tr>\n",
       "      <th>27</th>\n",
       "      <td>Model-17_Store-16</td>\n",
       "      <td>2024-02-01</td>\n",
       "      <td>5</td>\n",
       "    </tr>\n",
       "    <tr>\n",
       "      <th>28</th>\n",
       "      <td>Model-17_Store-16</td>\n",
       "      <td>2024-03-01</td>\n",
       "      <td>5</td>\n",
       "    </tr>\n",
       "    <tr>\n",
       "      <th>29</th>\n",
       "      <td>Model-17_Store-16</td>\n",
       "      <td>2024-04-01</td>\n",
       "      <td>5</td>\n",
       "    </tr>\n",
       "    <tr>\n",
       "      <th>30</th>\n",
       "      <td>Model-1_Store-1</td>\n",
       "      <td>2023-11-01</td>\n",
       "      <td>7</td>\n",
       "    </tr>\n",
       "    <tr>\n",
       "      <th>31</th>\n",
       "      <td>Model-1_Store-1</td>\n",
       "      <td>2023-12-01</td>\n",
       "      <td>7</td>\n",
       "    </tr>\n",
       "    <tr>\n",
       "      <th>32</th>\n",
       "      <td>Model-1_Store-1</td>\n",
       "      <td>2024-01-01</td>\n",
       "      <td>7</td>\n",
       "    </tr>\n",
       "    <tr>\n",
       "      <th>33</th>\n",
       "      <td>Model-1_Store-1</td>\n",
       "      <td>2024-02-01</td>\n",
       "      <td>7</td>\n",
       "    </tr>\n",
       "    <tr>\n",
       "      <th>34</th>\n",
       "      <td>Model-1_Store-1</td>\n",
       "      <td>2024-03-01</td>\n",
       "      <td>7</td>\n",
       "    </tr>\n",
       "    <tr>\n",
       "      <th>35</th>\n",
       "      <td>Model-1_Store-1</td>\n",
       "      <td>2024-04-01</td>\n",
       "      <td>7</td>\n",
       "    </tr>\n",
       "    <tr>\n",
       "      <th>36</th>\n",
       "      <td>Model-2_Store-2</td>\n",
       "      <td>2023-11-01</td>\n",
       "      <td>9</td>\n",
       "    </tr>\n",
       "    <tr>\n",
       "      <th>37</th>\n",
       "      <td>Model-2_Store-2</td>\n",
       "      <td>2023-12-01</td>\n",
       "      <td>9</td>\n",
       "    </tr>\n",
       "    <tr>\n",
       "      <th>38</th>\n",
       "      <td>Model-2_Store-2</td>\n",
       "      <td>2024-01-01</td>\n",
       "      <td>9</td>\n",
       "    </tr>\n",
       "    <tr>\n",
       "      <th>39</th>\n",
       "      <td>Model-2_Store-2</td>\n",
       "      <td>2024-02-01</td>\n",
       "      <td>9</td>\n",
       "    </tr>\n",
       "    <tr>\n",
       "      <th>40</th>\n",
       "      <td>Model-2_Store-2</td>\n",
       "      <td>2024-03-01</td>\n",
       "      <td>9</td>\n",
       "    </tr>\n",
       "    <tr>\n",
       "      <th>41</th>\n",
       "      <td>Model-2_Store-2</td>\n",
       "      <td>2024-04-01</td>\n",
       "      <td>9</td>\n",
       "    </tr>\n",
       "    <tr>\n",
       "      <th>42</th>\n",
       "      <td>Model-8_Store-8</td>\n",
       "      <td>2023-11-01</td>\n",
       "      <td>13</td>\n",
       "    </tr>\n",
       "    <tr>\n",
       "      <th>43</th>\n",
       "      <td>Model-8_Store-8</td>\n",
       "      <td>2023-12-01</td>\n",
       "      <td>13</td>\n",
       "    </tr>\n",
       "    <tr>\n",
       "      <th>44</th>\n",
       "      <td>Model-8_Store-8</td>\n",
       "      <td>2024-01-01</td>\n",
       "      <td>13</td>\n",
       "    </tr>\n",
       "    <tr>\n",
       "      <th>45</th>\n",
       "      <td>Model-8_Store-8</td>\n",
       "      <td>2024-02-01</td>\n",
       "      <td>13</td>\n",
       "    </tr>\n",
       "    <tr>\n",
       "      <th>46</th>\n",
       "      <td>Model-8_Store-8</td>\n",
       "      <td>2024-03-01</td>\n",
       "      <td>13</td>\n",
       "    </tr>\n",
       "    <tr>\n",
       "      <th>47</th>\n",
       "      <td>Model-8_Store-8</td>\n",
       "      <td>2024-04-01</td>\n",
       "      <td>13</td>\n",
       "    </tr>\n",
       "  </tbody>\n",
       "</table>\n",
       "</div>"
      ],
      "text/plain": [
       "     Model_Store_Pair MONTH_YEAR  Model_Store_Pair_ID\n",
       "0    Model-10_Store-9 2023-11-01                    0\n",
       "1    Model-10_Store-9 2023-12-01                    0\n",
       "2    Model-10_Store-9 2024-01-01                    0\n",
       "3    Model-10_Store-9 2024-02-01                    0\n",
       "4    Model-10_Store-9 2024-03-01                    0\n",
       "5    Model-10_Store-9 2024-04-01                    0\n",
       "6   Model-12_Store-11 2023-11-01                    1\n",
       "7   Model-12_Store-11 2023-12-01                    1\n",
       "8   Model-12_Store-11 2024-01-01                    1\n",
       "9   Model-12_Store-11 2024-02-01                    1\n",
       "10  Model-12_Store-11 2024-03-01                    1\n",
       "11  Model-12_Store-11 2024-04-01                    1\n",
       "12  Model-14_Store-13 2023-11-01                    3\n",
       "13  Model-14_Store-13 2023-12-01                    3\n",
       "14  Model-14_Store-13 2024-01-01                    3\n",
       "15  Model-14_Store-13 2024-02-01                    3\n",
       "16  Model-14_Store-13 2024-03-01                    3\n",
       "17  Model-14_Store-13 2024-04-01                    3\n",
       "18  Model-16_Store-15 2023-11-01                    4\n",
       "19  Model-16_Store-15 2023-12-01                    4\n",
       "20  Model-16_Store-15 2024-01-01                    4\n",
       "21  Model-16_Store-15 2024-02-01                    4\n",
       "22  Model-16_Store-15 2024-03-01                    4\n",
       "23  Model-16_Store-15 2024-04-01                    4\n",
       "24  Model-17_Store-16 2023-11-01                    5\n",
       "25  Model-17_Store-16 2023-12-01                    5\n",
       "26  Model-17_Store-16 2024-01-01                    5\n",
       "27  Model-17_Store-16 2024-02-01                    5\n",
       "28  Model-17_Store-16 2024-03-01                    5\n",
       "29  Model-17_Store-16 2024-04-01                    5\n",
       "30    Model-1_Store-1 2023-11-01                    7\n",
       "31    Model-1_Store-1 2023-12-01                    7\n",
       "32    Model-1_Store-1 2024-01-01                    7\n",
       "33    Model-1_Store-1 2024-02-01                    7\n",
       "34    Model-1_Store-1 2024-03-01                    7\n",
       "35    Model-1_Store-1 2024-04-01                    7\n",
       "36    Model-2_Store-2 2023-11-01                    9\n",
       "37    Model-2_Store-2 2023-12-01                    9\n",
       "38    Model-2_Store-2 2024-01-01                    9\n",
       "39    Model-2_Store-2 2024-02-01                    9\n",
       "40    Model-2_Store-2 2024-03-01                    9\n",
       "41    Model-2_Store-2 2024-04-01                    9\n",
       "42    Model-8_Store-8 2023-11-01                   13\n",
       "43    Model-8_Store-8 2023-12-01                   13\n",
       "44    Model-8_Store-8 2024-01-01                   13\n",
       "45    Model-8_Store-8 2024-02-01                   13\n",
       "46    Model-8_Store-8 2024-03-01                   13\n",
       "47    Model-8_Store-8 2024-04-01                   13"
      ]
     },
     "execution_count": 127,
     "metadata": {},
     "output_type": "execute_result"
    }
   ],
   "source": [
    "def forcasting(numMonths, model_store_pairs):\n",
    "\n",
    "    '''\n",
    "    Create df with the next 6 months for each model/store\n",
    "    Inputs:\n",
    "        Number of months to predict\n",
    "        List with model/stores to predict in format Model-X/Store-X\n",
    "    Output:\n",
    "        Dataframe containt Model/Store, Month Year of next 6 months, Mode/Store ID\n",
    "    '''\n",
    "\n",
    "    # Define the start date for prediction\n",
    "    start_date = '2023-11-01'\n",
    "    num_prediction_months = numMonths\n",
    "\n",
    "    # Initialize an empty list to store the data\n",
    "    data = []\n",
    "\n",
    "    # Create date ranges for the next 6 months\n",
    "    current_date = datetime.strptime(start_date, '%Y-%m-%d')\n",
    "    for _ in range(num_prediction_months):\n",
    "        data.extend([(model_store_pair, current_date) for model_store_pair in model_store_pairs])\n",
    "        current_date += relativedelta(months=1)\n",
    "\n",
    "    # Create a DataFrame from the collected data\n",
    "    columns = ['Model_Store_Pair', 'MONTH_YEAR']\n",
    "    df_predict_next_months = pd.DataFrame(data, columns=columns)\n",
    "\n",
    "    # Print the DataFrame\n",
    "    df_predict_next_months.sort_values(by=['Model_Store_Pair','MONTH_YEAR'],inplace=True)\n",
    "\n",
    "    df_predict_next_months.reset_index(drop=True)\n",
    "    df_predict_next_months['Model_Store_Pair_ID'] = df_predict_next_months['Model_Store_Pair'].map(pair_id_mapping.set_index('Model_Store_Pair')['Pair_ID'])\n",
    "    df_predict_next_months.reset_index(drop=True,inplace=True)\n",
    "    return df_predict_next_months\n",
    "\n",
    "model_store_pairs = ['Model-1/Store-1', 'Model-2/Store-2', 'Model-8/Store-8',\n",
    "        'Model-10/Store-9', 'Model-14/Store-13', 'Model-12/Store-11',\n",
    "        'Model-17/Store-16', 'Model-16/Store-15']\n",
    "\n",
    "# Replace slash (\"/\") with underscore (\"_\") in model/store pairs\n",
    "model_store_pairs = [pair.replace('/', '_') for pair in model_store_pairs]\n",
    "\n",
    "#Enter number of future months to forcast\n",
    "df_predict_next_months = forcasting(6 ,model_store_pairs)\n",
    "df_predict_next_months"
   ]
  },
  {
   "cell_type": "code",
   "execution_count": 128,
   "metadata": {},
   "outputs": [
    {
     "data": {
      "text/plain": [
       "{'Model-1_Store-1': [146.97368,\n",
       "  21.369793,\n",
       "  53.6424,\n",
       "  252.64339,\n",
       "  91.07827,\n",
       "  47.71229],\n",
       " 'Model-2_Store-2': [152.81729,\n",
       "  92.42625,\n",
       "  93.31343,\n",
       "  100.59378,\n",
       "  129.68753,\n",
       "  94.049835],\n",
       " 'Model-8_Store-8': [79.25937,\n",
       "  260.82758,\n",
       "  59.630356,\n",
       "  101.07047,\n",
       "  15.85462,\n",
       "  43.791546],\n",
       " 'Model-10_Store-9': [75.84181,\n",
       "  60.239594,\n",
       "  127.87543,\n",
       "  201.08344,\n",
       "  110.716286,\n",
       "  148.91354],\n",
       " 'Model-14_Store-13': [2.535779,\n",
       "  0.049796127,\n",
       "  0.14377365,\n",
       "  -0.10107544,\n",
       "  -0.035939723,\n",
       "  -0.060170785],\n",
       " 'Model-12_Store-11': [42.500637,\n",
       "  19.725054,\n",
       "  18.26205,\n",
       "  17.927818,\n",
       "  16.765617,\n",
       "  13.696153],\n",
       " 'Model-17_Store-16': [66.03283,\n",
       "  27.763283,\n",
       "  21.806387,\n",
       "  8.413145,\n",
       "  12.416863,\n",
       "  16.695513],\n",
       " 'Model-16_Store-15': [5.8218307,\n",
       "  23.128183,\n",
       "  1.11953,\n",
       "  12.825882,\n",
       "  20.989855,\n",
       "  11.925821]}"
      ]
     },
     "execution_count": 128,
     "metadata": {},
     "output_type": "execute_result"
    }
   ],
   "source": [
    "# Create an empty dictionary to store predictions for each Model-Store pair\n",
    "pred_dict = {}\n",
    "\n",
    "# Iterate through each Model-Store pair\n",
    "for model_store_pair in model_store_pairs:   \n",
    "    # Filter data for the current Model-Store pair\n",
    "    df_predict_next_months_one_store_model = df_predict_next_months[df_predict_next_months['Model_Store_Pair'] == model_store_pair]\n",
    "    one_store_model_supervised = df_supervised_all[df_supervised_all['Model_Store_Pair'] == model_store_pair]\n",
    "\n",
    "    # Extract the last 12 months of QUANTITY values\n",
    "    last_12_months = one_store_model_supervised['QUANTITY'].iloc[-1:-13:-1]\n",
    "    num_new_columns = len(last_12_months)\n",
    "\n",
    "    # Reset the index of the filtered DataFrame\n",
    "    df_predict_next_months_one_store_model.reset_index(drop=True, inplace=True)\n",
    "\n",
    "    # Iterate through each new column (lag_1, lag_2, etc.)\n",
    "    for i in range(num_new_columns):\n",
    "        new_column_name = f'lag_{i + 1}'\n",
    "        values_to_add = last_12_months.iloc[i]\n",
    "\n",
    "        # Update only the first row of the new column\n",
    "        df_predict_next_months_one_store_model.at[0, new_column_name] = values_to_add\n",
    "\n",
    "    # Initialize a list to store predicted values for this Model-Store pair\n",
    "    pred_dict[model_store_pair] = []\n",
    "\n",
    "    # Iterate through rows to make predictions\n",
    "    for row in range(0, len(df_predict_next_months_one_store_model)):\n",
    "        # Filter data for the current row\n",
    "        x_new_data = df_predict_next_months_one_store_model[df_predict_next_months_one_store_model['MONTH_YEAR'] == df_predict_next_months_one_store_model['MONTH_YEAR'].iloc[row]]\n",
    "        \n",
    "        # Remove unnecessary columns\n",
    "        x_new_data.drop(columns=['Model_Store_Pair', 'MONTH_YEAR'], inplace=True)\n",
    "        \n",
    "        # Predict the next value using the XGBoost model\n",
    "        predicted_values = model_XGB.predict(x_new_data)\n",
    "        pred_dict[model_store_pair].append(predicted_values[0])\n",
    "\n",
    "        # Check if there are predictions before updating columns\n",
    "        if predicted_values.shape[0] > 0:\n",
    "            # Update the first column (lag_1) with the predicted value\n",
    "            df_predict_next_months_one_store_model.at[row + 1, 'lag_1'] = predicted_values[0]\n",
    "            \n",
    "            # Iterate through the rest of the columns (lag_2, lag_3, etc.)\n",
    "            for i in range(2, num_new_columns + 1):\n",
    "                new_column_name = f'lag_{i}'\n",
    "                \n",
    "                # Use the values from the previous row for the rest of the columns\n",
    "                df_predict_next_months_one_store_model.at[row + 1, new_column_name] = df_predict_next_months_one_store_model.at[row, f'lag_{i - 1}']\n",
    "        else:\n",
    "            # If there are no more predictions, break the loop\n",
    "            break\n",
    "\n",
    "# The pred_dict dictionary now contains predictions for each Model-Store pair\n",
    "pred_dict\n"
   ]
  },
  {
   "cell_type": "code",
   "execution_count": 129,
   "metadata": {},
   "outputs": [
    {
     "data": {
      "text/html": [
       "<div>\n",
       "<style scoped>\n",
       "    .dataframe tbody tr th:only-of-type {\n",
       "        vertical-align: middle;\n",
       "    }\n",
       "\n",
       "    .dataframe tbody tr th {\n",
       "        vertical-align: top;\n",
       "    }\n",
       "\n",
       "    .dataframe thead th {\n",
       "        text-align: right;\n",
       "    }\n",
       "</style>\n",
       "<table border=\"1\" class=\"dataframe\">\n",
       "  <thead>\n",
       "    <tr style=\"text-align: right;\">\n",
       "      <th></th>\n",
       "      <th>Model_Store_Pair</th>\n",
       "      <th>MONTH_YEAR</th>\n",
       "      <th>Model_Store_Pair_ID</th>\n",
       "      <th>Predicted_Sales_Quantity</th>\n",
       "    </tr>\n",
       "  </thead>\n",
       "  <tbody>\n",
       "    <tr>\n",
       "      <th>0</th>\n",
       "      <td>Model-10_Store-9</td>\n",
       "      <td>2023-11-01</td>\n",
       "      <td>0</td>\n",
       "      <td>75.841812</td>\n",
       "    </tr>\n",
       "    <tr>\n",
       "      <th>1</th>\n",
       "      <td>Model-10_Store-9</td>\n",
       "      <td>2023-12-01</td>\n",
       "      <td>0</td>\n",
       "      <td>60.239594</td>\n",
       "    </tr>\n",
       "    <tr>\n",
       "      <th>2</th>\n",
       "      <td>Model-10_Store-9</td>\n",
       "      <td>2024-01-01</td>\n",
       "      <td>0</td>\n",
       "      <td>127.875427</td>\n",
       "    </tr>\n",
       "    <tr>\n",
       "      <th>3</th>\n",
       "      <td>Model-10_Store-9</td>\n",
       "      <td>2024-02-01</td>\n",
       "      <td>0</td>\n",
       "      <td>201.083435</td>\n",
       "    </tr>\n",
       "    <tr>\n",
       "      <th>4</th>\n",
       "      <td>Model-10_Store-9</td>\n",
       "      <td>2024-03-01</td>\n",
       "      <td>0</td>\n",
       "      <td>110.716286</td>\n",
       "    </tr>\n",
       "    <tr>\n",
       "      <th>5</th>\n",
       "      <td>Model-10_Store-9</td>\n",
       "      <td>2024-04-01</td>\n",
       "      <td>0</td>\n",
       "      <td>148.913544</td>\n",
       "    </tr>\n",
       "    <tr>\n",
       "      <th>6</th>\n",
       "      <td>Model-12_Store-11</td>\n",
       "      <td>2023-11-01</td>\n",
       "      <td>1</td>\n",
       "      <td>42.500637</td>\n",
       "    </tr>\n",
       "    <tr>\n",
       "      <th>7</th>\n",
       "      <td>Model-12_Store-11</td>\n",
       "      <td>2023-12-01</td>\n",
       "      <td>1</td>\n",
       "      <td>19.725054</td>\n",
       "    </tr>\n",
       "    <tr>\n",
       "      <th>8</th>\n",
       "      <td>Model-12_Store-11</td>\n",
       "      <td>2024-01-01</td>\n",
       "      <td>1</td>\n",
       "      <td>18.262051</td>\n",
       "    </tr>\n",
       "    <tr>\n",
       "      <th>9</th>\n",
       "      <td>Model-12_Store-11</td>\n",
       "      <td>2024-02-01</td>\n",
       "      <td>1</td>\n",
       "      <td>17.927818</td>\n",
       "    </tr>\n",
       "    <tr>\n",
       "      <th>10</th>\n",
       "      <td>Model-12_Store-11</td>\n",
       "      <td>2024-03-01</td>\n",
       "      <td>1</td>\n",
       "      <td>16.765617</td>\n",
       "    </tr>\n",
       "    <tr>\n",
       "      <th>11</th>\n",
       "      <td>Model-12_Store-11</td>\n",
       "      <td>2024-04-01</td>\n",
       "      <td>1</td>\n",
       "      <td>13.696153</td>\n",
       "    </tr>\n",
       "    <tr>\n",
       "      <th>12</th>\n",
       "      <td>Model-14_Store-13</td>\n",
       "      <td>2023-11-01</td>\n",
       "      <td>3</td>\n",
       "      <td>2.535779</td>\n",
       "    </tr>\n",
       "    <tr>\n",
       "      <th>13</th>\n",
       "      <td>Model-14_Store-13</td>\n",
       "      <td>2023-12-01</td>\n",
       "      <td>3</td>\n",
       "      <td>0.049796</td>\n",
       "    </tr>\n",
       "    <tr>\n",
       "      <th>14</th>\n",
       "      <td>Model-14_Store-13</td>\n",
       "      <td>2024-01-01</td>\n",
       "      <td>3</td>\n",
       "      <td>0.143774</td>\n",
       "    </tr>\n",
       "    <tr>\n",
       "      <th>15</th>\n",
       "      <td>Model-14_Store-13</td>\n",
       "      <td>2024-02-01</td>\n",
       "      <td>3</td>\n",
       "      <td>-0.101075</td>\n",
       "    </tr>\n",
       "    <tr>\n",
       "      <th>16</th>\n",
       "      <td>Model-14_Store-13</td>\n",
       "      <td>2024-03-01</td>\n",
       "      <td>3</td>\n",
       "      <td>-0.035940</td>\n",
       "    </tr>\n",
       "    <tr>\n",
       "      <th>17</th>\n",
       "      <td>Model-14_Store-13</td>\n",
       "      <td>2024-04-01</td>\n",
       "      <td>3</td>\n",
       "      <td>-0.060171</td>\n",
       "    </tr>\n",
       "    <tr>\n",
       "      <th>18</th>\n",
       "      <td>Model-16_Store-15</td>\n",
       "      <td>2023-11-01</td>\n",
       "      <td>4</td>\n",
       "      <td>5.821831</td>\n",
       "    </tr>\n",
       "    <tr>\n",
       "      <th>19</th>\n",
       "      <td>Model-16_Store-15</td>\n",
       "      <td>2023-12-01</td>\n",
       "      <td>4</td>\n",
       "      <td>23.128183</td>\n",
       "    </tr>\n",
       "    <tr>\n",
       "      <th>20</th>\n",
       "      <td>Model-16_Store-15</td>\n",
       "      <td>2024-01-01</td>\n",
       "      <td>4</td>\n",
       "      <td>1.119530</td>\n",
       "    </tr>\n",
       "    <tr>\n",
       "      <th>21</th>\n",
       "      <td>Model-16_Store-15</td>\n",
       "      <td>2024-02-01</td>\n",
       "      <td>4</td>\n",
       "      <td>12.825882</td>\n",
       "    </tr>\n",
       "    <tr>\n",
       "      <th>22</th>\n",
       "      <td>Model-16_Store-15</td>\n",
       "      <td>2024-03-01</td>\n",
       "      <td>4</td>\n",
       "      <td>20.989855</td>\n",
       "    </tr>\n",
       "    <tr>\n",
       "      <th>23</th>\n",
       "      <td>Model-16_Store-15</td>\n",
       "      <td>2024-04-01</td>\n",
       "      <td>4</td>\n",
       "      <td>11.925821</td>\n",
       "    </tr>\n",
       "    <tr>\n",
       "      <th>24</th>\n",
       "      <td>Model-17_Store-16</td>\n",
       "      <td>2023-11-01</td>\n",
       "      <td>5</td>\n",
       "      <td>66.032829</td>\n",
       "    </tr>\n",
       "    <tr>\n",
       "      <th>25</th>\n",
       "      <td>Model-17_Store-16</td>\n",
       "      <td>2023-12-01</td>\n",
       "      <td>5</td>\n",
       "      <td>27.763283</td>\n",
       "    </tr>\n",
       "    <tr>\n",
       "      <th>26</th>\n",
       "      <td>Model-17_Store-16</td>\n",
       "      <td>2024-01-01</td>\n",
       "      <td>5</td>\n",
       "      <td>21.806387</td>\n",
       "    </tr>\n",
       "    <tr>\n",
       "      <th>27</th>\n",
       "      <td>Model-17_Store-16</td>\n",
       "      <td>2024-02-01</td>\n",
       "      <td>5</td>\n",
       "      <td>8.413145</td>\n",
       "    </tr>\n",
       "    <tr>\n",
       "      <th>28</th>\n",
       "      <td>Model-17_Store-16</td>\n",
       "      <td>2024-03-01</td>\n",
       "      <td>5</td>\n",
       "      <td>12.416863</td>\n",
       "    </tr>\n",
       "    <tr>\n",
       "      <th>29</th>\n",
       "      <td>Model-17_Store-16</td>\n",
       "      <td>2024-04-01</td>\n",
       "      <td>5</td>\n",
       "      <td>16.695513</td>\n",
       "    </tr>\n",
       "    <tr>\n",
       "      <th>30</th>\n",
       "      <td>Model-1_Store-1</td>\n",
       "      <td>2023-11-01</td>\n",
       "      <td>7</td>\n",
       "      <td>146.973679</td>\n",
       "    </tr>\n",
       "    <tr>\n",
       "      <th>31</th>\n",
       "      <td>Model-1_Store-1</td>\n",
       "      <td>2023-12-01</td>\n",
       "      <td>7</td>\n",
       "      <td>21.369793</td>\n",
       "    </tr>\n",
       "    <tr>\n",
       "      <th>32</th>\n",
       "      <td>Model-1_Store-1</td>\n",
       "      <td>2024-01-01</td>\n",
       "      <td>7</td>\n",
       "      <td>53.642399</td>\n",
       "    </tr>\n",
       "    <tr>\n",
       "      <th>33</th>\n",
       "      <td>Model-1_Store-1</td>\n",
       "      <td>2024-02-01</td>\n",
       "      <td>7</td>\n",
       "      <td>252.643387</td>\n",
       "    </tr>\n",
       "    <tr>\n",
       "      <th>34</th>\n",
       "      <td>Model-1_Store-1</td>\n",
       "      <td>2024-03-01</td>\n",
       "      <td>7</td>\n",
       "      <td>91.078270</td>\n",
       "    </tr>\n",
       "    <tr>\n",
       "      <th>35</th>\n",
       "      <td>Model-1_Store-1</td>\n",
       "      <td>2024-04-01</td>\n",
       "      <td>7</td>\n",
       "      <td>47.712292</td>\n",
       "    </tr>\n",
       "    <tr>\n",
       "      <th>36</th>\n",
       "      <td>Model-2_Store-2</td>\n",
       "      <td>2023-11-01</td>\n",
       "      <td>9</td>\n",
       "      <td>152.817291</td>\n",
       "    </tr>\n",
       "    <tr>\n",
       "      <th>37</th>\n",
       "      <td>Model-2_Store-2</td>\n",
       "      <td>2023-12-01</td>\n",
       "      <td>9</td>\n",
       "      <td>92.426247</td>\n",
       "    </tr>\n",
       "    <tr>\n",
       "      <th>38</th>\n",
       "      <td>Model-2_Store-2</td>\n",
       "      <td>2024-01-01</td>\n",
       "      <td>9</td>\n",
       "      <td>93.313431</td>\n",
       "    </tr>\n",
       "    <tr>\n",
       "      <th>39</th>\n",
       "      <td>Model-2_Store-2</td>\n",
       "      <td>2024-02-01</td>\n",
       "      <td>9</td>\n",
       "      <td>100.593781</td>\n",
       "    </tr>\n",
       "    <tr>\n",
       "      <th>40</th>\n",
       "      <td>Model-2_Store-2</td>\n",
       "      <td>2024-03-01</td>\n",
       "      <td>9</td>\n",
       "      <td>129.687531</td>\n",
       "    </tr>\n",
       "    <tr>\n",
       "      <th>41</th>\n",
       "      <td>Model-2_Store-2</td>\n",
       "      <td>2024-04-01</td>\n",
       "      <td>9</td>\n",
       "      <td>94.049835</td>\n",
       "    </tr>\n",
       "    <tr>\n",
       "      <th>42</th>\n",
       "      <td>Model-8_Store-8</td>\n",
       "      <td>2023-11-01</td>\n",
       "      <td>13</td>\n",
       "      <td>79.259369</td>\n",
       "    </tr>\n",
       "    <tr>\n",
       "      <th>43</th>\n",
       "      <td>Model-8_Store-8</td>\n",
       "      <td>2023-12-01</td>\n",
       "      <td>13</td>\n",
       "      <td>260.827576</td>\n",
       "    </tr>\n",
       "    <tr>\n",
       "      <th>44</th>\n",
       "      <td>Model-8_Store-8</td>\n",
       "      <td>2024-01-01</td>\n",
       "      <td>13</td>\n",
       "      <td>59.630356</td>\n",
       "    </tr>\n",
       "    <tr>\n",
       "      <th>45</th>\n",
       "      <td>Model-8_Store-8</td>\n",
       "      <td>2024-02-01</td>\n",
       "      <td>13</td>\n",
       "      <td>101.070473</td>\n",
       "    </tr>\n",
       "    <tr>\n",
       "      <th>46</th>\n",
       "      <td>Model-8_Store-8</td>\n",
       "      <td>2024-03-01</td>\n",
       "      <td>13</td>\n",
       "      <td>15.854620</td>\n",
       "    </tr>\n",
       "    <tr>\n",
       "      <th>47</th>\n",
       "      <td>Model-8_Store-8</td>\n",
       "      <td>2024-04-01</td>\n",
       "      <td>13</td>\n",
       "      <td>43.791546</td>\n",
       "    </tr>\n",
       "  </tbody>\n",
       "</table>\n",
       "</div>"
      ],
      "text/plain": [
       "     Model_Store_Pair MONTH_YEAR  Model_Store_Pair_ID  \\\n",
       "0    Model-10_Store-9 2023-11-01                    0   \n",
       "1    Model-10_Store-9 2023-12-01                    0   \n",
       "2    Model-10_Store-9 2024-01-01                    0   \n",
       "3    Model-10_Store-9 2024-02-01                    0   \n",
       "4    Model-10_Store-9 2024-03-01                    0   \n",
       "5    Model-10_Store-9 2024-04-01                    0   \n",
       "6   Model-12_Store-11 2023-11-01                    1   \n",
       "7   Model-12_Store-11 2023-12-01                    1   \n",
       "8   Model-12_Store-11 2024-01-01                    1   \n",
       "9   Model-12_Store-11 2024-02-01                    1   \n",
       "10  Model-12_Store-11 2024-03-01                    1   \n",
       "11  Model-12_Store-11 2024-04-01                    1   \n",
       "12  Model-14_Store-13 2023-11-01                    3   \n",
       "13  Model-14_Store-13 2023-12-01                    3   \n",
       "14  Model-14_Store-13 2024-01-01                    3   \n",
       "15  Model-14_Store-13 2024-02-01                    3   \n",
       "16  Model-14_Store-13 2024-03-01                    3   \n",
       "17  Model-14_Store-13 2024-04-01                    3   \n",
       "18  Model-16_Store-15 2023-11-01                    4   \n",
       "19  Model-16_Store-15 2023-12-01                    4   \n",
       "20  Model-16_Store-15 2024-01-01                    4   \n",
       "21  Model-16_Store-15 2024-02-01                    4   \n",
       "22  Model-16_Store-15 2024-03-01                    4   \n",
       "23  Model-16_Store-15 2024-04-01                    4   \n",
       "24  Model-17_Store-16 2023-11-01                    5   \n",
       "25  Model-17_Store-16 2023-12-01                    5   \n",
       "26  Model-17_Store-16 2024-01-01                    5   \n",
       "27  Model-17_Store-16 2024-02-01                    5   \n",
       "28  Model-17_Store-16 2024-03-01                    5   \n",
       "29  Model-17_Store-16 2024-04-01                    5   \n",
       "30    Model-1_Store-1 2023-11-01                    7   \n",
       "31    Model-1_Store-1 2023-12-01                    7   \n",
       "32    Model-1_Store-1 2024-01-01                    7   \n",
       "33    Model-1_Store-1 2024-02-01                    7   \n",
       "34    Model-1_Store-1 2024-03-01                    7   \n",
       "35    Model-1_Store-1 2024-04-01                    7   \n",
       "36    Model-2_Store-2 2023-11-01                    9   \n",
       "37    Model-2_Store-2 2023-12-01                    9   \n",
       "38    Model-2_Store-2 2024-01-01                    9   \n",
       "39    Model-2_Store-2 2024-02-01                    9   \n",
       "40    Model-2_Store-2 2024-03-01                    9   \n",
       "41    Model-2_Store-2 2024-04-01                    9   \n",
       "42    Model-8_Store-8 2023-11-01                   13   \n",
       "43    Model-8_Store-8 2023-12-01                   13   \n",
       "44    Model-8_Store-8 2024-01-01                   13   \n",
       "45    Model-8_Store-8 2024-02-01                   13   \n",
       "46    Model-8_Store-8 2024-03-01                   13   \n",
       "47    Model-8_Store-8 2024-04-01                   13   \n",
       "\n",
       "    Predicted_Sales_Quantity  \n",
       "0                  75.841812  \n",
       "1                  60.239594  \n",
       "2                 127.875427  \n",
       "3                 201.083435  \n",
       "4                 110.716286  \n",
       "5                 148.913544  \n",
       "6                  42.500637  \n",
       "7                  19.725054  \n",
       "8                  18.262051  \n",
       "9                  17.927818  \n",
       "10                 16.765617  \n",
       "11                 13.696153  \n",
       "12                  2.535779  \n",
       "13                  0.049796  \n",
       "14                  0.143774  \n",
       "15                 -0.101075  \n",
       "16                 -0.035940  \n",
       "17                 -0.060171  \n",
       "18                  5.821831  \n",
       "19                 23.128183  \n",
       "20                  1.119530  \n",
       "21                 12.825882  \n",
       "22                 20.989855  \n",
       "23                 11.925821  \n",
       "24                 66.032829  \n",
       "25                 27.763283  \n",
       "26                 21.806387  \n",
       "27                  8.413145  \n",
       "28                 12.416863  \n",
       "29                 16.695513  \n",
       "30                146.973679  \n",
       "31                 21.369793  \n",
       "32                 53.642399  \n",
       "33                252.643387  \n",
       "34                 91.078270  \n",
       "35                 47.712292  \n",
       "36                152.817291  \n",
       "37                 92.426247  \n",
       "38                 93.313431  \n",
       "39                100.593781  \n",
       "40                129.687531  \n",
       "41                 94.049835  \n",
       "42                 79.259369  \n",
       "43                260.827576  \n",
       "44                 59.630356  \n",
       "45                101.070473  \n",
       "46                 15.854620  \n",
       "47                 43.791546  "
      ]
     },
     "execution_count": 129,
     "metadata": {},
     "output_type": "execute_result"
    }
   ],
   "source": [
    "# Iterate through the Model-Store pairs in pred_dict\n",
    "for model_store_pair, predicted_values in pred_dict.items():\n",
    "    # Filter rows in df_predict_next_months that match the current Model-Store pair\n",
    "    mask = (df_predict_next_months['Model_Store_Pair'] == model_store_pair)\n",
    "    \n",
    "    # Assign the predicted values to the corresponding rows in df_predict_next_months\n",
    "    df_predict_next_months.loc[mask, 'Predicted_Sales_Quantity'] = predicted_values\n",
    "\n",
    "df_predict_next_months"
   ]
  },
  {
   "cell_type": "code",
   "execution_count": 130,
   "metadata": {},
   "outputs": [
    {
     "data": {
      "application/vnd.plotly.v1+json": {
       "config": {
        "linkText": "Export to plot.ly",
        "plotlyServerURL": "https://plot.ly",
        "showLink": false
       },
       "data": [
        {
         "mode": "lines+markers",
         "name": "Model-10_Store-9",
         "type": "scatter",
         "x": [
          "2023-11-01T00:00:00",
          "2023-12-01T00:00:00",
          "2024-01-01T00:00:00",
          "2024-02-01T00:00:00",
          "2024-03-01T00:00:00",
          "2024-04-01T00:00:00"
         ],
         "y": [
          75.84181213378906,
          60.239593505859375,
          127.87542724609375,
          201.08343505859375,
          110.7162857055664,
          148.91354370117188
         ]
        },
        {
         "mode": "lines+markers",
         "name": "Model-12_Store-11",
         "type": "scatter",
         "x": [
          "2023-11-01T00:00:00",
          "2023-12-01T00:00:00",
          "2024-01-01T00:00:00",
          "2024-02-01T00:00:00",
          "2024-03-01T00:00:00",
          "2024-04-01T00:00:00"
         ],
         "y": [
          42.50063705444336,
          19.725053787231445,
          18.26205062866211,
          17.927818298339844,
          16.76561737060547,
          13.696152687072754
         ]
        },
        {
         "mode": "lines+markers",
         "name": "Model-14_Store-13",
         "type": "scatter",
         "x": [
          "2023-11-01T00:00:00",
          "2023-12-01T00:00:00",
          "2024-01-01T00:00:00",
          "2024-02-01T00:00:00",
          "2024-03-01T00:00:00",
          "2024-04-01T00:00:00"
         ],
         "y": [
          2.5357789993286133,
          0.049796126782894135,
          0.1437736451625824,
          -0.1010754406452179,
          -0.03593972325325012,
          -0.06017078459262848
         ]
        },
        {
         "mode": "lines+markers",
         "name": "Model-16_Store-15",
         "type": "scatter",
         "x": [
          "2023-11-01T00:00:00",
          "2023-12-01T00:00:00",
          "2024-01-01T00:00:00",
          "2024-02-01T00:00:00",
          "2024-03-01T00:00:00",
          "2024-04-01T00:00:00"
         ],
         "y": [
          5.821830749511719,
          23.128183364868164,
          1.1195299625396729,
          12.825881958007812,
          20.98985481262207,
          11.925821304321289
         ]
        },
        {
         "mode": "lines+markers",
         "name": "Model-17_Store-16",
         "type": "scatter",
         "x": [
          "2023-11-01T00:00:00",
          "2023-12-01T00:00:00",
          "2024-01-01T00:00:00",
          "2024-02-01T00:00:00",
          "2024-03-01T00:00:00",
          "2024-04-01T00:00:00"
         ],
         "y": [
          66.03282928466797,
          27.763282775878906,
          21.806386947631836,
          8.413145065307617,
          12.416863441467285,
          16.695512771606445
         ]
        },
        {
         "mode": "lines+markers",
         "name": "Model-1_Store-1",
         "type": "scatter",
         "x": [
          "2023-11-01T00:00:00",
          "2023-12-01T00:00:00",
          "2024-01-01T00:00:00",
          "2024-02-01T00:00:00",
          "2024-03-01T00:00:00",
          "2024-04-01T00:00:00"
         ],
         "y": [
          146.9736785888672,
          21.369792938232422,
          53.642398834228516,
          252.6433868408203,
          91.0782699584961,
          47.7122917175293
         ]
        },
        {
         "mode": "lines+markers",
         "name": "Model-2_Store-2",
         "type": "scatter",
         "x": [
          "2023-11-01T00:00:00",
          "2023-12-01T00:00:00",
          "2024-01-01T00:00:00",
          "2024-02-01T00:00:00",
          "2024-03-01T00:00:00",
          "2024-04-01T00:00:00"
         ],
         "y": [
          152.81729125976562,
          92.4262466430664,
          93.31343078613281,
          100.59378051757812,
          129.68753051757812,
          94.04983520507812
         ]
        },
        {
         "mode": "lines+markers",
         "name": "Model-8_Store-8",
         "type": "scatter",
         "x": [
          "2023-11-01T00:00:00",
          "2023-12-01T00:00:00",
          "2024-01-01T00:00:00",
          "2024-02-01T00:00:00",
          "2024-03-01T00:00:00",
          "2024-04-01T00:00:00"
         ],
         "y": [
          79.25936889648438,
          260.82757568359375,
          59.63035583496094,
          101.07047271728516,
          15.854619979858398,
          43.79154586791992
         ]
        }
       ],
       "layout": {
        "template": {
         "data": {
          "bar": [
           {
            "error_x": {
             "color": "#2a3f5f"
            },
            "error_y": {
             "color": "#2a3f5f"
            },
            "marker": {
             "line": {
              "color": "#E5ECF6",
              "width": 0.5
             },
             "pattern": {
              "fillmode": "overlay",
              "size": 10,
              "solidity": 0.2
             }
            },
            "type": "bar"
           }
          ],
          "barpolar": [
           {
            "marker": {
             "line": {
              "color": "#E5ECF6",
              "width": 0.5
             },
             "pattern": {
              "fillmode": "overlay",
              "size": 10,
              "solidity": 0.2
             }
            },
            "type": "barpolar"
           }
          ],
          "carpet": [
           {
            "aaxis": {
             "endlinecolor": "#2a3f5f",
             "gridcolor": "white",
             "linecolor": "white",
             "minorgridcolor": "white",
             "startlinecolor": "#2a3f5f"
            },
            "baxis": {
             "endlinecolor": "#2a3f5f",
             "gridcolor": "white",
             "linecolor": "white",
             "minorgridcolor": "white",
             "startlinecolor": "#2a3f5f"
            },
            "type": "carpet"
           }
          ],
          "choropleth": [
           {
            "colorbar": {
             "outlinewidth": 0,
             "ticks": ""
            },
            "type": "choropleth"
           }
          ],
          "contour": [
           {
            "colorbar": {
             "outlinewidth": 0,
             "ticks": ""
            },
            "colorscale": [
             [
              0,
              "#0d0887"
             ],
             [
              0.1111111111111111,
              "#46039f"
             ],
             [
              0.2222222222222222,
              "#7201a8"
             ],
             [
              0.3333333333333333,
              "#9c179e"
             ],
             [
              0.4444444444444444,
              "#bd3786"
             ],
             [
              0.5555555555555556,
              "#d8576b"
             ],
             [
              0.6666666666666666,
              "#ed7953"
             ],
             [
              0.7777777777777778,
              "#fb9f3a"
             ],
             [
              0.8888888888888888,
              "#fdca26"
             ],
             [
              1,
              "#f0f921"
             ]
            ],
            "type": "contour"
           }
          ],
          "contourcarpet": [
           {
            "colorbar": {
             "outlinewidth": 0,
             "ticks": ""
            },
            "type": "contourcarpet"
           }
          ],
          "heatmap": [
           {
            "colorbar": {
             "outlinewidth": 0,
             "ticks": ""
            },
            "colorscale": [
             [
              0,
              "#0d0887"
             ],
             [
              0.1111111111111111,
              "#46039f"
             ],
             [
              0.2222222222222222,
              "#7201a8"
             ],
             [
              0.3333333333333333,
              "#9c179e"
             ],
             [
              0.4444444444444444,
              "#bd3786"
             ],
             [
              0.5555555555555556,
              "#d8576b"
             ],
             [
              0.6666666666666666,
              "#ed7953"
             ],
             [
              0.7777777777777778,
              "#fb9f3a"
             ],
             [
              0.8888888888888888,
              "#fdca26"
             ],
             [
              1,
              "#f0f921"
             ]
            ],
            "type": "heatmap"
           }
          ],
          "heatmapgl": [
           {
            "colorbar": {
             "outlinewidth": 0,
             "ticks": ""
            },
            "colorscale": [
             [
              0,
              "#0d0887"
             ],
             [
              0.1111111111111111,
              "#46039f"
             ],
             [
              0.2222222222222222,
              "#7201a8"
             ],
             [
              0.3333333333333333,
              "#9c179e"
             ],
             [
              0.4444444444444444,
              "#bd3786"
             ],
             [
              0.5555555555555556,
              "#d8576b"
             ],
             [
              0.6666666666666666,
              "#ed7953"
             ],
             [
              0.7777777777777778,
              "#fb9f3a"
             ],
             [
              0.8888888888888888,
              "#fdca26"
             ],
             [
              1,
              "#f0f921"
             ]
            ],
            "type": "heatmapgl"
           }
          ],
          "histogram": [
           {
            "marker": {
             "pattern": {
              "fillmode": "overlay",
              "size": 10,
              "solidity": 0.2
             }
            },
            "type": "histogram"
           }
          ],
          "histogram2d": [
           {
            "colorbar": {
             "outlinewidth": 0,
             "ticks": ""
            },
            "colorscale": [
             [
              0,
              "#0d0887"
             ],
             [
              0.1111111111111111,
              "#46039f"
             ],
             [
              0.2222222222222222,
              "#7201a8"
             ],
             [
              0.3333333333333333,
              "#9c179e"
             ],
             [
              0.4444444444444444,
              "#bd3786"
             ],
             [
              0.5555555555555556,
              "#d8576b"
             ],
             [
              0.6666666666666666,
              "#ed7953"
             ],
             [
              0.7777777777777778,
              "#fb9f3a"
             ],
             [
              0.8888888888888888,
              "#fdca26"
             ],
             [
              1,
              "#f0f921"
             ]
            ],
            "type": "histogram2d"
           }
          ],
          "histogram2dcontour": [
           {
            "colorbar": {
             "outlinewidth": 0,
             "ticks": ""
            },
            "colorscale": [
             [
              0,
              "#0d0887"
             ],
             [
              0.1111111111111111,
              "#46039f"
             ],
             [
              0.2222222222222222,
              "#7201a8"
             ],
             [
              0.3333333333333333,
              "#9c179e"
             ],
             [
              0.4444444444444444,
              "#bd3786"
             ],
             [
              0.5555555555555556,
              "#d8576b"
             ],
             [
              0.6666666666666666,
              "#ed7953"
             ],
             [
              0.7777777777777778,
              "#fb9f3a"
             ],
             [
              0.8888888888888888,
              "#fdca26"
             ],
             [
              1,
              "#f0f921"
             ]
            ],
            "type": "histogram2dcontour"
           }
          ],
          "mesh3d": [
           {
            "colorbar": {
             "outlinewidth": 0,
             "ticks": ""
            },
            "type": "mesh3d"
           }
          ],
          "parcoords": [
           {
            "line": {
             "colorbar": {
              "outlinewidth": 0,
              "ticks": ""
             }
            },
            "type": "parcoords"
           }
          ],
          "pie": [
           {
            "automargin": true,
            "type": "pie"
           }
          ],
          "scatter": [
           {
            "fillpattern": {
             "fillmode": "overlay",
             "size": 10,
             "solidity": 0.2
            },
            "type": "scatter"
           }
          ],
          "scatter3d": [
           {
            "line": {
             "colorbar": {
              "outlinewidth": 0,
              "ticks": ""
             }
            },
            "marker": {
             "colorbar": {
              "outlinewidth": 0,
              "ticks": ""
             }
            },
            "type": "scatter3d"
           }
          ],
          "scattercarpet": [
           {
            "marker": {
             "colorbar": {
              "outlinewidth": 0,
              "ticks": ""
             }
            },
            "type": "scattercarpet"
           }
          ],
          "scattergeo": [
           {
            "marker": {
             "colorbar": {
              "outlinewidth": 0,
              "ticks": ""
             }
            },
            "type": "scattergeo"
           }
          ],
          "scattergl": [
           {
            "marker": {
             "colorbar": {
              "outlinewidth": 0,
              "ticks": ""
             }
            },
            "type": "scattergl"
           }
          ],
          "scattermapbox": [
           {
            "marker": {
             "colorbar": {
              "outlinewidth": 0,
              "ticks": ""
             }
            },
            "type": "scattermapbox"
           }
          ],
          "scatterpolar": [
           {
            "marker": {
             "colorbar": {
              "outlinewidth": 0,
              "ticks": ""
             }
            },
            "type": "scatterpolar"
           }
          ],
          "scatterpolargl": [
           {
            "marker": {
             "colorbar": {
              "outlinewidth": 0,
              "ticks": ""
             }
            },
            "type": "scatterpolargl"
           }
          ],
          "scatterternary": [
           {
            "marker": {
             "colorbar": {
              "outlinewidth": 0,
              "ticks": ""
             }
            },
            "type": "scatterternary"
           }
          ],
          "surface": [
           {
            "colorbar": {
             "outlinewidth": 0,
             "ticks": ""
            },
            "colorscale": [
             [
              0,
              "#0d0887"
             ],
             [
              0.1111111111111111,
              "#46039f"
             ],
             [
              0.2222222222222222,
              "#7201a8"
             ],
             [
              0.3333333333333333,
              "#9c179e"
             ],
             [
              0.4444444444444444,
              "#bd3786"
             ],
             [
              0.5555555555555556,
              "#d8576b"
             ],
             [
              0.6666666666666666,
              "#ed7953"
             ],
             [
              0.7777777777777778,
              "#fb9f3a"
             ],
             [
              0.8888888888888888,
              "#fdca26"
             ],
             [
              1,
              "#f0f921"
             ]
            ],
            "type": "surface"
           }
          ],
          "table": [
           {
            "cells": {
             "fill": {
              "color": "#EBF0F8"
             },
             "line": {
              "color": "white"
             }
            },
            "header": {
             "fill": {
              "color": "#C8D4E3"
             },
             "line": {
              "color": "white"
             }
            },
            "type": "table"
           }
          ]
         },
         "layout": {
          "annotationdefaults": {
           "arrowcolor": "#2a3f5f",
           "arrowhead": 0,
           "arrowwidth": 1
          },
          "autotypenumbers": "strict",
          "coloraxis": {
           "colorbar": {
            "outlinewidth": 0,
            "ticks": ""
           }
          },
          "colorscale": {
           "diverging": [
            [
             0,
             "#8e0152"
            ],
            [
             0.1,
             "#c51b7d"
            ],
            [
             0.2,
             "#de77ae"
            ],
            [
             0.3,
             "#f1b6da"
            ],
            [
             0.4,
             "#fde0ef"
            ],
            [
             0.5,
             "#f7f7f7"
            ],
            [
             0.6,
             "#e6f5d0"
            ],
            [
             0.7,
             "#b8e186"
            ],
            [
             0.8,
             "#7fbc41"
            ],
            [
             0.9,
             "#4d9221"
            ],
            [
             1,
             "#276419"
            ]
           ],
           "sequential": [
            [
             0,
             "#0d0887"
            ],
            [
             0.1111111111111111,
             "#46039f"
            ],
            [
             0.2222222222222222,
             "#7201a8"
            ],
            [
             0.3333333333333333,
             "#9c179e"
            ],
            [
             0.4444444444444444,
             "#bd3786"
            ],
            [
             0.5555555555555556,
             "#d8576b"
            ],
            [
             0.6666666666666666,
             "#ed7953"
            ],
            [
             0.7777777777777778,
             "#fb9f3a"
            ],
            [
             0.8888888888888888,
             "#fdca26"
            ],
            [
             1,
             "#f0f921"
            ]
           ],
           "sequentialminus": [
            [
             0,
             "#0d0887"
            ],
            [
             0.1111111111111111,
             "#46039f"
            ],
            [
             0.2222222222222222,
             "#7201a8"
            ],
            [
             0.3333333333333333,
             "#9c179e"
            ],
            [
             0.4444444444444444,
             "#bd3786"
            ],
            [
             0.5555555555555556,
             "#d8576b"
            ],
            [
             0.6666666666666666,
             "#ed7953"
            ],
            [
             0.7777777777777778,
             "#fb9f3a"
            ],
            [
             0.8888888888888888,
             "#fdca26"
            ],
            [
             1,
             "#f0f921"
            ]
           ]
          },
          "colorway": [
           "#636efa",
           "#EF553B",
           "#00cc96",
           "#ab63fa",
           "#FFA15A",
           "#19d3f3",
           "#FF6692",
           "#B6E880",
           "#FF97FF",
           "#FECB52"
          ],
          "font": {
           "color": "#2a3f5f"
          },
          "geo": {
           "bgcolor": "white",
           "lakecolor": "white",
           "landcolor": "#E5ECF6",
           "showlakes": true,
           "showland": true,
           "subunitcolor": "white"
          },
          "hoverlabel": {
           "align": "left"
          },
          "hovermode": "closest",
          "mapbox": {
           "style": "light"
          },
          "paper_bgcolor": "white",
          "plot_bgcolor": "#E5ECF6",
          "polar": {
           "angularaxis": {
            "gridcolor": "white",
            "linecolor": "white",
            "ticks": ""
           },
           "bgcolor": "#E5ECF6",
           "radialaxis": {
            "gridcolor": "white",
            "linecolor": "white",
            "ticks": ""
           }
          },
          "scene": {
           "xaxis": {
            "backgroundcolor": "#E5ECF6",
            "gridcolor": "white",
            "gridwidth": 2,
            "linecolor": "white",
            "showbackground": true,
            "ticks": "",
            "zerolinecolor": "white"
           },
           "yaxis": {
            "backgroundcolor": "#E5ECF6",
            "gridcolor": "white",
            "gridwidth": 2,
            "linecolor": "white",
            "showbackground": true,
            "ticks": "",
            "zerolinecolor": "white"
           },
           "zaxis": {
            "backgroundcolor": "#E5ECF6",
            "gridcolor": "white",
            "gridwidth": 2,
            "linecolor": "white",
            "showbackground": true,
            "ticks": "",
            "zerolinecolor": "white"
           }
          },
          "shapedefaults": {
           "line": {
            "color": "#2a3f5f"
           }
          },
          "ternary": {
           "aaxis": {
            "gridcolor": "white",
            "linecolor": "white",
            "ticks": ""
           },
           "baxis": {
            "gridcolor": "white",
            "linecolor": "white",
            "ticks": ""
           },
           "bgcolor": "#E5ECF6",
           "caxis": {
            "gridcolor": "white",
            "linecolor": "white",
            "ticks": ""
           }
          },
          "title": {
           "x": 0.05
          },
          "xaxis": {
           "automargin": true,
           "gridcolor": "white",
           "linecolor": "white",
           "ticks": "",
           "title": {
            "standoff": 15
           },
           "zerolinecolor": "white",
           "zerolinewidth": 2
          },
          "yaxis": {
           "automargin": true,
           "gridcolor": "white",
           "linecolor": "white",
           "ticks": "",
           "title": {
            "standoff": 15
           },
           "zerolinecolor": "white",
           "zerolinewidth": 2
          }
         }
        },
        "title": {
         "text": "Monthly Sales"
        }
       }
      },
      "text/html": [
       "<div>                            <div id=\"367b68eb-d416-4eed-a7eb-59be1b32b6c0\" class=\"plotly-graph-div\" style=\"height:525px; width:100%;\"></div>            <script type=\"text/javascript\">                require([\"plotly\"], function(Plotly) {                    window.PLOTLYENV=window.PLOTLYENV || {};                                    if (document.getElementById(\"367b68eb-d416-4eed-a7eb-59be1b32b6c0\")) {                    Plotly.newPlot(                        \"367b68eb-d416-4eed-a7eb-59be1b32b6c0\",                        [{\"mode\":\"lines+markers\",\"name\":\"Model-10_Store-9\",\"x\":[\"2023-11-01T00:00:00\",\"2023-12-01T00:00:00\",\"2024-01-01T00:00:00\",\"2024-02-01T00:00:00\",\"2024-03-01T00:00:00\",\"2024-04-01T00:00:00\"],\"y\":[75.84181213378906,60.239593505859375,127.87542724609375,201.08343505859375,110.7162857055664,148.91354370117188],\"type\":\"scatter\"},{\"mode\":\"lines+markers\",\"name\":\"Model-12_Store-11\",\"x\":[\"2023-11-01T00:00:00\",\"2023-12-01T00:00:00\",\"2024-01-01T00:00:00\",\"2024-02-01T00:00:00\",\"2024-03-01T00:00:00\",\"2024-04-01T00:00:00\"],\"y\":[42.50063705444336,19.725053787231445,18.26205062866211,17.927818298339844,16.76561737060547,13.696152687072754],\"type\":\"scatter\"},{\"mode\":\"lines+markers\",\"name\":\"Model-14_Store-13\",\"x\":[\"2023-11-01T00:00:00\",\"2023-12-01T00:00:00\",\"2024-01-01T00:00:00\",\"2024-02-01T00:00:00\",\"2024-03-01T00:00:00\",\"2024-04-01T00:00:00\"],\"y\":[2.5357789993286133,0.049796126782894135,0.1437736451625824,-0.1010754406452179,-0.03593972325325012,-0.06017078459262848],\"type\":\"scatter\"},{\"mode\":\"lines+markers\",\"name\":\"Model-16_Store-15\",\"x\":[\"2023-11-01T00:00:00\",\"2023-12-01T00:00:00\",\"2024-01-01T00:00:00\",\"2024-02-01T00:00:00\",\"2024-03-01T00:00:00\",\"2024-04-01T00:00:00\"],\"y\":[5.821830749511719,23.128183364868164,1.1195299625396729,12.825881958007812,20.98985481262207,11.925821304321289],\"type\":\"scatter\"},{\"mode\":\"lines+markers\",\"name\":\"Model-17_Store-16\",\"x\":[\"2023-11-01T00:00:00\",\"2023-12-01T00:00:00\",\"2024-01-01T00:00:00\",\"2024-02-01T00:00:00\",\"2024-03-01T00:00:00\",\"2024-04-01T00:00:00\"],\"y\":[66.03282928466797,27.763282775878906,21.806386947631836,8.413145065307617,12.416863441467285,16.695512771606445],\"type\":\"scatter\"},{\"mode\":\"lines+markers\",\"name\":\"Model-1_Store-1\",\"x\":[\"2023-11-01T00:00:00\",\"2023-12-01T00:00:00\",\"2024-01-01T00:00:00\",\"2024-02-01T00:00:00\",\"2024-03-01T00:00:00\",\"2024-04-01T00:00:00\"],\"y\":[146.9736785888672,21.369792938232422,53.642398834228516,252.6433868408203,91.0782699584961,47.7122917175293],\"type\":\"scatter\"},{\"mode\":\"lines+markers\",\"name\":\"Model-2_Store-2\",\"x\":[\"2023-11-01T00:00:00\",\"2023-12-01T00:00:00\",\"2024-01-01T00:00:00\",\"2024-02-01T00:00:00\",\"2024-03-01T00:00:00\",\"2024-04-01T00:00:00\"],\"y\":[152.81729125976562,92.4262466430664,93.31343078613281,100.59378051757812,129.68753051757812,94.04983520507812],\"type\":\"scatter\"},{\"mode\":\"lines+markers\",\"name\":\"Model-8_Store-8\",\"x\":[\"2023-11-01T00:00:00\",\"2023-12-01T00:00:00\",\"2024-01-01T00:00:00\",\"2024-02-01T00:00:00\",\"2024-03-01T00:00:00\",\"2024-04-01T00:00:00\"],\"y\":[79.25936889648438,260.82757568359375,59.63035583496094,101.07047271728516,15.854619979858398,43.79154586791992],\"type\":\"scatter\"}],                        {\"template\":{\"data\":{\"barpolar\":[{\"marker\":{\"line\":{\"color\":\"#E5ECF6\",\"width\":0.5},\"pattern\":{\"fillmode\":\"overlay\",\"size\":10,\"solidity\":0.2}},\"type\":\"barpolar\"}],\"bar\":[{\"error_x\":{\"color\":\"#2a3f5f\"},\"error_y\":{\"color\":\"#2a3f5f\"},\"marker\":{\"line\":{\"color\":\"#E5ECF6\",\"width\":0.5},\"pattern\":{\"fillmode\":\"overlay\",\"size\":10,\"solidity\":0.2}},\"type\":\"bar\"}],\"carpet\":[{\"aaxis\":{\"endlinecolor\":\"#2a3f5f\",\"gridcolor\":\"white\",\"linecolor\":\"white\",\"minorgridcolor\":\"white\",\"startlinecolor\":\"#2a3f5f\"},\"baxis\":{\"endlinecolor\":\"#2a3f5f\",\"gridcolor\":\"white\",\"linecolor\":\"white\",\"minorgridcolor\":\"white\",\"startlinecolor\":\"#2a3f5f\"},\"type\":\"carpet\"}],\"choropleth\":[{\"colorbar\":{\"outlinewidth\":0,\"ticks\":\"\"},\"type\":\"choropleth\"}],\"contourcarpet\":[{\"colorbar\":{\"outlinewidth\":0,\"ticks\":\"\"},\"type\":\"contourcarpet\"}],\"contour\":[{\"colorbar\":{\"outlinewidth\":0,\"ticks\":\"\"},\"colorscale\":[[0.0,\"#0d0887\"],[0.1111111111111111,\"#46039f\"],[0.2222222222222222,\"#7201a8\"],[0.3333333333333333,\"#9c179e\"],[0.4444444444444444,\"#bd3786\"],[0.5555555555555556,\"#d8576b\"],[0.6666666666666666,\"#ed7953\"],[0.7777777777777778,\"#fb9f3a\"],[0.8888888888888888,\"#fdca26\"],[1.0,\"#f0f921\"]],\"type\":\"contour\"}],\"heatmapgl\":[{\"colorbar\":{\"outlinewidth\":0,\"ticks\":\"\"},\"colorscale\":[[0.0,\"#0d0887\"],[0.1111111111111111,\"#46039f\"],[0.2222222222222222,\"#7201a8\"],[0.3333333333333333,\"#9c179e\"],[0.4444444444444444,\"#bd3786\"],[0.5555555555555556,\"#d8576b\"],[0.6666666666666666,\"#ed7953\"],[0.7777777777777778,\"#fb9f3a\"],[0.8888888888888888,\"#fdca26\"],[1.0,\"#f0f921\"]],\"type\":\"heatmapgl\"}],\"heatmap\":[{\"colorbar\":{\"outlinewidth\":0,\"ticks\":\"\"},\"colorscale\":[[0.0,\"#0d0887\"],[0.1111111111111111,\"#46039f\"],[0.2222222222222222,\"#7201a8\"],[0.3333333333333333,\"#9c179e\"],[0.4444444444444444,\"#bd3786\"],[0.5555555555555556,\"#d8576b\"],[0.6666666666666666,\"#ed7953\"],[0.7777777777777778,\"#fb9f3a\"],[0.8888888888888888,\"#fdca26\"],[1.0,\"#f0f921\"]],\"type\":\"heatmap\"}],\"histogram2dcontour\":[{\"colorbar\":{\"outlinewidth\":0,\"ticks\":\"\"},\"colorscale\":[[0.0,\"#0d0887\"],[0.1111111111111111,\"#46039f\"],[0.2222222222222222,\"#7201a8\"],[0.3333333333333333,\"#9c179e\"],[0.4444444444444444,\"#bd3786\"],[0.5555555555555556,\"#d8576b\"],[0.6666666666666666,\"#ed7953\"],[0.7777777777777778,\"#fb9f3a\"],[0.8888888888888888,\"#fdca26\"],[1.0,\"#f0f921\"]],\"type\":\"histogram2dcontour\"}],\"histogram2d\":[{\"colorbar\":{\"outlinewidth\":0,\"ticks\":\"\"},\"colorscale\":[[0.0,\"#0d0887\"],[0.1111111111111111,\"#46039f\"],[0.2222222222222222,\"#7201a8\"],[0.3333333333333333,\"#9c179e\"],[0.4444444444444444,\"#bd3786\"],[0.5555555555555556,\"#d8576b\"],[0.6666666666666666,\"#ed7953\"],[0.7777777777777778,\"#fb9f3a\"],[0.8888888888888888,\"#fdca26\"],[1.0,\"#f0f921\"]],\"type\":\"histogram2d\"}],\"histogram\":[{\"marker\":{\"pattern\":{\"fillmode\":\"overlay\",\"size\":10,\"solidity\":0.2}},\"type\":\"histogram\"}],\"mesh3d\":[{\"colorbar\":{\"outlinewidth\":0,\"ticks\":\"\"},\"type\":\"mesh3d\"}],\"parcoords\":[{\"line\":{\"colorbar\":{\"outlinewidth\":0,\"ticks\":\"\"}},\"type\":\"parcoords\"}],\"pie\":[{\"automargin\":true,\"type\":\"pie\"}],\"scatter3d\":[{\"line\":{\"colorbar\":{\"outlinewidth\":0,\"ticks\":\"\"}},\"marker\":{\"colorbar\":{\"outlinewidth\":0,\"ticks\":\"\"}},\"type\":\"scatter3d\"}],\"scattercarpet\":[{\"marker\":{\"colorbar\":{\"outlinewidth\":0,\"ticks\":\"\"}},\"type\":\"scattercarpet\"}],\"scattergeo\":[{\"marker\":{\"colorbar\":{\"outlinewidth\":0,\"ticks\":\"\"}},\"type\":\"scattergeo\"}],\"scattergl\":[{\"marker\":{\"colorbar\":{\"outlinewidth\":0,\"ticks\":\"\"}},\"type\":\"scattergl\"}],\"scattermapbox\":[{\"marker\":{\"colorbar\":{\"outlinewidth\":0,\"ticks\":\"\"}},\"type\":\"scattermapbox\"}],\"scatterpolargl\":[{\"marker\":{\"colorbar\":{\"outlinewidth\":0,\"ticks\":\"\"}},\"type\":\"scatterpolargl\"}],\"scatterpolar\":[{\"marker\":{\"colorbar\":{\"outlinewidth\":0,\"ticks\":\"\"}},\"type\":\"scatterpolar\"}],\"scatter\":[{\"fillpattern\":{\"fillmode\":\"overlay\",\"size\":10,\"solidity\":0.2},\"type\":\"scatter\"}],\"scatterternary\":[{\"marker\":{\"colorbar\":{\"outlinewidth\":0,\"ticks\":\"\"}},\"type\":\"scatterternary\"}],\"surface\":[{\"colorbar\":{\"outlinewidth\":0,\"ticks\":\"\"},\"colorscale\":[[0.0,\"#0d0887\"],[0.1111111111111111,\"#46039f\"],[0.2222222222222222,\"#7201a8\"],[0.3333333333333333,\"#9c179e\"],[0.4444444444444444,\"#bd3786\"],[0.5555555555555556,\"#d8576b\"],[0.6666666666666666,\"#ed7953\"],[0.7777777777777778,\"#fb9f3a\"],[0.8888888888888888,\"#fdca26\"],[1.0,\"#f0f921\"]],\"type\":\"surface\"}],\"table\":[{\"cells\":{\"fill\":{\"color\":\"#EBF0F8\"},\"line\":{\"color\":\"white\"}},\"header\":{\"fill\":{\"color\":\"#C8D4E3\"},\"line\":{\"color\":\"white\"}},\"type\":\"table\"}]},\"layout\":{\"annotationdefaults\":{\"arrowcolor\":\"#2a3f5f\",\"arrowhead\":0,\"arrowwidth\":1},\"autotypenumbers\":\"strict\",\"coloraxis\":{\"colorbar\":{\"outlinewidth\":0,\"ticks\":\"\"}},\"colorscale\":{\"diverging\":[[0,\"#8e0152\"],[0.1,\"#c51b7d\"],[0.2,\"#de77ae\"],[0.3,\"#f1b6da\"],[0.4,\"#fde0ef\"],[0.5,\"#f7f7f7\"],[0.6,\"#e6f5d0\"],[0.7,\"#b8e186\"],[0.8,\"#7fbc41\"],[0.9,\"#4d9221\"],[1,\"#276419\"]],\"sequential\":[[0.0,\"#0d0887\"],[0.1111111111111111,\"#46039f\"],[0.2222222222222222,\"#7201a8\"],[0.3333333333333333,\"#9c179e\"],[0.4444444444444444,\"#bd3786\"],[0.5555555555555556,\"#d8576b\"],[0.6666666666666666,\"#ed7953\"],[0.7777777777777778,\"#fb9f3a\"],[0.8888888888888888,\"#fdca26\"],[1.0,\"#f0f921\"]],\"sequentialminus\":[[0.0,\"#0d0887\"],[0.1111111111111111,\"#46039f\"],[0.2222222222222222,\"#7201a8\"],[0.3333333333333333,\"#9c179e\"],[0.4444444444444444,\"#bd3786\"],[0.5555555555555556,\"#d8576b\"],[0.6666666666666666,\"#ed7953\"],[0.7777777777777778,\"#fb9f3a\"],[0.8888888888888888,\"#fdca26\"],[1.0,\"#f0f921\"]]},\"colorway\":[\"#636efa\",\"#EF553B\",\"#00cc96\",\"#ab63fa\",\"#FFA15A\",\"#19d3f3\",\"#FF6692\",\"#B6E880\",\"#FF97FF\",\"#FECB52\"],\"font\":{\"color\":\"#2a3f5f\"},\"geo\":{\"bgcolor\":\"white\",\"lakecolor\":\"white\",\"landcolor\":\"#E5ECF6\",\"showlakes\":true,\"showland\":true,\"subunitcolor\":\"white\"},\"hoverlabel\":{\"align\":\"left\"},\"hovermode\":\"closest\",\"mapbox\":{\"style\":\"light\"},\"paper_bgcolor\":\"white\",\"plot_bgcolor\":\"#E5ECF6\",\"polar\":{\"angularaxis\":{\"gridcolor\":\"white\",\"linecolor\":\"white\",\"ticks\":\"\"},\"bgcolor\":\"#E5ECF6\",\"radialaxis\":{\"gridcolor\":\"white\",\"linecolor\":\"white\",\"ticks\":\"\"}},\"scene\":{\"xaxis\":{\"backgroundcolor\":\"#E5ECF6\",\"gridcolor\":\"white\",\"gridwidth\":2,\"linecolor\":\"white\",\"showbackground\":true,\"ticks\":\"\",\"zerolinecolor\":\"white\"},\"yaxis\":{\"backgroundcolor\":\"#E5ECF6\",\"gridcolor\":\"white\",\"gridwidth\":2,\"linecolor\":\"white\",\"showbackground\":true,\"ticks\":\"\",\"zerolinecolor\":\"white\"},\"zaxis\":{\"backgroundcolor\":\"#E5ECF6\",\"gridcolor\":\"white\",\"gridwidth\":2,\"linecolor\":\"white\",\"showbackground\":true,\"ticks\":\"\",\"zerolinecolor\":\"white\"}},\"shapedefaults\":{\"line\":{\"color\":\"#2a3f5f\"}},\"ternary\":{\"aaxis\":{\"gridcolor\":\"white\",\"linecolor\":\"white\",\"ticks\":\"\"},\"baxis\":{\"gridcolor\":\"white\",\"linecolor\":\"white\",\"ticks\":\"\"},\"bgcolor\":\"#E5ECF6\",\"caxis\":{\"gridcolor\":\"white\",\"linecolor\":\"white\",\"ticks\":\"\"}},\"title\":{\"x\":0.05},\"xaxis\":{\"automargin\":true,\"gridcolor\":\"white\",\"linecolor\":\"white\",\"ticks\":\"\",\"title\":{\"standoff\":15},\"zerolinecolor\":\"white\",\"zerolinewidth\":2},\"yaxis\":{\"automargin\":true,\"gridcolor\":\"white\",\"linecolor\":\"white\",\"ticks\":\"\",\"title\":{\"standoff\":15},\"zerolinecolor\":\"white\",\"zerolinewidth\":2}}},\"title\":{\"text\":\"Monthly Sales\"}},                        {\"responsive\": true}                    ).then(function(){\n",
       "                            \n",
       "var gd = document.getElementById('367b68eb-d416-4eed-a7eb-59be1b32b6c0');\n",
       "var x = new MutationObserver(function (mutations, observer) {{\n",
       "        var display = window.getComputedStyle(gd).display;\n",
       "        if (!display || display === 'none') {{\n",
       "            console.log([gd, 'removed!']);\n",
       "            Plotly.purge(gd);\n",
       "            observer.disconnect();\n",
       "        }}\n",
       "}});\n",
       "\n",
       "// Listen for the removal of the full notebook cells\n",
       "var notebookContainer = gd.closest('#notebook-container');\n",
       "if (notebookContainer) {{\n",
       "    x.observe(notebookContainer, {childList: true});\n",
       "}}\n",
       "\n",
       "// Listen for the clearing of the current output cell\n",
       "var outputEl = gd.closest('.output');\n",
       "if (outputEl) {{\n",
       "    x.observe(outputEl, {childList: true});\n",
       "}}\n",
       "\n",
       "                        })                };                });            </script>        </div>"
      ]
     },
     "metadata": {},
     "output_type": "display_data"
    }
   ],
   "source": [
    "# Get unique Model_Store_Pairs\n",
    "unique_pairs = df_predict_next_months['Model_Store_Pair'].unique()\n",
    "\n",
    "# Create an empty list to store traces\n",
    "plot_data = []\n",
    "\n",
    "# Loop through each unique Model_Store_Pair and create a trace\n",
    "for unique_pair in unique_pairs:\n",
    "    trace = go.Scatter(\n",
    "        x=df_predict_next_months[df_predict_next_months['Model_Store_Pair'] == unique_pair]['MONTH_YEAR'],\n",
    "        y=df_predict_next_months[df_predict_next_months['Model_Store_Pair'] == unique_pair]['Predicted_Sales_Quantity'],\n",
    "        mode='lines+markers', \n",
    "        name=unique_pair  # Label each trace with the Model_Store_Pair\n",
    "    )\n",
    "    plot_data.append(trace)\n",
    "\n",
    "plot_layout = go.Layout(\n",
    "    title='Monthly Sales'\n",
    ")\n",
    "\n",
    "fig = go.Figure(data=plot_data, layout=plot_layout)\n",
    "iplot(fig)\n",
    "\n"
   ]
  }
 ],
 "metadata": {
  "kernelspec": {
   "display_name": "keras_env",
   "language": "python",
   "name": "python3"
  },
  "language_info": {
   "codemirror_mode": {
    "name": "ipython",
    "version": 3
   },
   "file_extension": ".py",
   "mimetype": "text/x-python",
   "name": "python",
   "nbconvert_exporter": "python",
   "pygments_lexer": "ipython3",
   "version": "3.8.5"
  },
  "orig_nbformat": 4
 },
 "nbformat": 4,
 "nbformat_minor": 2
}
